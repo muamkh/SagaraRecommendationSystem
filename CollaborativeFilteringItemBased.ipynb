{
  "nbformat": 4,
  "nbformat_minor": 0,
  "metadata": {
    "colab": {
      "name": "CollaborativeFilteringItemBased.ipynb",
      "provenance": [],
      "collapsed_sections": []
    },
    "kernelspec": {
      "name": "python3",
      "display_name": "Python 3"
    },
    "language_info": {
      "name": "python"
    }
  },
  "cells": [
    {
      "cell_type": "markdown",
      "metadata": {
        "id": "mmFBgfbOpsOs"
      },
      "source": [
        " **Collaborative Filtering Based on Item Similarity**\n",
        "\n",
        "---\n",
        "\n"
      ]
    },
    {
      "cell_type": "markdown",
      "metadata": {
        "id": "ZbrK--Udp2z2"
      },
      "source": [
        "## Inisiasi"
      ]
    },
    {
      "cell_type": "code",
      "metadata": {
        "colab": {
          "base_uri": "https://localhost:8080/"
        },
        "id": "moxonWP3yFnZ",
        "outputId": "15d8d0f0-e418-4f98-e7d1-c52a89fb1966"
      },
      "source": [
        "from google.colab import drive\n",
        "drive.mount('/content/drive')"
      ],
      "execution_count": null,
      "outputs": [
        {
          "output_type": "stream",
          "text": [
            "Mounted at /content/drive\n"
          ],
          "name": "stdout"
        }
      ]
    },
    {
      "cell_type": "code",
      "metadata": {
        "id": "cmHPGHxK66xO"
      },
      "source": [
        "import glob\n",
        "import pandas as pd\n",
        "import numpy as np\n",
        "from scipy.sparse import csr_matrix"
      ],
      "execution_count": null,
      "outputs": []
    },
    {
      "cell_type": "code",
      "metadata": {
        "colab": {
          "base_uri": "https://localhost:8080/"
        },
        "id": "zspo0SvyZ8DQ",
        "outputId": "535d2cc8-c6d1-40ee-b649-4fbc84fccdbe"
      },
      "source": [
        "pip install scikit-surprise"
      ],
      "execution_count": null,
      "outputs": [
        {
          "output_type": "stream",
          "text": [
            "Collecting scikit-surprise\n",
            "\u001b[?25l  Downloading https://files.pythonhosted.org/packages/97/37/5d334adaf5ddd65da99fc65f6507e0e4599d092ba048f4302fe8775619e8/scikit-surprise-1.1.1.tar.gz (11.8MB)\n",
            "\u001b[K     |████████████████████████████████| 11.8MB 241kB/s \n",
            "\u001b[?25hRequirement already satisfied: joblib>=0.11 in /usr/local/lib/python3.7/dist-packages (from scikit-surprise) (1.0.1)\n",
            "Requirement already satisfied: numpy>=1.11.2 in /usr/local/lib/python3.7/dist-packages (from scikit-surprise) (1.19.5)\n",
            "Requirement already satisfied: scipy>=1.0.0 in /usr/local/lib/python3.7/dist-packages (from scikit-surprise) (1.4.1)\n",
            "Requirement already satisfied: six>=1.10.0 in /usr/local/lib/python3.7/dist-packages (from scikit-surprise) (1.15.0)\n",
            "Building wheels for collected packages: scikit-surprise\n",
            "  Building wheel for scikit-surprise (setup.py) ... \u001b[?25l\u001b[?25hdone\n",
            "  Created wheel for scikit-surprise: filename=scikit_surprise-1.1.1-cp37-cp37m-linux_x86_64.whl size=1617660 sha256=675f001e4e2b47fa36142522c757fd66712cdde674c760204915227d87df8d89\n",
            "  Stored in directory: /root/.cache/pip/wheels/78/9c/3d/41b419c9d2aff5b6e2b4c0fc8d25c538202834058f9ed110d0\n",
            "Successfully built scikit-surprise\n",
            "Installing collected packages: scikit-surprise\n",
            "Successfully installed scikit-surprise-1.1.1\n"
          ],
          "name": "stdout"
        }
      ]
    },
    {
      "cell_type": "code",
      "metadata": {
        "colab": {
          "base_uri": "https://localhost:8080/"
        },
        "id": "GZVyKcuC7BIW",
        "outputId": "1840946d-ab71-4b63-999b-92c42aaf8fbe"
      },
      "source": [
        "pip install turicreate"
      ],
      "execution_count": null,
      "outputs": [
        {
          "output_type": "stream",
          "text": [
            "Collecting turicreate\n",
            "\u001b[?25l  Downloading https://files.pythonhosted.org/packages/25/9f/a76acc465d873d217f05eac4846bd73d640b9db6d6f4a3c29ad92650fbbe/turicreate-6.4.1-cp37-cp37m-manylinux1_x86_64.whl (92.0MB)\n",
            "\u001b[K     |████████████████████████████████| 92.0MB 1.4MB/s \n",
            "\u001b[?25hRequirement already satisfied: pandas>=0.23.2 in /usr/local/lib/python3.7/dist-packages (from turicreate) (1.1.5)\n",
            "Collecting prettytable==0.7.2\n",
            "  Downloading https://files.pythonhosted.org/packages/ef/30/4b0746848746ed5941f052479e7c23d2b56d174b82f4fd34a25e389831f5/prettytable-0.7.2.tar.bz2\n",
            "Requirement already satisfied: requests>=2.9.1 in /usr/local/lib/python3.7/dist-packages (from turicreate) (2.23.0)\n",
            "Collecting resampy==0.2.1\n",
            "\u001b[?25l  Downloading https://files.pythonhosted.org/packages/14/b6/66a06d85474190b50aee1a6c09cdc95bb405ac47338b27e9b21409da1760/resampy-0.2.1.tar.gz (322kB)\n",
            "\u001b[K     |████████████████████████████████| 327kB 47.1MB/s \n",
            "\u001b[?25hRequirement already satisfied: decorator>=4.0.9 in /usr/local/lib/python3.7/dist-packages (from turicreate) (4.4.2)\n",
            "Collecting coremltools==3.3\n",
            "\u001b[?25l  Downloading https://files.pythonhosted.org/packages/1b/1d/b1a99beca7355b6a026ae61fd8d3d36136e5b36f13e92ec5f81aceffc7f1/coremltools-3.3-cp37-none-manylinux1_x86_64.whl (3.5MB)\n",
            "\u001b[K     |████████████████████████████████| 3.5MB 26.2MB/s \n",
            "\u001b[?25hRequirement already satisfied: numpy in /usr/local/lib/python3.7/dist-packages (from turicreate) (1.19.5)\n",
            "Requirement already satisfied: six>=1.10.0 in /usr/local/lib/python3.7/dist-packages (from turicreate) (1.15.0)\n",
            "Collecting numba<0.51.0\n",
            "\u001b[?25l  Downloading https://files.pythonhosted.org/packages/04/be/8c88cee3366de2a3a23a9ff1a8be34e79ad1eb1ceb0d0e33aca83655ac3c/numba-0.50.1-cp37-cp37m-manylinux2014_x86_64.whl (3.6MB)\n",
            "\u001b[K     |████████████████████████████████| 3.6MB 17.1MB/s \n",
            "\u001b[?25hRequirement already satisfied: pillow>=5.2.0 in /usr/local/lib/python3.7/dist-packages (from turicreate) (7.1.2)\n",
            "Collecting tensorflow<2.1.0,>=2.0.0\n",
            "\u001b[?25l  Downloading https://files.pythonhosted.org/packages/3c/b3/3eeae9bc44039ceadceac0c7ba1cc8b1482b172810b3d7624a1cad251437/tensorflow-2.0.4-cp37-cp37m-manylinux2010_x86_64.whl (86.4MB)\n",
            "\u001b[K     |████████████████████████████████| 86.4MB 36kB/s \n",
            "\u001b[?25hRequirement already satisfied: scipy>=1.1.0 in /usr/local/lib/python3.7/dist-packages (from turicreate) (1.4.1)\n",
            "Requirement already satisfied: pytz>=2017.2 in /usr/local/lib/python3.7/dist-packages (from pandas>=0.23.2->turicreate) (2018.9)\n",
            "Requirement already satisfied: python-dateutil>=2.7.3 in /usr/local/lib/python3.7/dist-packages (from pandas>=0.23.2->turicreate) (2.8.1)\n",
            "Requirement already satisfied: idna<3,>=2.5 in /usr/local/lib/python3.7/dist-packages (from requests>=2.9.1->turicreate) (2.10)\n",
            "Requirement already satisfied: urllib3!=1.25.0,!=1.25.1,<1.26,>=1.21.1 in /usr/local/lib/python3.7/dist-packages (from requests>=2.9.1->turicreate) (1.24.3)\n",
            "Requirement already satisfied: chardet<4,>=3.0.2 in /usr/local/lib/python3.7/dist-packages (from requests>=2.9.1->turicreate) (3.0.4)\n",
            "Requirement already satisfied: certifi>=2017.4.17 in /usr/local/lib/python3.7/dist-packages (from requests>=2.9.1->turicreate) (2021.5.30)\n",
            "Requirement already satisfied: protobuf>=3.1.0 in /usr/local/lib/python3.7/dist-packages (from coremltools==3.3->turicreate) (3.12.4)\n",
            "Requirement already satisfied: setuptools in /usr/local/lib/python3.7/dist-packages (from numba<0.51.0->turicreate) (57.0.0)\n",
            "Collecting llvmlite<0.34,>=0.33.0.dev0\n",
            "\u001b[?25l  Downloading https://files.pythonhosted.org/packages/0a/28/0a35b3c2685bf2ea327cef5577bdf91f387f0f4594417a2a05a1d42fb7c2/llvmlite-0.33.0-cp37-cp37m-manylinux1_x86_64.whl (18.3MB)\n",
            "\u001b[K     |████████████████████████████████| 18.3MB 172kB/s \n",
            "\u001b[?25hRequirement already satisfied: wrapt>=1.11.1 in /usr/local/lib/python3.7/dist-packages (from tensorflow<2.1.0,>=2.0.0->turicreate) (1.12.1)\n",
            "Requirement already satisfied: keras-preprocessing>=1.0.5 in /usr/local/lib/python3.7/dist-packages (from tensorflow<2.1.0,>=2.0.0->turicreate) (1.1.2)\n",
            "Collecting tensorboard<2.1.0,>=2.0.0\n",
            "\u001b[?25l  Downloading https://files.pythonhosted.org/packages/76/54/99b9d5d52d5cb732f099baaaf7740403e83fe6b0cedde940fabd2b13d75a/tensorboard-2.0.2-py3-none-any.whl (3.8MB)\n",
            "\u001b[K     |████████████████████████████████| 3.8MB 20.2MB/s \n",
            "\u001b[?25hCollecting tensorflow-estimator<2.1.0,>=2.0.0\n",
            "\u001b[?25l  Downloading https://files.pythonhosted.org/packages/fc/08/8b927337b7019c374719145d1dceba21a8bb909b93b1ad6f8fb7d22c1ca1/tensorflow_estimator-2.0.1-py2.py3-none-any.whl (449kB)\n",
            "\u001b[K     |████████████████████████████████| 450kB 46.1MB/s \n",
            "\u001b[?25hRequirement already satisfied: termcolor>=1.1.0 in /usr/local/lib/python3.7/dist-packages (from tensorflow<2.1.0,>=2.0.0->turicreate) (1.1.0)\n",
            "Collecting keras-applications>=1.0.8\n",
            "\u001b[?25l  Downloading https://files.pythonhosted.org/packages/71/e3/19762fdfc62877ae9102edf6342d71b28fbfd9dea3d2f96a882ce099b03f/Keras_Applications-1.0.8-py3-none-any.whl (50kB)\n",
            "\u001b[K     |████████████████████████████████| 51kB 5.4MB/s \n",
            "\u001b[?25hCollecting h5py<=2.10.0\n",
            "\u001b[?25l  Downloading https://files.pythonhosted.org/packages/3f/c0/abde58b837e066bca19a3f7332d9d0493521d7dd6b48248451a9e3fe2214/h5py-2.10.0-cp37-cp37m-manylinux1_x86_64.whl (2.9MB)\n",
            "\u001b[K     |████████████████████████████████| 2.9MB 34.2MB/s \n",
            "\u001b[?25hRequirement already satisfied: wheel>=0.26; python_version >= \"3\" in /usr/local/lib/python3.7/dist-packages (from tensorflow<2.1.0,>=2.0.0->turicreate) (0.36.2)\n",
            "Requirement already satisfied: grpcio>=1.8.6 in /usr/local/lib/python3.7/dist-packages (from tensorflow<2.1.0,>=2.0.0->turicreate) (1.34.1)\n",
            "Requirement already satisfied: opt-einsum>=2.3.2 in /usr/local/lib/python3.7/dist-packages (from tensorflow<2.1.0,>=2.0.0->turicreate) (3.3.0)\n",
            "Requirement already satisfied: absl-py>=0.7.0 in /usr/local/lib/python3.7/dist-packages (from tensorflow<2.1.0,>=2.0.0->turicreate) (0.12.0)\n",
            "Requirement already satisfied: astor>=0.6.0 in /usr/local/lib/python3.7/dist-packages (from tensorflow<2.1.0,>=2.0.0->turicreate) (0.8.1)\n",
            "Requirement already satisfied: google-pasta>=0.1.6 in /usr/local/lib/python3.7/dist-packages (from tensorflow<2.1.0,>=2.0.0->turicreate) (0.2.0)\n",
            "Collecting gast==0.2.2\n",
            "  Downloading https://files.pythonhosted.org/packages/4e/35/11749bf99b2d4e3cceb4d55ca22590b0d7c2c62b9de38ac4a4a7f4687421/gast-0.2.2.tar.gz\n",
            "Requirement already satisfied: markdown>=2.6.8 in /usr/local/lib/python3.7/dist-packages (from tensorboard<2.1.0,>=2.0.0->tensorflow<2.1.0,>=2.0.0->turicreate) (3.3.4)\n",
            "Requirement already satisfied: google-auth<2,>=1.6.3 in /usr/local/lib/python3.7/dist-packages (from tensorboard<2.1.0,>=2.0.0->tensorflow<2.1.0,>=2.0.0->turicreate) (1.31.0)\n",
            "Requirement already satisfied: werkzeug>=0.11.15 in /usr/local/lib/python3.7/dist-packages (from tensorboard<2.1.0,>=2.0.0->tensorflow<2.1.0,>=2.0.0->turicreate) (1.0.1)\n",
            "Requirement already satisfied: google-auth-oauthlib<0.5,>=0.4.1 in /usr/local/lib/python3.7/dist-packages (from tensorboard<2.1.0,>=2.0.0->tensorflow<2.1.0,>=2.0.0->turicreate) (0.4.4)\n",
            "Requirement already satisfied: importlib-metadata; python_version < \"3.8\" in /usr/local/lib/python3.7/dist-packages (from markdown>=2.6.8->tensorboard<2.1.0,>=2.0.0->tensorflow<2.1.0,>=2.0.0->turicreate) (4.5.0)\n",
            "Requirement already satisfied: cachetools<5.0,>=2.0.0 in /usr/local/lib/python3.7/dist-packages (from google-auth<2,>=1.6.3->tensorboard<2.1.0,>=2.0.0->tensorflow<2.1.0,>=2.0.0->turicreate) (4.2.2)\n",
            "Requirement already satisfied: rsa<5,>=3.1.4; python_version >= \"3.6\" in /usr/local/lib/python3.7/dist-packages (from google-auth<2,>=1.6.3->tensorboard<2.1.0,>=2.0.0->tensorflow<2.1.0,>=2.0.0->turicreate) (4.7.2)\n",
            "Requirement already satisfied: pyasn1-modules>=0.2.1 in /usr/local/lib/python3.7/dist-packages (from google-auth<2,>=1.6.3->tensorboard<2.1.0,>=2.0.0->tensorflow<2.1.0,>=2.0.0->turicreate) (0.2.8)\n",
            "Requirement already satisfied: requests-oauthlib>=0.7.0 in /usr/local/lib/python3.7/dist-packages (from google-auth-oauthlib<0.5,>=0.4.1->tensorboard<2.1.0,>=2.0.0->tensorflow<2.1.0,>=2.0.0->turicreate) (1.3.0)\n",
            "Requirement already satisfied: typing-extensions>=3.6.4; python_version < \"3.8\" in /usr/local/lib/python3.7/dist-packages (from importlib-metadata; python_version < \"3.8\"->markdown>=2.6.8->tensorboard<2.1.0,>=2.0.0->tensorflow<2.1.0,>=2.0.0->turicreate) (3.7.4.3)\n",
            "Requirement already satisfied: zipp>=0.5 in /usr/local/lib/python3.7/dist-packages (from importlib-metadata; python_version < \"3.8\"->markdown>=2.6.8->tensorboard<2.1.0,>=2.0.0->tensorflow<2.1.0,>=2.0.0->turicreate) (3.4.1)\n",
            "Requirement already satisfied: pyasn1>=0.1.3 in /usr/local/lib/python3.7/dist-packages (from rsa<5,>=3.1.4; python_version >= \"3.6\"->google-auth<2,>=1.6.3->tensorboard<2.1.0,>=2.0.0->tensorflow<2.1.0,>=2.0.0->turicreate) (0.4.8)\n",
            "Requirement already satisfied: oauthlib>=3.0.0 in /usr/local/lib/python3.7/dist-packages (from requests-oauthlib>=0.7.0->google-auth-oauthlib<0.5,>=0.4.1->tensorboard<2.1.0,>=2.0.0->tensorflow<2.1.0,>=2.0.0->turicreate) (3.1.1)\n",
            "Building wheels for collected packages: prettytable, resampy, gast\n",
            "  Building wheel for prettytable (setup.py) ... \u001b[?25l\u001b[?25hdone\n",
            "  Created wheel for prettytable: filename=prettytable-0.7.2-cp37-none-any.whl size=13716 sha256=209cd756b812ca3d20492e58d4c253a13049e7414d151f0e2352b4dbebe95938\n",
            "  Stored in directory: /root/.cache/pip/wheels/80/34/1c/3967380d9676d162cb59513bd9dc862d0584e045a162095606\n",
            "  Building wheel for resampy (setup.py) ... \u001b[?25l\u001b[?25hdone\n",
            "  Created wheel for resampy: filename=resampy-0.2.1-cp37-none-any.whl size=320858 sha256=beb154d0a759c19c2f3703c34334876d0238fbfbe7691cadeba7b7d85663b735\n",
            "  Stored in directory: /root/.cache/pip/wheels/ff/4f/ed/2e6c676c23efe5394bb40ade50662e90eb46e29b48324c5f9b\n",
            "  Building wheel for gast (setup.py) ... \u001b[?25l\u001b[?25hdone\n",
            "  Created wheel for gast: filename=gast-0.2.2-cp37-none-any.whl size=7557 sha256=e7d1af1d26f1fae6cc49173b2a215dc12b666f4b7dffd82e90611f6f79ea08a9\n",
            "  Stored in directory: /root/.cache/pip/wheels/5c/2e/7e/a1d4d4fcebe6c381f378ce7743a3ced3699feb89bcfbdadadd\n",
            "Successfully built prettytable resampy gast\n",
            "\u001b[31mERROR: tensorflow 2.0.4 has requirement numpy<1.19.0,>=1.16.0, but you'll have numpy 1.19.5 which is incompatible.\u001b[0m\n",
            "\u001b[31mERROR: tensorflow-probability 0.12.1 has requirement gast>=0.3.2, but you'll have gast 0.2.2 which is incompatible.\u001b[0m\n",
            "\u001b[31mERROR: librosa 0.8.1 has requirement resampy>=0.2.2, but you'll have resampy 0.2.1 which is incompatible.\u001b[0m\n",
            "Installing collected packages: prettytable, llvmlite, numba, resampy, coremltools, tensorboard, tensorflow-estimator, h5py, keras-applications, gast, tensorflow, turicreate\n",
            "  Found existing installation: prettytable 2.1.0\n",
            "    Uninstalling prettytable-2.1.0:\n",
            "      Successfully uninstalled prettytable-2.1.0\n",
            "  Found existing installation: llvmlite 0.34.0\n",
            "    Uninstalling llvmlite-0.34.0:\n",
            "      Successfully uninstalled llvmlite-0.34.0\n",
            "  Found existing installation: numba 0.51.2\n",
            "    Uninstalling numba-0.51.2:\n",
            "      Successfully uninstalled numba-0.51.2\n",
            "  Found existing installation: resampy 0.2.2\n",
            "    Uninstalling resampy-0.2.2:\n",
            "      Successfully uninstalled resampy-0.2.2\n",
            "  Found existing installation: tensorboard 2.5.0\n",
            "    Uninstalling tensorboard-2.5.0:\n",
            "      Successfully uninstalled tensorboard-2.5.0\n",
            "  Found existing installation: tensorflow-estimator 2.5.0\n",
            "    Uninstalling tensorflow-estimator-2.5.0:\n",
            "      Successfully uninstalled tensorflow-estimator-2.5.0\n",
            "  Found existing installation: h5py 3.1.0\n",
            "    Uninstalling h5py-3.1.0:\n",
            "      Successfully uninstalled h5py-3.1.0\n",
            "  Found existing installation: gast 0.4.0\n",
            "    Uninstalling gast-0.4.0:\n",
            "      Successfully uninstalled gast-0.4.0\n",
            "  Found existing installation: tensorflow 2.5.0\n",
            "    Uninstalling tensorflow-2.5.0:\n",
            "      Successfully uninstalled tensorflow-2.5.0\n",
            "Successfully installed coremltools-3.3 gast-0.2.2 h5py-2.10.0 keras-applications-1.0.8 llvmlite-0.33.0 numba-0.50.1 prettytable-0.7.2 resampy-0.2.1 tensorboard-2.0.2 tensorflow-2.0.4 tensorflow-estimator-2.0.1 turicreate-6.4.1\n"
          ],
          "name": "stdout"
        }
      ]
    },
    {
      "cell_type": "code",
      "metadata": {
        "id": "D_RGoHr9aMw1"
      },
      "source": [
        "from surprise import Dataset\n",
        "from surprise import Reader\n",
        "import turicreate as tc"
      ],
      "execution_count": null,
      "outputs": []
    },
    {
      "cell_type": "markdown",
      "metadata": {
        "id": "er6M03UCqG-B"
      },
      "source": [
        "#Download dataset"
      ]
    },
    {
      "cell_type": "code",
      "metadata": {
        "id": "lvT8arVP8O9H"
      },
      "source": [
        "import zipfile\n",
        "zip_ref = zipfile.ZipFile('/content/drive/MyDrive/Dataset-WebsiteGlobo/articles_metadata.csv.zip', 'r')\n",
        "zip_ref.extractall('files')"
      ],
      "execution_count": null,
      "outputs": []
    },
    {
      "cell_type": "code",
      "metadata": {
        "id": "5D09qoP18ZkZ"
      },
      "source": [
        "zip_ref = zipfile.ZipFile('/content/drive/MyDrive/Dataset-WebsiteGlobo/clicks.zip', 'r')\n",
        "zip_ref.extractall('files')"
      ],
      "execution_count": null,
      "outputs": []
    },
    {
      "cell_type": "code",
      "metadata": {
        "colab": {
          "base_uri": "https://localhost:8080/",
          "height": 417
        },
        "id": "Dt6-99Hq8zOT",
        "outputId": "2190f294-fd58-4ba6-835d-472071de52fc"
      },
      "source": [
        "articles =  pd.read_csv('/content/files/articles_metadata.csv')\n",
        "articles"
      ],
      "execution_count": null,
      "outputs": [
        {
          "output_type": "execute_result",
          "data": {
            "text/html": [
              "<div>\n",
              "<style scoped>\n",
              "    .dataframe tbody tr th:only-of-type {\n",
              "        vertical-align: middle;\n",
              "    }\n",
              "\n",
              "    .dataframe tbody tr th {\n",
              "        vertical-align: top;\n",
              "    }\n",
              "\n",
              "    .dataframe thead th {\n",
              "        text-align: right;\n",
              "    }\n",
              "</style>\n",
              "<table border=\"1\" class=\"dataframe\">\n",
              "  <thead>\n",
              "    <tr style=\"text-align: right;\">\n",
              "      <th></th>\n",
              "      <th>article_id</th>\n",
              "      <th>category_id</th>\n",
              "      <th>created_at_ts</th>\n",
              "      <th>publisher_id</th>\n",
              "      <th>words_count</th>\n",
              "    </tr>\n",
              "  </thead>\n",
              "  <tbody>\n",
              "    <tr>\n",
              "      <th>0</th>\n",
              "      <td>0</td>\n",
              "      <td>0</td>\n",
              "      <td>1513144419000</td>\n",
              "      <td>0</td>\n",
              "      <td>168</td>\n",
              "    </tr>\n",
              "    <tr>\n",
              "      <th>1</th>\n",
              "      <td>1</td>\n",
              "      <td>1</td>\n",
              "      <td>1405341936000</td>\n",
              "      <td>0</td>\n",
              "      <td>189</td>\n",
              "    </tr>\n",
              "    <tr>\n",
              "      <th>2</th>\n",
              "      <td>2</td>\n",
              "      <td>1</td>\n",
              "      <td>1408667706000</td>\n",
              "      <td>0</td>\n",
              "      <td>250</td>\n",
              "    </tr>\n",
              "    <tr>\n",
              "      <th>3</th>\n",
              "      <td>3</td>\n",
              "      <td>1</td>\n",
              "      <td>1408468313000</td>\n",
              "      <td>0</td>\n",
              "      <td>230</td>\n",
              "    </tr>\n",
              "    <tr>\n",
              "      <th>4</th>\n",
              "      <td>4</td>\n",
              "      <td>1</td>\n",
              "      <td>1407071171000</td>\n",
              "      <td>0</td>\n",
              "      <td>162</td>\n",
              "    </tr>\n",
              "    <tr>\n",
              "      <th>...</th>\n",
              "      <td>...</td>\n",
              "      <td>...</td>\n",
              "      <td>...</td>\n",
              "      <td>...</td>\n",
              "      <td>...</td>\n",
              "    </tr>\n",
              "    <tr>\n",
              "      <th>364042</th>\n",
              "      <td>364042</td>\n",
              "      <td>460</td>\n",
              "      <td>1434034118000</td>\n",
              "      <td>0</td>\n",
              "      <td>144</td>\n",
              "    </tr>\n",
              "    <tr>\n",
              "      <th>364043</th>\n",
              "      <td>364043</td>\n",
              "      <td>460</td>\n",
              "      <td>1434148472000</td>\n",
              "      <td>0</td>\n",
              "      <td>463</td>\n",
              "    </tr>\n",
              "    <tr>\n",
              "      <th>364044</th>\n",
              "      <td>364044</td>\n",
              "      <td>460</td>\n",
              "      <td>1457974279000</td>\n",
              "      <td>0</td>\n",
              "      <td>177</td>\n",
              "    </tr>\n",
              "    <tr>\n",
              "      <th>364045</th>\n",
              "      <td>364045</td>\n",
              "      <td>460</td>\n",
              "      <td>1515964737000</td>\n",
              "      <td>0</td>\n",
              "      <td>126</td>\n",
              "    </tr>\n",
              "    <tr>\n",
              "      <th>364046</th>\n",
              "      <td>364046</td>\n",
              "      <td>460</td>\n",
              "      <td>1505811330000</td>\n",
              "      <td>0</td>\n",
              "      <td>479</td>\n",
              "    </tr>\n",
              "  </tbody>\n",
              "</table>\n",
              "<p>364047 rows × 5 columns</p>\n",
              "</div>"
            ],
            "text/plain": [
              "        article_id  category_id  created_at_ts  publisher_id  words_count\n",
              "0                0            0  1513144419000             0          168\n",
              "1                1            1  1405341936000             0          189\n",
              "2                2            1  1408667706000             0          250\n",
              "3                3            1  1408468313000             0          230\n",
              "4                4            1  1407071171000             0          162\n",
              "...            ...          ...            ...           ...          ...\n",
              "364042      364042          460  1434034118000             0          144\n",
              "364043      364043          460  1434148472000             0          463\n",
              "364044      364044          460  1457974279000             0          177\n",
              "364045      364045          460  1515964737000             0          126\n",
              "364046      364046          460  1505811330000             0          479\n",
              "\n",
              "[364047 rows x 5 columns]"
            ]
          },
          "metadata": {
            "tags": []
          },
          "execution_count": 9
        }
      ]
    },
    {
      "cell_type": "markdown",
      "metadata": {
        "id": "Cv0Zotl0qOkP"
      },
      "source": [
        "#Ambil fitur"
      ]
    },
    {
      "cell_type": "code",
      "metadata": {
        "colab": {
          "base_uri": "https://localhost:8080/",
          "height": 417
        },
        "id": "HTtY5_tN7zkO",
        "outputId": "f2dceeef-a71d-4407-d89b-6dfd8302adb2"
      },
      "source": [
        "articles.drop(['created_at_ts', 'publisher_id', 'words_count'], inplace=True, axis=1)\n",
        "articles"
      ],
      "execution_count": null,
      "outputs": [
        {
          "output_type": "execute_result",
          "data": {
            "text/html": [
              "<div>\n",
              "<style scoped>\n",
              "    .dataframe tbody tr th:only-of-type {\n",
              "        vertical-align: middle;\n",
              "    }\n",
              "\n",
              "    .dataframe tbody tr th {\n",
              "        vertical-align: top;\n",
              "    }\n",
              "\n",
              "    .dataframe thead th {\n",
              "        text-align: right;\n",
              "    }\n",
              "</style>\n",
              "<table border=\"1\" class=\"dataframe\">\n",
              "  <thead>\n",
              "    <tr style=\"text-align: right;\">\n",
              "      <th></th>\n",
              "      <th>article_id</th>\n",
              "      <th>category_id</th>\n",
              "    </tr>\n",
              "  </thead>\n",
              "  <tbody>\n",
              "    <tr>\n",
              "      <th>0</th>\n",
              "      <td>0</td>\n",
              "      <td>0</td>\n",
              "    </tr>\n",
              "    <tr>\n",
              "      <th>1</th>\n",
              "      <td>1</td>\n",
              "      <td>1</td>\n",
              "    </tr>\n",
              "    <tr>\n",
              "      <th>2</th>\n",
              "      <td>2</td>\n",
              "      <td>1</td>\n",
              "    </tr>\n",
              "    <tr>\n",
              "      <th>3</th>\n",
              "      <td>3</td>\n",
              "      <td>1</td>\n",
              "    </tr>\n",
              "    <tr>\n",
              "      <th>4</th>\n",
              "      <td>4</td>\n",
              "      <td>1</td>\n",
              "    </tr>\n",
              "    <tr>\n",
              "      <th>...</th>\n",
              "      <td>...</td>\n",
              "      <td>...</td>\n",
              "    </tr>\n",
              "    <tr>\n",
              "      <th>364042</th>\n",
              "      <td>364042</td>\n",
              "      <td>460</td>\n",
              "    </tr>\n",
              "    <tr>\n",
              "      <th>364043</th>\n",
              "      <td>364043</td>\n",
              "      <td>460</td>\n",
              "    </tr>\n",
              "    <tr>\n",
              "      <th>364044</th>\n",
              "      <td>364044</td>\n",
              "      <td>460</td>\n",
              "    </tr>\n",
              "    <tr>\n",
              "      <th>364045</th>\n",
              "      <td>364045</td>\n",
              "      <td>460</td>\n",
              "    </tr>\n",
              "    <tr>\n",
              "      <th>364046</th>\n",
              "      <td>364046</td>\n",
              "      <td>460</td>\n",
              "    </tr>\n",
              "  </tbody>\n",
              "</table>\n",
              "<p>364047 rows × 2 columns</p>\n",
              "</div>"
            ],
            "text/plain": [
              "        article_id  category_id\n",
              "0                0            0\n",
              "1                1            1\n",
              "2                2            1\n",
              "3                3            1\n",
              "4                4            1\n",
              "...            ...          ...\n",
              "364042      364042          460\n",
              "364043      364043          460\n",
              "364044      364044          460\n",
              "364045      364045          460\n",
              "364046      364046          460\n",
              "\n",
              "[364047 rows x 2 columns]"
            ]
          },
          "metadata": {
            "tags": []
          },
          "execution_count": 10
        }
      ]
    },
    {
      "cell_type": "code",
      "metadata": {
        "id": "foxvMzgM8TW4"
      },
      "source": [
        "# y = pd.get_dummies(articles.category_id, prefix='category')\n",
        "# y"
      ],
      "execution_count": null,
      "outputs": []
    },
    {
      "cell_type": "code",
      "metadata": {
        "id": "wUxOu2KN8eOU"
      },
      "source": [
        "# articles.drop(['category_id'], inplace=True, axis=1)\n",
        "# articles = articles.join(y)\n",
        "# articles"
      ],
      "execution_count": null,
      "outputs": []
    },
    {
      "cell_type": "code",
      "metadata": {
        "colab": {
          "base_uri": "https://localhost:8080/",
          "height": 437
        },
        "id": "R-SRzqjj8moI",
        "outputId": "def97b89-973e-43ec-9a5d-897cd68fd8d7"
      },
      "source": [
        "clickspath = glob.glob('/content/files/clicks/*.csv')\n",
        "clicks = pd.concat([pd.read_csv(f) for f in clickspath ])\n",
        "clicks"
      ],
      "execution_count": null,
      "outputs": [
        {
          "output_type": "execute_result",
          "data": {
            "text/html": [
              "<div>\n",
              "<style scoped>\n",
              "    .dataframe tbody tr th:only-of-type {\n",
              "        vertical-align: middle;\n",
              "    }\n",
              "\n",
              "    .dataframe tbody tr th {\n",
              "        vertical-align: top;\n",
              "    }\n",
              "\n",
              "    .dataframe thead th {\n",
              "        text-align: right;\n",
              "    }\n",
              "</style>\n",
              "<table border=\"1\" class=\"dataframe\">\n",
              "  <thead>\n",
              "    <tr style=\"text-align: right;\">\n",
              "      <th></th>\n",
              "      <th>user_id</th>\n",
              "      <th>session_id</th>\n",
              "      <th>session_start</th>\n",
              "      <th>session_size</th>\n",
              "      <th>click_article_id</th>\n",
              "      <th>click_timestamp</th>\n",
              "      <th>click_environment</th>\n",
              "      <th>click_deviceGroup</th>\n",
              "      <th>click_os</th>\n",
              "      <th>click_country</th>\n",
              "      <th>click_region</th>\n",
              "      <th>click_referrer_type</th>\n",
              "    </tr>\n",
              "  </thead>\n",
              "  <tbody>\n",
              "    <tr>\n",
              "      <th>0</th>\n",
              "      <td>29403</td>\n",
              "      <td>1508099783178606</td>\n",
              "      <td>1508099783000</td>\n",
              "      <td>3</td>\n",
              "      <td>202355</td>\n",
              "      <td>1508099806928</td>\n",
              "      <td>4</td>\n",
              "      <td>3</td>\n",
              "      <td>2</td>\n",
              "      <td>1</td>\n",
              "      <td>7</td>\n",
              "      <td>2</td>\n",
              "    </tr>\n",
              "    <tr>\n",
              "      <th>1</th>\n",
              "      <td>29403</td>\n",
              "      <td>1508099783178606</td>\n",
              "      <td>1508099783000</td>\n",
              "      <td>3</td>\n",
              "      <td>209236</td>\n",
              "      <td>1508102151101</td>\n",
              "      <td>4</td>\n",
              "      <td>3</td>\n",
              "      <td>2</td>\n",
              "      <td>1</td>\n",
              "      <td>7</td>\n",
              "      <td>2</td>\n",
              "    </tr>\n",
              "    <tr>\n",
              "      <th>2</th>\n",
              "      <td>29403</td>\n",
              "      <td>1508099783178606</td>\n",
              "      <td>1508099783000</td>\n",
              "      <td>3</td>\n",
              "      <td>202559</td>\n",
              "      <td>1508102181101</td>\n",
              "      <td>4</td>\n",
              "      <td>3</td>\n",
              "      <td>2</td>\n",
              "      <td>1</td>\n",
              "      <td>7</td>\n",
              "      <td>2</td>\n",
              "    </tr>\n",
              "    <tr>\n",
              "      <th>3</th>\n",
              "      <td>296441</td>\n",
              "      <td>1508099784231607</td>\n",
              "      <td>1508099784000</td>\n",
              "      <td>2</td>\n",
              "      <td>209236</td>\n",
              "      <td>1508099784551</td>\n",
              "      <td>4</td>\n",
              "      <td>3</td>\n",
              "      <td>2</td>\n",
              "      <td>1</td>\n",
              "      <td>11</td>\n",
              "      <td>2</td>\n",
              "    </tr>\n",
              "    <tr>\n",
              "      <th>4</th>\n",
              "      <td>296441</td>\n",
              "      <td>1508099784231607</td>\n",
              "      <td>1508099784000</td>\n",
              "      <td>2</td>\n",
              "      <td>202355</td>\n",
              "      <td>1508099814551</td>\n",
              "      <td>4</td>\n",
              "      <td>3</td>\n",
              "      <td>2</td>\n",
              "      <td>1</td>\n",
              "      <td>11</td>\n",
              "      <td>2</td>\n",
              "    </tr>\n",
              "    <tr>\n",
              "      <th>...</th>\n",
              "      <td>...</td>\n",
              "      <td>...</td>\n",
              "      <td>...</td>\n",
              "      <td>...</td>\n",
              "      <td>...</td>\n",
              "      <td>...</td>\n",
              "      <td>...</td>\n",
              "      <td>...</td>\n",
              "      <td>...</td>\n",
              "      <td>...</td>\n",
              "      <td>...</td>\n",
              "      <td>...</td>\n",
              "    </tr>\n",
              "    <tr>\n",
              "      <th>4082</th>\n",
              "      <td>180706</td>\n",
              "      <td>1507476974381117</td>\n",
              "      <td>1507476974000</td>\n",
              "      <td>3</td>\n",
              "      <td>42329</td>\n",
              "      <td>1507477275948</td>\n",
              "      <td>4</td>\n",
              "      <td>1</td>\n",
              "      <td>12</td>\n",
              "      <td>1</td>\n",
              "      <td>21</td>\n",
              "      <td>7</td>\n",
              "    </tr>\n",
              "    <tr>\n",
              "      <th>4083</th>\n",
              "      <td>219065</td>\n",
              "      <td>1507476976121118</td>\n",
              "      <td>1507476976000</td>\n",
              "      <td>2</td>\n",
              "      <td>129434</td>\n",
              "      <td>1507477369570</td>\n",
              "      <td>4</td>\n",
              "      <td>3</td>\n",
              "      <td>2</td>\n",
              "      <td>1</td>\n",
              "      <td>20</td>\n",
              "      <td>2</td>\n",
              "    </tr>\n",
              "    <tr>\n",
              "      <th>4084</th>\n",
              "      <td>219065</td>\n",
              "      <td>1507476976121118</td>\n",
              "      <td>1507476976000</td>\n",
              "      <td>2</td>\n",
              "      <td>198199</td>\n",
              "      <td>1507477399570</td>\n",
              "      <td>4</td>\n",
              "      <td>3</td>\n",
              "      <td>2</td>\n",
              "      <td>1</td>\n",
              "      <td>20</td>\n",
              "      <td>2</td>\n",
              "    </tr>\n",
              "    <tr>\n",
              "      <th>4085</th>\n",
              "      <td>230894</td>\n",
              "      <td>1507476976165119</td>\n",
              "      <td>1507476976000</td>\n",
              "      <td>2</td>\n",
              "      <td>348113</td>\n",
              "      <td>1507476999119</td>\n",
              "      <td>4</td>\n",
              "      <td>1</td>\n",
              "      <td>17</td>\n",
              "      <td>1</td>\n",
              "      <td>9</td>\n",
              "      <td>2</td>\n",
              "    </tr>\n",
              "    <tr>\n",
              "      <th>4086</th>\n",
              "      <td>230894</td>\n",
              "      <td>1507476976165119</td>\n",
              "      <td>1507476976000</td>\n",
              "      <td>2</td>\n",
              "      <td>351771</td>\n",
              "      <td>1507477029119</td>\n",
              "      <td>4</td>\n",
              "      <td>1</td>\n",
              "      <td>17</td>\n",
              "      <td>1</td>\n",
              "      <td>9</td>\n",
              "      <td>2</td>\n",
              "    </tr>\n",
              "  </tbody>\n",
              "</table>\n",
              "<p>2988181 rows × 12 columns</p>\n",
              "</div>"
            ],
            "text/plain": [
              "     user_id        session_id  ... click_region click_referrer_type\n",
              "0      29403  1508099783178606  ...            7                   2\n",
              "1      29403  1508099783178606  ...            7                   2\n",
              "2      29403  1508099783178606  ...            7                   2\n",
              "3     296441  1508099784231607  ...           11                   2\n",
              "4     296441  1508099784231607  ...           11                   2\n",
              "...      ...               ...  ...          ...                 ...\n",
              "4082  180706  1507476974381117  ...           21                   7\n",
              "4083  219065  1507476976121118  ...           20                   2\n",
              "4084  219065  1507476976121118  ...           20                   2\n",
              "4085  230894  1507476976165119  ...            9                   2\n",
              "4086  230894  1507476976165119  ...            9                   2\n",
              "\n",
              "[2988181 rows x 12 columns]"
            ]
          },
          "metadata": {
            "tags": []
          },
          "execution_count": 13
        }
      ]
    },
    {
      "cell_type": "code",
      "metadata": {
        "colab": {
          "base_uri": "https://localhost:8080/",
          "height": 417
        },
        "id": "52RJLzyW8vef",
        "outputId": "74a3d578-2a79-4859-d343-654685d42a2f"
      },
      "source": [
        "clicks.drop(['session_id', 'session_start', 'session_size', 'click_timestamp', 'click_environment', 'click_deviceGroup', 'click_os', 'click_country', 'click_region', 'click_referrer_type'], inplace=True, axis=1)\n",
        "clicks = clicks.rename(columns={'click_article_id':'article_id'})\n",
        "clicks"
      ],
      "execution_count": null,
      "outputs": [
        {
          "output_type": "execute_result",
          "data": {
            "text/html": [
              "<div>\n",
              "<style scoped>\n",
              "    .dataframe tbody tr th:only-of-type {\n",
              "        vertical-align: middle;\n",
              "    }\n",
              "\n",
              "    .dataframe tbody tr th {\n",
              "        vertical-align: top;\n",
              "    }\n",
              "\n",
              "    .dataframe thead th {\n",
              "        text-align: right;\n",
              "    }\n",
              "</style>\n",
              "<table border=\"1\" class=\"dataframe\">\n",
              "  <thead>\n",
              "    <tr style=\"text-align: right;\">\n",
              "      <th></th>\n",
              "      <th>user_id</th>\n",
              "      <th>article_id</th>\n",
              "    </tr>\n",
              "  </thead>\n",
              "  <tbody>\n",
              "    <tr>\n",
              "      <th>0</th>\n",
              "      <td>29403</td>\n",
              "      <td>202355</td>\n",
              "    </tr>\n",
              "    <tr>\n",
              "      <th>1</th>\n",
              "      <td>29403</td>\n",
              "      <td>209236</td>\n",
              "    </tr>\n",
              "    <tr>\n",
              "      <th>2</th>\n",
              "      <td>29403</td>\n",
              "      <td>202559</td>\n",
              "    </tr>\n",
              "    <tr>\n",
              "      <th>3</th>\n",
              "      <td>296441</td>\n",
              "      <td>209236</td>\n",
              "    </tr>\n",
              "    <tr>\n",
              "      <th>4</th>\n",
              "      <td>296441</td>\n",
              "      <td>202355</td>\n",
              "    </tr>\n",
              "    <tr>\n",
              "      <th>...</th>\n",
              "      <td>...</td>\n",
              "      <td>...</td>\n",
              "    </tr>\n",
              "    <tr>\n",
              "      <th>4082</th>\n",
              "      <td>180706</td>\n",
              "      <td>42329</td>\n",
              "    </tr>\n",
              "    <tr>\n",
              "      <th>4083</th>\n",
              "      <td>219065</td>\n",
              "      <td>129434</td>\n",
              "    </tr>\n",
              "    <tr>\n",
              "      <th>4084</th>\n",
              "      <td>219065</td>\n",
              "      <td>198199</td>\n",
              "    </tr>\n",
              "    <tr>\n",
              "      <th>4085</th>\n",
              "      <td>230894</td>\n",
              "      <td>348113</td>\n",
              "    </tr>\n",
              "    <tr>\n",
              "      <th>4086</th>\n",
              "      <td>230894</td>\n",
              "      <td>351771</td>\n",
              "    </tr>\n",
              "  </tbody>\n",
              "</table>\n",
              "<p>2988181 rows × 2 columns</p>\n",
              "</div>"
            ],
            "text/plain": [
              "     user_id article_id\n",
              "0      29403     202355\n",
              "1      29403     209236\n",
              "2      29403     202559\n",
              "3     296441     209236\n",
              "4     296441     202355\n",
              "...      ...        ...\n",
              "4082  180706      42329\n",
              "4083  219065     129434\n",
              "4084  219065     198199\n",
              "4085  230894     348113\n",
              "4086  230894     351771\n",
              "\n",
              "[2988181 rows x 2 columns]"
            ]
          },
          "metadata": {
            "tags": []
          },
          "execution_count": 14
        }
      ]
    },
    {
      "cell_type": "markdown",
      "metadata": {
        "id": "9aGggVaOqe5z"
      },
      "source": [
        "#Merge Dataframe"
      ]
    },
    {
      "cell_type": "code",
      "metadata": {
        "id": "WeqXrP-jZ06y"
      },
      "source": [
        "clicks = pd.merge(clicks, articles, how='left', on=['article_id'])"
      ],
      "execution_count": null,
      "outputs": []
    },
    {
      "cell_type": "code",
      "metadata": {
        "colab": {
          "base_uri": "https://localhost:8080/",
          "height": 417
        },
        "id": "EVo8VfVXaC4l",
        "outputId": "83f5d97f-54aa-4759-cb40-f0636337f0da"
      },
      "source": [
        "clicks"
      ],
      "execution_count": null,
      "outputs": [
        {
          "output_type": "execute_result",
          "data": {
            "text/html": [
              "<div>\n",
              "<style scoped>\n",
              "    .dataframe tbody tr th:only-of-type {\n",
              "        vertical-align: middle;\n",
              "    }\n",
              "\n",
              "    .dataframe tbody tr th {\n",
              "        vertical-align: top;\n",
              "    }\n",
              "\n",
              "    .dataframe thead th {\n",
              "        text-align: right;\n",
              "    }\n",
              "</style>\n",
              "<table border=\"1\" class=\"dataframe\">\n",
              "  <thead>\n",
              "    <tr style=\"text-align: right;\">\n",
              "      <th></th>\n",
              "      <th>user_id</th>\n",
              "      <th>article_id</th>\n",
              "      <th>category_id</th>\n",
              "    </tr>\n",
              "  </thead>\n",
              "  <tbody>\n",
              "    <tr>\n",
              "      <th>0</th>\n",
              "      <td>29403</td>\n",
              "      <td>202355</td>\n",
              "      <td>327</td>\n",
              "    </tr>\n",
              "    <tr>\n",
              "      <th>1</th>\n",
              "      <td>29403</td>\n",
              "      <td>209236</td>\n",
              "      <td>332</td>\n",
              "    </tr>\n",
              "    <tr>\n",
              "      <th>2</th>\n",
              "      <td>29403</td>\n",
              "      <td>202559</td>\n",
              "      <td>327</td>\n",
              "    </tr>\n",
              "    <tr>\n",
              "      <th>3</th>\n",
              "      <td>296441</td>\n",
              "      <td>209236</td>\n",
              "      <td>332</td>\n",
              "    </tr>\n",
              "    <tr>\n",
              "      <th>4</th>\n",
              "      <td>296441</td>\n",
              "      <td>202355</td>\n",
              "      <td>327</td>\n",
              "    </tr>\n",
              "    <tr>\n",
              "      <th>...</th>\n",
              "      <td>...</td>\n",
              "      <td>...</td>\n",
              "      <td>...</td>\n",
              "    </tr>\n",
              "    <tr>\n",
              "      <th>2988176</th>\n",
              "      <td>180706</td>\n",
              "      <td>42329</td>\n",
              "      <td>67</td>\n",
              "    </tr>\n",
              "    <tr>\n",
              "      <th>2988177</th>\n",
              "      <td>219065</td>\n",
              "      <td>129434</td>\n",
              "      <td>252</td>\n",
              "    </tr>\n",
              "    <tr>\n",
              "      <th>2988178</th>\n",
              "      <td>219065</td>\n",
              "      <td>198199</td>\n",
              "      <td>323</td>\n",
              "    </tr>\n",
              "    <tr>\n",
              "      <th>2988179</th>\n",
              "      <td>230894</td>\n",
              "      <td>348113</td>\n",
              "      <td>442</td>\n",
              "    </tr>\n",
              "    <tr>\n",
              "      <th>2988180</th>\n",
              "      <td>230894</td>\n",
              "      <td>351771</td>\n",
              "      <td>442</td>\n",
              "    </tr>\n",
              "  </tbody>\n",
              "</table>\n",
              "<p>2988181 rows × 3 columns</p>\n",
              "</div>"
            ],
            "text/plain": [
              "        user_id article_id  category_id\n",
              "0         29403     202355          327\n",
              "1         29403     209236          332\n",
              "2         29403     202559          327\n",
              "3        296441     209236          332\n",
              "4        296441     202355          327\n",
              "...         ...        ...          ...\n",
              "2988176  180706      42329           67\n",
              "2988177  219065     129434          252\n",
              "2988178  219065     198199          323\n",
              "2988179  230894     348113          442\n",
              "2988180  230894     351771          442\n",
              "\n",
              "[2988181 rows x 3 columns]"
            ]
          },
          "metadata": {
            "tags": []
          },
          "execution_count": 16
        }
      ]
    },
    {
      "cell_type": "markdown",
      "metadata": {
        "id": "z95_U_NYqi0I"
      },
      "source": [
        "#Hapus user yang baca artikel <5"
      ]
    },
    {
      "cell_type": "code",
      "metadata": {
        "colab": {
          "base_uri": "https://localhost:8080/",
          "height": 417
        },
        "id": "l42GY-Yt6Eg1",
        "outputId": "e8374879-c07a-45c5-b4c7-e27ca5d48943"
      },
      "source": [
        "a = clicks[['user_id', 'category_id']].groupby(['user_id']).count()\n",
        "a = a.reset_index()\n",
        "a = a.rename(columns={'category_id':'count'})\n",
        "a"
      ],
      "execution_count": null,
      "outputs": [
        {
          "output_type": "execute_result",
          "data": {
            "text/html": [
              "<div>\n",
              "<style scoped>\n",
              "    .dataframe tbody tr th:only-of-type {\n",
              "        vertical-align: middle;\n",
              "    }\n",
              "\n",
              "    .dataframe tbody tr th {\n",
              "        vertical-align: top;\n",
              "    }\n",
              "\n",
              "    .dataframe thead th {\n",
              "        text-align: right;\n",
              "    }\n",
              "</style>\n",
              "<table border=\"1\" class=\"dataframe\">\n",
              "  <thead>\n",
              "    <tr style=\"text-align: right;\">\n",
              "      <th></th>\n",
              "      <th>user_id</th>\n",
              "      <th>count</th>\n",
              "    </tr>\n",
              "  </thead>\n",
              "  <tbody>\n",
              "    <tr>\n",
              "      <th>0</th>\n",
              "      <td>0</td>\n",
              "      <td>8</td>\n",
              "    </tr>\n",
              "    <tr>\n",
              "      <th>1</th>\n",
              "      <td>1</td>\n",
              "      <td>12</td>\n",
              "    </tr>\n",
              "    <tr>\n",
              "      <th>2</th>\n",
              "      <td>2</td>\n",
              "      <td>4</td>\n",
              "    </tr>\n",
              "    <tr>\n",
              "      <th>3</th>\n",
              "      <td>3</td>\n",
              "      <td>17</td>\n",
              "    </tr>\n",
              "    <tr>\n",
              "      <th>4</th>\n",
              "      <td>4</td>\n",
              "      <td>7</td>\n",
              "    </tr>\n",
              "    <tr>\n",
              "      <th>...</th>\n",
              "      <td>...</td>\n",
              "      <td>...</td>\n",
              "    </tr>\n",
              "    <tr>\n",
              "      <th>322892</th>\n",
              "      <td>322892</td>\n",
              "      <td>2</td>\n",
              "    </tr>\n",
              "    <tr>\n",
              "      <th>322893</th>\n",
              "      <td>322893</td>\n",
              "      <td>2</td>\n",
              "    </tr>\n",
              "    <tr>\n",
              "      <th>322894</th>\n",
              "      <td>322894</td>\n",
              "      <td>2</td>\n",
              "    </tr>\n",
              "    <tr>\n",
              "      <th>322895</th>\n",
              "      <td>322895</td>\n",
              "      <td>2</td>\n",
              "    </tr>\n",
              "    <tr>\n",
              "      <th>322896</th>\n",
              "      <td>322896</td>\n",
              "      <td>2</td>\n",
              "    </tr>\n",
              "  </tbody>\n",
              "</table>\n",
              "<p>322897 rows × 2 columns</p>\n",
              "</div>"
            ],
            "text/plain": [
              "        user_id  count\n",
              "0             0      8\n",
              "1             1     12\n",
              "2             2      4\n",
              "3             3     17\n",
              "4             4      7\n",
              "...         ...    ...\n",
              "322892   322892      2\n",
              "322893   322893      2\n",
              "322894   322894      2\n",
              "322895   322895      2\n",
              "322896   322896      2\n",
              "\n",
              "[322897 rows x 2 columns]"
            ]
          },
          "metadata": {
            "tags": []
          },
          "execution_count": 17
        }
      ]
    },
    {
      "cell_type": "code",
      "metadata": {
        "colab": {
          "base_uri": "https://localhost:8080/"
        },
        "id": "qKp6vVSYClHK",
        "outputId": "9ab70aae-1f6f-4ecc-8aa0-6e42f4a05055"
      },
      "source": [
        "pd.options.display.max_rows = 999\n",
        "listt = a.groupby('count').count()\n",
        "print(listt)\n",
        "pd.options.display.max_rows = 10"
      ],
      "execution_count": null,
      "outputs": [
        {
          "output_type": "stream",
          "text": [
            "       user_id\n",
            "count         \n",
            "2       101428\n",
            "3        22660\n",
            "4        38432\n",
            "5        18070\n",
            "6        20370\n",
            "7        13358\n",
            "8        12780\n",
            "9         9701\n",
            "10        8807\n",
            "11        7143\n",
            "12        6485\n",
            "13        5500\n",
            "14        4990\n",
            "15        4284\n",
            "16        3787\n",
            "17        3458\n",
            "18        3040\n",
            "19        2755\n",
            "20        2557\n",
            "21        2281\n",
            "22        2120\n",
            "23        1864\n",
            "24        1725\n",
            "25        1554\n",
            "26        1487\n",
            "27        1382\n",
            "28        1282\n",
            "29        1129\n",
            "30        1005\n",
            "31         997\n",
            "32         933\n",
            "33         822\n",
            "34         784\n",
            "35         663\n",
            "36         706\n",
            "37         648\n",
            "38         594\n",
            "39         555\n",
            "40         531\n",
            "41         514\n",
            "42         443\n",
            "43         439\n",
            "44         419\n",
            "45         397\n",
            "46         360\n",
            "47         334\n",
            "48         344\n",
            "49         331\n",
            "50         284\n",
            "51         280\n",
            "52         240\n",
            "53         220\n",
            "54         246\n",
            "55         200\n",
            "56         194\n",
            "57         190\n",
            "58         183\n",
            "59         187\n",
            "60         193\n",
            "61         163\n",
            "62         171\n",
            "63         146\n",
            "64         134\n",
            "65         141\n",
            "66         145\n",
            "67         117\n",
            "68         140\n",
            "69         118\n",
            "70         106\n",
            "71          81\n",
            "72          92\n",
            "73          91\n",
            "74          93\n",
            "75          77\n",
            "76          71\n",
            "77          77\n",
            "78          90\n",
            "79          76\n",
            "80          53\n",
            "81          67\n",
            "82          58\n",
            "83          77\n",
            "84          49\n",
            "85          50\n",
            "86          60\n",
            "87          56\n",
            "88          48\n",
            "89          44\n",
            "90          49\n",
            "91          46\n",
            "92          51\n",
            "93          42\n",
            "94          28\n",
            "95          36\n",
            "96          47\n",
            "97          30\n",
            "98          40\n",
            "99          33\n",
            "100         27\n",
            "101         33\n",
            "102         34\n",
            "103         39\n",
            "104         25\n",
            "105         35\n",
            "106         26\n",
            "107         21\n",
            "108         26\n",
            "109         22\n",
            "110         28\n",
            "111         25\n",
            "112         20\n",
            "113         17\n",
            "114         18\n",
            "115         19\n",
            "116         12\n",
            "117         17\n",
            "118         12\n",
            "119         13\n",
            "120         16\n",
            "121         19\n",
            "122         12\n",
            "123          8\n",
            "124         16\n",
            "125         10\n",
            "126         18\n",
            "127         19\n",
            "128          8\n",
            "129          7\n",
            "130         11\n",
            "131         10\n",
            "132         12\n",
            "133          7\n",
            "134         12\n",
            "135         12\n",
            "136         13\n",
            "137          8\n",
            "138         13\n",
            "139          9\n",
            "140          3\n",
            "141          9\n",
            "142          6\n",
            "143          7\n",
            "144          5\n",
            "145         11\n",
            "146          7\n",
            "147          7\n",
            "148          5\n",
            "149         10\n",
            "150          5\n",
            "151          4\n",
            "152          5\n",
            "153          6\n",
            "154          4\n",
            "155          5\n",
            "156          5\n",
            "157         12\n",
            "158         10\n",
            "159          4\n",
            "160          9\n",
            "161          4\n",
            "162          5\n",
            "163          4\n",
            "164          6\n",
            "165          5\n",
            "166          7\n",
            "167          3\n",
            "168          7\n",
            "169         12\n",
            "170          5\n",
            "172          6\n",
            "173          2\n",
            "174          7\n",
            "175          5\n",
            "176          5\n",
            "178          3\n",
            "179          3\n",
            "180          3\n",
            "181          3\n",
            "182          2\n",
            "183          4\n",
            "184          4\n",
            "185          3\n",
            "186          7\n",
            "188          3\n",
            "189          4\n",
            "190          3\n",
            "191          4\n",
            "192          3\n",
            "193          2\n",
            "194          1\n",
            "195          2\n",
            "196          2\n",
            "197          1\n",
            "198          4\n",
            "199          2\n",
            "200          1\n",
            "201          2\n",
            "202          3\n",
            "203          2\n",
            "204          3\n",
            "205          2\n",
            "206          1\n",
            "207          3\n",
            "208          1\n",
            "209          1\n",
            "210          1\n",
            "212          1\n",
            "213          2\n",
            "214          3\n",
            "217          1\n",
            "218          2\n",
            "220          3\n",
            "221          2\n",
            "222          1\n",
            "223          3\n",
            "226          1\n",
            "227          2\n",
            "228          1\n",
            "229          1\n",
            "230          1\n",
            "231          1\n",
            "232          1\n",
            "233          2\n",
            "234          2\n",
            "235          2\n",
            "236          1\n",
            "237          1\n",
            "238          2\n",
            "239          3\n",
            "240          1\n",
            "241          2\n",
            "242          4\n",
            "243          1\n",
            "244          1\n",
            "246          2\n",
            "254          2\n",
            "255          1\n",
            "257          1\n",
            "258          3\n",
            "260          1\n",
            "263          1\n",
            "264          1\n",
            "265          2\n",
            "268          1\n",
            "270          1\n",
            "271          1\n",
            "272          1\n",
            "274          2\n",
            "278          1\n",
            "279          1\n",
            "281          1\n",
            "283          1\n",
            "285          1\n",
            "291          1\n",
            "292          1\n",
            "293          2\n",
            "296          1\n",
            "297          1\n",
            "299          1\n",
            "303          1\n",
            "305          1\n",
            "306          1\n",
            "310          1\n",
            "316          1\n",
            "318          1\n",
            "319          3\n",
            "324          1\n",
            "325          1\n",
            "327          1\n",
            "334          1\n",
            "341          1\n",
            "349          1\n",
            "360          1\n",
            "362          1\n",
            "366          1\n",
            "373          1\n",
            "374          1\n",
            "382          1\n",
            "386          1\n",
            "401          1\n",
            "402          1\n",
            "406          1\n",
            "419          1\n",
            "420          1\n",
            "425          1\n",
            "431          1\n",
            "439          1\n",
            "451          1\n",
            "452          1\n",
            "465          1\n",
            "469          1\n",
            "480          1\n",
            "501          1\n",
            "502          1\n",
            "513          1\n",
            "529          1\n",
            "722          1\n",
            "746          1\n",
            "783          1\n",
            "900          1\n",
            "939          1\n",
            "1232         1\n"
          ],
          "name": "stdout"
        }
      ]
    },
    {
      "cell_type": "code",
      "metadata": {
        "colab": {
          "base_uri": "https://localhost:8080/",
          "height": 447
        },
        "id": "_WpPFN37xB76",
        "outputId": "07a8ef63-02b7-4fcc-9edf-98988e8419c6"
      },
      "source": [
        "listt"
      ],
      "execution_count": null,
      "outputs": [
        {
          "output_type": "execute_result",
          "data": {
            "text/html": [
              "<div>\n",
              "<style scoped>\n",
              "    .dataframe tbody tr th:only-of-type {\n",
              "        vertical-align: middle;\n",
              "    }\n",
              "\n",
              "    .dataframe tbody tr th {\n",
              "        vertical-align: top;\n",
              "    }\n",
              "\n",
              "    .dataframe thead th {\n",
              "        text-align: right;\n",
              "    }\n",
              "</style>\n",
              "<table border=\"1\" class=\"dataframe\">\n",
              "  <thead>\n",
              "    <tr style=\"text-align: right;\">\n",
              "      <th></th>\n",
              "      <th>user_id</th>\n",
              "    </tr>\n",
              "    <tr>\n",
              "      <th>count</th>\n",
              "      <th></th>\n",
              "    </tr>\n",
              "  </thead>\n",
              "  <tbody>\n",
              "    <tr>\n",
              "      <th>2</th>\n",
              "      <td>101428</td>\n",
              "    </tr>\n",
              "    <tr>\n",
              "      <th>3</th>\n",
              "      <td>22660</td>\n",
              "    </tr>\n",
              "    <tr>\n",
              "      <th>4</th>\n",
              "      <td>38432</td>\n",
              "    </tr>\n",
              "    <tr>\n",
              "      <th>5</th>\n",
              "      <td>18070</td>\n",
              "    </tr>\n",
              "    <tr>\n",
              "      <th>6</th>\n",
              "      <td>20370</td>\n",
              "    </tr>\n",
              "    <tr>\n",
              "      <th>...</th>\n",
              "      <td>...</td>\n",
              "    </tr>\n",
              "    <tr>\n",
              "      <th>746</th>\n",
              "      <td>1</td>\n",
              "    </tr>\n",
              "    <tr>\n",
              "      <th>783</th>\n",
              "      <td>1</td>\n",
              "    </tr>\n",
              "    <tr>\n",
              "      <th>900</th>\n",
              "      <td>1</td>\n",
              "    </tr>\n",
              "    <tr>\n",
              "      <th>939</th>\n",
              "      <td>1</td>\n",
              "    </tr>\n",
              "    <tr>\n",
              "      <th>1232</th>\n",
              "      <td>1</td>\n",
              "    </tr>\n",
              "  </tbody>\n",
              "</table>\n",
              "<p>302 rows × 1 columns</p>\n",
              "</div>"
            ],
            "text/plain": [
              "       user_id\n",
              "count         \n",
              "2       101428\n",
              "3        22660\n",
              "4        38432\n",
              "5        18070\n",
              "6        20370\n",
              "...        ...\n",
              "746          1\n",
              "783          1\n",
              "900          1\n",
              "939          1\n",
              "1232         1\n",
              "\n",
              "[302 rows x 1 columns]"
            ]
          },
          "metadata": {
            "tags": []
          },
          "execution_count": 19
        }
      ]
    },
    {
      "cell_type": "code",
      "metadata": {
        "colab": {
          "base_uri": "https://localhost:8080/",
          "height": 417
        },
        "id": "LWZzMpW82yUo",
        "outputId": "634d78e4-e9e2-4cb0-918f-b90a59ce2c6f"
      },
      "source": [
        "a = a.loc[a['count']>=5].reset_index(drop=True)\n",
        "a"
      ],
      "execution_count": null,
      "outputs": [
        {
          "output_type": "execute_result",
          "data": {
            "text/html": [
              "<div>\n",
              "<style scoped>\n",
              "    .dataframe tbody tr th:only-of-type {\n",
              "        vertical-align: middle;\n",
              "    }\n",
              "\n",
              "    .dataframe tbody tr th {\n",
              "        vertical-align: top;\n",
              "    }\n",
              "\n",
              "    .dataframe thead th {\n",
              "        text-align: right;\n",
              "    }\n",
              "</style>\n",
              "<table border=\"1\" class=\"dataframe\">\n",
              "  <thead>\n",
              "    <tr style=\"text-align: right;\">\n",
              "      <th></th>\n",
              "      <th>user_id</th>\n",
              "      <th>count</th>\n",
              "    </tr>\n",
              "  </thead>\n",
              "  <tbody>\n",
              "    <tr>\n",
              "      <th>0</th>\n",
              "      <td>0</td>\n",
              "      <td>8</td>\n",
              "    </tr>\n",
              "    <tr>\n",
              "      <th>1</th>\n",
              "      <td>1</td>\n",
              "      <td>12</td>\n",
              "    </tr>\n",
              "    <tr>\n",
              "      <th>2</th>\n",
              "      <td>3</td>\n",
              "      <td>17</td>\n",
              "    </tr>\n",
              "    <tr>\n",
              "      <th>3</th>\n",
              "      <td>4</td>\n",
              "      <td>7</td>\n",
              "    </tr>\n",
              "    <tr>\n",
              "      <th>4</th>\n",
              "      <td>5</td>\n",
              "      <td>87</td>\n",
              "    </tr>\n",
              "    <tr>\n",
              "      <th>...</th>\n",
              "      <td>...</td>\n",
              "      <td>...</td>\n",
              "    </tr>\n",
              "    <tr>\n",
              "      <th>160372</th>\n",
              "      <td>322707</td>\n",
              "      <td>5</td>\n",
              "    </tr>\n",
              "    <tr>\n",
              "      <th>160373</th>\n",
              "      <td>322710</td>\n",
              "      <td>7</td>\n",
              "    </tr>\n",
              "    <tr>\n",
              "      <th>160374</th>\n",
              "      <td>322712</td>\n",
              "      <td>5</td>\n",
              "    </tr>\n",
              "    <tr>\n",
              "      <th>160375</th>\n",
              "      <td>322732</td>\n",
              "      <td>5</td>\n",
              "    </tr>\n",
              "    <tr>\n",
              "      <th>160376</th>\n",
              "      <td>322823</td>\n",
              "      <td>5</td>\n",
              "    </tr>\n",
              "  </tbody>\n",
              "</table>\n",
              "<p>160377 rows × 2 columns</p>\n",
              "</div>"
            ],
            "text/plain": [
              "        user_id  count\n",
              "0             0      8\n",
              "1             1     12\n",
              "2             3     17\n",
              "3             4      7\n",
              "4             5     87\n",
              "...         ...    ...\n",
              "160372   322707      5\n",
              "160373   322710      7\n",
              "160374   322712      5\n",
              "160375   322732      5\n",
              "160376   322823      5\n",
              "\n",
              "[160377 rows x 2 columns]"
            ]
          },
          "metadata": {
            "tags": []
          },
          "execution_count": 20
        }
      ]
    },
    {
      "cell_type": "code",
      "metadata": {
        "colab": {
          "base_uri": "https://localhost:8080/",
          "height": 417
        },
        "id": "6urZ1xLl3jiG",
        "outputId": "e383f196-f3bc-4ef4-9849-a1efdc64912e"
      },
      "source": [
        "clicks = clicks.loc[clicks['user_id'].isin(a['user_id'])]\n",
        "clicks"
      ],
      "execution_count": null,
      "outputs": [
        {
          "output_type": "execute_result",
          "data": {
            "text/html": [
              "<div>\n",
              "<style scoped>\n",
              "    .dataframe tbody tr th:only-of-type {\n",
              "        vertical-align: middle;\n",
              "    }\n",
              "\n",
              "    .dataframe tbody tr th {\n",
              "        vertical-align: top;\n",
              "    }\n",
              "\n",
              "    .dataframe thead th {\n",
              "        text-align: right;\n",
              "    }\n",
              "</style>\n",
              "<table border=\"1\" class=\"dataframe\">\n",
              "  <thead>\n",
              "    <tr style=\"text-align: right;\">\n",
              "      <th></th>\n",
              "      <th>user_id</th>\n",
              "      <th>article_id</th>\n",
              "      <th>category_id</th>\n",
              "    </tr>\n",
              "  </thead>\n",
              "  <tbody>\n",
              "    <tr>\n",
              "      <th>0</th>\n",
              "      <td>29403</td>\n",
              "      <td>202355</td>\n",
              "      <td>327</td>\n",
              "    </tr>\n",
              "    <tr>\n",
              "      <th>1</th>\n",
              "      <td>29403</td>\n",
              "      <td>209236</td>\n",
              "      <td>332</td>\n",
              "    </tr>\n",
              "    <tr>\n",
              "      <th>2</th>\n",
              "      <td>29403</td>\n",
              "      <td>202559</td>\n",
              "      <td>327</td>\n",
              "    </tr>\n",
              "    <tr>\n",
              "      <th>5</th>\n",
              "      <td>30738</td>\n",
              "      <td>209236</td>\n",
              "      <td>332</td>\n",
              "    </tr>\n",
              "    <tr>\n",
              "      <th>6</th>\n",
              "      <td>30738</td>\n",
              "      <td>202355</td>\n",
              "      <td>327</td>\n",
              "    </tr>\n",
              "    <tr>\n",
              "      <th>...</th>\n",
              "      <td>...</td>\n",
              "      <td>...</td>\n",
              "      <td>...</td>\n",
              "    </tr>\n",
              "    <tr>\n",
              "      <th>2988176</th>\n",
              "      <td>180706</td>\n",
              "      <td>42329</td>\n",
              "      <td>67</td>\n",
              "    </tr>\n",
              "    <tr>\n",
              "      <th>2988177</th>\n",
              "      <td>219065</td>\n",
              "      <td>129434</td>\n",
              "      <td>252</td>\n",
              "    </tr>\n",
              "    <tr>\n",
              "      <th>2988178</th>\n",
              "      <td>219065</td>\n",
              "      <td>198199</td>\n",
              "      <td>323</td>\n",
              "    </tr>\n",
              "    <tr>\n",
              "      <th>2988179</th>\n",
              "      <td>230894</td>\n",
              "      <td>348113</td>\n",
              "      <td>442</td>\n",
              "    </tr>\n",
              "    <tr>\n",
              "      <th>2988180</th>\n",
              "      <td>230894</td>\n",
              "      <td>351771</td>\n",
              "      <td>442</td>\n",
              "    </tr>\n",
              "  </tbody>\n",
              "</table>\n",
              "<p>2563617 rows × 3 columns</p>\n",
              "</div>"
            ],
            "text/plain": [
              "        user_id article_id  category_id\n",
              "0         29403     202355          327\n",
              "1         29403     209236          332\n",
              "2         29403     202559          327\n",
              "5         30738     209236          332\n",
              "6         30738     202355          327\n",
              "...         ...        ...          ...\n",
              "2988176  180706      42329           67\n",
              "2988177  219065     129434          252\n",
              "2988178  219065     198199          323\n",
              "2988179  230894     348113          442\n",
              "2988180  230894     351771          442\n",
              "\n",
              "[2563617 rows x 3 columns]"
            ]
          },
          "metadata": {
            "tags": []
          },
          "execution_count": 21
        }
      ]
    },
    {
      "cell_type": "markdown",
      "metadata": {
        "id": "Y3TzCJTrqqdg"
      },
      "source": [
        "#Inisiasi model"
      ]
    },
    {
      "cell_type": "code",
      "metadata": {
        "id": "x4x1S6kDHn_K"
      },
      "source": [
        "articles = tc.SFrame(data=articles)"
      ],
      "execution_count": null,
      "outputs": []
    },
    {
      "cell_type": "code",
      "metadata": {
        "id": "bYcqPp4LHkMT"
      },
      "source": [
        "clicks = tc.SFrame(data=clicks)"
      ],
      "execution_count": null,
      "outputs": []
    },
    {
      "cell_type": "code",
      "metadata": {
        "id": "qFZ5MfCagwJX",
        "colab": {
          "base_uri": "https://localhost:8080/",
          "height": 276
        },
        "outputId": "7617b56a-1e59-45b9-e9eb-16c4c2625c22"
      },
      "source": [
        "articles"
      ],
      "execution_count": null,
      "outputs": [
        {
          "output_type": "execute_result",
          "data": {
            "text/html": [
              "<div style=\"max-height:1000px;max-width:1500px;overflow:auto;\"><table frame=\"box\" rules=\"cols\">\n",
              "    <tr>\n",
              "        <th style=\"padding-left: 1em; padding-right: 1em; text-align: center\">article_id</th>\n",
              "        <th style=\"padding-left: 1em; padding-right: 1em; text-align: center\">category_id</th>\n",
              "    </tr>\n",
              "    <tr>\n",
              "        <td style=\"padding-left: 1em; padding-right: 1em; text-align: center; vertical-align: top\">0</td>\n",
              "        <td style=\"padding-left: 1em; padding-right: 1em; text-align: center; vertical-align: top\">0</td>\n",
              "    </tr>\n",
              "    <tr>\n",
              "        <td style=\"padding-left: 1em; padding-right: 1em; text-align: center; vertical-align: top\">1</td>\n",
              "        <td style=\"padding-left: 1em; padding-right: 1em; text-align: center; vertical-align: top\">1</td>\n",
              "    </tr>\n",
              "    <tr>\n",
              "        <td style=\"padding-left: 1em; padding-right: 1em; text-align: center; vertical-align: top\">2</td>\n",
              "        <td style=\"padding-left: 1em; padding-right: 1em; text-align: center; vertical-align: top\">1</td>\n",
              "    </tr>\n",
              "    <tr>\n",
              "        <td style=\"padding-left: 1em; padding-right: 1em; text-align: center; vertical-align: top\">3</td>\n",
              "        <td style=\"padding-left: 1em; padding-right: 1em; text-align: center; vertical-align: top\">1</td>\n",
              "    </tr>\n",
              "    <tr>\n",
              "        <td style=\"padding-left: 1em; padding-right: 1em; text-align: center; vertical-align: top\">4</td>\n",
              "        <td style=\"padding-left: 1em; padding-right: 1em; text-align: center; vertical-align: top\">1</td>\n",
              "    </tr>\n",
              "    <tr>\n",
              "        <td style=\"padding-left: 1em; padding-right: 1em; text-align: center; vertical-align: top\">5</td>\n",
              "        <td style=\"padding-left: 1em; padding-right: 1em; text-align: center; vertical-align: top\">1</td>\n",
              "    </tr>\n",
              "    <tr>\n",
              "        <td style=\"padding-left: 1em; padding-right: 1em; text-align: center; vertical-align: top\">6</td>\n",
              "        <td style=\"padding-left: 1em; padding-right: 1em; text-align: center; vertical-align: top\">1</td>\n",
              "    </tr>\n",
              "    <tr>\n",
              "        <td style=\"padding-left: 1em; padding-right: 1em; text-align: center; vertical-align: top\">7</td>\n",
              "        <td style=\"padding-left: 1em; padding-right: 1em; text-align: center; vertical-align: top\">1</td>\n",
              "    </tr>\n",
              "    <tr>\n",
              "        <td style=\"padding-left: 1em; padding-right: 1em; text-align: center; vertical-align: top\">8</td>\n",
              "        <td style=\"padding-left: 1em; padding-right: 1em; text-align: center; vertical-align: top\">1</td>\n",
              "    </tr>\n",
              "    <tr>\n",
              "        <td style=\"padding-left: 1em; padding-right: 1em; text-align: center; vertical-align: top\">9</td>\n",
              "        <td style=\"padding-left: 1em; padding-right: 1em; text-align: center; vertical-align: top\">1</td>\n",
              "    </tr>\n",
              "</table>\n",
              "[364047 rows x 2 columns]<br/>Note: Only the head of the SFrame is printed.<br/>You can use print_rows(num_rows=m, num_columns=n) to print more rows and columns.\n",
              "</div>"
            ],
            "text/plain": [
              "Columns:\n",
              "\tarticle_id\tint\n",
              "\tcategory_id\tint\n",
              "\n",
              "Rows: 364047\n",
              "\n",
              "Data:\n",
              "+------------+-------------+\n",
              "| article_id | category_id |\n",
              "+------------+-------------+\n",
              "|     0      |      0      |\n",
              "|     1      |      1      |\n",
              "|     2      |      1      |\n",
              "|     3      |      1      |\n",
              "|     4      |      1      |\n",
              "|     5      |      1      |\n",
              "|     6      |      1      |\n",
              "|     7      |      1      |\n",
              "|     8      |      1      |\n",
              "|     9      |      1      |\n",
              "+------------+-------------+\n",
              "[364047 rows x 2 columns]\n",
              "Note: Only the head of the SFrame is printed.\n",
              "You can use print_rows(num_rows=m, num_columns=n) to print more rows and columns."
            ]
          },
          "metadata": {
            "tags": []
          },
          "execution_count": 24
        }
      ]
    },
    {
      "cell_type": "code",
      "metadata": {
        "id": "R0JI5ff6gzH0",
        "colab": {
          "base_uri": "https://localhost:8080/",
          "height": 276
        },
        "outputId": "c9bca722-5063-42e8-a7b1-981bbdce8939"
      },
      "source": [
        "clicks"
      ],
      "execution_count": null,
      "outputs": [
        {
          "output_type": "execute_result",
          "data": {
            "text/html": [
              "<div style=\"max-height:1000px;max-width:1500px;overflow:auto;\"><table frame=\"box\" rules=\"cols\">\n",
              "    <tr>\n",
              "        <th style=\"padding-left: 1em; padding-right: 1em; text-align: center\">user_id</th>\n",
              "        <th style=\"padding-left: 1em; padding-right: 1em; text-align: center\">article_id</th>\n",
              "        <th style=\"padding-left: 1em; padding-right: 1em; text-align: center\">category_id</th>\n",
              "    </tr>\n",
              "    <tr>\n",
              "        <td style=\"padding-left: 1em; padding-right: 1em; text-align: center; vertical-align: top\">29403</td>\n",
              "        <td style=\"padding-left: 1em; padding-right: 1em; text-align: center; vertical-align: top\">202355</td>\n",
              "        <td style=\"padding-left: 1em; padding-right: 1em; text-align: center; vertical-align: top\">327</td>\n",
              "    </tr>\n",
              "    <tr>\n",
              "        <td style=\"padding-left: 1em; padding-right: 1em; text-align: center; vertical-align: top\">29403</td>\n",
              "        <td style=\"padding-left: 1em; padding-right: 1em; text-align: center; vertical-align: top\">209236</td>\n",
              "        <td style=\"padding-left: 1em; padding-right: 1em; text-align: center; vertical-align: top\">332</td>\n",
              "    </tr>\n",
              "    <tr>\n",
              "        <td style=\"padding-left: 1em; padding-right: 1em; text-align: center; vertical-align: top\">29403</td>\n",
              "        <td style=\"padding-left: 1em; padding-right: 1em; text-align: center; vertical-align: top\">202559</td>\n",
              "        <td style=\"padding-left: 1em; padding-right: 1em; text-align: center; vertical-align: top\">327</td>\n",
              "    </tr>\n",
              "    <tr>\n",
              "        <td style=\"padding-left: 1em; padding-right: 1em; text-align: center; vertical-align: top\">30738</td>\n",
              "        <td style=\"padding-left: 1em; padding-right: 1em; text-align: center; vertical-align: top\">209236</td>\n",
              "        <td style=\"padding-left: 1em; padding-right: 1em; text-align: center; vertical-align: top\">332</td>\n",
              "    </tr>\n",
              "    <tr>\n",
              "        <td style=\"padding-left: 1em; padding-right: 1em; text-align: center; vertical-align: top\">30738</td>\n",
              "        <td style=\"padding-left: 1em; padding-right: 1em; text-align: center; vertical-align: top\">202355</td>\n",
              "        <td style=\"padding-left: 1em; padding-right: 1em; text-align: center; vertical-align: top\">327</td>\n",
              "    </tr>\n",
              "    <tr>\n",
              "        <td style=\"padding-left: 1em; padding-right: 1em; text-align: center; vertical-align: top\">161431</td>\n",
              "        <td style=\"padding-left: 1em; padding-right: 1em; text-align: center; vertical-align: top\">202355</td>\n",
              "        <td style=\"padding-left: 1em; padding-right: 1em; text-align: center; vertical-align: top\">327</td>\n",
              "    </tr>\n",
              "    <tr>\n",
              "        <td style=\"padding-left: 1em; padding-right: 1em; text-align: center; vertical-align: top\">161431</td>\n",
              "        <td style=\"padding-left: 1em; padding-right: 1em; text-align: center; vertical-align: top\">209236</td>\n",
              "        <td style=\"padding-left: 1em; padding-right: 1em; text-align: center; vertical-align: top\">332</td>\n",
              "    </tr>\n",
              "    <tr>\n",
              "        <td style=\"padding-left: 1em; padding-right: 1em; text-align: center; vertical-align: top\">23622</td>\n",
              "        <td style=\"padding-left: 1em; padding-right: 1em; text-align: center; vertical-align: top\">202355</td>\n",
              "        <td style=\"padding-left: 1em; padding-right: 1em; text-align: center; vertical-align: top\">327</td>\n",
              "    </tr>\n",
              "    <tr>\n",
              "        <td style=\"padding-left: 1em; padding-right: 1em; text-align: center; vertical-align: top\">23622</td>\n",
              "        <td style=\"padding-left: 1em; padding-right: 1em; text-align: center; vertical-align: top\">209236</td>\n",
              "        <td style=\"padding-left: 1em; padding-right: 1em; text-align: center; vertical-align: top\">332</td>\n",
              "    </tr>\n",
              "    <tr>\n",
              "        <td style=\"padding-left: 1em; padding-right: 1em; text-align: center; vertical-align: top\">23622</td>\n",
              "        <td style=\"padding-left: 1em; padding-right: 1em; text-align: center; vertical-align: top\">218028</td>\n",
              "        <td style=\"padding-left: 1em; padding-right: 1em; text-align: center; vertical-align: top\">352</td>\n",
              "    </tr>\n",
              "</table>\n",
              "[2563617 rows x 3 columns]<br/>Note: Only the head of the SFrame is printed.<br/>You can use print_rows(num_rows=m, num_columns=n) to print more rows and columns.\n",
              "</div>"
            ],
            "text/plain": [
              "Columns:\n",
              "\tuser_id\tint\n",
              "\tarticle_id\tint\n",
              "\tcategory_id\tint\n",
              "\n",
              "Rows: 2563617\n",
              "\n",
              "Data:\n",
              "+---------+------------+-------------+\n",
              "| user_id | article_id | category_id |\n",
              "+---------+------------+-------------+\n",
              "|  29403  |   202355   |     327     |\n",
              "|  29403  |   209236   |     332     |\n",
              "|  29403  |   202559   |     327     |\n",
              "|  30738  |   209236   |     332     |\n",
              "|  30738  |   202355   |     327     |\n",
              "|  161431 |   202355   |     327     |\n",
              "|  161431 |   209236   |     332     |\n",
              "|  23622  |   202355   |     327     |\n",
              "|  23622  |   209236   |     332     |\n",
              "|  23622  |   218028   |     352     |\n",
              "+---------+------------+-------------+\n",
              "[2563617 rows x 3 columns]\n",
              "Note: Only the head of the SFrame is printed.\n",
              "You can use print_rows(num_rows=m, num_columns=n) to print more rows and columns."
            ]
          },
          "metadata": {
            "tags": []
          },
          "execution_count": 25
        }
      ]
    },
    {
      "cell_type": "code",
      "metadata": {
        "colab": {
          "base_uri": "https://localhost:8080/",
          "height": 276
        },
        "id": "vEzAG6zisFR2",
        "outputId": "f73effe2-543a-400a-9270-256efb7bf4b9"
      },
      "source": [
        "clicks['category_id'] = clicks['category_id'].astype(str)\n",
        "clicks"
      ],
      "execution_count": null,
      "outputs": [
        {
          "output_type": "execute_result",
          "data": {
            "text/html": [
              "<div style=\"max-height:1000px;max-width:1500px;overflow:auto;\"><table frame=\"box\" rules=\"cols\">\n",
              "    <tr>\n",
              "        <th style=\"padding-left: 1em; padding-right: 1em; text-align: center\">user_id</th>\n",
              "        <th style=\"padding-left: 1em; padding-right: 1em; text-align: center\">article_id</th>\n",
              "        <th style=\"padding-left: 1em; padding-right: 1em; text-align: center\">category_id</th>\n",
              "    </tr>\n",
              "    <tr>\n",
              "        <td style=\"padding-left: 1em; padding-right: 1em; text-align: center; vertical-align: top\">29403</td>\n",
              "        <td style=\"padding-left: 1em; padding-right: 1em; text-align: center; vertical-align: top\">202355</td>\n",
              "        <td style=\"padding-left: 1em; padding-right: 1em; text-align: center; vertical-align: top\">327</td>\n",
              "    </tr>\n",
              "    <tr>\n",
              "        <td style=\"padding-left: 1em; padding-right: 1em; text-align: center; vertical-align: top\">29403</td>\n",
              "        <td style=\"padding-left: 1em; padding-right: 1em; text-align: center; vertical-align: top\">209236</td>\n",
              "        <td style=\"padding-left: 1em; padding-right: 1em; text-align: center; vertical-align: top\">332</td>\n",
              "    </tr>\n",
              "    <tr>\n",
              "        <td style=\"padding-left: 1em; padding-right: 1em; text-align: center; vertical-align: top\">29403</td>\n",
              "        <td style=\"padding-left: 1em; padding-right: 1em; text-align: center; vertical-align: top\">202559</td>\n",
              "        <td style=\"padding-left: 1em; padding-right: 1em; text-align: center; vertical-align: top\">327</td>\n",
              "    </tr>\n",
              "    <tr>\n",
              "        <td style=\"padding-left: 1em; padding-right: 1em; text-align: center; vertical-align: top\">30738</td>\n",
              "        <td style=\"padding-left: 1em; padding-right: 1em; text-align: center; vertical-align: top\">209236</td>\n",
              "        <td style=\"padding-left: 1em; padding-right: 1em; text-align: center; vertical-align: top\">332</td>\n",
              "    </tr>\n",
              "    <tr>\n",
              "        <td style=\"padding-left: 1em; padding-right: 1em; text-align: center; vertical-align: top\">30738</td>\n",
              "        <td style=\"padding-left: 1em; padding-right: 1em; text-align: center; vertical-align: top\">202355</td>\n",
              "        <td style=\"padding-left: 1em; padding-right: 1em; text-align: center; vertical-align: top\">327</td>\n",
              "    </tr>\n",
              "    <tr>\n",
              "        <td style=\"padding-left: 1em; padding-right: 1em; text-align: center; vertical-align: top\">161431</td>\n",
              "        <td style=\"padding-left: 1em; padding-right: 1em; text-align: center; vertical-align: top\">202355</td>\n",
              "        <td style=\"padding-left: 1em; padding-right: 1em; text-align: center; vertical-align: top\">327</td>\n",
              "    </tr>\n",
              "    <tr>\n",
              "        <td style=\"padding-left: 1em; padding-right: 1em; text-align: center; vertical-align: top\">161431</td>\n",
              "        <td style=\"padding-left: 1em; padding-right: 1em; text-align: center; vertical-align: top\">209236</td>\n",
              "        <td style=\"padding-left: 1em; padding-right: 1em; text-align: center; vertical-align: top\">332</td>\n",
              "    </tr>\n",
              "    <tr>\n",
              "        <td style=\"padding-left: 1em; padding-right: 1em; text-align: center; vertical-align: top\">23622</td>\n",
              "        <td style=\"padding-left: 1em; padding-right: 1em; text-align: center; vertical-align: top\">202355</td>\n",
              "        <td style=\"padding-left: 1em; padding-right: 1em; text-align: center; vertical-align: top\">327</td>\n",
              "    </tr>\n",
              "    <tr>\n",
              "        <td style=\"padding-left: 1em; padding-right: 1em; text-align: center; vertical-align: top\">23622</td>\n",
              "        <td style=\"padding-left: 1em; padding-right: 1em; text-align: center; vertical-align: top\">209236</td>\n",
              "        <td style=\"padding-left: 1em; padding-right: 1em; text-align: center; vertical-align: top\">332</td>\n",
              "    </tr>\n",
              "    <tr>\n",
              "        <td style=\"padding-left: 1em; padding-right: 1em; text-align: center; vertical-align: top\">23622</td>\n",
              "        <td style=\"padding-left: 1em; padding-right: 1em; text-align: center; vertical-align: top\">218028</td>\n",
              "        <td style=\"padding-left: 1em; padding-right: 1em; text-align: center; vertical-align: top\">352</td>\n",
              "    </tr>\n",
              "</table>\n",
              "[2563617 rows x 3 columns]<br/>Note: Only the head of the SFrame is printed.<br/>You can use print_rows(num_rows=m, num_columns=n) to print more rows and columns.\n",
              "</div>"
            ],
            "text/plain": [
              "Columns:\n",
              "\tuser_id\tint\n",
              "\tarticle_id\tint\n",
              "\tcategory_id\tstr\n",
              "\n",
              "Rows: 2563617\n",
              "\n",
              "Data:\n",
              "+---------+------------+-------------+\n",
              "| user_id | article_id | category_id |\n",
              "+---------+------------+-------------+\n",
              "|  29403  |   202355   |     327     |\n",
              "|  29403  |   209236   |     332     |\n",
              "|  29403  |   202559   |     327     |\n",
              "|  30738  |   209236   |     332     |\n",
              "|  30738  |   202355   |     327     |\n",
              "|  161431 |   202355   |     327     |\n",
              "|  161431 |   209236   |     332     |\n",
              "|  23622  |   202355   |     327     |\n",
              "|  23622  |   209236   |     332     |\n",
              "|  23622  |   218028   |     352     |\n",
              "+---------+------------+-------------+\n",
              "[2563617 rows x 3 columns]\n",
              "Note: Only the head of the SFrame is printed.\n",
              "You can use print_rows(num_rows=m, num_columns=n) to print more rows and columns."
            ]
          },
          "metadata": {
            "tags": []
          },
          "execution_count": 26
        }
      ]
    },
    {
      "cell_type": "markdown",
      "metadata": {
        "id": "u0_vxiedqv4Y"
      },
      "source": [
        "#Split data"
      ]
    },
    {
      "cell_type": "code",
      "metadata": {
        "id": "huG0hteSdZ0K"
      },
      "source": [
        "training_data, validation_data = tc.recommender.util.random_split_by_user(clicks, 'user_id', 'article_id')"
      ],
      "execution_count": null,
      "outputs": []
    },
    {
      "cell_type": "markdown",
      "metadata": {
        "id": "Mq3kZqngqzqW"
      },
      "source": [
        "#Bikin model"
      ]
    },
    {
      "cell_type": "code",
      "metadata": {
        "colab": {
          "base_uri": "https://localhost:8080/",
          "height": 1000
        },
        "id": "jbZ3v_Wrm22N",
        "outputId": "b395317b-d503-45e2-fcd6-74d9f35637b1"
      },
      "source": [
        "model = tc.ranking_factorization_recommender.create(training_data, 'user_id', 'article_id')"
      ],
      "execution_count": null,
      "outputs": [
        {
          "output_type": "display_data",
          "data": {
            "text/html": [
              "<pre>Preparing data set.</pre>"
            ],
            "text/plain": [
              "Preparing data set."
            ]
          },
          "metadata": {
            "tags": []
          }
        },
        {
          "output_type": "display_data",
          "data": {
            "text/html": [
              "<pre>    Data has 2560220 observations with 160377 users and 37869 items.</pre>"
            ],
            "text/plain": [
              "    Data has 2560220 observations with 160377 users and 37869 items."
            ]
          },
          "metadata": {
            "tags": []
          }
        },
        {
          "output_type": "display_data",
          "data": {
            "text/html": [
              "<pre>    Data prepared in: 3.36885s</pre>"
            ],
            "text/plain": [
              "    Data prepared in: 3.36885s"
            ]
          },
          "metadata": {
            "tags": []
          }
        },
        {
          "output_type": "display_data",
          "data": {
            "text/html": [
              "<pre>Training ranking_factorization_recommender for recommendations.</pre>"
            ],
            "text/plain": [
              "Training ranking_factorization_recommender for recommendations."
            ]
          },
          "metadata": {
            "tags": []
          }
        },
        {
          "output_type": "display_data",
          "data": {
            "text/html": [
              "<pre>+--------------------------------+--------------------------------------------------+----------+</pre>"
            ],
            "text/plain": [
              "+--------------------------------+--------------------------------------------------+----------+"
            ]
          },
          "metadata": {
            "tags": []
          }
        },
        {
          "output_type": "display_data",
          "data": {
            "text/html": [
              "<pre>| Parameter                      | Description                                      | Value    |</pre>"
            ],
            "text/plain": [
              "| Parameter                      | Description                                      | Value    |"
            ]
          },
          "metadata": {
            "tags": []
          }
        },
        {
          "output_type": "display_data",
          "data": {
            "text/html": [
              "<pre>+--------------------------------+--------------------------------------------------+----------+</pre>"
            ],
            "text/plain": [
              "+--------------------------------+--------------------------------------------------+----------+"
            ]
          },
          "metadata": {
            "tags": []
          }
        },
        {
          "output_type": "display_data",
          "data": {
            "text/html": [
              "<pre>| num_factors                    | Factor Dimension                                 | 32       |</pre>"
            ],
            "text/plain": [
              "| num_factors                    | Factor Dimension                                 | 32       |"
            ]
          },
          "metadata": {
            "tags": []
          }
        },
        {
          "output_type": "display_data",
          "data": {
            "text/html": [
              "<pre>| regularization                 | L2 Regularization on Factors                     | 1e-09    |</pre>"
            ],
            "text/plain": [
              "| regularization                 | L2 Regularization on Factors                     | 1e-09    |"
            ]
          },
          "metadata": {
            "tags": []
          }
        },
        {
          "output_type": "display_data",
          "data": {
            "text/html": [
              "<pre>| solver                         | Solver used for training                         | adagrad  |</pre>"
            ],
            "text/plain": [
              "| solver                         | Solver used for training                         | adagrad  |"
            ]
          },
          "metadata": {
            "tags": []
          }
        },
        {
          "output_type": "display_data",
          "data": {
            "text/html": [
              "<pre>| linear_regularization          | L2 Regularization on Linear Coefficients         | 1e-09    |</pre>"
            ],
            "text/plain": [
              "| linear_regularization          | L2 Regularization on Linear Coefficients         | 1e-09    |"
            ]
          },
          "metadata": {
            "tags": []
          }
        },
        {
          "output_type": "display_data",
          "data": {
            "text/html": [
              "<pre>| binary_target                  | Assume Binary Targets                            | True     |</pre>"
            ],
            "text/plain": [
              "| binary_target                  | Assume Binary Targets                            | True     |"
            ]
          },
          "metadata": {
            "tags": []
          }
        },
        {
          "output_type": "display_data",
          "data": {
            "text/html": [
              "<pre>| max_iterations                 | Maximum Number of Iterations                     | 25       |</pre>"
            ],
            "text/plain": [
              "| max_iterations                 | Maximum Number of Iterations                     | 25       |"
            ]
          },
          "metadata": {
            "tags": []
          }
        },
        {
          "output_type": "display_data",
          "data": {
            "text/html": [
              "<pre>+--------------------------------+--------------------------------------------------+----------+</pre>"
            ],
            "text/plain": [
              "+--------------------------------+--------------------------------------------------+----------+"
            ]
          },
          "metadata": {
            "tags": []
          }
        },
        {
          "output_type": "display_data",
          "data": {
            "text/html": [
              "<pre>  Optimizing model using SGD; tuning step size.</pre>"
            ],
            "text/plain": [
              "  Optimizing model using SGD; tuning step size."
            ]
          },
          "metadata": {
            "tags": []
          }
        },
        {
          "output_type": "display_data",
          "data": {
            "text/html": [
              "<pre>  Using 320027 / 2560220 points for tuning the step size.</pre>"
            ],
            "text/plain": [
              "  Using 320027 / 2560220 points for tuning the step size."
            ]
          },
          "metadata": {
            "tags": []
          }
        },
        {
          "output_type": "display_data",
          "data": {
            "text/html": [
              "<pre>+---------+-------------------+------------------------------------------+</pre>"
            ],
            "text/plain": [
              "+---------+-------------------+------------------------------------------+"
            ]
          },
          "metadata": {
            "tags": []
          }
        },
        {
          "output_type": "display_data",
          "data": {
            "text/html": [
              "<pre>| Attempt | Initial Step Size | Estimated Objective Value                |</pre>"
            ],
            "text/plain": [
              "| Attempt | Initial Step Size | Estimated Objective Value                |"
            ]
          },
          "metadata": {
            "tags": []
          }
        },
        {
          "output_type": "display_data",
          "data": {
            "text/html": [
              "<pre>+---------+-------------------+------------------------------------------+</pre>"
            ],
            "text/plain": [
              "+---------+-------------------+------------------------------------------+"
            ]
          },
          "metadata": {
            "tags": []
          }
        },
        {
          "output_type": "display_data",
          "data": {
            "text/html": [
              "<pre>| 0       | 16.6667           | No Decrease (1.95623 >= 1.38644)         |</pre>"
            ],
            "text/plain": [
              "| 0       | 16.6667           | No Decrease (1.95623 >= 1.38644)         |"
            ]
          },
          "metadata": {
            "tags": []
          }
        },
        {
          "output_type": "display_data",
          "data": {
            "text/html": [
              "<pre>| 1       | 4.16667           | 0.844067                                 |</pre>"
            ],
            "text/plain": [
              "| 1       | 4.16667           | 0.844067                                 |"
            ]
          },
          "metadata": {
            "tags": []
          }
        },
        {
          "output_type": "display_data",
          "data": {
            "text/html": [
              "<pre>| 2       | 2.08333           | 0.499121                                 |</pre>"
            ],
            "text/plain": [
              "| 2       | 2.08333           | 0.499121                                 |"
            ]
          },
          "metadata": {
            "tags": []
          }
        },
        {
          "output_type": "display_data",
          "data": {
            "text/html": [
              "<pre>| 3       | 1.04167           | 0.211463                                 |</pre>"
            ],
            "text/plain": [
              "| 3       | 1.04167           | 0.211463                                 |"
            ]
          },
          "metadata": {
            "tags": []
          }
        },
        {
          "output_type": "display_data",
          "data": {
            "text/html": [
              "<pre>| 4       | 0.520833          | 0.0534023                                |</pre>"
            ],
            "text/plain": [
              "| 4       | 0.520833          | 0.0534023                                |"
            ]
          },
          "metadata": {
            "tags": []
          }
        },
        {
          "output_type": "display_data",
          "data": {
            "text/html": [
              "<pre>| 5       | 0.260417          | 0.0462853                                |</pre>"
            ],
            "text/plain": [
              "| 5       | 0.260417          | 0.0462853                                |"
            ]
          },
          "metadata": {
            "tags": []
          }
        },
        {
          "output_type": "display_data",
          "data": {
            "text/html": [
              "<pre>| 6       | 0.130208          | 0.0611818                                |</pre>"
            ],
            "text/plain": [
              "| 6       | 0.130208          | 0.0611818                                |"
            ]
          },
          "metadata": {
            "tags": []
          }
        },
        {
          "output_type": "display_data",
          "data": {
            "text/html": [
              "<pre>| 7       | 0.0651042         | 0.0708771                                |</pre>"
            ],
            "text/plain": [
              "| 7       | 0.0651042         | 0.0708771                                |"
            ]
          },
          "metadata": {
            "tags": []
          }
        },
        {
          "output_type": "display_data",
          "data": {
            "text/html": [
              "<pre>| 8       | 0.0325521         | 0.0936692                                |</pre>"
            ],
            "text/plain": [
              "| 8       | 0.0325521         | 0.0936692                                |"
            ]
          },
          "metadata": {
            "tags": []
          }
        },
        {
          "output_type": "display_data",
          "data": {
            "text/html": [
              "<pre>+---------+-------------------+------------------------------------------+</pre>"
            ],
            "text/plain": [
              "+---------+-------------------+------------------------------------------+"
            ]
          },
          "metadata": {
            "tags": []
          }
        },
        {
          "output_type": "display_data",
          "data": {
            "text/html": [
              "<pre>| Final   | 0.260417          | 0.0462853                                |</pre>"
            ],
            "text/plain": [
              "| Final   | 0.260417          | 0.0462853                                |"
            ]
          },
          "metadata": {
            "tags": []
          }
        },
        {
          "output_type": "display_data",
          "data": {
            "text/html": [
              "<pre>+---------+-------------------+------------------------------------------+</pre>"
            ],
            "text/plain": [
              "+---------+-------------------+------------------------------------------+"
            ]
          },
          "metadata": {
            "tags": []
          }
        },
        {
          "output_type": "display_data",
          "data": {
            "text/html": [
              "<pre>Starting Optimization.</pre>"
            ],
            "text/plain": [
              "Starting Optimization."
            ]
          },
          "metadata": {
            "tags": []
          }
        },
        {
          "output_type": "display_data",
          "data": {
            "text/html": [
              "<pre>+---------+--------------+-------------------+-----------------------------------+-------------+</pre>"
            ],
            "text/plain": [
              "+---------+--------------+-------------------+-----------------------------------+-------------+"
            ]
          },
          "metadata": {
            "tags": []
          }
        },
        {
          "output_type": "display_data",
          "data": {
            "text/html": [
              "<pre>| Iter.   | Elapsed Time | Approx. Objective | Approx. Training Predictive Error | Step Size   |</pre>"
            ],
            "text/plain": [
              "| Iter.   | Elapsed Time | Approx. Objective | Approx. Training Predictive Error | Step Size   |"
            ]
          },
          "metadata": {
            "tags": []
          }
        },
        {
          "output_type": "display_data",
          "data": {
            "text/html": [
              "<pre>+---------+--------------+-------------------+-----------------------------------+-------------+</pre>"
            ],
            "text/plain": [
              "+---------+--------------+-------------------+-----------------------------------+-------------+"
            ]
          },
          "metadata": {
            "tags": []
          }
        },
        {
          "output_type": "display_data",
          "data": {
            "text/html": [
              "<pre>| Initial | 106us        | 1.38644           | 0.693154                          |             |</pre>"
            ],
            "text/plain": [
              "| Initial | 106us        | 1.38644           | 0.693154                          |             |"
            ]
          },
          "metadata": {
            "tags": []
          }
        },
        {
          "output_type": "display_data",
          "data": {
            "text/html": [
              "<pre>+---------+--------------+-------------------+-----------------------------------+-------------+</pre>"
            ],
            "text/plain": [
              "+---------+--------------+-------------------+-----------------------------------+-------------+"
            ]
          },
          "metadata": {
            "tags": []
          }
        },
        {
          "output_type": "display_data",
          "data": {
            "text/html": [
              "<pre>| 1       | 8.25s        | 0.316208          | 0.163249                          | 0.260417    |</pre>"
            ],
            "text/plain": [
              "| 1       | 8.25s        | 0.316208          | 0.163249                          | 0.260417    |"
            ]
          },
          "metadata": {
            "tags": []
          }
        },
        {
          "output_type": "display_data",
          "data": {
            "text/html": [
              "<pre>| 2       | 16.42s       | 0.122684          | 0.0437722                         | 0.260417    |</pre>"
            ],
            "text/plain": [
              "| 2       | 16.42s       | 0.122684          | 0.0437722                         | 0.260417    |"
            ]
          },
          "metadata": {
            "tags": []
          }
        },
        {
          "output_type": "display_data",
          "data": {
            "text/html": [
              "<pre>| 3       | 24.58s       | 0.0887368         | 0.0258334                         | 0.260417    |</pre>"
            ],
            "text/plain": [
              "| 3       | 24.58s       | 0.0887368         | 0.0258334                         | 0.260417    |"
            ]
          },
          "metadata": {
            "tags": []
          }
        },
        {
          "output_type": "display_data",
          "data": {
            "text/html": [
              "<pre>| 4       | 32.79s       | 0.076199          | 0.0206149                         | 0.260417    |</pre>"
            ],
            "text/plain": [
              "| 4       | 32.79s       | 0.076199          | 0.0206149                         | 0.260417    |"
            ]
          },
          "metadata": {
            "tags": []
          }
        },
        {
          "output_type": "display_data",
          "data": {
            "text/html": [
              "<pre>| 5       | 40.97s       | 0.0696859         | 0.0183426                         | 0.260417    |</pre>"
            ],
            "text/plain": [
              "| 5       | 40.97s       | 0.0696859         | 0.0183426                         | 0.260417    |"
            ]
          },
          "metadata": {
            "tags": []
          }
        },
        {
          "output_type": "display_data",
          "data": {
            "text/html": [
              "<pre>| 7       | 57.37s       | 0.0626074         | 0.0156881                         | 0.260417    |</pre>"
            ],
            "text/plain": [
              "| 7       | 57.37s       | 0.0626074         | 0.0156881                         | 0.260417    |"
            ]
          },
          "metadata": {
            "tags": []
          }
        },
        {
          "output_type": "display_data",
          "data": {
            "text/html": [
              "<pre>| 8       | 1m 5s        | 0.0602018         | 0.0148502                         | 0.260417    |</pre>"
            ],
            "text/plain": [
              "| 8       | 1m 5s        | 0.0602018         | 0.0148502                         | 0.260417    |"
            ]
          },
          "metadata": {
            "tags": []
          }
        },
        {
          "output_type": "display_data",
          "data": {
            "text/html": [
              "<pre>| 9       | 1m 13s       | 0.0588715         | 0.0142038                         | 0.260417    |</pre>"
            ],
            "text/plain": [
              "| 9       | 1m 13s       | 0.0588715         | 0.0142038                         | 0.260417    |"
            ]
          },
          "metadata": {
            "tags": []
          }
        },
        {
          "output_type": "display_data",
          "data": {
            "text/html": [
              "<pre>| 10      | 1m 21s       | 0.0573222         | 0.013706                          | 0.260417    |</pre>"
            ],
            "text/plain": [
              "| 10      | 1m 21s       | 0.0573222         | 0.013706                          | 0.260417    |"
            ]
          },
          "metadata": {
            "tags": []
          }
        },
        {
          "output_type": "display_data",
          "data": {
            "text/html": [
              "<pre>| 11      | 1m 30s       | 0.0557953         | 0.0132238                         | 0.260417    |</pre>"
            ],
            "text/plain": [
              "| 11      | 1m 30s       | 0.0557953         | 0.0132238                         | 0.260417    |"
            ]
          },
          "metadata": {
            "tags": []
          }
        },
        {
          "output_type": "display_data",
          "data": {
            "text/html": [
              "<pre>| 12      | 1m 38s       | 0.054406          | 0.0127414                         | 0.260417    |</pre>"
            ],
            "text/plain": [
              "| 12      | 1m 38s       | 0.054406          | 0.0127414                         | 0.260417    |"
            ]
          },
          "metadata": {
            "tags": []
          }
        },
        {
          "output_type": "display_data",
          "data": {
            "text/html": [
              "<pre>| 13      | 1m 46s       | 0.0533583         | 0.0124198                         | 0.260417    |</pre>"
            ],
            "text/plain": [
              "| 13      | 1m 46s       | 0.0533583         | 0.0124198                         | 0.260417    |"
            ]
          },
          "metadata": {
            "tags": []
          }
        },
        {
          "output_type": "display_data",
          "data": {
            "text/html": [
              "<pre>| 14      | 1m 54s       | 0.0527021         | 0.0121938                         | 0.260417    |</pre>"
            ],
            "text/plain": [
              "| 14      | 1m 54s       | 0.0527021         | 0.0121938                         | 0.260417    |"
            ]
          },
          "metadata": {
            "tags": []
          }
        },
        {
          "output_type": "display_data",
          "data": {
            "text/html": [
              "<pre>| 15      | 2m 2s        | 0.0516587         | 0.0118936                         | 0.260417    |</pre>"
            ],
            "text/plain": [
              "| 15      | 2m 2s        | 0.0516587         | 0.0118936                         | 0.260417    |"
            ]
          },
          "metadata": {
            "tags": []
          }
        },
        {
          "output_type": "display_data",
          "data": {
            "text/html": [
              "<pre>| 16      | 2m 10s       | 0.0509981         | 0.0116524                         | 0.260417    |</pre>"
            ],
            "text/plain": [
              "| 16      | 2m 10s       | 0.0509981         | 0.0116524                         | 0.260417    |"
            ]
          },
          "metadata": {
            "tags": []
          }
        },
        {
          "output_type": "display_data",
          "data": {
            "text/html": [
              "<pre>| 17      | 2m 19s       | 0.0506857         | 0.011444                          | 0.260417    |</pre>"
            ],
            "text/plain": [
              "| 17      | 2m 19s       | 0.0506857         | 0.011444                          | 0.260417    |"
            ]
          },
          "metadata": {
            "tags": []
          }
        },
        {
          "output_type": "display_data",
          "data": {
            "text/html": [
              "<pre>| 18      | 2m 27s       | 0.0494381         | 0.011111                          | 0.260417    |</pre>"
            ],
            "text/plain": [
              "| 18      | 2m 27s       | 0.0494381         | 0.011111                          | 0.260417    |"
            ]
          },
          "metadata": {
            "tags": []
          }
        },
        {
          "output_type": "display_data",
          "data": {
            "text/html": [
              "<pre>| 19      | 2m 35s       | 0.0495235         | 0.0110305                         | 0.260417    |</pre>"
            ],
            "text/plain": [
              "| 19      | 2m 35s       | 0.0495235         | 0.0110305                         | 0.260417    |"
            ]
          },
          "metadata": {
            "tags": []
          }
        },
        {
          "output_type": "display_data",
          "data": {
            "text/html": [
              "<pre>| 20      | 2m 43s       | 0.0487009         | 0.0108603                         | 0.260417    |</pre>"
            ],
            "text/plain": [
              "| 20      | 2m 43s       | 0.0487009         | 0.0108603                         | 0.260417    |"
            ]
          },
          "metadata": {
            "tags": []
          }
        },
        {
          "output_type": "display_data",
          "data": {
            "text/html": [
              "<pre>| 21      | 2m 51s       | 0.0481436         | 0.0106475                         | 0.260417    |</pre>"
            ],
            "text/plain": [
              "| 21      | 2m 51s       | 0.0481436         | 0.0106475                         | 0.260417    |"
            ]
          },
          "metadata": {
            "tags": []
          }
        },
        {
          "output_type": "display_data",
          "data": {
            "text/html": [
              "<pre>| 22      | 3m 0s        | 0.0475553         | 0.0104805                         | 0.260417    |</pre>"
            ],
            "text/plain": [
              "| 22      | 3m 0s        | 0.0475553         | 0.0104805                         | 0.260417    |"
            ]
          },
          "metadata": {
            "tags": []
          }
        },
        {
          "output_type": "display_data",
          "data": {
            "text/html": [
              "<pre>| 23      | 3m 8s        | 0.0465573         | 0.010357                          | 0.260417    |</pre>"
            ],
            "text/plain": [
              "| 23      | 3m 8s        | 0.0465573         | 0.010357                          | 0.260417    |"
            ]
          },
          "metadata": {
            "tags": []
          }
        },
        {
          "output_type": "display_data",
          "data": {
            "text/html": [
              "<pre>| 24      | 3m 16s       | 0.0459813         | 0.0101788                         | 0.260417    |</pre>"
            ],
            "text/plain": [
              "| 24      | 3m 16s       | 0.0459813         | 0.0101788                         | 0.260417    |"
            ]
          },
          "metadata": {
            "tags": []
          }
        },
        {
          "output_type": "display_data",
          "data": {
            "text/html": [
              "<pre>| 25      | 3m 24s       | 0.0455448         | 0.0099249                         | 0.260417    |</pre>"
            ],
            "text/plain": [
              "| 25      | 3m 24s       | 0.0455448         | 0.0099249                         | 0.260417    |"
            ]
          },
          "metadata": {
            "tags": []
          }
        },
        {
          "output_type": "display_data",
          "data": {
            "text/html": [
              "<pre>+---------+--------------+-------------------+-----------------------------------+-------------+</pre>"
            ],
            "text/plain": [
              "+---------+--------------+-------------------+-----------------------------------+-------------+"
            ]
          },
          "metadata": {
            "tags": []
          }
        },
        {
          "output_type": "display_data",
          "data": {
            "text/html": [
              "<pre>Optimization Complete: Maximum number of passes through the data reached.</pre>"
            ],
            "text/plain": [
              "Optimization Complete: Maximum number of passes through the data reached."
            ]
          },
          "metadata": {
            "tags": []
          }
        },
        {
          "output_type": "display_data",
          "data": {
            "text/html": [
              "<pre>Computing final objective value and training Predictive Error.</pre>"
            ],
            "text/plain": [
              "Computing final objective value and training Predictive Error."
            ]
          },
          "metadata": {
            "tags": []
          }
        },
        {
          "output_type": "display_data",
          "data": {
            "text/html": [
              "<pre>       Final objective value: 0.04401</pre>"
            ],
            "text/plain": [
              "       Final objective value: 0.04401"
            ]
          },
          "metadata": {
            "tags": []
          }
        },
        {
          "output_type": "display_data",
          "data": {
            "text/html": [
              "<pre>       Final training Predictive Error: 0.00882098</pre>"
            ],
            "text/plain": [
              "       Final training Predictive Error: 0.00882098"
            ]
          },
          "metadata": {
            "tags": []
          }
        }
      ]
    },
    {
      "cell_type": "code",
      "metadata": {
        "id": "yrslj_JzSxmp",
        "colab": {
          "base_uri": "https://localhost:8080/",
          "height": 1000
        },
        "outputId": "b841f690-0119-41d7-82d5-acdc39a860c7"
      },
      "source": [
        "model_recomm = model.recommend()"
      ],
      "execution_count": null,
      "outputs": [
        {
          "output_type": "display_data",
          "data": {
            "text/html": [
              "<pre>recommendations finished on 1000/160377 queries. users per second: 285.769</pre>"
            ],
            "text/plain": [
              "recommendations finished on 1000/160377 queries. users per second: 285.769"
            ]
          },
          "metadata": {
            "tags": []
          }
        },
        {
          "output_type": "display_data",
          "data": {
            "text/html": [
              "<pre>recommendations finished on 2000/160377 queries. users per second: 288.371</pre>"
            ],
            "text/plain": [
              "recommendations finished on 2000/160377 queries. users per second: 288.371"
            ]
          },
          "metadata": {
            "tags": []
          }
        },
        {
          "output_type": "display_data",
          "data": {
            "text/html": [
              "<pre>recommendations finished on 3000/160377 queries. users per second: 288.742</pre>"
            ],
            "text/plain": [
              "recommendations finished on 3000/160377 queries. users per second: 288.742"
            ]
          },
          "metadata": {
            "tags": []
          }
        },
        {
          "output_type": "display_data",
          "data": {
            "text/html": [
              "<pre>recommendations finished on 4000/160377 queries. users per second: 289.523</pre>"
            ],
            "text/plain": [
              "recommendations finished on 4000/160377 queries. users per second: 289.523"
            ]
          },
          "metadata": {
            "tags": []
          }
        },
        {
          "output_type": "display_data",
          "data": {
            "text/html": [
              "<pre>recommendations finished on 5000/160377 queries. users per second: 289.847</pre>"
            ],
            "text/plain": [
              "recommendations finished on 5000/160377 queries. users per second: 289.847"
            ]
          },
          "metadata": {
            "tags": []
          }
        },
        {
          "output_type": "display_data",
          "data": {
            "text/html": [
              "<pre>recommendations finished on 6000/160377 queries. users per second: 289.656</pre>"
            ],
            "text/plain": [
              "recommendations finished on 6000/160377 queries. users per second: 289.656"
            ]
          },
          "metadata": {
            "tags": []
          }
        },
        {
          "output_type": "display_data",
          "data": {
            "text/html": [
              "<pre>recommendations finished on 7000/160377 queries. users per second: 289.996</pre>"
            ],
            "text/plain": [
              "recommendations finished on 7000/160377 queries. users per second: 289.996"
            ]
          },
          "metadata": {
            "tags": []
          }
        },
        {
          "output_type": "display_data",
          "data": {
            "text/html": [
              "<pre>recommendations finished on 8000/160377 queries. users per second: 290.164</pre>"
            ],
            "text/plain": [
              "recommendations finished on 8000/160377 queries. users per second: 290.164"
            ]
          },
          "metadata": {
            "tags": []
          }
        },
        {
          "output_type": "display_data",
          "data": {
            "text/html": [
              "<pre>recommendations finished on 9000/160377 queries. users per second: 290.256</pre>"
            ],
            "text/plain": [
              "recommendations finished on 9000/160377 queries. users per second: 290.256"
            ]
          },
          "metadata": {
            "tags": []
          }
        },
        {
          "output_type": "display_data",
          "data": {
            "text/html": [
              "<pre>recommendations finished on 10000/160377 queries. users per second: 290.266</pre>"
            ],
            "text/plain": [
              "recommendations finished on 10000/160377 queries. users per second: 290.266"
            ]
          },
          "metadata": {
            "tags": []
          }
        },
        {
          "output_type": "display_data",
          "data": {
            "text/html": [
              "<pre>recommendations finished on 11000/160377 queries. users per second: 290.162</pre>"
            ],
            "text/plain": [
              "recommendations finished on 11000/160377 queries. users per second: 290.162"
            ]
          },
          "metadata": {
            "tags": []
          }
        },
        {
          "output_type": "display_data",
          "data": {
            "text/html": [
              "<pre>recommendations finished on 12000/160377 queries. users per second: 290.21</pre>"
            ],
            "text/plain": [
              "recommendations finished on 12000/160377 queries. users per second: 290.21"
            ]
          },
          "metadata": {
            "tags": []
          }
        },
        {
          "output_type": "display_data",
          "data": {
            "text/html": [
              "<pre>recommendations finished on 13000/160377 queries. users per second: 290.269</pre>"
            ],
            "text/plain": [
              "recommendations finished on 13000/160377 queries. users per second: 290.269"
            ]
          },
          "metadata": {
            "tags": []
          }
        },
        {
          "output_type": "display_data",
          "data": {
            "text/html": [
              "<pre>recommendations finished on 14000/160377 queries. users per second: 290.243</pre>"
            ],
            "text/plain": [
              "recommendations finished on 14000/160377 queries. users per second: 290.243"
            ]
          },
          "metadata": {
            "tags": []
          }
        },
        {
          "output_type": "display_data",
          "data": {
            "text/html": [
              "<pre>recommendations finished on 15000/160377 queries. users per second: 290.053</pre>"
            ],
            "text/plain": [
              "recommendations finished on 15000/160377 queries. users per second: 290.053"
            ]
          },
          "metadata": {
            "tags": []
          }
        },
        {
          "output_type": "display_data",
          "data": {
            "text/html": [
              "<pre>recommendations finished on 16000/160377 queries. users per second: 290.146</pre>"
            ],
            "text/plain": [
              "recommendations finished on 16000/160377 queries. users per second: 290.146"
            ]
          },
          "metadata": {
            "tags": []
          }
        },
        {
          "output_type": "display_data",
          "data": {
            "text/html": [
              "<pre>recommendations finished on 17000/160377 queries. users per second: 290.161</pre>"
            ],
            "text/plain": [
              "recommendations finished on 17000/160377 queries. users per second: 290.161"
            ]
          },
          "metadata": {
            "tags": []
          }
        },
        {
          "output_type": "display_data",
          "data": {
            "text/html": [
              "<pre>recommendations finished on 18000/160377 queries. users per second: 290.108</pre>"
            ],
            "text/plain": [
              "recommendations finished on 18000/160377 queries. users per second: 290.108"
            ]
          },
          "metadata": {
            "tags": []
          }
        },
        {
          "output_type": "display_data",
          "data": {
            "text/html": [
              "<pre>recommendations finished on 19000/160377 queries. users per second: 290.202</pre>"
            ],
            "text/plain": [
              "recommendations finished on 19000/160377 queries. users per second: 290.202"
            ]
          },
          "metadata": {
            "tags": []
          }
        },
        {
          "output_type": "display_data",
          "data": {
            "text/html": [
              "<pre>recommendations finished on 20000/160377 queries. users per second: 290.258</pre>"
            ],
            "text/plain": [
              "recommendations finished on 20000/160377 queries. users per second: 290.258"
            ]
          },
          "metadata": {
            "tags": []
          }
        },
        {
          "output_type": "display_data",
          "data": {
            "text/html": [
              "<pre>recommendations finished on 21000/160377 queries. users per second: 290.228</pre>"
            ],
            "text/plain": [
              "recommendations finished on 21000/160377 queries. users per second: 290.228"
            ]
          },
          "metadata": {
            "tags": []
          }
        },
        {
          "output_type": "display_data",
          "data": {
            "text/html": [
              "<pre>recommendations finished on 22000/160377 queries. users per second: 290.205</pre>"
            ],
            "text/plain": [
              "recommendations finished on 22000/160377 queries. users per second: 290.205"
            ]
          },
          "metadata": {
            "tags": []
          }
        },
        {
          "output_type": "display_data",
          "data": {
            "text/html": [
              "<pre>recommendations finished on 23000/160377 queries. users per second: 290.213</pre>"
            ],
            "text/plain": [
              "recommendations finished on 23000/160377 queries. users per second: 290.213"
            ]
          },
          "metadata": {
            "tags": []
          }
        },
        {
          "output_type": "display_data",
          "data": {
            "text/html": [
              "<pre>recommendations finished on 24000/160377 queries. users per second: 290.055</pre>"
            ],
            "text/plain": [
              "recommendations finished on 24000/160377 queries. users per second: 290.055"
            ]
          },
          "metadata": {
            "tags": []
          }
        },
        {
          "output_type": "display_data",
          "data": {
            "text/html": [
              "<pre>recommendations finished on 25000/160377 queries. users per second: 289.994</pre>"
            ],
            "text/plain": [
              "recommendations finished on 25000/160377 queries. users per second: 289.994"
            ]
          },
          "metadata": {
            "tags": []
          }
        },
        {
          "output_type": "display_data",
          "data": {
            "text/html": [
              "<pre>recommendations finished on 26000/160377 queries. users per second: 289.968</pre>"
            ],
            "text/plain": [
              "recommendations finished on 26000/160377 queries. users per second: 289.968"
            ]
          },
          "metadata": {
            "tags": []
          }
        },
        {
          "output_type": "display_data",
          "data": {
            "text/html": [
              "<pre>recommendations finished on 27000/160377 queries. users per second: 289.884</pre>"
            ],
            "text/plain": [
              "recommendations finished on 27000/160377 queries. users per second: 289.884"
            ]
          },
          "metadata": {
            "tags": []
          }
        },
        {
          "output_type": "display_data",
          "data": {
            "text/html": [
              "<pre>recommendations finished on 28000/160377 queries. users per second: 289.901</pre>"
            ],
            "text/plain": [
              "recommendations finished on 28000/160377 queries. users per second: 289.901"
            ]
          },
          "metadata": {
            "tags": []
          }
        },
        {
          "output_type": "display_data",
          "data": {
            "text/html": [
              "<pre>recommendations finished on 29000/160377 queries. users per second: 289.944</pre>"
            ],
            "text/plain": [
              "recommendations finished on 29000/160377 queries. users per second: 289.944"
            ]
          },
          "metadata": {
            "tags": []
          }
        },
        {
          "output_type": "display_data",
          "data": {
            "text/html": [
              "<pre>recommendations finished on 30000/160377 queries. users per second: 289.876</pre>"
            ],
            "text/plain": [
              "recommendations finished on 30000/160377 queries. users per second: 289.876"
            ]
          },
          "metadata": {
            "tags": []
          }
        },
        {
          "output_type": "display_data",
          "data": {
            "text/html": [
              "<pre>recommendations finished on 31000/160377 queries. users per second: 289.948</pre>"
            ],
            "text/plain": [
              "recommendations finished on 31000/160377 queries. users per second: 289.948"
            ]
          },
          "metadata": {
            "tags": []
          }
        },
        {
          "output_type": "display_data",
          "data": {
            "text/html": [
              "<pre>recommendations finished on 32000/160377 queries. users per second: 289.983</pre>"
            ],
            "text/plain": [
              "recommendations finished on 32000/160377 queries. users per second: 289.983"
            ]
          },
          "metadata": {
            "tags": []
          }
        },
        {
          "output_type": "display_data",
          "data": {
            "text/html": [
              "<pre>recommendations finished on 33000/160377 queries. users per second: 289.853</pre>"
            ],
            "text/plain": [
              "recommendations finished on 33000/160377 queries. users per second: 289.853"
            ]
          },
          "metadata": {
            "tags": []
          }
        },
        {
          "output_type": "display_data",
          "data": {
            "text/html": [
              "<pre>recommendations finished on 34000/160377 queries. users per second: 289.881</pre>"
            ],
            "text/plain": [
              "recommendations finished on 34000/160377 queries. users per second: 289.881"
            ]
          },
          "metadata": {
            "tags": []
          }
        },
        {
          "output_type": "display_data",
          "data": {
            "text/html": [
              "<pre>recommendations finished on 35000/160377 queries. users per second: 289.867</pre>"
            ],
            "text/plain": [
              "recommendations finished on 35000/160377 queries. users per second: 289.867"
            ]
          },
          "metadata": {
            "tags": []
          }
        },
        {
          "output_type": "display_data",
          "data": {
            "text/html": [
              "<pre>recommendations finished on 36000/160377 queries. users per second: 289.884</pre>"
            ],
            "text/plain": [
              "recommendations finished on 36000/160377 queries. users per second: 289.884"
            ]
          },
          "metadata": {
            "tags": []
          }
        },
        {
          "output_type": "display_data",
          "data": {
            "text/html": [
              "<pre>recommendations finished on 37000/160377 queries. users per second: 289.874</pre>"
            ],
            "text/plain": [
              "recommendations finished on 37000/160377 queries. users per second: 289.874"
            ]
          },
          "metadata": {
            "tags": []
          }
        },
        {
          "output_type": "display_data",
          "data": {
            "text/html": [
              "<pre>recommendations finished on 38000/160377 queries. users per second: 289.832</pre>"
            ],
            "text/plain": [
              "recommendations finished on 38000/160377 queries. users per second: 289.832"
            ]
          },
          "metadata": {
            "tags": []
          }
        },
        {
          "output_type": "display_data",
          "data": {
            "text/html": [
              "<pre>recommendations finished on 39000/160377 queries. users per second: 289.869</pre>"
            ],
            "text/plain": [
              "recommendations finished on 39000/160377 queries. users per second: 289.869"
            ]
          },
          "metadata": {
            "tags": []
          }
        },
        {
          "output_type": "display_data",
          "data": {
            "text/html": [
              "<pre>recommendations finished on 40000/160377 queries. users per second: 289.87</pre>"
            ],
            "text/plain": [
              "recommendations finished on 40000/160377 queries. users per second: 289.87"
            ]
          },
          "metadata": {
            "tags": []
          }
        },
        {
          "output_type": "display_data",
          "data": {
            "text/html": [
              "<pre>recommendations finished on 41000/160377 queries. users per second: 289.844</pre>"
            ],
            "text/plain": [
              "recommendations finished on 41000/160377 queries. users per second: 289.844"
            ]
          },
          "metadata": {
            "tags": []
          }
        },
        {
          "output_type": "display_data",
          "data": {
            "text/html": [
              "<pre>recommendations finished on 42000/160377 queries. users per second: 289.781</pre>"
            ],
            "text/plain": [
              "recommendations finished on 42000/160377 queries. users per second: 289.781"
            ]
          },
          "metadata": {
            "tags": []
          }
        },
        {
          "output_type": "display_data",
          "data": {
            "text/html": [
              "<pre>recommendations finished on 43000/160377 queries. users per second: 289.757</pre>"
            ],
            "text/plain": [
              "recommendations finished on 43000/160377 queries. users per second: 289.757"
            ]
          },
          "metadata": {
            "tags": []
          }
        },
        {
          "output_type": "display_data",
          "data": {
            "text/html": [
              "<pre>recommendations finished on 44000/160377 queries. users per second: 289.795</pre>"
            ],
            "text/plain": [
              "recommendations finished on 44000/160377 queries. users per second: 289.795"
            ]
          },
          "metadata": {
            "tags": []
          }
        },
        {
          "output_type": "display_data",
          "data": {
            "text/html": [
              "<pre>recommendations finished on 45000/160377 queries. users per second: 289.801</pre>"
            ],
            "text/plain": [
              "recommendations finished on 45000/160377 queries. users per second: 289.801"
            ]
          },
          "metadata": {
            "tags": []
          }
        },
        {
          "output_type": "display_data",
          "data": {
            "text/html": [
              "<pre>recommendations finished on 46000/160377 queries. users per second: 289.804</pre>"
            ],
            "text/plain": [
              "recommendations finished on 46000/160377 queries. users per second: 289.804"
            ]
          },
          "metadata": {
            "tags": []
          }
        },
        {
          "output_type": "display_data",
          "data": {
            "text/html": [
              "<pre>recommendations finished on 47000/160377 queries. users per second: 289.835</pre>"
            ],
            "text/plain": [
              "recommendations finished on 47000/160377 queries. users per second: 289.835"
            ]
          },
          "metadata": {
            "tags": []
          }
        },
        {
          "output_type": "display_data",
          "data": {
            "text/html": [
              "<pre>recommendations finished on 48000/160377 queries. users per second: 289.812</pre>"
            ],
            "text/plain": [
              "recommendations finished on 48000/160377 queries. users per second: 289.812"
            ]
          },
          "metadata": {
            "tags": []
          }
        },
        {
          "output_type": "display_data",
          "data": {
            "text/html": [
              "<pre>recommendations finished on 49000/160377 queries. users per second: 289.832</pre>"
            ],
            "text/plain": [
              "recommendations finished on 49000/160377 queries. users per second: 289.832"
            ]
          },
          "metadata": {
            "tags": []
          }
        },
        {
          "output_type": "display_data",
          "data": {
            "text/html": [
              "<pre>recommendations finished on 50000/160377 queries. users per second: 289.81</pre>"
            ],
            "text/plain": [
              "recommendations finished on 50000/160377 queries. users per second: 289.81"
            ]
          },
          "metadata": {
            "tags": []
          }
        },
        {
          "output_type": "display_data",
          "data": {
            "text/html": [
              "<pre>recommendations finished on 51000/160377 queries. users per second: 289.795</pre>"
            ],
            "text/plain": [
              "recommendations finished on 51000/160377 queries. users per second: 289.795"
            ]
          },
          "metadata": {
            "tags": []
          }
        },
        {
          "output_type": "display_data",
          "data": {
            "text/html": [
              "<pre>recommendations finished on 52000/160377 queries. users per second: 289.822</pre>"
            ],
            "text/plain": [
              "recommendations finished on 52000/160377 queries. users per second: 289.822"
            ]
          },
          "metadata": {
            "tags": []
          }
        },
        {
          "output_type": "display_data",
          "data": {
            "text/html": [
              "<pre>recommendations finished on 53000/160377 queries. users per second: 289.829</pre>"
            ],
            "text/plain": [
              "recommendations finished on 53000/160377 queries. users per second: 289.829"
            ]
          },
          "metadata": {
            "tags": []
          }
        },
        {
          "output_type": "display_data",
          "data": {
            "text/html": [
              "<pre>recommendations finished on 54000/160377 queries. users per second: 289.827</pre>"
            ],
            "text/plain": [
              "recommendations finished on 54000/160377 queries. users per second: 289.827"
            ]
          },
          "metadata": {
            "tags": []
          }
        },
        {
          "output_type": "display_data",
          "data": {
            "text/html": [
              "<pre>recommendations finished on 55000/160377 queries. users per second: 289.841</pre>"
            ],
            "text/plain": [
              "recommendations finished on 55000/160377 queries. users per second: 289.841"
            ]
          },
          "metadata": {
            "tags": []
          }
        },
        {
          "output_type": "display_data",
          "data": {
            "text/html": [
              "<pre>recommendations finished on 56000/160377 queries. users per second: 289.86</pre>"
            ],
            "text/plain": [
              "recommendations finished on 56000/160377 queries. users per second: 289.86"
            ]
          },
          "metadata": {
            "tags": []
          }
        },
        {
          "output_type": "display_data",
          "data": {
            "text/html": [
              "<pre>recommendations finished on 57000/160377 queries. users per second: 289.872</pre>"
            ],
            "text/plain": [
              "recommendations finished on 57000/160377 queries. users per second: 289.872"
            ]
          },
          "metadata": {
            "tags": []
          }
        },
        {
          "output_type": "display_data",
          "data": {
            "text/html": [
              "<pre>recommendations finished on 58000/160377 queries. users per second: 289.855</pre>"
            ],
            "text/plain": [
              "recommendations finished on 58000/160377 queries. users per second: 289.855"
            ]
          },
          "metadata": {
            "tags": []
          }
        },
        {
          "output_type": "display_data",
          "data": {
            "text/html": [
              "<pre>recommendations finished on 59000/160377 queries. users per second: 289.836</pre>"
            ],
            "text/plain": [
              "recommendations finished on 59000/160377 queries. users per second: 289.836"
            ]
          },
          "metadata": {
            "tags": []
          }
        },
        {
          "output_type": "display_data",
          "data": {
            "text/html": [
              "<pre>recommendations finished on 60000/160377 queries. users per second: 289.831</pre>"
            ],
            "text/plain": [
              "recommendations finished on 60000/160377 queries. users per second: 289.831"
            ]
          },
          "metadata": {
            "tags": []
          }
        },
        {
          "output_type": "display_data",
          "data": {
            "text/html": [
              "<pre>recommendations finished on 61000/160377 queries. users per second: 289.826</pre>"
            ],
            "text/plain": [
              "recommendations finished on 61000/160377 queries. users per second: 289.826"
            ]
          },
          "metadata": {
            "tags": []
          }
        },
        {
          "output_type": "display_data",
          "data": {
            "text/html": [
              "<pre>recommendations finished on 62000/160377 queries. users per second: 289.818</pre>"
            ],
            "text/plain": [
              "recommendations finished on 62000/160377 queries. users per second: 289.818"
            ]
          },
          "metadata": {
            "tags": []
          }
        },
        {
          "output_type": "display_data",
          "data": {
            "text/html": [
              "<pre>recommendations finished on 63000/160377 queries. users per second: 289.813</pre>"
            ],
            "text/plain": [
              "recommendations finished on 63000/160377 queries. users per second: 289.813"
            ]
          },
          "metadata": {
            "tags": []
          }
        },
        {
          "output_type": "display_data",
          "data": {
            "text/html": [
              "<pre>recommendations finished on 64000/160377 queries. users per second: 289.818</pre>"
            ],
            "text/plain": [
              "recommendations finished on 64000/160377 queries. users per second: 289.818"
            ]
          },
          "metadata": {
            "tags": []
          }
        },
        {
          "output_type": "display_data",
          "data": {
            "text/html": [
              "<pre>recommendations finished on 65000/160377 queries. users per second: 289.833</pre>"
            ],
            "text/plain": [
              "recommendations finished on 65000/160377 queries. users per second: 289.833"
            ]
          },
          "metadata": {
            "tags": []
          }
        },
        {
          "output_type": "display_data",
          "data": {
            "text/html": [
              "<pre>recommendations finished on 66000/160377 queries. users per second: 289.828</pre>"
            ],
            "text/plain": [
              "recommendations finished on 66000/160377 queries. users per second: 289.828"
            ]
          },
          "metadata": {
            "tags": []
          }
        },
        {
          "output_type": "display_data",
          "data": {
            "text/html": [
              "<pre>recommendations finished on 67000/160377 queries. users per second: 289.831</pre>"
            ],
            "text/plain": [
              "recommendations finished on 67000/160377 queries. users per second: 289.831"
            ]
          },
          "metadata": {
            "tags": []
          }
        },
        {
          "output_type": "display_data",
          "data": {
            "text/html": [
              "<pre>recommendations finished on 68000/160377 queries. users per second: 289.794</pre>"
            ],
            "text/plain": [
              "recommendations finished on 68000/160377 queries. users per second: 289.794"
            ]
          },
          "metadata": {
            "tags": []
          }
        },
        {
          "output_type": "display_data",
          "data": {
            "text/html": [
              "<pre>recommendations finished on 69000/160377 queries. users per second: 289.804</pre>"
            ],
            "text/plain": [
              "recommendations finished on 69000/160377 queries. users per second: 289.804"
            ]
          },
          "metadata": {
            "tags": []
          }
        },
        {
          "output_type": "display_data",
          "data": {
            "text/html": [
              "<pre>recommendations finished on 70000/160377 queries. users per second: 289.822</pre>"
            ],
            "text/plain": [
              "recommendations finished on 70000/160377 queries. users per second: 289.822"
            ]
          },
          "metadata": {
            "tags": []
          }
        },
        {
          "output_type": "display_data",
          "data": {
            "text/html": [
              "<pre>recommendations finished on 71000/160377 queries. users per second: 289.848</pre>"
            ],
            "text/plain": [
              "recommendations finished on 71000/160377 queries. users per second: 289.848"
            ]
          },
          "metadata": {
            "tags": []
          }
        },
        {
          "output_type": "display_data",
          "data": {
            "text/html": [
              "<pre>recommendations finished on 72000/160377 queries. users per second: 289.846</pre>"
            ],
            "text/plain": [
              "recommendations finished on 72000/160377 queries. users per second: 289.846"
            ]
          },
          "metadata": {
            "tags": []
          }
        },
        {
          "output_type": "display_data",
          "data": {
            "text/html": [
              "<pre>recommendations finished on 73000/160377 queries. users per second: 289.84</pre>"
            ],
            "text/plain": [
              "recommendations finished on 73000/160377 queries. users per second: 289.84"
            ]
          },
          "metadata": {
            "tags": []
          }
        },
        {
          "output_type": "display_data",
          "data": {
            "text/html": [
              "<pre>recommendations finished on 74000/160377 queries. users per second: 289.844</pre>"
            ],
            "text/plain": [
              "recommendations finished on 74000/160377 queries. users per second: 289.844"
            ]
          },
          "metadata": {
            "tags": []
          }
        },
        {
          "output_type": "display_data",
          "data": {
            "text/html": [
              "<pre>recommendations finished on 75000/160377 queries. users per second: 289.824</pre>"
            ],
            "text/plain": [
              "recommendations finished on 75000/160377 queries. users per second: 289.824"
            ]
          },
          "metadata": {
            "tags": []
          }
        },
        {
          "output_type": "display_data",
          "data": {
            "text/html": [
              "<pre>recommendations finished on 76000/160377 queries. users per second: 289.799</pre>"
            ],
            "text/plain": [
              "recommendations finished on 76000/160377 queries. users per second: 289.799"
            ]
          },
          "metadata": {
            "tags": []
          }
        },
        {
          "output_type": "display_data",
          "data": {
            "text/html": [
              "<pre>recommendations finished on 77000/160377 queries. users per second: 289.806</pre>"
            ],
            "text/plain": [
              "recommendations finished on 77000/160377 queries. users per second: 289.806"
            ]
          },
          "metadata": {
            "tags": []
          }
        },
        {
          "output_type": "display_data",
          "data": {
            "text/html": [
              "<pre>recommendations finished on 78000/160377 queries. users per second: 289.796</pre>"
            ],
            "text/plain": [
              "recommendations finished on 78000/160377 queries. users per second: 289.796"
            ]
          },
          "metadata": {
            "tags": []
          }
        },
        {
          "output_type": "display_data",
          "data": {
            "text/html": [
              "<pre>recommendations finished on 79000/160377 queries. users per second: 289.783</pre>"
            ],
            "text/plain": [
              "recommendations finished on 79000/160377 queries. users per second: 289.783"
            ]
          },
          "metadata": {
            "tags": []
          }
        },
        {
          "output_type": "display_data",
          "data": {
            "text/html": [
              "<pre>recommendations finished on 80000/160377 queries. users per second: 289.782</pre>"
            ],
            "text/plain": [
              "recommendations finished on 80000/160377 queries. users per second: 289.782"
            ]
          },
          "metadata": {
            "tags": []
          }
        },
        {
          "output_type": "display_data",
          "data": {
            "text/html": [
              "<pre>recommendations finished on 81000/160377 queries. users per second: 289.77</pre>"
            ],
            "text/plain": [
              "recommendations finished on 81000/160377 queries. users per second: 289.77"
            ]
          },
          "metadata": {
            "tags": []
          }
        },
        {
          "output_type": "display_data",
          "data": {
            "text/html": [
              "<pre>recommendations finished on 82000/160377 queries. users per second: 289.774</pre>"
            ],
            "text/plain": [
              "recommendations finished on 82000/160377 queries. users per second: 289.774"
            ]
          },
          "metadata": {
            "tags": []
          }
        },
        {
          "output_type": "display_data",
          "data": {
            "text/html": [
              "<pre>recommendations finished on 83000/160377 queries. users per second: 289.765</pre>"
            ],
            "text/plain": [
              "recommendations finished on 83000/160377 queries. users per second: 289.765"
            ]
          },
          "metadata": {
            "tags": []
          }
        },
        {
          "output_type": "display_data",
          "data": {
            "text/html": [
              "<pre>recommendations finished on 84000/160377 queries. users per second: 289.773</pre>"
            ],
            "text/plain": [
              "recommendations finished on 84000/160377 queries. users per second: 289.773"
            ]
          },
          "metadata": {
            "tags": []
          }
        },
        {
          "output_type": "display_data",
          "data": {
            "text/html": [
              "<pre>recommendations finished on 85000/160377 queries. users per second: 289.771</pre>"
            ],
            "text/plain": [
              "recommendations finished on 85000/160377 queries. users per second: 289.771"
            ]
          },
          "metadata": {
            "tags": []
          }
        },
        {
          "output_type": "display_data",
          "data": {
            "text/html": [
              "<pre>recommendations finished on 86000/160377 queries. users per second: 289.773</pre>"
            ],
            "text/plain": [
              "recommendations finished on 86000/160377 queries. users per second: 289.773"
            ]
          },
          "metadata": {
            "tags": []
          }
        },
        {
          "output_type": "display_data",
          "data": {
            "text/html": [
              "<pre>recommendations finished on 87000/160377 queries. users per second: 289.771</pre>"
            ],
            "text/plain": [
              "recommendations finished on 87000/160377 queries. users per second: 289.771"
            ]
          },
          "metadata": {
            "tags": []
          }
        },
        {
          "output_type": "display_data",
          "data": {
            "text/html": [
              "<pre>recommendations finished on 88000/160377 queries. users per second: 289.765</pre>"
            ],
            "text/plain": [
              "recommendations finished on 88000/160377 queries. users per second: 289.765"
            ]
          },
          "metadata": {
            "tags": []
          }
        },
        {
          "output_type": "display_data",
          "data": {
            "text/html": [
              "<pre>recommendations finished on 89000/160377 queries. users per second: 289.782</pre>"
            ],
            "text/plain": [
              "recommendations finished on 89000/160377 queries. users per second: 289.782"
            ]
          },
          "metadata": {
            "tags": []
          }
        },
        {
          "output_type": "display_data",
          "data": {
            "text/html": [
              "<pre>recommendations finished on 90000/160377 queries. users per second: 289.779</pre>"
            ],
            "text/plain": [
              "recommendations finished on 90000/160377 queries. users per second: 289.779"
            ]
          },
          "metadata": {
            "tags": []
          }
        },
        {
          "output_type": "display_data",
          "data": {
            "text/html": [
              "<pre>recommendations finished on 91000/160377 queries. users per second: 289.772</pre>"
            ],
            "text/plain": [
              "recommendations finished on 91000/160377 queries. users per second: 289.772"
            ]
          },
          "metadata": {
            "tags": []
          }
        },
        {
          "output_type": "display_data",
          "data": {
            "text/html": [
              "<pre>recommendations finished on 92000/160377 queries. users per second: 289.771</pre>"
            ],
            "text/plain": [
              "recommendations finished on 92000/160377 queries. users per second: 289.771"
            ]
          },
          "metadata": {
            "tags": []
          }
        },
        {
          "output_type": "display_data",
          "data": {
            "text/html": [
              "<pre>recommendations finished on 93000/160377 queries. users per second: 289.774</pre>"
            ],
            "text/plain": [
              "recommendations finished on 93000/160377 queries. users per second: 289.774"
            ]
          },
          "metadata": {
            "tags": []
          }
        },
        {
          "output_type": "display_data",
          "data": {
            "text/html": [
              "<pre>recommendations finished on 94000/160377 queries. users per second: 289.769</pre>"
            ],
            "text/plain": [
              "recommendations finished on 94000/160377 queries. users per second: 289.769"
            ]
          },
          "metadata": {
            "tags": []
          }
        },
        {
          "output_type": "display_data",
          "data": {
            "text/html": [
              "<pre>recommendations finished on 95000/160377 queries. users per second: 289.755</pre>"
            ],
            "text/plain": [
              "recommendations finished on 95000/160377 queries. users per second: 289.755"
            ]
          },
          "metadata": {
            "tags": []
          }
        },
        {
          "output_type": "display_data",
          "data": {
            "text/html": [
              "<pre>recommendations finished on 96000/160377 queries. users per second: 289.766</pre>"
            ],
            "text/plain": [
              "recommendations finished on 96000/160377 queries. users per second: 289.766"
            ]
          },
          "metadata": {
            "tags": []
          }
        },
        {
          "output_type": "display_data",
          "data": {
            "text/html": [
              "<pre>recommendations finished on 97000/160377 queries. users per second: 289.767</pre>"
            ],
            "text/plain": [
              "recommendations finished on 97000/160377 queries. users per second: 289.767"
            ]
          },
          "metadata": {
            "tags": []
          }
        },
        {
          "output_type": "display_data",
          "data": {
            "text/html": [
              "<pre>recommendations finished on 98000/160377 queries. users per second: 289.755</pre>"
            ],
            "text/plain": [
              "recommendations finished on 98000/160377 queries. users per second: 289.755"
            ]
          },
          "metadata": {
            "tags": []
          }
        },
        {
          "output_type": "display_data",
          "data": {
            "text/html": [
              "<pre>recommendations finished on 99000/160377 queries. users per second: 289.745</pre>"
            ],
            "text/plain": [
              "recommendations finished on 99000/160377 queries. users per second: 289.745"
            ]
          },
          "metadata": {
            "tags": []
          }
        },
        {
          "output_type": "display_data",
          "data": {
            "text/html": [
              "<pre>recommendations finished on 100000/160377 queries. users per second: 289.739</pre>"
            ],
            "text/plain": [
              "recommendations finished on 100000/160377 queries. users per second: 289.739"
            ]
          },
          "metadata": {
            "tags": []
          }
        },
        {
          "output_type": "display_data",
          "data": {
            "text/html": [
              "<pre>recommendations finished on 101000/160377 queries. users per second: 289.734</pre>"
            ],
            "text/plain": [
              "recommendations finished on 101000/160377 queries. users per second: 289.734"
            ]
          },
          "metadata": {
            "tags": []
          }
        },
        {
          "output_type": "display_data",
          "data": {
            "text/html": [
              "<pre>recommendations finished on 102000/160377 queries. users per second: 289.75</pre>"
            ],
            "text/plain": [
              "recommendations finished on 102000/160377 queries. users per second: 289.75"
            ]
          },
          "metadata": {
            "tags": []
          }
        },
        {
          "output_type": "display_data",
          "data": {
            "text/html": [
              "<pre>recommendations finished on 103000/160377 queries. users per second: 289.731</pre>"
            ],
            "text/plain": [
              "recommendations finished on 103000/160377 queries. users per second: 289.731"
            ]
          },
          "metadata": {
            "tags": []
          }
        },
        {
          "output_type": "display_data",
          "data": {
            "text/html": [
              "<pre>recommendations finished on 104000/160377 queries. users per second: 289.738</pre>"
            ],
            "text/plain": [
              "recommendations finished on 104000/160377 queries. users per second: 289.738"
            ]
          },
          "metadata": {
            "tags": []
          }
        },
        {
          "output_type": "display_data",
          "data": {
            "text/html": [
              "<pre>recommendations finished on 105000/160377 queries. users per second: 289.732</pre>"
            ],
            "text/plain": [
              "recommendations finished on 105000/160377 queries. users per second: 289.732"
            ]
          },
          "metadata": {
            "tags": []
          }
        },
        {
          "output_type": "display_data",
          "data": {
            "text/html": [
              "<pre>recommendations finished on 106000/160377 queries. users per second: 289.729</pre>"
            ],
            "text/plain": [
              "recommendations finished on 106000/160377 queries. users per second: 289.729"
            ]
          },
          "metadata": {
            "tags": []
          }
        },
        {
          "output_type": "display_data",
          "data": {
            "text/html": [
              "<pre>recommendations finished on 107000/160377 queries. users per second: 289.723</pre>"
            ],
            "text/plain": [
              "recommendations finished on 107000/160377 queries. users per second: 289.723"
            ]
          },
          "metadata": {
            "tags": []
          }
        },
        {
          "output_type": "display_data",
          "data": {
            "text/html": [
              "<pre>recommendations finished on 108000/160377 queries. users per second: 289.715</pre>"
            ],
            "text/plain": [
              "recommendations finished on 108000/160377 queries. users per second: 289.715"
            ]
          },
          "metadata": {
            "tags": []
          }
        },
        {
          "output_type": "display_data",
          "data": {
            "text/html": [
              "<pre>recommendations finished on 109000/160377 queries. users per second: 289.72</pre>"
            ],
            "text/plain": [
              "recommendations finished on 109000/160377 queries. users per second: 289.72"
            ]
          },
          "metadata": {
            "tags": []
          }
        },
        {
          "output_type": "display_data",
          "data": {
            "text/html": [
              "<pre>recommendations finished on 110000/160377 queries. users per second: 289.716</pre>"
            ],
            "text/plain": [
              "recommendations finished on 110000/160377 queries. users per second: 289.716"
            ]
          },
          "metadata": {
            "tags": []
          }
        },
        {
          "output_type": "display_data",
          "data": {
            "text/html": [
              "<pre>recommendations finished on 111000/160377 queries. users per second: 289.701</pre>"
            ],
            "text/plain": [
              "recommendations finished on 111000/160377 queries. users per second: 289.701"
            ]
          },
          "metadata": {
            "tags": []
          }
        },
        {
          "output_type": "display_data",
          "data": {
            "text/html": [
              "<pre>recommendations finished on 112000/160377 queries. users per second: 289.699</pre>"
            ],
            "text/plain": [
              "recommendations finished on 112000/160377 queries. users per second: 289.699"
            ]
          },
          "metadata": {
            "tags": []
          }
        },
        {
          "output_type": "display_data",
          "data": {
            "text/html": [
              "<pre>recommendations finished on 113000/160377 queries. users per second: 289.691</pre>"
            ],
            "text/plain": [
              "recommendations finished on 113000/160377 queries. users per second: 289.691"
            ]
          },
          "metadata": {
            "tags": []
          }
        },
        {
          "output_type": "display_data",
          "data": {
            "text/html": [
              "<pre>recommendations finished on 114000/160377 queries. users per second: 289.695</pre>"
            ],
            "text/plain": [
              "recommendations finished on 114000/160377 queries. users per second: 289.695"
            ]
          },
          "metadata": {
            "tags": []
          }
        },
        {
          "output_type": "display_data",
          "data": {
            "text/html": [
              "<pre>recommendations finished on 115000/160377 queries. users per second: 289.696</pre>"
            ],
            "text/plain": [
              "recommendations finished on 115000/160377 queries. users per second: 289.696"
            ]
          },
          "metadata": {
            "tags": []
          }
        },
        {
          "output_type": "display_data",
          "data": {
            "text/html": [
              "<pre>recommendations finished on 116000/160377 queries. users per second: 289.687</pre>"
            ],
            "text/plain": [
              "recommendations finished on 116000/160377 queries. users per second: 289.687"
            ]
          },
          "metadata": {
            "tags": []
          }
        },
        {
          "output_type": "display_data",
          "data": {
            "text/html": [
              "<pre>recommendations finished on 117000/160377 queries. users per second: 289.692</pre>"
            ],
            "text/plain": [
              "recommendations finished on 117000/160377 queries. users per second: 289.692"
            ]
          },
          "metadata": {
            "tags": []
          }
        },
        {
          "output_type": "display_data",
          "data": {
            "text/html": [
              "<pre>recommendations finished on 118000/160377 queries. users per second: 289.687</pre>"
            ],
            "text/plain": [
              "recommendations finished on 118000/160377 queries. users per second: 289.687"
            ]
          },
          "metadata": {
            "tags": []
          }
        },
        {
          "output_type": "display_data",
          "data": {
            "text/html": [
              "<pre>recommendations finished on 119000/160377 queries. users per second: 289.689</pre>"
            ],
            "text/plain": [
              "recommendations finished on 119000/160377 queries. users per second: 289.689"
            ]
          },
          "metadata": {
            "tags": []
          }
        },
        {
          "output_type": "display_data",
          "data": {
            "text/html": [
              "<pre>recommendations finished on 120000/160377 queries. users per second: 289.681</pre>"
            ],
            "text/plain": [
              "recommendations finished on 120000/160377 queries. users per second: 289.681"
            ]
          },
          "metadata": {
            "tags": []
          }
        },
        {
          "output_type": "display_data",
          "data": {
            "text/html": [
              "<pre>recommendations finished on 121000/160377 queries. users per second: 289.664</pre>"
            ],
            "text/plain": [
              "recommendations finished on 121000/160377 queries. users per second: 289.664"
            ]
          },
          "metadata": {
            "tags": []
          }
        },
        {
          "output_type": "display_data",
          "data": {
            "text/html": [
              "<pre>recommendations finished on 122000/160377 queries. users per second: 289.673</pre>"
            ],
            "text/plain": [
              "recommendations finished on 122000/160377 queries. users per second: 289.673"
            ]
          },
          "metadata": {
            "tags": []
          }
        },
        {
          "output_type": "display_data",
          "data": {
            "text/html": [
              "<pre>recommendations finished on 123000/160377 queries. users per second: 289.669</pre>"
            ],
            "text/plain": [
              "recommendations finished on 123000/160377 queries. users per second: 289.669"
            ]
          },
          "metadata": {
            "tags": []
          }
        },
        {
          "output_type": "display_data",
          "data": {
            "text/html": [
              "<pre>recommendations finished on 124000/160377 queries. users per second: 289.663</pre>"
            ],
            "text/plain": [
              "recommendations finished on 124000/160377 queries. users per second: 289.663"
            ]
          },
          "metadata": {
            "tags": []
          }
        },
        {
          "output_type": "display_data",
          "data": {
            "text/html": [
              "<pre>recommendations finished on 125000/160377 queries. users per second: 289.661</pre>"
            ],
            "text/plain": [
              "recommendations finished on 125000/160377 queries. users per second: 289.661"
            ]
          },
          "metadata": {
            "tags": []
          }
        },
        {
          "output_type": "display_data",
          "data": {
            "text/html": [
              "<pre>recommendations finished on 126000/160377 queries. users per second: 289.652</pre>"
            ],
            "text/plain": [
              "recommendations finished on 126000/160377 queries. users per second: 289.652"
            ]
          },
          "metadata": {
            "tags": []
          }
        },
        {
          "output_type": "display_data",
          "data": {
            "text/html": [
              "<pre>recommendations finished on 127000/160377 queries. users per second: 289.657</pre>"
            ],
            "text/plain": [
              "recommendations finished on 127000/160377 queries. users per second: 289.657"
            ]
          },
          "metadata": {
            "tags": []
          }
        },
        {
          "output_type": "display_data",
          "data": {
            "text/html": [
              "<pre>recommendations finished on 128000/160377 queries. users per second: 289.648</pre>"
            ],
            "text/plain": [
              "recommendations finished on 128000/160377 queries. users per second: 289.648"
            ]
          },
          "metadata": {
            "tags": []
          }
        },
        {
          "output_type": "display_data",
          "data": {
            "text/html": [
              "<pre>recommendations finished on 129000/160377 queries. users per second: 289.633</pre>"
            ],
            "text/plain": [
              "recommendations finished on 129000/160377 queries. users per second: 289.633"
            ]
          },
          "metadata": {
            "tags": []
          }
        },
        {
          "output_type": "display_data",
          "data": {
            "text/html": [
              "<pre>recommendations finished on 130000/160377 queries. users per second: 289.626</pre>"
            ],
            "text/plain": [
              "recommendations finished on 130000/160377 queries. users per second: 289.626"
            ]
          },
          "metadata": {
            "tags": []
          }
        },
        {
          "output_type": "display_data",
          "data": {
            "text/html": [
              "<pre>recommendations finished on 131000/160377 queries. users per second: 289.619</pre>"
            ],
            "text/plain": [
              "recommendations finished on 131000/160377 queries. users per second: 289.619"
            ]
          },
          "metadata": {
            "tags": []
          }
        },
        {
          "output_type": "display_data",
          "data": {
            "text/html": [
              "<pre>recommendations finished on 132000/160377 queries. users per second: 289.599</pre>"
            ],
            "text/plain": [
              "recommendations finished on 132000/160377 queries. users per second: 289.599"
            ]
          },
          "metadata": {
            "tags": []
          }
        },
        {
          "output_type": "display_data",
          "data": {
            "text/html": [
              "<pre>recommendations finished on 133000/160377 queries. users per second: 289.602</pre>"
            ],
            "text/plain": [
              "recommendations finished on 133000/160377 queries. users per second: 289.602"
            ]
          },
          "metadata": {
            "tags": []
          }
        },
        {
          "output_type": "display_data",
          "data": {
            "text/html": [
              "<pre>recommendations finished on 134000/160377 queries. users per second: 289.59</pre>"
            ],
            "text/plain": [
              "recommendations finished on 134000/160377 queries. users per second: 289.59"
            ]
          },
          "metadata": {
            "tags": []
          }
        },
        {
          "output_type": "display_data",
          "data": {
            "text/html": [
              "<pre>recommendations finished on 135000/160377 queries. users per second: 289.595</pre>"
            ],
            "text/plain": [
              "recommendations finished on 135000/160377 queries. users per second: 289.595"
            ]
          },
          "metadata": {
            "tags": []
          }
        },
        {
          "output_type": "display_data",
          "data": {
            "text/html": [
              "<pre>recommendations finished on 136000/160377 queries. users per second: 289.581</pre>"
            ],
            "text/plain": [
              "recommendations finished on 136000/160377 queries. users per second: 289.581"
            ]
          },
          "metadata": {
            "tags": []
          }
        },
        {
          "output_type": "display_data",
          "data": {
            "text/html": [
              "<pre>recommendations finished on 137000/160377 queries. users per second: 289.577</pre>"
            ],
            "text/plain": [
              "recommendations finished on 137000/160377 queries. users per second: 289.577"
            ]
          },
          "metadata": {
            "tags": []
          }
        },
        {
          "output_type": "display_data",
          "data": {
            "text/html": [
              "<pre>recommendations finished on 138000/160377 queries. users per second: 289.558</pre>"
            ],
            "text/plain": [
              "recommendations finished on 138000/160377 queries. users per second: 289.558"
            ]
          },
          "metadata": {
            "tags": []
          }
        },
        {
          "output_type": "display_data",
          "data": {
            "text/html": [
              "<pre>recommendations finished on 139000/160377 queries. users per second: 289.559</pre>"
            ],
            "text/plain": [
              "recommendations finished on 139000/160377 queries. users per second: 289.559"
            ]
          },
          "metadata": {
            "tags": []
          }
        },
        {
          "output_type": "display_data",
          "data": {
            "text/html": [
              "<pre>recommendations finished on 140000/160377 queries. users per second: 289.555</pre>"
            ],
            "text/plain": [
              "recommendations finished on 140000/160377 queries. users per second: 289.555"
            ]
          },
          "metadata": {
            "tags": []
          }
        },
        {
          "output_type": "display_data",
          "data": {
            "text/html": [
              "<pre>recommendations finished on 141000/160377 queries. users per second: 289.551</pre>"
            ],
            "text/plain": [
              "recommendations finished on 141000/160377 queries. users per second: 289.551"
            ]
          },
          "metadata": {
            "tags": []
          }
        },
        {
          "output_type": "display_data",
          "data": {
            "text/html": [
              "<pre>recommendations finished on 142000/160377 queries. users per second: 289.556</pre>"
            ],
            "text/plain": [
              "recommendations finished on 142000/160377 queries. users per second: 289.556"
            ]
          },
          "metadata": {
            "tags": []
          }
        },
        {
          "output_type": "display_data",
          "data": {
            "text/html": [
              "<pre>recommendations finished on 143000/160377 queries. users per second: 289.561</pre>"
            ],
            "text/plain": [
              "recommendations finished on 143000/160377 queries. users per second: 289.561"
            ]
          },
          "metadata": {
            "tags": []
          }
        },
        {
          "output_type": "display_data",
          "data": {
            "text/html": [
              "<pre>recommendations finished on 144000/160377 queries. users per second: 289.559</pre>"
            ],
            "text/plain": [
              "recommendations finished on 144000/160377 queries. users per second: 289.559"
            ]
          },
          "metadata": {
            "tags": []
          }
        },
        {
          "output_type": "display_data",
          "data": {
            "text/html": [
              "<pre>recommendations finished on 145000/160377 queries. users per second: 289.547</pre>"
            ],
            "text/plain": [
              "recommendations finished on 145000/160377 queries. users per second: 289.547"
            ]
          },
          "metadata": {
            "tags": []
          }
        },
        {
          "output_type": "display_data",
          "data": {
            "text/html": [
              "<pre>recommendations finished on 146000/160377 queries. users per second: 289.545</pre>"
            ],
            "text/plain": [
              "recommendations finished on 146000/160377 queries. users per second: 289.545"
            ]
          },
          "metadata": {
            "tags": []
          }
        },
        {
          "output_type": "display_data",
          "data": {
            "text/html": [
              "<pre>recommendations finished on 147000/160377 queries. users per second: 289.546</pre>"
            ],
            "text/plain": [
              "recommendations finished on 147000/160377 queries. users per second: 289.546"
            ]
          },
          "metadata": {
            "tags": []
          }
        },
        {
          "output_type": "display_data",
          "data": {
            "text/html": [
              "<pre>recommendations finished on 148000/160377 queries. users per second: 289.532</pre>"
            ],
            "text/plain": [
              "recommendations finished on 148000/160377 queries. users per second: 289.532"
            ]
          },
          "metadata": {
            "tags": []
          }
        },
        {
          "output_type": "display_data",
          "data": {
            "text/html": [
              "<pre>recommendations finished on 149000/160377 queries. users per second: 289.533</pre>"
            ],
            "text/plain": [
              "recommendations finished on 149000/160377 queries. users per second: 289.533"
            ]
          },
          "metadata": {
            "tags": []
          }
        },
        {
          "output_type": "display_data",
          "data": {
            "text/html": [
              "<pre>recommendations finished on 150000/160377 queries. users per second: 289.539</pre>"
            ],
            "text/plain": [
              "recommendations finished on 150000/160377 queries. users per second: 289.539"
            ]
          },
          "metadata": {
            "tags": []
          }
        },
        {
          "output_type": "display_data",
          "data": {
            "text/html": [
              "<pre>recommendations finished on 151000/160377 queries. users per second: 289.535</pre>"
            ],
            "text/plain": [
              "recommendations finished on 151000/160377 queries. users per second: 289.535"
            ]
          },
          "metadata": {
            "tags": []
          }
        },
        {
          "output_type": "display_data",
          "data": {
            "text/html": [
              "<pre>recommendations finished on 152000/160377 queries. users per second: 289.532</pre>"
            ],
            "text/plain": [
              "recommendations finished on 152000/160377 queries. users per second: 289.532"
            ]
          },
          "metadata": {
            "tags": []
          }
        },
        {
          "output_type": "display_data",
          "data": {
            "text/html": [
              "<pre>recommendations finished on 153000/160377 queries. users per second: 289.536</pre>"
            ],
            "text/plain": [
              "recommendations finished on 153000/160377 queries. users per second: 289.536"
            ]
          },
          "metadata": {
            "tags": []
          }
        },
        {
          "output_type": "display_data",
          "data": {
            "text/html": [
              "<pre>recommendations finished on 154000/160377 queries. users per second: 289.528</pre>"
            ],
            "text/plain": [
              "recommendations finished on 154000/160377 queries. users per second: 289.528"
            ]
          },
          "metadata": {
            "tags": []
          }
        },
        {
          "output_type": "display_data",
          "data": {
            "text/html": [
              "<pre>recommendations finished on 155000/160377 queries. users per second: 289.535</pre>"
            ],
            "text/plain": [
              "recommendations finished on 155000/160377 queries. users per second: 289.535"
            ]
          },
          "metadata": {
            "tags": []
          }
        },
        {
          "output_type": "display_data",
          "data": {
            "text/html": [
              "<pre>recommendations finished on 156000/160377 queries. users per second: 289.528</pre>"
            ],
            "text/plain": [
              "recommendations finished on 156000/160377 queries. users per second: 289.528"
            ]
          },
          "metadata": {
            "tags": []
          }
        },
        {
          "output_type": "display_data",
          "data": {
            "text/html": [
              "<pre>recommendations finished on 157000/160377 queries. users per second: 289.531</pre>"
            ],
            "text/plain": [
              "recommendations finished on 157000/160377 queries. users per second: 289.531"
            ]
          },
          "metadata": {
            "tags": []
          }
        },
        {
          "output_type": "display_data",
          "data": {
            "text/html": [
              "<pre>recommendations finished on 158000/160377 queries. users per second: 289.531</pre>"
            ],
            "text/plain": [
              "recommendations finished on 158000/160377 queries. users per second: 289.531"
            ]
          },
          "metadata": {
            "tags": []
          }
        },
        {
          "output_type": "display_data",
          "data": {
            "text/html": [
              "<pre>recommendations finished on 159000/160377 queries. users per second: 289.532</pre>"
            ],
            "text/plain": [
              "recommendations finished on 159000/160377 queries. users per second: 289.532"
            ]
          },
          "metadata": {
            "tags": []
          }
        },
        {
          "output_type": "display_data",
          "data": {
            "text/html": [
              "<pre>recommendations finished on 160000/160377 queries. users per second: 289.536</pre>"
            ],
            "text/plain": [
              "recommendations finished on 160000/160377 queries. users per second: 289.536"
            ]
          },
          "metadata": {
            "tags": []
          }
        }
      ]
    },
    {
      "cell_type": "code",
      "metadata": {
        "colab": {
          "base_uri": "https://localhost:8080/",
          "height": 437
        },
        "id": "W9ImDUQzG2Fi",
        "outputId": "37987a27-cf4d-4dbb-b7a7-9b4e5dd7a10c"
      },
      "source": [
        "item_sim_model = tc.item_similarity_recommender.create(training_data, user_id='user_id', item_id='article_id', similarity_type='cosine')"
      ],
      "execution_count": null,
      "outputs": [
        {
          "output_type": "display_data",
          "data": {
            "text/html": [
              "<pre>Warning: Ignoring columns category_id;</pre>"
            ],
            "text/plain": [
              "Warning: Ignoring columns category_id;"
            ]
          },
          "metadata": {
            "tags": []
          }
        },
        {
          "output_type": "display_data",
          "data": {
            "text/html": [
              "<pre> To use one of these as a rating column, specify the column name to be used as target</pre>"
            ],
            "text/plain": [
              " To use one of these as a rating column, specify the column name to be used as target"
            ]
          },
          "metadata": {
            "tags": []
          }
        },
        {
          "output_type": "display_data",
          "data": {
            "text/html": [
              "<pre>    and use a method that allows the use of a target.</pre>"
            ],
            "text/plain": [
              "    and use a method that allows the use of a target."
            ]
          },
          "metadata": {
            "tags": []
          }
        },
        {
          "output_type": "display_data",
          "data": {
            "text/html": [
              "<pre>Preparing data set.</pre>"
            ],
            "text/plain": [
              "Preparing data set."
            ]
          },
          "metadata": {
            "tags": []
          }
        },
        {
          "output_type": "display_data",
          "data": {
            "text/html": [
              "<pre>    Data has 2560220 observations with 160377 users and 37869 items.</pre>"
            ],
            "text/plain": [
              "    Data has 2560220 observations with 160377 users and 37869 items."
            ]
          },
          "metadata": {
            "tags": []
          }
        },
        {
          "output_type": "display_data",
          "data": {
            "text/html": [
              "<pre>    Data prepared in: 2.45504s</pre>"
            ],
            "text/plain": [
              "    Data prepared in: 2.45504s"
            ]
          },
          "metadata": {
            "tags": []
          }
        },
        {
          "output_type": "display_data",
          "data": {
            "text/html": [
              "<pre>Training model from provided data.</pre>"
            ],
            "text/plain": [
              "Training model from provided data."
            ]
          },
          "metadata": {
            "tags": []
          }
        },
        {
          "output_type": "display_data",
          "data": {
            "text/html": [
              "<pre>Gathering per-item and per-user statistics.</pre>"
            ],
            "text/plain": [
              "Gathering per-item and per-user statistics."
            ]
          },
          "metadata": {
            "tags": []
          }
        },
        {
          "output_type": "display_data",
          "data": {
            "text/html": [
              "<pre>+--------------------------------+------------+</pre>"
            ],
            "text/plain": [
              "+--------------------------------+------------+"
            ]
          },
          "metadata": {
            "tags": []
          }
        },
        {
          "output_type": "display_data",
          "data": {
            "text/html": [
              "<pre>| Elapsed Time (Item Statistics) | % Complete |</pre>"
            ],
            "text/plain": [
              "| Elapsed Time (Item Statistics) | % Complete |"
            ]
          },
          "metadata": {
            "tags": []
          }
        },
        {
          "output_type": "display_data",
          "data": {
            "text/html": [
              "<pre>+--------------------------------+------------+</pre>"
            ],
            "text/plain": [
              "+--------------------------------+------------+"
            ]
          },
          "metadata": {
            "tags": []
          }
        },
        {
          "output_type": "display_data",
          "data": {
            "text/html": [
              "<pre>| 3.589ms                        | 0.5        |</pre>"
            ],
            "text/plain": [
              "| 3.589ms                        | 0.5        |"
            ]
          },
          "metadata": {
            "tags": []
          }
        },
        {
          "output_type": "display_data",
          "data": {
            "text/html": [
              "<pre>| 122.136ms                      | 100        |</pre>"
            ],
            "text/plain": [
              "| 122.136ms                      | 100        |"
            ]
          },
          "metadata": {
            "tags": []
          }
        },
        {
          "output_type": "display_data",
          "data": {
            "text/html": [
              "<pre>+--------------------------------+------------+</pre>"
            ],
            "text/plain": [
              "+--------------------------------+------------+"
            ]
          },
          "metadata": {
            "tags": []
          }
        },
        {
          "output_type": "display_data",
          "data": {
            "text/html": [
              "<pre>Setting up lookup tables.</pre>"
            ],
            "text/plain": [
              "Setting up lookup tables."
            ]
          },
          "metadata": {
            "tags": []
          }
        },
        {
          "output_type": "display_data",
          "data": {
            "text/html": [
              "<pre>Processing data in one pass using dense lookup tables.</pre>"
            ],
            "text/plain": [
              "Processing data in one pass using dense lookup tables."
            ]
          },
          "metadata": {
            "tags": []
          }
        },
        {
          "output_type": "display_data",
          "data": {
            "text/html": [
              "<pre>+-------------------------------------+------------------+-----------------+</pre>"
            ],
            "text/plain": [
              "+-------------------------------------+------------------+-----------------+"
            ]
          },
          "metadata": {
            "tags": []
          }
        },
        {
          "output_type": "display_data",
          "data": {
            "text/html": [
              "<pre>| Elapsed Time (Constructing Lookups) | Total % Complete | Items Processed |</pre>"
            ],
            "text/plain": [
              "| Elapsed Time (Constructing Lookups) | Total % Complete | Items Processed |"
            ]
          },
          "metadata": {
            "tags": []
          }
        },
        {
          "output_type": "display_data",
          "data": {
            "text/html": [
              "<pre>+-------------------------------------+------------------+-----------------+</pre>"
            ],
            "text/plain": [
              "+-------------------------------------+------------------+-----------------+"
            ]
          },
          "metadata": {
            "tags": []
          }
        },
        {
          "output_type": "display_data",
          "data": {
            "text/html": [
              "<pre>| 4.75s                               | 0                | 0               |</pre>"
            ],
            "text/plain": [
              "| 4.75s                               | 0                | 0               |"
            ]
          },
          "metadata": {
            "tags": []
          }
        },
        {
          "output_type": "display_data",
          "data": {
            "text/html": [
              "<pre>| 28.26s                              | 100              | 37869           |</pre>"
            ],
            "text/plain": [
              "| 28.26s                              | 100              | 37869           |"
            ]
          },
          "metadata": {
            "tags": []
          }
        },
        {
          "output_type": "display_data",
          "data": {
            "text/html": [
              "<pre>+-------------------------------------+------------------+-----------------+</pre>"
            ],
            "text/plain": [
              "+-------------------------------------+------------------+-----------------+"
            ]
          },
          "metadata": {
            "tags": []
          }
        },
        {
          "output_type": "display_data",
          "data": {
            "text/html": [
              "<pre>Finalizing lookup tables.</pre>"
            ],
            "text/plain": [
              "Finalizing lookup tables."
            ]
          },
          "metadata": {
            "tags": []
          }
        },
        {
          "output_type": "display_data",
          "data": {
            "text/html": [
              "<pre>Generating candidate set for working with new users.</pre>"
            ],
            "text/plain": [
              "Generating candidate set for working with new users."
            ]
          },
          "metadata": {
            "tags": []
          }
        },
        {
          "output_type": "display_data",
          "data": {
            "text/html": [
              "<pre>Finished training in 29.4421s</pre>"
            ],
            "text/plain": [
              "Finished training in 29.4421s"
            ]
          },
          "metadata": {
            "tags": []
          }
        }
      ]
    },
    {
      "cell_type": "code",
      "metadata": {
        "colab": {
          "base_uri": "https://localhost:8080/",
          "height": 1000
        },
        "id": "3uwOjKNdS1ZY",
        "outputId": "5c67d1e2-55b7-43f3-8fc2-2386a47230a4"
      },
      "source": [
        "item_sim_recomm = item_sim_model.recommend()"
      ],
      "execution_count": null,
      "outputs": [
        {
          "output_type": "display_data",
          "data": {
            "text/html": [
              "<pre>recommendations finished on 1000/160377 queries. users per second: 3128.15</pre>"
            ],
            "text/plain": [
              "recommendations finished on 1000/160377 queries. users per second: 3128.15"
            ]
          },
          "metadata": {
            "tags": []
          }
        },
        {
          "output_type": "display_data",
          "data": {
            "text/html": [
              "<pre>recommendations finished on 2000/160377 queries. users per second: 3195.8</pre>"
            ],
            "text/plain": [
              "recommendations finished on 2000/160377 queries. users per second: 3195.8"
            ]
          },
          "metadata": {
            "tags": []
          }
        },
        {
          "output_type": "display_data",
          "data": {
            "text/html": [
              "<pre>recommendations finished on 3000/160377 queries. users per second: 3214.64</pre>"
            ],
            "text/plain": [
              "recommendations finished on 3000/160377 queries. users per second: 3214.64"
            ]
          },
          "metadata": {
            "tags": []
          }
        },
        {
          "output_type": "display_data",
          "data": {
            "text/html": [
              "<pre>recommendations finished on 4000/160377 queries. users per second: 3190.69</pre>"
            ],
            "text/plain": [
              "recommendations finished on 4000/160377 queries. users per second: 3190.69"
            ]
          },
          "metadata": {
            "tags": []
          }
        },
        {
          "output_type": "display_data",
          "data": {
            "text/html": [
              "<pre>recommendations finished on 5000/160377 queries. users per second: 3195.05</pre>"
            ],
            "text/plain": [
              "recommendations finished on 5000/160377 queries. users per second: 3195.05"
            ]
          },
          "metadata": {
            "tags": []
          }
        },
        {
          "output_type": "display_data",
          "data": {
            "text/html": [
              "<pre>recommendations finished on 6000/160377 queries. users per second: 3193.07</pre>"
            ],
            "text/plain": [
              "recommendations finished on 6000/160377 queries. users per second: 3193.07"
            ]
          },
          "metadata": {
            "tags": []
          }
        },
        {
          "output_type": "display_data",
          "data": {
            "text/html": [
              "<pre>recommendations finished on 7000/160377 queries. users per second: 3186.06</pre>"
            ],
            "text/plain": [
              "recommendations finished on 7000/160377 queries. users per second: 3186.06"
            ]
          },
          "metadata": {
            "tags": []
          }
        },
        {
          "output_type": "display_data",
          "data": {
            "text/html": [
              "<pre>recommendations finished on 8000/160377 queries. users per second: 3193.97</pre>"
            ],
            "text/plain": [
              "recommendations finished on 8000/160377 queries. users per second: 3193.97"
            ]
          },
          "metadata": {
            "tags": []
          }
        },
        {
          "output_type": "display_data",
          "data": {
            "text/html": [
              "<pre>recommendations finished on 9000/160377 queries. users per second: 3198.96</pre>"
            ],
            "text/plain": [
              "recommendations finished on 9000/160377 queries. users per second: 3198.96"
            ]
          },
          "metadata": {
            "tags": []
          }
        },
        {
          "output_type": "display_data",
          "data": {
            "text/html": [
              "<pre>recommendations finished on 10000/160377 queries. users per second: 3203.68</pre>"
            ],
            "text/plain": [
              "recommendations finished on 10000/160377 queries. users per second: 3203.68"
            ]
          },
          "metadata": {
            "tags": []
          }
        },
        {
          "output_type": "display_data",
          "data": {
            "text/html": [
              "<pre>recommendations finished on 11000/160377 queries. users per second: 3197.98</pre>"
            ],
            "text/plain": [
              "recommendations finished on 11000/160377 queries. users per second: 3197.98"
            ]
          },
          "metadata": {
            "tags": []
          }
        },
        {
          "output_type": "display_data",
          "data": {
            "text/html": [
              "<pre>recommendations finished on 12000/160377 queries. users per second: 3200.68</pre>"
            ],
            "text/plain": [
              "recommendations finished on 12000/160377 queries. users per second: 3200.68"
            ]
          },
          "metadata": {
            "tags": []
          }
        },
        {
          "output_type": "display_data",
          "data": {
            "text/html": [
              "<pre>recommendations finished on 13000/160377 queries. users per second: 3196.51</pre>"
            ],
            "text/plain": [
              "recommendations finished on 13000/160377 queries. users per second: 3196.51"
            ]
          },
          "metadata": {
            "tags": []
          }
        },
        {
          "output_type": "display_data",
          "data": {
            "text/html": [
              "<pre>recommendations finished on 14000/160377 queries. users per second: 3197.01</pre>"
            ],
            "text/plain": [
              "recommendations finished on 14000/160377 queries. users per second: 3197.01"
            ]
          },
          "metadata": {
            "tags": []
          }
        },
        {
          "output_type": "display_data",
          "data": {
            "text/html": [
              "<pre>recommendations finished on 15000/160377 queries. users per second: 3196.02</pre>"
            ],
            "text/plain": [
              "recommendations finished on 15000/160377 queries. users per second: 3196.02"
            ]
          },
          "metadata": {
            "tags": []
          }
        },
        {
          "output_type": "display_data",
          "data": {
            "text/html": [
              "<pre>recommendations finished on 16000/160377 queries. users per second: 3197.9</pre>"
            ],
            "text/plain": [
              "recommendations finished on 16000/160377 queries. users per second: 3197.9"
            ]
          },
          "metadata": {
            "tags": []
          }
        },
        {
          "output_type": "display_data",
          "data": {
            "text/html": [
              "<pre>recommendations finished on 17000/160377 queries. users per second: 3195.13</pre>"
            ],
            "text/plain": [
              "recommendations finished on 17000/160377 queries. users per second: 3195.13"
            ]
          },
          "metadata": {
            "tags": []
          }
        },
        {
          "output_type": "display_data",
          "data": {
            "text/html": [
              "<pre>recommendations finished on 18000/160377 queries. users per second: 3198.41</pre>"
            ],
            "text/plain": [
              "recommendations finished on 18000/160377 queries. users per second: 3198.41"
            ]
          },
          "metadata": {
            "tags": []
          }
        },
        {
          "output_type": "display_data",
          "data": {
            "text/html": [
              "<pre>recommendations finished on 19000/160377 queries. users per second: 3203.19</pre>"
            ],
            "text/plain": [
              "recommendations finished on 19000/160377 queries. users per second: 3203.19"
            ]
          },
          "metadata": {
            "tags": []
          }
        },
        {
          "output_type": "display_data",
          "data": {
            "text/html": [
              "<pre>recommendations finished on 20000/160377 queries. users per second: 3206.42</pre>"
            ],
            "text/plain": [
              "recommendations finished on 20000/160377 queries. users per second: 3206.42"
            ]
          },
          "metadata": {
            "tags": []
          }
        },
        {
          "output_type": "display_data",
          "data": {
            "text/html": [
              "<pre>recommendations finished on 21000/160377 queries. users per second: 3203.32</pre>"
            ],
            "text/plain": [
              "recommendations finished on 21000/160377 queries. users per second: 3203.32"
            ]
          },
          "metadata": {
            "tags": []
          }
        },
        {
          "output_type": "display_data",
          "data": {
            "text/html": [
              "<pre>recommendations finished on 22000/160377 queries. users per second: 3205.22</pre>"
            ],
            "text/plain": [
              "recommendations finished on 22000/160377 queries. users per second: 3205.22"
            ]
          },
          "metadata": {
            "tags": []
          }
        },
        {
          "output_type": "display_data",
          "data": {
            "text/html": [
              "<pre>recommendations finished on 23000/160377 queries. users per second: 3208.44</pre>"
            ],
            "text/plain": [
              "recommendations finished on 23000/160377 queries. users per second: 3208.44"
            ]
          },
          "metadata": {
            "tags": []
          }
        },
        {
          "output_type": "display_data",
          "data": {
            "text/html": [
              "<pre>recommendations finished on 24000/160377 queries. users per second: 3206.89</pre>"
            ],
            "text/plain": [
              "recommendations finished on 24000/160377 queries. users per second: 3206.89"
            ]
          },
          "metadata": {
            "tags": []
          }
        },
        {
          "output_type": "display_data",
          "data": {
            "text/html": [
              "<pre>recommendations finished on 25000/160377 queries. users per second: 3207.74</pre>"
            ],
            "text/plain": [
              "recommendations finished on 25000/160377 queries. users per second: 3207.74"
            ]
          },
          "metadata": {
            "tags": []
          }
        },
        {
          "output_type": "display_data",
          "data": {
            "text/html": [
              "<pre>recommendations finished on 26000/160377 queries. users per second: 3209.44</pre>"
            ],
            "text/plain": [
              "recommendations finished on 26000/160377 queries. users per second: 3209.44"
            ]
          },
          "metadata": {
            "tags": []
          }
        },
        {
          "output_type": "display_data",
          "data": {
            "text/html": [
              "<pre>recommendations finished on 27000/160377 queries. users per second: 3206.23</pre>"
            ],
            "text/plain": [
              "recommendations finished on 27000/160377 queries. users per second: 3206.23"
            ]
          },
          "metadata": {
            "tags": []
          }
        },
        {
          "output_type": "display_data",
          "data": {
            "text/html": [
              "<pre>recommendations finished on 28000/160377 queries. users per second: 3208.73</pre>"
            ],
            "text/plain": [
              "recommendations finished on 28000/160377 queries. users per second: 3208.73"
            ]
          },
          "metadata": {
            "tags": []
          }
        },
        {
          "output_type": "display_data",
          "data": {
            "text/html": [
              "<pre>recommendations finished on 29000/160377 queries. users per second: 3202.06</pre>"
            ],
            "text/plain": [
              "recommendations finished on 29000/160377 queries. users per second: 3202.06"
            ]
          },
          "metadata": {
            "tags": []
          }
        },
        {
          "output_type": "display_data",
          "data": {
            "text/html": [
              "<pre>recommendations finished on 30000/160377 queries. users per second: 3200.39</pre>"
            ],
            "text/plain": [
              "recommendations finished on 30000/160377 queries. users per second: 3200.39"
            ]
          },
          "metadata": {
            "tags": []
          }
        },
        {
          "output_type": "display_data",
          "data": {
            "text/html": [
              "<pre>recommendations finished on 31000/160377 queries. users per second: 3201.38</pre>"
            ],
            "text/plain": [
              "recommendations finished on 31000/160377 queries. users per second: 3201.38"
            ]
          },
          "metadata": {
            "tags": []
          }
        },
        {
          "output_type": "display_data",
          "data": {
            "text/html": [
              "<pre>recommendations finished on 32000/160377 queries. users per second: 3202.28</pre>"
            ],
            "text/plain": [
              "recommendations finished on 32000/160377 queries. users per second: 3202.28"
            ]
          },
          "metadata": {
            "tags": []
          }
        },
        {
          "output_type": "display_data",
          "data": {
            "text/html": [
              "<pre>recommendations finished on 33000/160377 queries. users per second: 3203.26</pre>"
            ],
            "text/plain": [
              "recommendations finished on 33000/160377 queries. users per second: 3203.26"
            ]
          },
          "metadata": {
            "tags": []
          }
        },
        {
          "output_type": "display_data",
          "data": {
            "text/html": [
              "<pre>recommendations finished on 34000/160377 queries. users per second: 3200.93</pre>"
            ],
            "text/plain": [
              "recommendations finished on 34000/160377 queries. users per second: 3200.93"
            ]
          },
          "metadata": {
            "tags": []
          }
        },
        {
          "output_type": "display_data",
          "data": {
            "text/html": [
              "<pre>recommendations finished on 35000/160377 queries. users per second: 3202.02</pre>"
            ],
            "text/plain": [
              "recommendations finished on 35000/160377 queries. users per second: 3202.02"
            ]
          },
          "metadata": {
            "tags": []
          }
        },
        {
          "output_type": "display_data",
          "data": {
            "text/html": [
              "<pre>recommendations finished on 36000/160377 queries. users per second: 3204.47</pre>"
            ],
            "text/plain": [
              "recommendations finished on 36000/160377 queries. users per second: 3204.47"
            ]
          },
          "metadata": {
            "tags": []
          }
        },
        {
          "output_type": "display_data",
          "data": {
            "text/html": [
              "<pre>recommendations finished on 37000/160377 queries. users per second: 3200.37</pre>"
            ],
            "text/plain": [
              "recommendations finished on 37000/160377 queries. users per second: 3200.37"
            ]
          },
          "metadata": {
            "tags": []
          }
        },
        {
          "output_type": "display_data",
          "data": {
            "text/html": [
              "<pre>recommendations finished on 38000/160377 queries. users per second: 3202.28</pre>"
            ],
            "text/plain": [
              "recommendations finished on 38000/160377 queries. users per second: 3202.28"
            ]
          },
          "metadata": {
            "tags": []
          }
        },
        {
          "output_type": "display_data",
          "data": {
            "text/html": [
              "<pre>recommendations finished on 39000/160377 queries. users per second: 3204.29</pre>"
            ],
            "text/plain": [
              "recommendations finished on 39000/160377 queries. users per second: 3204.29"
            ]
          },
          "metadata": {
            "tags": []
          }
        },
        {
          "output_type": "display_data",
          "data": {
            "text/html": [
              "<pre>recommendations finished on 40000/160377 queries. users per second: 3203.7</pre>"
            ],
            "text/plain": [
              "recommendations finished on 40000/160377 queries. users per second: 3203.7"
            ]
          },
          "metadata": {
            "tags": []
          }
        },
        {
          "output_type": "display_data",
          "data": {
            "text/html": [
              "<pre>recommendations finished on 41000/160377 queries. users per second: 3205.1</pre>"
            ],
            "text/plain": [
              "recommendations finished on 41000/160377 queries. users per second: 3205.1"
            ]
          },
          "metadata": {
            "tags": []
          }
        },
        {
          "output_type": "display_data",
          "data": {
            "text/html": [
              "<pre>recommendations finished on 42000/160377 queries. users per second: 3206.83</pre>"
            ],
            "text/plain": [
              "recommendations finished on 42000/160377 queries. users per second: 3206.83"
            ]
          },
          "metadata": {
            "tags": []
          }
        },
        {
          "output_type": "display_data",
          "data": {
            "text/html": [
              "<pre>recommendations finished on 43000/160377 queries. users per second: 3205.63</pre>"
            ],
            "text/plain": [
              "recommendations finished on 43000/160377 queries. users per second: 3205.63"
            ]
          },
          "metadata": {
            "tags": []
          }
        },
        {
          "output_type": "display_data",
          "data": {
            "text/html": [
              "<pre>recommendations finished on 44000/160377 queries. users per second: 3206.74</pre>"
            ],
            "text/plain": [
              "recommendations finished on 44000/160377 queries. users per second: 3206.74"
            ]
          },
          "metadata": {
            "tags": []
          }
        },
        {
          "output_type": "display_data",
          "data": {
            "text/html": [
              "<pre>recommendations finished on 45000/160377 queries. users per second: 3209.02</pre>"
            ],
            "text/plain": [
              "recommendations finished on 45000/160377 queries. users per second: 3209.02"
            ]
          },
          "metadata": {
            "tags": []
          }
        },
        {
          "output_type": "display_data",
          "data": {
            "text/html": [
              "<pre>recommendations finished on 46000/160377 queries. users per second: 3208.34</pre>"
            ],
            "text/plain": [
              "recommendations finished on 46000/160377 queries. users per second: 3208.34"
            ]
          },
          "metadata": {
            "tags": []
          }
        },
        {
          "output_type": "display_data",
          "data": {
            "text/html": [
              "<pre>recommendations finished on 47000/160377 queries. users per second: 3207.87</pre>"
            ],
            "text/plain": [
              "recommendations finished on 47000/160377 queries. users per second: 3207.87"
            ]
          },
          "metadata": {
            "tags": []
          }
        },
        {
          "output_type": "display_data",
          "data": {
            "text/html": [
              "<pre>recommendations finished on 48000/160377 queries. users per second: 3208.54</pre>"
            ],
            "text/plain": [
              "recommendations finished on 48000/160377 queries. users per second: 3208.54"
            ]
          },
          "metadata": {
            "tags": []
          }
        },
        {
          "output_type": "display_data",
          "data": {
            "text/html": [
              "<pre>recommendations finished on 49000/160377 queries. users per second: 3209.03</pre>"
            ],
            "text/plain": [
              "recommendations finished on 49000/160377 queries. users per second: 3209.03"
            ]
          },
          "metadata": {
            "tags": []
          }
        },
        {
          "output_type": "display_data",
          "data": {
            "text/html": [
              "<pre>recommendations finished on 50000/160377 queries. users per second: 3208.87</pre>"
            ],
            "text/plain": [
              "recommendations finished on 50000/160377 queries. users per second: 3208.87"
            ]
          },
          "metadata": {
            "tags": []
          }
        },
        {
          "output_type": "display_data",
          "data": {
            "text/html": [
              "<pre>recommendations finished on 51000/160377 queries. users per second: 3210.09</pre>"
            ],
            "text/plain": [
              "recommendations finished on 51000/160377 queries. users per second: 3210.09"
            ]
          },
          "metadata": {
            "tags": []
          }
        },
        {
          "output_type": "display_data",
          "data": {
            "text/html": [
              "<pre>recommendations finished on 52000/160377 queries. users per second: 3210.29</pre>"
            ],
            "text/plain": [
              "recommendations finished on 52000/160377 queries. users per second: 3210.29"
            ]
          },
          "metadata": {
            "tags": []
          }
        },
        {
          "output_type": "display_data",
          "data": {
            "text/html": [
              "<pre>recommendations finished on 53000/160377 queries. users per second: 3210.33</pre>"
            ],
            "text/plain": [
              "recommendations finished on 53000/160377 queries. users per second: 3210.33"
            ]
          },
          "metadata": {
            "tags": []
          }
        },
        {
          "output_type": "display_data",
          "data": {
            "text/html": [
              "<pre>recommendations finished on 54000/160377 queries. users per second: 3211.37</pre>"
            ],
            "text/plain": [
              "recommendations finished on 54000/160377 queries. users per second: 3211.37"
            ]
          },
          "metadata": {
            "tags": []
          }
        },
        {
          "output_type": "display_data",
          "data": {
            "text/html": [
              "<pre>recommendations finished on 55000/160377 queries. users per second: 3212.46</pre>"
            ],
            "text/plain": [
              "recommendations finished on 55000/160377 queries. users per second: 3212.46"
            ]
          },
          "metadata": {
            "tags": []
          }
        },
        {
          "output_type": "display_data",
          "data": {
            "text/html": [
              "<pre>recommendations finished on 56000/160377 queries. users per second: 3211.84</pre>"
            ],
            "text/plain": [
              "recommendations finished on 56000/160377 queries. users per second: 3211.84"
            ]
          },
          "metadata": {
            "tags": []
          }
        },
        {
          "output_type": "display_data",
          "data": {
            "text/html": [
              "<pre>recommendations finished on 57000/160377 queries. users per second: 3211.48</pre>"
            ],
            "text/plain": [
              "recommendations finished on 57000/160377 queries. users per second: 3211.48"
            ]
          },
          "metadata": {
            "tags": []
          }
        },
        {
          "output_type": "display_data",
          "data": {
            "text/html": [
              "<pre>recommendations finished on 58000/160377 queries. users per second: 3212.83</pre>"
            ],
            "text/plain": [
              "recommendations finished on 58000/160377 queries. users per second: 3212.83"
            ]
          },
          "metadata": {
            "tags": []
          }
        },
        {
          "output_type": "display_data",
          "data": {
            "text/html": [
              "<pre>recommendations finished on 59000/160377 queries. users per second: 3213.7</pre>"
            ],
            "text/plain": [
              "recommendations finished on 59000/160377 queries. users per second: 3213.7"
            ]
          },
          "metadata": {
            "tags": []
          }
        },
        {
          "output_type": "display_data",
          "data": {
            "text/html": [
              "<pre>recommendations finished on 60000/160377 queries. users per second: 3213.93</pre>"
            ],
            "text/plain": [
              "recommendations finished on 60000/160377 queries. users per second: 3213.93"
            ]
          },
          "metadata": {
            "tags": []
          }
        },
        {
          "output_type": "display_data",
          "data": {
            "text/html": [
              "<pre>recommendations finished on 61000/160377 queries. users per second: 3215.35</pre>"
            ],
            "text/plain": [
              "recommendations finished on 61000/160377 queries. users per second: 3215.35"
            ]
          },
          "metadata": {
            "tags": []
          }
        },
        {
          "output_type": "display_data",
          "data": {
            "text/html": [
              "<pre>recommendations finished on 62000/160377 queries. users per second: 3216.01</pre>"
            ],
            "text/plain": [
              "recommendations finished on 62000/160377 queries. users per second: 3216.01"
            ]
          },
          "metadata": {
            "tags": []
          }
        },
        {
          "output_type": "display_data",
          "data": {
            "text/html": [
              "<pre>recommendations finished on 63000/160377 queries. users per second: 3214.92</pre>"
            ],
            "text/plain": [
              "recommendations finished on 63000/160377 queries. users per second: 3214.92"
            ]
          },
          "metadata": {
            "tags": []
          }
        },
        {
          "output_type": "display_data",
          "data": {
            "text/html": [
              "<pre>recommendations finished on 64000/160377 queries. users per second: 3215.67</pre>"
            ],
            "text/plain": [
              "recommendations finished on 64000/160377 queries. users per second: 3215.67"
            ]
          },
          "metadata": {
            "tags": []
          }
        },
        {
          "output_type": "display_data",
          "data": {
            "text/html": [
              "<pre>recommendations finished on 65000/160377 queries. users per second: 3215.89</pre>"
            ],
            "text/plain": [
              "recommendations finished on 65000/160377 queries. users per second: 3215.89"
            ]
          },
          "metadata": {
            "tags": []
          }
        },
        {
          "output_type": "display_data",
          "data": {
            "text/html": [
              "<pre>recommendations finished on 66000/160377 queries. users per second: 3214.7</pre>"
            ],
            "text/plain": [
              "recommendations finished on 66000/160377 queries. users per second: 3214.7"
            ]
          },
          "metadata": {
            "tags": []
          }
        },
        {
          "output_type": "display_data",
          "data": {
            "text/html": [
              "<pre>recommendations finished on 67000/160377 queries. users per second: 3214.78</pre>"
            ],
            "text/plain": [
              "recommendations finished on 67000/160377 queries. users per second: 3214.78"
            ]
          },
          "metadata": {
            "tags": []
          }
        },
        {
          "output_type": "display_data",
          "data": {
            "text/html": [
              "<pre>recommendations finished on 68000/160377 queries. users per second: 3215.54</pre>"
            ],
            "text/plain": [
              "recommendations finished on 68000/160377 queries. users per second: 3215.54"
            ]
          },
          "metadata": {
            "tags": []
          }
        },
        {
          "output_type": "display_data",
          "data": {
            "text/html": [
              "<pre>recommendations finished on 69000/160377 queries. users per second: 3215.73</pre>"
            ],
            "text/plain": [
              "recommendations finished on 69000/160377 queries. users per second: 3215.73"
            ]
          },
          "metadata": {
            "tags": []
          }
        },
        {
          "output_type": "display_data",
          "data": {
            "text/html": [
              "<pre>recommendations finished on 70000/160377 queries. users per second: 3215.76</pre>"
            ],
            "text/plain": [
              "recommendations finished on 70000/160377 queries. users per second: 3215.76"
            ]
          },
          "metadata": {
            "tags": []
          }
        },
        {
          "output_type": "display_data",
          "data": {
            "text/html": [
              "<pre>recommendations finished on 71000/160377 queries. users per second: 3216.35</pre>"
            ],
            "text/plain": [
              "recommendations finished on 71000/160377 queries. users per second: 3216.35"
            ]
          },
          "metadata": {
            "tags": []
          }
        },
        {
          "output_type": "display_data",
          "data": {
            "text/html": [
              "<pre>recommendations finished on 72000/160377 queries. users per second: 3217.73</pre>"
            ],
            "text/plain": [
              "recommendations finished on 72000/160377 queries. users per second: 3217.73"
            ]
          },
          "metadata": {
            "tags": []
          }
        },
        {
          "output_type": "display_data",
          "data": {
            "text/html": [
              "<pre>recommendations finished on 73000/160377 queries. users per second: 3217.26</pre>"
            ],
            "text/plain": [
              "recommendations finished on 73000/160377 queries. users per second: 3217.26"
            ]
          },
          "metadata": {
            "tags": []
          }
        },
        {
          "output_type": "display_data",
          "data": {
            "text/html": [
              "<pre>recommendations finished on 74000/160377 queries. users per second: 3217.93</pre>"
            ],
            "text/plain": [
              "recommendations finished on 74000/160377 queries. users per second: 3217.93"
            ]
          },
          "metadata": {
            "tags": []
          }
        },
        {
          "output_type": "display_data",
          "data": {
            "text/html": [
              "<pre>recommendations finished on 75000/160377 queries. users per second: 3219.22</pre>"
            ],
            "text/plain": [
              "recommendations finished on 75000/160377 queries. users per second: 3219.22"
            ]
          },
          "metadata": {
            "tags": []
          }
        },
        {
          "output_type": "display_data",
          "data": {
            "text/html": [
              "<pre>recommendations finished on 76000/160377 queries. users per second: 3218.62</pre>"
            ],
            "text/plain": [
              "recommendations finished on 76000/160377 queries. users per second: 3218.62"
            ]
          },
          "metadata": {
            "tags": []
          }
        },
        {
          "output_type": "display_data",
          "data": {
            "text/html": [
              "<pre>recommendations finished on 77000/160377 queries. users per second: 3219.01</pre>"
            ],
            "text/plain": [
              "recommendations finished on 77000/160377 queries. users per second: 3219.01"
            ]
          },
          "metadata": {
            "tags": []
          }
        },
        {
          "output_type": "display_data",
          "data": {
            "text/html": [
              "<pre>recommendations finished on 78000/160377 queries. users per second: 3219.95</pre>"
            ],
            "text/plain": [
              "recommendations finished on 78000/160377 queries. users per second: 3219.95"
            ]
          },
          "metadata": {
            "tags": []
          }
        },
        {
          "output_type": "display_data",
          "data": {
            "text/html": [
              "<pre>recommendations finished on 79000/160377 queries. users per second: 3220.53</pre>"
            ],
            "text/plain": [
              "recommendations finished on 79000/160377 queries. users per second: 3220.53"
            ]
          },
          "metadata": {
            "tags": []
          }
        },
        {
          "output_type": "display_data",
          "data": {
            "text/html": [
              "<pre>recommendations finished on 80000/160377 queries. users per second: 3220.65</pre>"
            ],
            "text/plain": [
              "recommendations finished on 80000/160377 queries. users per second: 3220.65"
            ]
          },
          "metadata": {
            "tags": []
          }
        },
        {
          "output_type": "display_data",
          "data": {
            "text/html": [
              "<pre>recommendations finished on 81000/160377 queries. users per second: 3221.17</pre>"
            ],
            "text/plain": [
              "recommendations finished on 81000/160377 queries. users per second: 3221.17"
            ]
          },
          "metadata": {
            "tags": []
          }
        },
        {
          "output_type": "display_data",
          "data": {
            "text/html": [
              "<pre>recommendations finished on 82000/160377 queries. users per second: 3221.28</pre>"
            ],
            "text/plain": [
              "recommendations finished on 82000/160377 queries. users per second: 3221.28"
            ]
          },
          "metadata": {
            "tags": []
          }
        },
        {
          "output_type": "display_data",
          "data": {
            "text/html": [
              "<pre>recommendations finished on 83000/160377 queries. users per second: 3221.13</pre>"
            ],
            "text/plain": [
              "recommendations finished on 83000/160377 queries. users per second: 3221.13"
            ]
          },
          "metadata": {
            "tags": []
          }
        },
        {
          "output_type": "display_data",
          "data": {
            "text/html": [
              "<pre>recommendations finished on 84000/160377 queries. users per second: 3221.72</pre>"
            ],
            "text/plain": [
              "recommendations finished on 84000/160377 queries. users per second: 3221.72"
            ]
          },
          "metadata": {
            "tags": []
          }
        },
        {
          "output_type": "display_data",
          "data": {
            "text/html": [
              "<pre>recommendations finished on 85000/160377 queries. users per second: 3222.2</pre>"
            ],
            "text/plain": [
              "recommendations finished on 85000/160377 queries. users per second: 3222.2"
            ]
          },
          "metadata": {
            "tags": []
          }
        },
        {
          "output_type": "display_data",
          "data": {
            "text/html": [
              "<pre>recommendations finished on 86000/160377 queries. users per second: 3221.79</pre>"
            ],
            "text/plain": [
              "recommendations finished on 86000/160377 queries. users per second: 3221.79"
            ]
          },
          "metadata": {
            "tags": []
          }
        },
        {
          "output_type": "display_data",
          "data": {
            "text/html": [
              "<pre>recommendations finished on 87000/160377 queries. users per second: 3222.21</pre>"
            ],
            "text/plain": [
              "recommendations finished on 87000/160377 queries. users per second: 3222.21"
            ]
          },
          "metadata": {
            "tags": []
          }
        },
        {
          "output_type": "display_data",
          "data": {
            "text/html": [
              "<pre>recommendations finished on 88000/160377 queries. users per second: 3222.67</pre>"
            ],
            "text/plain": [
              "recommendations finished on 88000/160377 queries. users per second: 3222.67"
            ]
          },
          "metadata": {
            "tags": []
          }
        },
        {
          "output_type": "display_data",
          "data": {
            "text/html": [
              "<pre>recommendations finished on 89000/160377 queries. users per second: 3222.97</pre>"
            ],
            "text/plain": [
              "recommendations finished on 89000/160377 queries. users per second: 3222.97"
            ]
          },
          "metadata": {
            "tags": []
          }
        },
        {
          "output_type": "display_data",
          "data": {
            "text/html": [
              "<pre>recommendations finished on 90000/160377 queries. users per second: 3222.84</pre>"
            ],
            "text/plain": [
              "recommendations finished on 90000/160377 queries. users per second: 3222.84"
            ]
          },
          "metadata": {
            "tags": []
          }
        },
        {
          "output_type": "display_data",
          "data": {
            "text/html": [
              "<pre>recommendations finished on 91000/160377 queries. users per second: 3223.3</pre>"
            ],
            "text/plain": [
              "recommendations finished on 91000/160377 queries. users per second: 3223.3"
            ]
          },
          "metadata": {
            "tags": []
          }
        },
        {
          "output_type": "display_data",
          "data": {
            "text/html": [
              "<pre>recommendations finished on 92000/160377 queries. users per second: 3224.12</pre>"
            ],
            "text/plain": [
              "recommendations finished on 92000/160377 queries. users per second: 3224.12"
            ]
          },
          "metadata": {
            "tags": []
          }
        },
        {
          "output_type": "display_data",
          "data": {
            "text/html": [
              "<pre>recommendations finished on 93000/160377 queries. users per second: 3223.74</pre>"
            ],
            "text/plain": [
              "recommendations finished on 93000/160377 queries. users per second: 3223.74"
            ]
          },
          "metadata": {
            "tags": []
          }
        },
        {
          "output_type": "display_data",
          "data": {
            "text/html": [
              "<pre>recommendations finished on 94000/160377 queries. users per second: 3224.51</pre>"
            ],
            "text/plain": [
              "recommendations finished on 94000/160377 queries. users per second: 3224.51"
            ]
          },
          "metadata": {
            "tags": []
          }
        },
        {
          "output_type": "display_data",
          "data": {
            "text/html": [
              "<pre>recommendations finished on 95000/160377 queries. users per second: 3224.84</pre>"
            ],
            "text/plain": [
              "recommendations finished on 95000/160377 queries. users per second: 3224.84"
            ]
          },
          "metadata": {
            "tags": []
          }
        },
        {
          "output_type": "display_data",
          "data": {
            "text/html": [
              "<pre>recommendations finished on 96000/160377 queries. users per second: 3224.3</pre>"
            ],
            "text/plain": [
              "recommendations finished on 96000/160377 queries. users per second: 3224.3"
            ]
          },
          "metadata": {
            "tags": []
          }
        },
        {
          "output_type": "display_data",
          "data": {
            "text/html": [
              "<pre>recommendations finished on 97000/160377 queries. users per second: 3225.21</pre>"
            ],
            "text/plain": [
              "recommendations finished on 97000/160377 queries. users per second: 3225.21"
            ]
          },
          "metadata": {
            "tags": []
          }
        },
        {
          "output_type": "display_data",
          "data": {
            "text/html": [
              "<pre>recommendations finished on 98000/160377 queries. users per second: 3225.09</pre>"
            ],
            "text/plain": [
              "recommendations finished on 98000/160377 queries. users per second: 3225.09"
            ]
          },
          "metadata": {
            "tags": []
          }
        },
        {
          "output_type": "display_data",
          "data": {
            "text/html": [
              "<pre>recommendations finished on 99000/160377 queries. users per second: 3225.5</pre>"
            ],
            "text/plain": [
              "recommendations finished on 99000/160377 queries. users per second: 3225.5"
            ]
          },
          "metadata": {
            "tags": []
          }
        },
        {
          "output_type": "display_data",
          "data": {
            "text/html": [
              "<pre>recommendations finished on 100000/160377 queries. users per second: 3225.59</pre>"
            ],
            "text/plain": [
              "recommendations finished on 100000/160377 queries. users per second: 3225.59"
            ]
          },
          "metadata": {
            "tags": []
          }
        },
        {
          "output_type": "display_data",
          "data": {
            "text/html": [
              "<pre>recommendations finished on 101000/160377 queries. users per second: 3226.21</pre>"
            ],
            "text/plain": [
              "recommendations finished on 101000/160377 queries. users per second: 3226.21"
            ]
          },
          "metadata": {
            "tags": []
          }
        },
        {
          "output_type": "display_data",
          "data": {
            "text/html": [
              "<pre>recommendations finished on 102000/160377 queries. users per second: 3226.64</pre>"
            ],
            "text/plain": [
              "recommendations finished on 102000/160377 queries. users per second: 3226.64"
            ]
          },
          "metadata": {
            "tags": []
          }
        },
        {
          "output_type": "display_data",
          "data": {
            "text/html": [
              "<pre>recommendations finished on 103000/160377 queries. users per second: 3226.81</pre>"
            ],
            "text/plain": [
              "recommendations finished on 103000/160377 queries. users per second: 3226.81"
            ]
          },
          "metadata": {
            "tags": []
          }
        },
        {
          "output_type": "display_data",
          "data": {
            "text/html": [
              "<pre>recommendations finished on 104000/160377 queries. users per second: 3225.27</pre>"
            ],
            "text/plain": [
              "recommendations finished on 104000/160377 queries. users per second: 3225.27"
            ]
          },
          "metadata": {
            "tags": []
          }
        },
        {
          "output_type": "display_data",
          "data": {
            "text/html": [
              "<pre>recommendations finished on 105000/160377 queries. users per second: 3225.94</pre>"
            ],
            "text/plain": [
              "recommendations finished on 105000/160377 queries. users per second: 3225.94"
            ]
          },
          "metadata": {
            "tags": []
          }
        },
        {
          "output_type": "display_data",
          "data": {
            "text/html": [
              "<pre>recommendations finished on 106000/160377 queries. users per second: 3225.53</pre>"
            ],
            "text/plain": [
              "recommendations finished on 106000/160377 queries. users per second: 3225.53"
            ]
          },
          "metadata": {
            "tags": []
          }
        },
        {
          "output_type": "display_data",
          "data": {
            "text/html": [
              "<pre>recommendations finished on 107000/160377 queries. users per second: 3225.45</pre>"
            ],
            "text/plain": [
              "recommendations finished on 107000/160377 queries. users per second: 3225.45"
            ]
          },
          "metadata": {
            "tags": []
          }
        },
        {
          "output_type": "display_data",
          "data": {
            "text/html": [
              "<pre>recommendations finished on 108000/160377 queries. users per second: 3225.78</pre>"
            ],
            "text/plain": [
              "recommendations finished on 108000/160377 queries. users per second: 3225.78"
            ]
          },
          "metadata": {
            "tags": []
          }
        },
        {
          "output_type": "display_data",
          "data": {
            "text/html": [
              "<pre>recommendations finished on 109000/160377 queries. users per second: 3225.98</pre>"
            ],
            "text/plain": [
              "recommendations finished on 109000/160377 queries. users per second: 3225.98"
            ]
          },
          "metadata": {
            "tags": []
          }
        },
        {
          "output_type": "display_data",
          "data": {
            "text/html": [
              "<pre>recommendations finished on 110000/160377 queries. users per second: 3225.67</pre>"
            ],
            "text/plain": [
              "recommendations finished on 110000/160377 queries. users per second: 3225.67"
            ]
          },
          "metadata": {
            "tags": []
          }
        },
        {
          "output_type": "display_data",
          "data": {
            "text/html": [
              "<pre>recommendations finished on 111000/160377 queries. users per second: 3226.34</pre>"
            ],
            "text/plain": [
              "recommendations finished on 111000/160377 queries. users per second: 3226.34"
            ]
          },
          "metadata": {
            "tags": []
          }
        },
        {
          "output_type": "display_data",
          "data": {
            "text/html": [
              "<pre>recommendations finished on 112000/160377 queries. users per second: 3226.65</pre>"
            ],
            "text/plain": [
              "recommendations finished on 112000/160377 queries. users per second: 3226.65"
            ]
          },
          "metadata": {
            "tags": []
          }
        },
        {
          "output_type": "display_data",
          "data": {
            "text/html": [
              "<pre>recommendations finished on 113000/160377 queries. users per second: 3226.72</pre>"
            ],
            "text/plain": [
              "recommendations finished on 113000/160377 queries. users per second: 3226.72"
            ]
          },
          "metadata": {
            "tags": []
          }
        },
        {
          "output_type": "display_data",
          "data": {
            "text/html": [
              "<pre>recommendations finished on 114000/160377 queries. users per second: 3227.14</pre>"
            ],
            "text/plain": [
              "recommendations finished on 114000/160377 queries. users per second: 3227.14"
            ]
          },
          "metadata": {
            "tags": []
          }
        },
        {
          "output_type": "display_data",
          "data": {
            "text/html": [
              "<pre>recommendations finished on 115000/160377 queries. users per second: 3227.46</pre>"
            ],
            "text/plain": [
              "recommendations finished on 115000/160377 queries. users per second: 3227.46"
            ]
          },
          "metadata": {
            "tags": []
          }
        },
        {
          "output_type": "display_data",
          "data": {
            "text/html": [
              "<pre>recommendations finished on 116000/160377 queries. users per second: 3227.18</pre>"
            ],
            "text/plain": [
              "recommendations finished on 116000/160377 queries. users per second: 3227.18"
            ]
          },
          "metadata": {
            "tags": []
          }
        },
        {
          "output_type": "display_data",
          "data": {
            "text/html": [
              "<pre>recommendations finished on 117000/160377 queries. users per second: 3227.54</pre>"
            ],
            "text/plain": [
              "recommendations finished on 117000/160377 queries. users per second: 3227.54"
            ]
          },
          "metadata": {
            "tags": []
          }
        },
        {
          "output_type": "display_data",
          "data": {
            "text/html": [
              "<pre>recommendations finished on 118000/160377 queries. users per second: 3227.95</pre>"
            ],
            "text/plain": [
              "recommendations finished on 118000/160377 queries. users per second: 3227.95"
            ]
          },
          "metadata": {
            "tags": []
          }
        },
        {
          "output_type": "display_data",
          "data": {
            "text/html": [
              "<pre>recommendations finished on 119000/160377 queries. users per second: 3228.16</pre>"
            ],
            "text/plain": [
              "recommendations finished on 119000/160377 queries. users per second: 3228.16"
            ]
          },
          "metadata": {
            "tags": []
          }
        },
        {
          "output_type": "display_data",
          "data": {
            "text/html": [
              "<pre>recommendations finished on 120000/160377 queries. users per second: 3228.6</pre>"
            ],
            "text/plain": [
              "recommendations finished on 120000/160377 queries. users per second: 3228.6"
            ]
          },
          "metadata": {
            "tags": []
          }
        },
        {
          "output_type": "display_data",
          "data": {
            "text/html": [
              "<pre>recommendations finished on 121000/160377 queries. users per second: 3228.69</pre>"
            ],
            "text/plain": [
              "recommendations finished on 121000/160377 queries. users per second: 3228.69"
            ]
          },
          "metadata": {
            "tags": []
          }
        },
        {
          "output_type": "display_data",
          "data": {
            "text/html": [
              "<pre>recommendations finished on 122000/160377 queries. users per second: 3229.29</pre>"
            ],
            "text/plain": [
              "recommendations finished on 122000/160377 queries. users per second: 3229.29"
            ]
          },
          "metadata": {
            "tags": []
          }
        },
        {
          "output_type": "display_data",
          "data": {
            "text/html": [
              "<pre>recommendations finished on 123000/160377 queries. users per second: 3228.27</pre>"
            ],
            "text/plain": [
              "recommendations finished on 123000/160377 queries. users per second: 3228.27"
            ]
          },
          "metadata": {
            "tags": []
          }
        },
        {
          "output_type": "display_data",
          "data": {
            "text/html": [
              "<pre>recommendations finished on 124000/160377 queries. users per second: 3228.35</pre>"
            ],
            "text/plain": [
              "recommendations finished on 124000/160377 queries. users per second: 3228.35"
            ]
          },
          "metadata": {
            "tags": []
          }
        },
        {
          "output_type": "display_data",
          "data": {
            "text/html": [
              "<pre>recommendations finished on 125000/160377 queries. users per second: 3228.58</pre>"
            ],
            "text/plain": [
              "recommendations finished on 125000/160377 queries. users per second: 3228.58"
            ]
          },
          "metadata": {
            "tags": []
          }
        },
        {
          "output_type": "display_data",
          "data": {
            "text/html": [
              "<pre>recommendations finished on 126000/160377 queries. users per second: 3228.41</pre>"
            ],
            "text/plain": [
              "recommendations finished on 126000/160377 queries. users per second: 3228.41"
            ]
          },
          "metadata": {
            "tags": []
          }
        },
        {
          "output_type": "display_data",
          "data": {
            "text/html": [
              "<pre>recommendations finished on 127000/160377 queries. users per second: 3228.79</pre>"
            ],
            "text/plain": [
              "recommendations finished on 127000/160377 queries. users per second: 3228.79"
            ]
          },
          "metadata": {
            "tags": []
          }
        },
        {
          "output_type": "display_data",
          "data": {
            "text/html": [
              "<pre>recommendations finished on 128000/160377 queries. users per second: 3229.09</pre>"
            ],
            "text/plain": [
              "recommendations finished on 128000/160377 queries. users per second: 3229.09"
            ]
          },
          "metadata": {
            "tags": []
          }
        },
        {
          "output_type": "display_data",
          "data": {
            "text/html": [
              "<pre>recommendations finished on 129000/160377 queries. users per second: 3229.02</pre>"
            ],
            "text/plain": [
              "recommendations finished on 129000/160377 queries. users per second: 3229.02"
            ]
          },
          "metadata": {
            "tags": []
          }
        },
        {
          "output_type": "display_data",
          "data": {
            "text/html": [
              "<pre>recommendations finished on 130000/160377 queries. users per second: 3229.33</pre>"
            ],
            "text/plain": [
              "recommendations finished on 130000/160377 queries. users per second: 3229.33"
            ]
          },
          "metadata": {
            "tags": []
          }
        },
        {
          "output_type": "display_data",
          "data": {
            "text/html": [
              "<pre>recommendations finished on 131000/160377 queries. users per second: 3229.54</pre>"
            ],
            "text/plain": [
              "recommendations finished on 131000/160377 queries. users per second: 3229.54"
            ]
          },
          "metadata": {
            "tags": []
          }
        },
        {
          "output_type": "display_data",
          "data": {
            "text/html": [
              "<pre>recommendations finished on 132000/160377 queries. users per second: 3230.15</pre>"
            ],
            "text/plain": [
              "recommendations finished on 132000/160377 queries. users per second: 3230.15"
            ]
          },
          "metadata": {
            "tags": []
          }
        },
        {
          "output_type": "display_data",
          "data": {
            "text/html": [
              "<pre>recommendations finished on 133000/160377 queries. users per second: 3229.76</pre>"
            ],
            "text/plain": [
              "recommendations finished on 133000/160377 queries. users per second: 3229.76"
            ]
          },
          "metadata": {
            "tags": []
          }
        },
        {
          "output_type": "display_data",
          "data": {
            "text/html": [
              "<pre>recommendations finished on 134000/160377 queries. users per second: 3230.23</pre>"
            ],
            "text/plain": [
              "recommendations finished on 134000/160377 queries. users per second: 3230.23"
            ]
          },
          "metadata": {
            "tags": []
          }
        },
        {
          "output_type": "display_data",
          "data": {
            "text/html": [
              "<pre>recommendations finished on 135000/160377 queries. users per second: 3229.52</pre>"
            ],
            "text/plain": [
              "recommendations finished on 135000/160377 queries. users per second: 3229.52"
            ]
          },
          "metadata": {
            "tags": []
          }
        },
        {
          "output_type": "display_data",
          "data": {
            "text/html": [
              "<pre>recommendations finished on 136000/160377 queries. users per second: 3228.41</pre>"
            ],
            "text/plain": [
              "recommendations finished on 136000/160377 queries. users per second: 3228.41"
            ]
          },
          "metadata": {
            "tags": []
          }
        },
        {
          "output_type": "display_data",
          "data": {
            "text/html": [
              "<pre>recommendations finished on 137000/160377 queries. users per second: 3228.71</pre>"
            ],
            "text/plain": [
              "recommendations finished on 137000/160377 queries. users per second: 3228.71"
            ]
          },
          "metadata": {
            "tags": []
          }
        },
        {
          "output_type": "display_data",
          "data": {
            "text/html": [
              "<pre>recommendations finished on 138000/160377 queries. users per second: 3227.86</pre>"
            ],
            "text/plain": [
              "recommendations finished on 138000/160377 queries. users per second: 3227.86"
            ]
          },
          "metadata": {
            "tags": []
          }
        },
        {
          "output_type": "display_data",
          "data": {
            "text/html": [
              "<pre>recommendations finished on 139000/160377 queries. users per second: 3227.52</pre>"
            ],
            "text/plain": [
              "recommendations finished on 139000/160377 queries. users per second: 3227.52"
            ]
          },
          "metadata": {
            "tags": []
          }
        },
        {
          "output_type": "display_data",
          "data": {
            "text/html": [
              "<pre>recommendations finished on 140000/160377 queries. users per second: 3228.01</pre>"
            ],
            "text/plain": [
              "recommendations finished on 140000/160377 queries. users per second: 3228.01"
            ]
          },
          "metadata": {
            "tags": []
          }
        },
        {
          "output_type": "display_data",
          "data": {
            "text/html": [
              "<pre>recommendations finished on 141000/160377 queries. users per second: 3227.64</pre>"
            ],
            "text/plain": [
              "recommendations finished on 141000/160377 queries. users per second: 3227.64"
            ]
          },
          "metadata": {
            "tags": []
          }
        },
        {
          "output_type": "display_data",
          "data": {
            "text/html": [
              "<pre>recommendations finished on 142000/160377 queries. users per second: 3227.62</pre>"
            ],
            "text/plain": [
              "recommendations finished on 142000/160377 queries. users per second: 3227.62"
            ]
          },
          "metadata": {
            "tags": []
          }
        },
        {
          "output_type": "display_data",
          "data": {
            "text/html": [
              "<pre>recommendations finished on 143000/160377 queries. users per second: 3227.57</pre>"
            ],
            "text/plain": [
              "recommendations finished on 143000/160377 queries. users per second: 3227.57"
            ]
          },
          "metadata": {
            "tags": []
          }
        },
        {
          "output_type": "display_data",
          "data": {
            "text/html": [
              "<pre>recommendations finished on 144000/160377 queries. users per second: 3227.93</pre>"
            ],
            "text/plain": [
              "recommendations finished on 144000/160377 queries. users per second: 3227.93"
            ]
          },
          "metadata": {
            "tags": []
          }
        },
        {
          "output_type": "display_data",
          "data": {
            "text/html": [
              "<pre>recommendations finished on 145000/160377 queries. users per second: 3228.32</pre>"
            ],
            "text/plain": [
              "recommendations finished on 145000/160377 queries. users per second: 3228.32"
            ]
          },
          "metadata": {
            "tags": []
          }
        },
        {
          "output_type": "display_data",
          "data": {
            "text/html": [
              "<pre>recommendations finished on 146000/160377 queries. users per second: 3228.38</pre>"
            ],
            "text/plain": [
              "recommendations finished on 146000/160377 queries. users per second: 3228.38"
            ]
          },
          "metadata": {
            "tags": []
          }
        },
        {
          "output_type": "display_data",
          "data": {
            "text/html": [
              "<pre>recommendations finished on 147000/160377 queries. users per second: 3228.15</pre>"
            ],
            "text/plain": [
              "recommendations finished on 147000/160377 queries. users per second: 3228.15"
            ]
          },
          "metadata": {
            "tags": []
          }
        },
        {
          "output_type": "display_data",
          "data": {
            "text/html": [
              "<pre>recommendations finished on 148000/160377 queries. users per second: 3228.41</pre>"
            ],
            "text/plain": [
              "recommendations finished on 148000/160377 queries. users per second: 3228.41"
            ]
          },
          "metadata": {
            "tags": []
          }
        },
        {
          "output_type": "display_data",
          "data": {
            "text/html": [
              "<pre>recommendations finished on 149000/160377 queries. users per second: 3228.48</pre>"
            ],
            "text/plain": [
              "recommendations finished on 149000/160377 queries. users per second: 3228.48"
            ]
          },
          "metadata": {
            "tags": []
          }
        },
        {
          "output_type": "display_data",
          "data": {
            "text/html": [
              "<pre>recommendations finished on 150000/160377 queries. users per second: 3228.77</pre>"
            ],
            "text/plain": [
              "recommendations finished on 150000/160377 queries. users per second: 3228.77"
            ]
          },
          "metadata": {
            "tags": []
          }
        },
        {
          "output_type": "display_data",
          "data": {
            "text/html": [
              "<pre>recommendations finished on 151000/160377 queries. users per second: 3228.88</pre>"
            ],
            "text/plain": [
              "recommendations finished on 151000/160377 queries. users per second: 3228.88"
            ]
          },
          "metadata": {
            "tags": []
          }
        },
        {
          "output_type": "display_data",
          "data": {
            "text/html": [
              "<pre>recommendations finished on 152000/160377 queries. users per second: 3228.79</pre>"
            ],
            "text/plain": [
              "recommendations finished on 152000/160377 queries. users per second: 3228.79"
            ]
          },
          "metadata": {
            "tags": []
          }
        },
        {
          "output_type": "display_data",
          "data": {
            "text/html": [
              "<pre>recommendations finished on 153000/160377 queries. users per second: 3229.19</pre>"
            ],
            "text/plain": [
              "recommendations finished on 153000/160377 queries. users per second: 3229.19"
            ]
          },
          "metadata": {
            "tags": []
          }
        },
        {
          "output_type": "display_data",
          "data": {
            "text/html": [
              "<pre>recommendations finished on 154000/160377 queries. users per second: 3229.4</pre>"
            ],
            "text/plain": [
              "recommendations finished on 154000/160377 queries. users per second: 3229.4"
            ]
          },
          "metadata": {
            "tags": []
          }
        },
        {
          "output_type": "display_data",
          "data": {
            "text/html": [
              "<pre>recommendations finished on 155000/160377 queries. users per second: 3229.92</pre>"
            ],
            "text/plain": [
              "recommendations finished on 155000/160377 queries. users per second: 3229.92"
            ]
          },
          "metadata": {
            "tags": []
          }
        },
        {
          "output_type": "display_data",
          "data": {
            "text/html": [
              "<pre>recommendations finished on 156000/160377 queries. users per second: 3229.42</pre>"
            ],
            "text/plain": [
              "recommendations finished on 156000/160377 queries. users per second: 3229.42"
            ]
          },
          "metadata": {
            "tags": []
          }
        },
        {
          "output_type": "display_data",
          "data": {
            "text/html": [
              "<pre>recommendations finished on 157000/160377 queries. users per second: 3229.67</pre>"
            ],
            "text/plain": [
              "recommendations finished on 157000/160377 queries. users per second: 3229.67"
            ]
          },
          "metadata": {
            "tags": []
          }
        },
        {
          "output_type": "display_data",
          "data": {
            "text/html": [
              "<pre>recommendations finished on 158000/160377 queries. users per second: 3230.07</pre>"
            ],
            "text/plain": [
              "recommendations finished on 158000/160377 queries. users per second: 3230.07"
            ]
          },
          "metadata": {
            "tags": []
          }
        },
        {
          "output_type": "display_data",
          "data": {
            "text/html": [
              "<pre>recommendations finished on 159000/160377 queries. users per second: 3228.34</pre>"
            ],
            "text/plain": [
              "recommendations finished on 159000/160377 queries. users per second: 3228.34"
            ]
          },
          "metadata": {
            "tags": []
          }
        },
        {
          "output_type": "display_data",
          "data": {
            "text/html": [
              "<pre>recommendations finished on 160000/160377 queries. users per second: 3226.36</pre>"
            ],
            "text/plain": [
              "recommendations finished on 160000/160377 queries. users per second: 3226.36"
            ]
          },
          "metadata": {
            "tags": []
          }
        }
      ]
    },
    {
      "cell_type": "markdown",
      "metadata": {
        "id": "rDXg3N2muqH2"
      },
      "source": [
        "#Bandingin model"
      ]
    },
    {
      "cell_type": "code",
      "metadata": {
        "colab": {
          "base_uri": "https://localhost:8080/"
        },
        "id": "Yi2mtx5CnART",
        "outputId": "6011f606-ca52-4431-f28e-0fa53c3091f8"
      },
      "source": [
        "model.evaluate_precision_recall(validation_data)"
      ],
      "execution_count": null,
      "outputs": [
        {
          "output_type": "execute_result",
          "data": {
            "text/plain": [
              "{'precision_recall_by_user': Columns:\n",
              " \tuser_id\tint\n",
              " \tcutoff\tint\n",
              " \tprecision\tfloat\n",
              " \trecall\tfloat\n",
              " \tcount\tint\n",
              " \n",
              " Rows: 15714\n",
              " \n",
              " Data:\n",
              " +---------+--------+-----------+--------+-------+\n",
              " | user_id | cutoff | precision | recall | count |\n",
              " +---------+--------+-----------+--------+-------+\n",
              " |  99274  |   1    |    0.0    |  0.0   |   3   |\n",
              " |  99274  |   2    |    0.0    |  0.0   |   3   |\n",
              " |  99274  |   3    |    0.0    |  0.0   |   3   |\n",
              " |  99274  |   4    |    0.0    |  0.0   |   3   |\n",
              " |  99274  |   5    |    0.0    |  0.0   |   3   |\n",
              " |  99274  |   6    |    0.0    |  0.0   |   3   |\n",
              " |  99274  |   7    |    0.0    |  0.0   |   3   |\n",
              " |  99274  |   8    |    0.0    |  0.0   |   3   |\n",
              " |  99274  |   9    |    0.0    |  0.0   |   3   |\n",
              " |  99274  |   10   |    0.0    |  0.0   |   3   |\n",
              " +---------+--------+-----------+--------+-------+\n",
              " [15714 rows x 5 columns]\n",
              " Note: Only the head of the SFrame is printed.\n",
              " You can use print_rows(num_rows=m, num_columns=n) to print more rows and columns.,\n",
              " 'precision_recall_overall': Columns:\n",
              " \tcutoff\tint\n",
              " \tprecision\tfloat\n",
              " \trecall\tfloat\n",
              " \n",
              " Rows: 18\n",
              " \n",
              " Data:\n",
              " +--------+----------------------+----------------------+\n",
              " | cutoff |      precision       |        recall        |\n",
              " +--------+----------------------+----------------------+\n",
              " |   1    | 0.008018327605956471 | 0.002147766323024056 |\n",
              " |   2    | 0.010882016036655213 | 0.006531936944308078 |\n",
              " |   3    | 0.010309278350515462 | 0.009436989763450246 |\n",
              " |   4    | 0.009450171821305841 | 0.010743831706031019 |\n",
              " |   5    | 0.00962199312714777  | 0.014371170384916088 |\n",
              " |   6    | 0.009927453226422293 | 0.018803523700430917 |\n",
              " |   7    | 0.009327442317133039 | 0.021258113783886975 |\n",
              " |   8    | 0.008734249713631155 | 0.023026130119361853 |\n",
              " |   9    | 0.008527427771414024 | 0.025642128096184557 |\n",
              " |   10   | 0.008247422680412364 | 0.02783015206816192  |\n",
              " +--------+----------------------+----------------------+\n",
              " [18 rows x 3 columns]\n",
              " Note: Only the head of the SFrame is printed.\n",
              " You can use print_rows(num_rows=m, num_columns=n) to print more rows and columns.}"
            ]
          },
          "metadata": {
            "tags": []
          },
          "execution_count": 46
        }
      ]
    },
    {
      "cell_type": "code",
      "metadata": {
        "colab": {
          "base_uri": "https://localhost:8080/"
        },
        "id": "1M06W38jWryq",
        "outputId": "7af0621f-4f1e-495a-e7e4-c6f9115077df"
      },
      "source": [
        "item_sim_model.evaluate_precision_recall(validation_data)"
      ],
      "execution_count": null,
      "outputs": [
        {
          "output_type": "execute_result",
          "data": {
            "text/plain": [
              "{'precision_recall_by_user': Columns:\n",
              " \tuser_id\tint\n",
              " \tcutoff\tint\n",
              " \tprecision\tfloat\n",
              " \trecall\tfloat\n",
              " \tcount\tint\n",
              " \n",
              " Rows: 15732\n",
              " \n",
              " Data:\n",
              " +---------+--------+-----------+--------+-------+\n",
              " | user_id | cutoff | precision | recall | count |\n",
              " +---------+--------+-----------+--------+-------+\n",
              " |  206854 |   1    |    0.0    |  0.0   |   4   |\n",
              " |  206854 |   2    |    0.0    |  0.0   |   4   |\n",
              " |  206854 |   3    |    0.0    |  0.0   |   4   |\n",
              " |  206854 |   4    |    0.0    |  0.0   |   4   |\n",
              " |  206854 |   5    |    0.0    |  0.0   |   4   |\n",
              " |  206854 |   6    |    0.0    |  0.0   |   4   |\n",
              " |  206854 |   7    |    0.0    |  0.0   |   4   |\n",
              " |  206854 |   8    |    0.0    |  0.0   |   4   |\n",
              " |  206854 |   9    |    0.0    |  0.0   |   4   |\n",
              " |  206854 |   10   |    0.0    |  0.0   |   4   |\n",
              " +---------+--------+-----------+--------+-------+\n",
              " [15732 rows x 5 columns]\n",
              " Note: Only the head of the SFrame is printed.\n",
              " You can use print_rows(num_rows=m, num_columns=n) to print more rows and columns.,\n",
              " 'precision_recall_overall': Columns:\n",
              " \tcutoff\tint\n",
              " \tprecision\tfloat\n",
              " \trecall\tfloat\n",
              " \n",
              " Rows: 18\n",
              " \n",
              " Data:\n",
              " +--------+---------------------+---------------------+\n",
              " | cutoff |      precision      |        recall       |\n",
              " +--------+---------------------+---------------------+\n",
              " |   1    | 0.14645308924485126 |  0.0563819951758317 |\n",
              " |   2    | 0.12013729977116705 | 0.08757853145786701 |\n",
              " |   3    | 0.10488176964149509 | 0.11917489947367242 |\n",
              " |   4    | 0.09153318077803202 |  0.1379900247247244 |\n",
              " |   5    | 0.08466819221967964 |  0.1575259690302189 |\n",
              " |   6    | 0.07684973302822273 | 0.16952964117529498 |\n",
              " |   7    | 0.07012095456031381 | 0.18033385185975007 |\n",
              " |   8    | 0.06636155606407322 | 0.19141112411113723 |\n",
              " |   9    | 0.06318332062039159 |  0.2010063551801535 |\n",
              " |   10   | 0.06029748283752862 | 0.21280302268334267 |\n",
              " +--------+---------------------+---------------------+\n",
              " [18 rows x 3 columns]\n",
              " Note: Only the head of the SFrame is printed.\n",
              " You can use print_rows(num_rows=m, num_columns=n) to print more rows and columns.}"
            ]
          },
          "metadata": {
            "tags": []
          },
          "execution_count": 34
        }
      ]
    },
    {
      "cell_type": "code",
      "metadata": {
        "colab": {
          "base_uri": "https://localhost:8080/"
        },
        "id": "zcBjSZQaWGMC",
        "outputId": "8b8c6c66-5d0a-4d82-c3cc-263ed8fb5e4f"
      },
      "source": [
        "model_performance = tc.recommender.util.compare_models = (validation_data, [model, item_sim_model])\n",
        "print (model_performance)"
      ],
      "execution_count": null,
      "outputs": [
        {
          "output_type": "stream",
          "text": [
            "(Columns:\n",
            "\tuser_id\tint\n",
            "\tarticle_id\tint\n",
            "\tcategory_id\tstr\n",
            "\n",
            "Rows: 3397\n",
            "\n",
            "Data:\n",
            "+---------+------------+-------------+\n",
            "| user_id | article_id | category_id |\n",
            "+---------+------------+-------------+\n",
            "|  46924  |   209236   |     332     |\n",
            "|  26703  |   331116   |     436     |\n",
            "|  26703  |   315146   |     431     |\n",
            "|  31842  |   202355   |     327     |\n",
            "|  31842  |   202559   |     327     |\n",
            "|  20410  |   331116   |     436     |\n",
            "|  26110  |   168761   |     297     |\n",
            "|  36687  |   183716   |     301     |\n",
            "|  233069 |   195881   |     317     |\n",
            "|  22894  |   218028   |     352     |\n",
            "+---------+------------+-------------+\n",
            "[3397 rows x 3 columns]\n",
            "Note: Only the head of the SFrame is printed.\n",
            "You can use print_rows(num_rows=m, num_columns=n) to print more rows and columns., [Class                            : RankingFactorizationRecommender\n",
            "\n",
            "Schema\n",
            "------\n",
            "User ID                          : user_id\n",
            "Item ID                          : article_id\n",
            "Target                           : None\n",
            "Additional observation features  : 1\n",
            "User side features               : []\n",
            "Item side features               : []\n",
            "\n",
            "Statistics\n",
            "----------\n",
            "Number of observations           : 2560220\n",
            "Number of users                  : 160377\n",
            "Number of items                  : 37869\n",
            "\n",
            "Training summary\n",
            "----------------\n",
            "Training time                    : 274.0395\n",
            "\n",
            "Model Parameters\n",
            "----------------\n",
            "Model class                      : RankingFactorizationRecommender\n",
            "num_factors                      : 32\n",
            "binary_target                    : 1\n",
            "side_data_factorization          : 1\n",
            "solver                           : auto\n",
            "nmf                              : 0\n",
            "max_iterations                   : 25\n",
            "\n",
            "Regularization Settings\n",
            "-----------------------\n",
            "regularization                   : 0.0\n",
            "regularization_type              : normal\n",
            "linear_regularization            : 0.0\n",
            "ranking_regularization           : 0.25\n",
            "unobserved_rating_value          : -1.7976931348623157e+308\n",
            "num_sampled_negative_examples    : 4\n",
            "ials_confidence_scaling_type     : auto\n",
            "ials_confidence_scaling_factor   : 1\n",
            "\n",
            "Optimization Settings\n",
            "---------------------\n",
            "init_random_sigma                : 0.01\n",
            "sgd_convergence_interval         : 4\n",
            "sgd_convergence_threshold        : 0.0\n",
            "sgd_max_trial_iterations         : 5\n",
            "sgd_sampling_block_size          : 131072\n",
            "sgd_step_adjustment_interval     : 4\n",
            "sgd_step_size                    : 0.0\n",
            "sgd_trial_sample_minimum_size    : 10000\n",
            "sgd_trial_sample_proportion      : 0.125\n",
            "step_size_decrease_rate          : 0.75\n",
            "additional_iterations_if_unhealthy : 5\n",
            "adagrad_momentum_weighting       : 0.9\n",
            "num_tempering_iterations         : 4\n",
            "tempering_regularization_start_value : 0.0\n",
            "track_exact_loss                 : 0\n",
            ", Class                            : ItemSimilarityRecommender\n",
            "\n",
            "Schema\n",
            "------\n",
            "User ID                          : user_id\n",
            "Item ID                          : article_id\n",
            "Target                           : None\n",
            "Additional observation features  : 0\n",
            "User side features               : []\n",
            "Item side features               : []\n",
            "\n",
            "Statistics\n",
            "----------\n",
            "Number of observations           : 2560220\n",
            "Number of users                  : 160377\n",
            "Number of items                  : 37869\n",
            "\n",
            "Training summary\n",
            "----------------\n",
            "Training time                    : 29.4422\n",
            "\n",
            "Model Parameters\n",
            "----------------\n",
            "Model class                      : ItemSimilarityRecommender\n",
            "threshold                        : 0.001\n",
            "similarity_type                  : cosine\n",
            "training_method                  : auto\n",
            "\n",
            "Other Settings\n",
            "--------------\n",
            "degree_approximation_threshold   : 4096\n",
            "max_data_passes                  : 4096\n",
            "max_item_neighborhood_size       : 64\n",
            "nearest_neighbors_interaction_proportion_threshold : 0.05\n",
            "seed_item_set_size               : 50\n",
            "sparse_density_estimation_sample_size : 4096\n",
            "target_memory_usage              : 8589934592\n",
            "])\n"
          ],
          "name": "stdout"
        }
      ]
    },
    {
      "cell_type": "markdown",
      "metadata": {
        "id": "xoRRtj4uuvqC"
      },
      "source": [
        "# Rekomendasi"
      ]
    },
    {
      "cell_type": "code",
      "metadata": {
        "colab": {
          "base_uri": "https://localhost:8080/",
          "height": 310
        },
        "id": "gB6ERdL5JOMM",
        "outputId": "f9a5030c-52ef-400a-ba43-91f3b8c3d7b6"
      },
      "source": [
        "%time\n",
        "item_sim_recomm"
      ],
      "execution_count": null,
      "outputs": [
        {
          "output_type": "stream",
          "text": [
            "CPU times: user 4 µs, sys: 0 ns, total: 4 µs\n",
            "Wall time: 9.06 µs\n"
          ],
          "name": "stdout"
        },
        {
          "output_type": "execute_result",
          "data": {
            "text/html": [
              "<div style=\"max-height:1000px;max-width:1500px;overflow:auto;\"><table frame=\"box\" rules=\"cols\">\n",
              "    <tr>\n",
              "        <th style=\"padding-left: 1em; padding-right: 1em; text-align: center\">user_id</th>\n",
              "        <th style=\"padding-left: 1em; padding-right: 1em; text-align: center\">article_id</th>\n",
              "        <th style=\"padding-left: 1em; padding-right: 1em; text-align: center\">score</th>\n",
              "        <th style=\"padding-left: 1em; padding-right: 1em; text-align: center\">rank</th>\n",
              "    </tr>\n",
              "    <tr>\n",
              "        <td style=\"padding-left: 1em; padding-right: 1em; text-align: center; vertical-align: top\">29403</td>\n",
              "        <td style=\"padding-left: 1em; padding-right: 1em; text-align: center; vertical-align: top\">272143</td>\n",
              "        <td style=\"padding-left: 1em; padding-right: 1em; text-align: center; vertical-align: top\">0.0713270256916682</td>\n",
              "        <td style=\"padding-left: 1em; padding-right: 1em; text-align: center; vertical-align: top\">1</td>\n",
              "    </tr>\n",
              "    <tr>\n",
              "        <td style=\"padding-left: 1em; padding-right: 1em; text-align: center; vertical-align: top\">29403</td>\n",
              "        <td style=\"padding-left: 1em; padding-right: 1em; text-align: center; vertical-align: top\">331116</td>\n",
              "        <td style=\"padding-left: 1em; padding-right: 1em; text-align: center; vertical-align: top\">0.06542522211869557</td>\n",
              "        <td style=\"padding-left: 1em; padding-right: 1em; text-align: center; vertical-align: top\">2</td>\n",
              "    </tr>\n",
              "    <tr>\n",
              "        <td style=\"padding-left: 1em; padding-right: 1em; text-align: center; vertical-align: top\">29403</td>\n",
              "        <td style=\"padding-left: 1em; padding-right: 1em; text-align: center; vertical-align: top\">272660</td>\n",
              "        <td style=\"padding-left: 1em; padding-right: 1em; text-align: center; vertical-align: top\">0.06400906046231587</td>\n",
              "        <td style=\"padding-left: 1em; padding-right: 1em; text-align: center; vertical-align: top\">3</td>\n",
              "    </tr>\n",
              "    <tr>\n",
              "        <td style=\"padding-left: 1em; padding-right: 1em; text-align: center; vertical-align: top\">29403</td>\n",
              "        <td style=\"padding-left: 1em; padding-right: 1em; text-align: center; vertical-align: top\">209013</td>\n",
              "        <td style=\"padding-left: 1em; padding-right: 1em; text-align: center; vertical-align: top\">0.06085356076558431</td>\n",
              "        <td style=\"padding-left: 1em; padding-right: 1em; text-align: center; vertical-align: top\">4</td>\n",
              "    </tr>\n",
              "    <tr>\n",
              "        <td style=\"padding-left: 1em; padding-right: 1em; text-align: center; vertical-align: top\">29403</td>\n",
              "        <td style=\"padding-left: 1em; padding-right: 1em; text-align: center; vertical-align: top\">206785</td>\n",
              "        <td style=\"padding-left: 1em; padding-right: 1em; text-align: center; vertical-align: top\">0.0567471981048584</td>\n",
              "        <td style=\"padding-left: 1em; padding-right: 1em; text-align: center; vertical-align: top\">5</td>\n",
              "    </tr>\n",
              "    <tr>\n",
              "        <td style=\"padding-left: 1em; padding-right: 1em; text-align: center; vertical-align: top\">29403</td>\n",
              "        <td style=\"padding-left: 1em; padding-right: 1em; text-align: center; vertical-align: top\">160974</td>\n",
              "        <td style=\"padding-left: 1em; padding-right: 1em; text-align: center; vertical-align: top\">0.05438982446988424</td>\n",
              "        <td style=\"padding-left: 1em; padding-right: 1em; text-align: center; vertical-align: top\">6</td>\n",
              "    </tr>\n",
              "    <tr>\n",
              "        <td style=\"padding-left: 1em; padding-right: 1em; text-align: center; vertical-align: top\">29403</td>\n",
              "        <td style=\"padding-left: 1em; padding-right: 1em; text-align: center; vertical-align: top\">206763</td>\n",
              "        <td style=\"padding-left: 1em; padding-right: 1em; text-align: center; vertical-align: top\">0.05212643245855967</td>\n",
              "        <td style=\"padding-left: 1em; padding-right: 1em; text-align: center; vertical-align: top\">7</td>\n",
              "    </tr>\n",
              "    <tr>\n",
              "        <td style=\"padding-left: 1em; padding-right: 1em; text-align: center; vertical-align: top\">29403</td>\n",
              "        <td style=\"padding-left: 1em; padding-right: 1em; text-align: center; vertical-align: top\">156560</td>\n",
              "        <td style=\"padding-left: 1em; padding-right: 1em; text-align: center; vertical-align: top\">0.051204209526379905</td>\n",
              "        <td style=\"padding-left: 1em; padding-right: 1em; text-align: center; vertical-align: top\">8</td>\n",
              "    </tr>\n",
              "    <tr>\n",
              "        <td style=\"padding-left: 1em; padding-right: 1em; text-align: center; vertical-align: top\">29403</td>\n",
              "        <td style=\"padding-left: 1em; padding-right: 1em; text-align: center; vertical-align: top\">207603</td>\n",
              "        <td style=\"padding-left: 1em; padding-right: 1em; text-align: center; vertical-align: top\">0.05066779752572378</td>\n",
              "        <td style=\"padding-left: 1em; padding-right: 1em; text-align: center; vertical-align: top\">9</td>\n",
              "    </tr>\n",
              "    <tr>\n",
              "        <td style=\"padding-left: 1em; padding-right: 1em; text-align: center; vertical-align: top\">29403</td>\n",
              "        <td style=\"padding-left: 1em; padding-right: 1em; text-align: center; vertical-align: top\">209348</td>\n",
              "        <td style=\"padding-left: 1em; padding-right: 1em; text-align: center; vertical-align: top\">0.05025159319241842</td>\n",
              "        <td style=\"padding-left: 1em; padding-right: 1em; text-align: center; vertical-align: top\">10</td>\n",
              "    </tr>\n",
              "</table>\n",
              "[1603770 rows x 4 columns]<br/>Note: Only the head of the SFrame is printed.<br/>You can use print_rows(num_rows=m, num_columns=n) to print more rows and columns.\n",
              "</div>"
            ],
            "text/plain": [
              "Columns:\n",
              "\tuser_id\tint\n",
              "\tarticle_id\tint\n",
              "\tscore\tfloat\n",
              "\trank\tint\n",
              "\n",
              "Rows: 1603770\n",
              "\n",
              "Data:\n",
              "+---------+------------+----------------------+------+\n",
              "| user_id | article_id |        score         | rank |\n",
              "+---------+------------+----------------------+------+\n",
              "|  29403  |   272143   |  0.0713270256916682  |  1   |\n",
              "|  29403  |   331116   | 0.06542522211869557  |  2   |\n",
              "|  29403  |   272660   | 0.06400906046231587  |  3   |\n",
              "|  29403  |   209013   | 0.06085356076558431  |  4   |\n",
              "|  29403  |   206785   |  0.0567471981048584  |  5   |\n",
              "|  29403  |   160974   | 0.05438982446988424  |  6   |\n",
              "|  29403  |   206763   | 0.05212643245855967  |  7   |\n",
              "|  29403  |   156560   | 0.051204209526379905 |  8   |\n",
              "|  29403  |   207603   | 0.05066779752572378  |  9   |\n",
              "|  29403  |   209348   | 0.05025159319241842  |  10  |\n",
              "+---------+------------+----------------------+------+\n",
              "[1603770 rows x 4 columns]\n",
              "Note: Only the head of the SFrame is printed.\n",
              "You can use print_rows(num_rows=m, num_columns=n) to print more rows and columns."
            ]
          },
          "metadata": {
            "tags": []
          },
          "execution_count": 30
        }
      ]
    },
    {
      "cell_type": "code",
      "metadata": {
        "colab": {
          "base_uri": "https://localhost:8080/",
          "height": 310
        },
        "id": "eoN33pm-03oC",
        "outputId": "04fdba46-0ea2-443b-9a74-d33aefb6c74d"
      },
      "source": [
        "%time\n",
        "item_sim_recomm[item_sim_recomm['user_id']==20001]"
      ],
      "execution_count": null,
      "outputs": [
        {
          "output_type": "stream",
          "text": [
            "CPU times: user 5 µs, sys: 0 ns, total: 5 µs\n",
            "Wall time: 9.06 µs\n"
          ],
          "name": "stdout"
        },
        {
          "output_type": "execute_result",
          "data": {
            "text/html": [
              "<div style=\"max-height:1000px;max-width:1500px;overflow:auto;\"><table frame=\"box\" rules=\"cols\">\n",
              "    <tr>\n",
              "        <th style=\"padding-left: 1em; padding-right: 1em; text-align: center\">user_id</th>\n",
              "        <th style=\"padding-left: 1em; padding-right: 1em; text-align: center\">article_id</th>\n",
              "        <th style=\"padding-left: 1em; padding-right: 1em; text-align: center\">score</th>\n",
              "        <th style=\"padding-left: 1em; padding-right: 1em; text-align: center\">rank</th>\n",
              "    </tr>\n",
              "    <tr>\n",
              "        <td style=\"padding-left: 1em; padding-right: 1em; text-align: center; vertical-align: top\">20001</td>\n",
              "        <td style=\"padding-left: 1em; padding-right: 1em; text-align: center; vertical-align: top\">59057</td>\n",
              "        <td style=\"padding-left: 1em; padding-right: 1em; text-align: center; vertical-align: top\">0.03902427418522103</td>\n",
              "        <td style=\"padding-left: 1em; padding-right: 1em; text-align: center; vertical-align: top\">1</td>\n",
              "    </tr>\n",
              "    <tr>\n",
              "        <td style=\"padding-left: 1em; padding-right: 1em; text-align: center; vertical-align: top\">20001</td>\n",
              "        <td style=\"padding-left: 1em; padding-right: 1em; text-align: center; vertical-align: top\">96210</td>\n",
              "        <td style=\"padding-left: 1em; padding-right: 1em; text-align: center; vertical-align: top\">0.038132808826587816</td>\n",
              "        <td style=\"padding-left: 1em; padding-right: 1em; text-align: center; vertical-align: top\">2</td>\n",
              "    </tr>\n",
              "    <tr>\n",
              "        <td style=\"padding-left: 1em; padding-right: 1em; text-align: center; vertical-align: top\">20001</td>\n",
              "        <td style=\"padding-left: 1em; padding-right: 1em; text-align: center; vertical-align: top\">234698</td>\n",
              "        <td style=\"padding-left: 1em; padding-right: 1em; text-align: center; vertical-align: top\">0.03691431170418149</td>\n",
              "        <td style=\"padding-left: 1em; padding-right: 1em; text-align: center; vertical-align: top\">3</td>\n",
              "    </tr>\n",
              "    <tr>\n",
              "        <td style=\"padding-left: 1em; padding-right: 1em; text-align: center; vertical-align: top\">20001</td>\n",
              "        <td style=\"padding-left: 1em; padding-right: 1em; text-align: center; vertical-align: top\">64329</td>\n",
              "        <td style=\"padding-left: 1em; padding-right: 1em; text-align: center; vertical-align: top\">0.03305111044929141</td>\n",
              "        <td style=\"padding-left: 1em; padding-right: 1em; text-align: center; vertical-align: top\">4</td>\n",
              "    </tr>\n",
              "    <tr>\n",
              "        <td style=\"padding-left: 1em; padding-right: 1em; text-align: center; vertical-align: top\">20001</td>\n",
              "        <td style=\"padding-left: 1em; padding-right: 1em; text-align: center; vertical-align: top\">183176</td>\n",
              "        <td style=\"padding-left: 1em; padding-right: 1em; text-align: center; vertical-align: top\">0.032149589250958156</td>\n",
              "        <td style=\"padding-left: 1em; padding-right: 1em; text-align: center; vertical-align: top\">5</td>\n",
              "    </tr>\n",
              "    <tr>\n",
              "        <td style=\"padding-left: 1em; padding-right: 1em; text-align: center; vertical-align: top\">20001</td>\n",
              "        <td style=\"padding-left: 1em; padding-right: 1em; text-align: center; vertical-align: top\">95716</td>\n",
              "        <td style=\"padding-left: 1em; padding-right: 1em; text-align: center; vertical-align: top\">0.029911159838318192</td>\n",
              "        <td style=\"padding-left: 1em; padding-right: 1em; text-align: center; vertical-align: top\">6</td>\n",
              "    </tr>\n",
              "    <tr>\n",
              "        <td style=\"padding-left: 1em; padding-right: 1em; text-align: center; vertical-align: top\">20001</td>\n",
              "        <td style=\"padding-left: 1em; padding-right: 1em; text-align: center; vertical-align: top\">129434</td>\n",
              "        <td style=\"padding-left: 1em; padding-right: 1em; text-align: center; vertical-align: top\">0.029233889289633937</td>\n",
              "        <td style=\"padding-left: 1em; padding-right: 1em; text-align: center; vertical-align: top\">7</td>\n",
              "    </tr>\n",
              "    <tr>\n",
              "        <td style=\"padding-left: 1em; padding-right: 1em; text-align: center; vertical-align: top\">20001</td>\n",
              "        <td style=\"padding-left: 1em; padding-right: 1em; text-align: center; vertical-align: top\">336220</td>\n",
              "        <td style=\"padding-left: 1em; padding-right: 1em; text-align: center; vertical-align: top\">0.02905504192624773</td>\n",
              "        <td style=\"padding-left: 1em; padding-right: 1em; text-align: center; vertical-align: top\">8</td>\n",
              "    </tr>\n",
              "    <tr>\n",
              "        <td style=\"padding-left: 1em; padding-right: 1em; text-align: center; vertical-align: top\">20001</td>\n",
              "        <td style=\"padding-left: 1em; padding-right: 1em; text-align: center; vertical-align: top\">289090</td>\n",
              "        <td style=\"padding-left: 1em; padding-right: 1em; text-align: center; vertical-align: top\">0.02880396161760603</td>\n",
              "        <td style=\"padding-left: 1em; padding-right: 1em; text-align: center; vertical-align: top\">9</td>\n",
              "    </tr>\n",
              "    <tr>\n",
              "        <td style=\"padding-left: 1em; padding-right: 1em; text-align: center; vertical-align: top\">20001</td>\n",
              "        <td style=\"padding-left: 1em; padding-right: 1em; text-align: center; vertical-align: top\">235616</td>\n",
              "        <td style=\"padding-left: 1em; padding-right: 1em; text-align: center; vertical-align: top\">0.02755046805376729</td>\n",
              "        <td style=\"padding-left: 1em; padding-right: 1em; text-align: center; vertical-align: top\">10</td>\n",
              "    </tr>\n",
              "</table>\n",
              "[? rows x 4 columns]<br/>Note: Only the head of the SFrame is printed. This SFrame is lazily evaluated.<br/>You can use sf.materialize() to force materialization.\n",
              "</div>"
            ],
            "text/plain": [
              "Columns:\n",
              "\tuser_id\tint\n",
              "\tarticle_id\tint\n",
              "\tscore\tfloat\n",
              "\trank\tint\n",
              "\n",
              "Rows: Unknown\n",
              "\n",
              "Data:\n",
              "+---------+------------+----------------------+------+\n",
              "| user_id | article_id |        score         | rank |\n",
              "+---------+------------+----------------------+------+\n",
              "|  20001  |   59057    | 0.03902427418522103  |  1   |\n",
              "|  20001  |   96210    | 0.038132808826587816 |  2   |\n",
              "|  20001  |   234698   | 0.03691431170418149  |  3   |\n",
              "|  20001  |   64329    | 0.03305111044929141  |  4   |\n",
              "|  20001  |   183176   | 0.032149589250958156 |  5   |\n",
              "|  20001  |   95716    | 0.029911159838318192 |  6   |\n",
              "|  20001  |   129434   | 0.029233889289633937 |  7   |\n",
              "|  20001  |   336220   | 0.02905504192624773  |  8   |\n",
              "|  20001  |   289090   | 0.02880396161760603  |  9   |\n",
              "|  20001  |   235616   | 0.02755046805376729  |  10  |\n",
              "+---------+------------+----------------------+------+\n",
              "[? rows x 4 columns]\n",
              "Note: Only the head of the SFrame is printed. This SFrame is lazily evaluated.\n",
              "You can use sf.materialize() to force materialization."
            ]
          },
          "metadata": {
            "tags": []
          },
          "execution_count": 31
        }
      ]
    },
    {
      "cell_type": "code",
      "metadata": {
        "colab": {
          "base_uri": "https://localhost:8080/"
        },
        "id": "zZDf2bRk5BIH",
        "outputId": "607faedb-a5ab-4a1b-ff96-0287efd1fc6a"
      },
      "source": [
        "%time\n",
        "item_sim_recomm[item_sim_recomm['user_id']==20001][0]"
      ],
      "execution_count": null,
      "outputs": [
        {
          "output_type": "stream",
          "text": [
            "CPU times: user 3 µs, sys: 0 ns, total: 3 µs\n",
            "Wall time: 8.34 µs\n"
          ],
          "name": "stdout"
        },
        {
          "output_type": "execute_result",
          "data": {
            "text/plain": [
              "{'article_id': 59057,\n",
              " 'rank': 1,\n",
              " 'score': 0.03902427418522103,\n",
              " 'user_id': 20001}"
            ]
          },
          "metadata": {
            "tags": []
          },
          "execution_count": 32
        }
      ]
    },
    {
      "cell_type": "code",
      "metadata": {
        "colab": {
          "base_uri": "https://localhost:8080/"
        },
        "id": "iqFhsec25HTA",
        "outputId": "b24bfcc6-23b1-4128-e932-6676e897f822"
      },
      "source": [
        "%time\n",
        "item_sim_recomm[item_sim_recomm['user_id']==20001][0]['article_id']"
      ],
      "execution_count": null,
      "outputs": [
        {
          "output_type": "stream",
          "text": [
            "CPU times: user 4 µs, sys: 0 ns, total: 4 µs\n",
            "Wall time: 9.06 µs\n"
          ],
          "name": "stdout"
        },
        {
          "output_type": "execute_result",
          "data": {
            "text/plain": [
              "59057"
            ]
          },
          "metadata": {
            "tags": []
          },
          "execution_count": 33
        }
      ]
    },
    {
      "cell_type": "code",
      "metadata": {
        "colab": {
          "base_uri": "https://localhost:8080/",
          "height": 276
        },
        "id": "1JGzy0I_4UHD",
        "outputId": "058b35a1-b1e7-46bb-add8-052594024dfc"
      },
      "source": [
        "item_sim_recomm[item_sim_recomm['article_id']==59057]"
      ],
      "execution_count": null,
      "outputs": [
        {
          "output_type": "execute_result",
          "data": {
            "text/html": [
              "<div style=\"max-height:1000px;max-width:1500px;overflow:auto;\"><table frame=\"box\" rules=\"cols\">\n",
              "    <tr>\n",
              "        <th style=\"padding-left: 1em; padding-right: 1em; text-align: center\">user_id</th>\n",
              "        <th style=\"padding-left: 1em; padding-right: 1em; text-align: center\">article_id</th>\n",
              "        <th style=\"padding-left: 1em; padding-right: 1em; text-align: center\">score</th>\n",
              "        <th style=\"padding-left: 1em; padding-right: 1em; text-align: center\">rank</th>\n",
              "    </tr>\n",
              "    <tr>\n",
              "        <td style=\"padding-left: 1em; padding-right: 1em; text-align: center; vertical-align: top\">72919</td>\n",
              "        <td style=\"padding-left: 1em; padding-right: 1em; text-align: center; vertical-align: top\">59057</td>\n",
              "        <td style=\"padding-left: 1em; padding-right: 1em; text-align: center; vertical-align: top\">0.12323407693342729</td>\n",
              "        <td style=\"padding-left: 1em; padding-right: 1em; text-align: center; vertical-align: top\">3</td>\n",
              "    </tr>\n",
              "    <tr>\n",
              "        <td style=\"padding-left: 1em; padding-right: 1em; text-align: center; vertical-align: top\">35561</td>\n",
              "        <td style=\"padding-left: 1em; padding-right: 1em; text-align: center; vertical-align: top\">59057</td>\n",
              "        <td style=\"padding-left: 1em; padding-right: 1em; text-align: center; vertical-align: top\">0.05507513880729675</td>\n",
              "        <td style=\"padding-left: 1em; padding-right: 1em; text-align: center; vertical-align: top\">10</td>\n",
              "    </tr>\n",
              "    <tr>\n",
              "        <td style=\"padding-left: 1em; padding-right: 1em; text-align: center; vertical-align: top\">59476</td>\n",
              "        <td style=\"padding-left: 1em; padding-right: 1em; text-align: center; vertical-align: top\">59057</td>\n",
              "        <td style=\"padding-left: 1em; padding-right: 1em; text-align: center; vertical-align: top\">0.07848335305849712</td>\n",
              "        <td style=\"padding-left: 1em; padding-right: 1em; text-align: center; vertical-align: top\">7</td>\n",
              "    </tr>\n",
              "    <tr>\n",
              "        <td style=\"padding-left: 1em; padding-right: 1em; text-align: center; vertical-align: top\">214903</td>\n",
              "        <td style=\"padding-left: 1em; padding-right: 1em; text-align: center; vertical-align: top\">59057</td>\n",
              "        <td style=\"padding-left: 1em; padding-right: 1em; text-align: center; vertical-align: top\">0.08370636518184955</td>\n",
              "        <td style=\"padding-left: 1em; padding-right: 1em; text-align: center; vertical-align: top\">10</td>\n",
              "    </tr>\n",
              "    <tr>\n",
              "        <td style=\"padding-left: 1em; padding-right: 1em; text-align: center; vertical-align: top\">51039</td>\n",
              "        <td style=\"padding-left: 1em; padding-right: 1em; text-align: center; vertical-align: top\">59057</td>\n",
              "        <td style=\"padding-left: 1em; padding-right: 1em; text-align: center; vertical-align: top\">0.07465610366601211</td>\n",
              "        <td style=\"padding-left: 1em; padding-right: 1em; text-align: center; vertical-align: top\">7</td>\n",
              "    </tr>\n",
              "    <tr>\n",
              "        <td style=\"padding-left: 1em; padding-right: 1em; text-align: center; vertical-align: top\">141703</td>\n",
              "        <td style=\"padding-left: 1em; padding-right: 1em; text-align: center; vertical-align: top\">59057</td>\n",
              "        <td style=\"padding-left: 1em; padding-right: 1em; text-align: center; vertical-align: top\">0.10111986215297993</td>\n",
              "        <td style=\"padding-left: 1em; padding-right: 1em; text-align: center; vertical-align: top\">4</td>\n",
              "    </tr>\n",
              "    <tr>\n",
              "        <td style=\"padding-left: 1em; padding-right: 1em; text-align: center; vertical-align: top\">15688</td>\n",
              "        <td style=\"padding-left: 1em; padding-right: 1em; text-align: center; vertical-align: top\">59057</td>\n",
              "        <td style=\"padding-left: 1em; padding-right: 1em; text-align: center; vertical-align: top\">0.08630590335182521</td>\n",
              "        <td style=\"padding-left: 1em; padding-right: 1em; text-align: center; vertical-align: top\">5</td>\n",
              "    </tr>\n",
              "    <tr>\n",
              "        <td style=\"padding-left: 1em; padding-right: 1em; text-align: center; vertical-align: top\">24363</td>\n",
              "        <td style=\"padding-left: 1em; padding-right: 1em; text-align: center; vertical-align: top\">59057</td>\n",
              "        <td style=\"padding-left: 1em; padding-right: 1em; text-align: center; vertical-align: top\">0.04202838313011896</td>\n",
              "        <td style=\"padding-left: 1em; padding-right: 1em; text-align: center; vertical-align: top\">9</td>\n",
              "    </tr>\n",
              "    <tr>\n",
              "        <td style=\"padding-left: 1em; padding-right: 1em; text-align: center; vertical-align: top\">177717</td>\n",
              "        <td style=\"padding-left: 1em; padding-right: 1em; text-align: center; vertical-align: top\">59057</td>\n",
              "        <td style=\"padding-left: 1em; padding-right: 1em; text-align: center; vertical-align: top\">0.060849279165267944</td>\n",
              "        <td style=\"padding-left: 1em; padding-right: 1em; text-align: center; vertical-align: top\">10</td>\n",
              "    </tr>\n",
              "    <tr>\n",
              "        <td style=\"padding-left: 1em; padding-right: 1em; text-align: center; vertical-align: top\">40408</td>\n",
              "        <td style=\"padding-left: 1em; padding-right: 1em; text-align: center; vertical-align: top\">59057</td>\n",
              "        <td style=\"padding-left: 1em; padding-right: 1em; text-align: center; vertical-align: top\">0.08460032277637058</td>\n",
              "        <td style=\"padding-left: 1em; padding-right: 1em; text-align: center; vertical-align: top\">6</td>\n",
              "    </tr>\n",
              "</table>\n",
              "[? rows x 4 columns]<br/>Note: Only the head of the SFrame is printed. This SFrame is lazily evaluated.<br/>You can use sf.materialize() to force materialization.\n",
              "</div>"
            ],
            "text/plain": [
              "Columns:\n",
              "\tuser_id\tint\n",
              "\tarticle_id\tint\n",
              "\tscore\tfloat\n",
              "\trank\tint\n",
              "\n",
              "Rows: Unknown\n",
              "\n",
              "Data:\n",
              "+---------+------------+----------------------+------+\n",
              "| user_id | article_id |        score         | rank |\n",
              "+---------+------------+----------------------+------+\n",
              "|  72919  |   59057    | 0.12323407693342729  |  3   |\n",
              "|  35561  |   59057    | 0.05507513880729675  |  10  |\n",
              "|  59476  |   59057    | 0.07848335305849712  |  7   |\n",
              "|  214903 |   59057    | 0.08370636518184955  |  10  |\n",
              "|  51039  |   59057    | 0.07465610366601211  |  7   |\n",
              "|  141703 |   59057    | 0.10111986215297993  |  4   |\n",
              "|  15688  |   59057    | 0.08630590335182521  |  5   |\n",
              "|  24363  |   59057    | 0.04202838313011896  |  9   |\n",
              "|  177717 |   59057    | 0.060849279165267944 |  10  |\n",
              "|  40408  |   59057    | 0.08460032277637058  |  6   |\n",
              "+---------+------------+----------------------+------+\n",
              "[? rows x 4 columns]\n",
              "Note: Only the head of the SFrame is printed. This SFrame is lazily evaluated.\n",
              "You can use sf.materialize() to force materialization."
            ]
          },
          "metadata": {
            "tags": []
          },
          "execution_count": 34
        }
      ]
    },
    {
      "cell_type": "code",
      "metadata": {
        "colab": {
          "base_uri": "https://localhost:8080/",
          "height": 276
        },
        "id": "gB74U5eds0aS",
        "outputId": "f7e1b49d-2a71-4d9f-ac84-a96d858e62c3"
      },
      "source": [
        "clicks[clicks['user_id']==20001]"
      ],
      "execution_count": null,
      "outputs": [
        {
          "output_type": "execute_result",
          "data": {
            "text/html": [
              "<div style=\"max-height:1000px;max-width:1500px;overflow:auto;\"><table frame=\"box\" rules=\"cols\">\n",
              "    <tr>\n",
              "        <th style=\"padding-left: 1em; padding-right: 1em; text-align: center\">user_id</th>\n",
              "        <th style=\"padding-left: 1em; padding-right: 1em; text-align: center\">article_id</th>\n",
              "        <th style=\"padding-left: 1em; padding-right: 1em; text-align: center\">category_id</th>\n",
              "    </tr>\n",
              "    <tr>\n",
              "        <td style=\"padding-left: 1em; padding-right: 1em; text-align: center; vertical-align: top\">20001</td>\n",
              "        <td style=\"padding-left: 1em; padding-right: 1em; text-align: center; vertical-align: top\">292508</td>\n",
              "        <td style=\"padding-left: 1em; padding-right: 1em; text-align: center; vertical-align: top\">421</td>\n",
              "    </tr>\n",
              "    <tr>\n",
              "        <td style=\"padding-left: 1em; padding-right: 1em; text-align: center; vertical-align: top\">20001</td>\n",
              "        <td style=\"padding-left: 1em; padding-right: 1em; text-align: center; vertical-align: top\">123569</td>\n",
              "        <td style=\"padding-left: 1em; padding-right: 1em; text-align: center; vertical-align: top\">250</td>\n",
              "    </tr>\n",
              "    <tr>\n",
              "        <td style=\"padding-left: 1em; padding-right: 1em; text-align: center; vertical-align: top\">20001</td>\n",
              "        <td style=\"padding-left: 1em; padding-right: 1em; text-align: center; vertical-align: top\">331116</td>\n",
              "        <td style=\"padding-left: 1em; padding-right: 1em; text-align: center; vertical-align: top\">436</td>\n",
              "    </tr>\n",
              "    <tr>\n",
              "        <td style=\"padding-left: 1em; padding-right: 1em; text-align: center; vertical-align: top\">20001</td>\n",
              "        <td style=\"padding-left: 1em; padding-right: 1em; text-align: center; vertical-align: top\">285101</td>\n",
              "        <td style=\"padding-left: 1em; padding-right: 1em; text-align: center; vertical-align: top\">412</td>\n",
              "    </tr>\n",
              "    <tr>\n",
              "        <td style=\"padding-left: 1em; padding-right: 1em; text-align: center; vertical-align: top\">20001</td>\n",
              "        <td style=\"padding-left: 1em; padding-right: 1em; text-align: center; vertical-align: top\">257291</td>\n",
              "        <td style=\"padding-left: 1em; padding-right: 1em; text-align: center; vertical-align: top\">391</td>\n",
              "    </tr>\n",
              "    <tr>\n",
              "        <td style=\"padding-left: 1em; padding-right: 1em; text-align: center; vertical-align: top\">20001</td>\n",
              "        <td style=\"padding-left: 1em; padding-right: 1em; text-align: center; vertical-align: top\">282875</td>\n",
              "        <td style=\"padding-left: 1em; padding-right: 1em; text-align: center; vertical-align: top\">412</td>\n",
              "    </tr>\n",
              "    <tr>\n",
              "        <td style=\"padding-left: 1em; padding-right: 1em; text-align: center; vertical-align: top\">20001</td>\n",
              "        <td style=\"padding-left: 1em; padding-right: 1em; text-align: center; vertical-align: top\">158646</td>\n",
              "        <td style=\"padding-left: 1em; padding-right: 1em; text-align: center; vertical-align: top\">281</td>\n",
              "    </tr>\n",
              "    <tr>\n",
              "        <td style=\"padding-left: 1em; padding-right: 1em; text-align: center; vertical-align: top\">20001</td>\n",
              "        <td style=\"padding-left: 1em; padding-right: 1em; text-align: center; vertical-align: top\">314356</td>\n",
              "        <td style=\"padding-left: 1em; padding-right: 1em; text-align: center; vertical-align: top\">431</td>\n",
              "    </tr>\n",
              "    <tr>\n",
              "        <td style=\"padding-left: 1em; padding-right: 1em; text-align: center; vertical-align: top\">20001</td>\n",
              "        <td style=\"padding-left: 1em; padding-right: 1em; text-align: center; vertical-align: top\">118712</td>\n",
              "        <td style=\"padding-left: 1em; padding-right: 1em; text-align: center; vertical-align: top\">247</td>\n",
              "    </tr>\n",
              "    <tr>\n",
              "        <td style=\"padding-left: 1em; padding-right: 1em; text-align: center; vertical-align: top\">20001</td>\n",
              "        <td style=\"padding-left: 1em; padding-right: 1em; text-align: center; vertical-align: top\">313137</td>\n",
              "        <td style=\"padding-left: 1em; padding-right: 1em; text-align: center; vertical-align: top\">431</td>\n",
              "    </tr>\n",
              "</table>\n",
              "[? rows x 3 columns]<br/>Note: Only the head of the SFrame is printed. This SFrame is lazily evaluated.<br/>You can use sf.materialize() to force materialization.\n",
              "</div>"
            ],
            "text/plain": [
              "Columns:\n",
              "\tuser_id\tint\n",
              "\tarticle_id\tint\n",
              "\tcategory_id\tstr\n",
              "\n",
              "Rows: Unknown\n",
              "\n",
              "Data:\n",
              "+---------+------------+-------------+\n",
              "| user_id | article_id | category_id |\n",
              "+---------+------------+-------------+\n",
              "|  20001  |   292508   |     421     |\n",
              "|  20001  |   123569   |     250     |\n",
              "|  20001  |   331116   |     436     |\n",
              "|  20001  |   285101   |     412     |\n",
              "|  20001  |   257291   |     391     |\n",
              "|  20001  |   282875   |     412     |\n",
              "|  20001  |   158646   |     281     |\n",
              "|  20001  |   314356   |     431     |\n",
              "|  20001  |   118712   |     247     |\n",
              "|  20001  |   313137   |     431     |\n",
              "+---------+------------+-------------+\n",
              "[? rows x 3 columns]\n",
              "Note: Only the head of the SFrame is printed. This SFrame is lazily evaluated.\n",
              "You can use sf.materialize() to force materialization."
            ]
          },
          "metadata": {
            "tags": []
          },
          "execution_count": 35
        }
      ]
    },
    {
      "cell_type": "code",
      "metadata": {
        "colab": {
          "base_uri": "https://localhost:8080/",
          "height": 310
        },
        "id": "pG0PXDMatyya",
        "outputId": "8046fe72-ec3b-487b-ef6e-aeff173acdac"
      },
      "source": [
        "%time clicks[clicks['article_id']==59057]"
      ],
      "execution_count": null,
      "outputs": [
        {
          "output_type": "stream",
          "text": [
            "CPU times: user 3 µs, sys: 0 ns, total: 3 µs\n",
            "Wall time: 6.44 µs\n"
          ],
          "name": "stdout"
        },
        {
          "output_type": "execute_result",
          "data": {
            "text/html": [
              "<div style=\"max-height:1000px;max-width:1500px;overflow:auto;\"><table frame=\"box\" rules=\"cols\">\n",
              "    <tr>\n",
              "        <th style=\"padding-left: 1em; padding-right: 1em; text-align: center\">user_id</th>\n",
              "        <th style=\"padding-left: 1em; padding-right: 1em; text-align: center\">article_id</th>\n",
              "        <th style=\"padding-left: 1em; padding-right: 1em; text-align: center\">category_id</th>\n",
              "    </tr>\n",
              "    <tr>\n",
              "        <td style=\"padding-left: 1em; padding-right: 1em; text-align: center; vertical-align: top\">64638</td>\n",
              "        <td style=\"padding-left: 1em; padding-right: 1em; text-align: center; vertical-align: top\">59057</td>\n",
              "        <td style=\"padding-left: 1em; padding-right: 1em; text-align: center; vertical-align: top\">118</td>\n",
              "    </tr>\n",
              "    <tr>\n",
              "        <td style=\"padding-left: 1em; padding-right: 1em; text-align: center; vertical-align: top\">303634</td>\n",
              "        <td style=\"padding-left: 1em; padding-right: 1em; text-align: center; vertical-align: top\">59057</td>\n",
              "        <td style=\"padding-left: 1em; padding-right: 1em; text-align: center; vertical-align: top\">118</td>\n",
              "    </tr>\n",
              "    <tr>\n",
              "        <td style=\"padding-left: 1em; padding-right: 1em; text-align: center; vertical-align: top\">43316</td>\n",
              "        <td style=\"padding-left: 1em; padding-right: 1em; text-align: center; vertical-align: top\">59057</td>\n",
              "        <td style=\"padding-left: 1em; padding-right: 1em; text-align: center; vertical-align: top\">118</td>\n",
              "    </tr>\n",
              "    <tr>\n",
              "        <td style=\"padding-left: 1em; padding-right: 1em; text-align: center; vertical-align: top\">291452</td>\n",
              "        <td style=\"padding-left: 1em; padding-right: 1em; text-align: center; vertical-align: top\">59057</td>\n",
              "        <td style=\"padding-left: 1em; padding-right: 1em; text-align: center; vertical-align: top\">118</td>\n",
              "    </tr>\n",
              "    <tr>\n",
              "        <td style=\"padding-left: 1em; padding-right: 1em; text-align: center; vertical-align: top\">92577</td>\n",
              "        <td style=\"padding-left: 1em; padding-right: 1em; text-align: center; vertical-align: top\">59057</td>\n",
              "        <td style=\"padding-left: 1em; padding-right: 1em; text-align: center; vertical-align: top\">118</td>\n",
              "    </tr>\n",
              "    <tr>\n",
              "        <td style=\"padding-left: 1em; padding-right: 1em; text-align: center; vertical-align: top\">138472</td>\n",
              "        <td style=\"padding-left: 1em; padding-right: 1em; text-align: center; vertical-align: top\">59057</td>\n",
              "        <td style=\"padding-left: 1em; padding-right: 1em; text-align: center; vertical-align: top\">118</td>\n",
              "    </tr>\n",
              "    <tr>\n",
              "        <td style=\"padding-left: 1em; padding-right: 1em; text-align: center; vertical-align: top\">37783</td>\n",
              "        <td style=\"padding-left: 1em; padding-right: 1em; text-align: center; vertical-align: top\">59057</td>\n",
              "        <td style=\"padding-left: 1em; padding-right: 1em; text-align: center; vertical-align: top\">118</td>\n",
              "    </tr>\n",
              "    <tr>\n",
              "        <td style=\"padding-left: 1em; padding-right: 1em; text-align: center; vertical-align: top\">201</td>\n",
              "        <td style=\"padding-left: 1em; padding-right: 1em; text-align: center; vertical-align: top\">59057</td>\n",
              "        <td style=\"padding-left: 1em; padding-right: 1em; text-align: center; vertical-align: top\">118</td>\n",
              "    </tr>\n",
              "    <tr>\n",
              "        <td style=\"padding-left: 1em; padding-right: 1em; text-align: center; vertical-align: top\">1238</td>\n",
              "        <td style=\"padding-left: 1em; padding-right: 1em; text-align: center; vertical-align: top\">59057</td>\n",
              "        <td style=\"padding-left: 1em; padding-right: 1em; text-align: center; vertical-align: top\">118</td>\n",
              "    </tr>\n",
              "    <tr>\n",
              "        <td style=\"padding-left: 1em; padding-right: 1em; text-align: center; vertical-align: top\">102415</td>\n",
              "        <td style=\"padding-left: 1em; padding-right: 1em; text-align: center; vertical-align: top\">59057</td>\n",
              "        <td style=\"padding-left: 1em; padding-right: 1em; text-align: center; vertical-align: top\">118</td>\n",
              "    </tr>\n",
              "</table>\n",
              "[? rows x 3 columns]<br/>Note: Only the head of the SFrame is printed. This SFrame is lazily evaluated.<br/>You can use sf.materialize() to force materialization.\n",
              "</div>"
            ],
            "text/plain": [
              "Columns:\n",
              "\tuser_id\tint\n",
              "\tarticle_id\tint\n",
              "\tcategory_id\tstr\n",
              "\n",
              "Rows: Unknown\n",
              "\n",
              "Data:\n",
              "+---------+------------+-------------+\n",
              "| user_id | article_id | category_id |\n",
              "+---------+------------+-------------+\n",
              "|  64638  |   59057    |     118     |\n",
              "|  303634 |   59057    |     118     |\n",
              "|  43316  |   59057    |     118     |\n",
              "|  291452 |   59057    |     118     |\n",
              "|  92577  |   59057    |     118     |\n",
              "|  138472 |   59057    |     118     |\n",
              "|  37783  |   59057    |     118     |\n",
              "|   201   |   59057    |     118     |\n",
              "|   1238  |   59057    |     118     |\n",
              "|  102415 |   59057    |     118     |\n",
              "+---------+------------+-------------+\n",
              "[? rows x 3 columns]\n",
              "Note: Only the head of the SFrame is printed. This SFrame is lazily evaluated.\n",
              "You can use sf.materialize() to force materialization."
            ]
          },
          "metadata": {
            "tags": []
          },
          "execution_count": 36
        }
      ]
    },
    {
      "cell_type": "code",
      "metadata": {
        "id": "lmES1xraFqsQ"
      },
      "source": [
        "item_sim_model.save(\"/content/drive/MyDrive/Dataset-WebsiteGlobo/item_sim_model.model\")"
      ],
      "execution_count": null,
      "outputs": []
    },
    {
      "cell_type": "code",
      "metadata": {
        "id": "jt-a9IqWSlhT"
      },
      "source": [
        "item_sim_model = tc.load_model(\"/content/drive/MyDrive/Dataset-WebsiteGlobo/item_sim_model.model\")"
      ],
      "execution_count": null,
      "outputs": []
    },
    {
      "cell_type": "code",
      "metadata": {
        "colab": {
          "base_uri": "https://localhost:8080/",
          "height": 343
        },
        "id": "2Mcx-wGkdlQ-",
        "outputId": "dfa498f6-f0e8-40a0-d94d-98bc1077d1e4"
      },
      "source": [
        "%time new_obs_data = tc.SFrame({'user_id' : [20000], 'article_id' : [59057]})\n",
        "%time recommendations = item_sim_model.recommend([20000], new_observation_data = new_obs_data)\n",
        "%time recommendations"
      ],
      "execution_count": null,
      "outputs": [
        {
          "output_type": "stream",
          "text": [
            "CPU times: user 664 µs, sys: 0 ns, total: 664 µs\n",
            "Wall time: 839 µs\n",
            "CPU times: user 5.05 ms, sys: 2.98 ms, total: 8.03 ms\n",
            "Wall time: 12.8 ms\n",
            "CPU times: user 3 µs, sys: 0 ns, total: 3 µs\n",
            "Wall time: 6.2 µs\n"
          ],
          "name": "stdout"
        },
        {
          "output_type": "execute_result",
          "data": {
            "text/html": [
              "<div style=\"max-height:1000px;max-width:1500px;overflow:auto;\"><table frame=\"box\" rules=\"cols\">\n",
              "    <tr>\n",
              "        <th style=\"padding-left: 1em; padding-right: 1em; text-align: center\">user_id</th>\n",
              "        <th style=\"padding-left: 1em; padding-right: 1em; text-align: center\">article_id</th>\n",
              "        <th style=\"padding-left: 1em; padding-right: 1em; text-align: center\">score</th>\n",
              "        <th style=\"padding-left: 1em; padding-right: 1em; text-align: center\">rank</th>\n",
              "    </tr>\n",
              "    <tr>\n",
              "        <td style=\"padding-left: 1em; padding-right: 1em; text-align: center; vertical-align: top\">20000</td>\n",
              "        <td style=\"padding-left: 1em; padding-right: 1em; text-align: center; vertical-align: top\">336223</td>\n",
              "        <td style=\"padding-left: 1em; padding-right: 1em; text-align: center; vertical-align: top\">0.28627830743789673</td>\n",
              "        <td style=\"padding-left: 1em; padding-right: 1em; text-align: center; vertical-align: top\">1</td>\n",
              "    </tr>\n",
              "    <tr>\n",
              "        <td style=\"padding-left: 1em; padding-right: 1em; text-align: center; vertical-align: top\">20000</td>\n",
              "        <td style=\"padding-left: 1em; padding-right: 1em; text-align: center; vertical-align: top\">133160</td>\n",
              "        <td style=\"padding-left: 1em; padding-right: 1em; text-align: center; vertical-align: top\">0.28260546922683716</td>\n",
              "        <td style=\"padding-left: 1em; padding-right: 1em; text-align: center; vertical-align: top\">2</td>\n",
              "    </tr>\n",
              "    <tr>\n",
              "        <td style=\"padding-left: 1em; padding-right: 1em; text-align: center; vertical-align: top\">20000</td>\n",
              "        <td style=\"padding-left: 1em; padding-right: 1em; text-align: center; vertical-align: top\">288320</td>\n",
              "        <td style=\"padding-left: 1em; padding-right: 1em; text-align: center; vertical-align: top\">0.2773144245147705</td>\n",
              "        <td style=\"padding-left: 1em; padding-right: 1em; text-align: center; vertical-align: top\">3</td>\n",
              "    </tr>\n",
              "    <tr>\n",
              "        <td style=\"padding-left: 1em; padding-right: 1em; text-align: center; vertical-align: top\">20000</td>\n",
              "        <td style=\"padding-left: 1em; padding-right: 1em; text-align: center; vertical-align: top\">270229</td>\n",
              "        <td style=\"padding-left: 1em; padding-right: 1em; text-align: center; vertical-align: top\">0.24532932043075562</td>\n",
              "        <td style=\"padding-left: 1em; padding-right: 1em; text-align: center; vertical-align: top\">4</td>\n",
              "    </tr>\n",
              "    <tr>\n",
              "        <td style=\"padding-left: 1em; padding-right: 1em; text-align: center; vertical-align: top\">20000</td>\n",
              "        <td style=\"padding-left: 1em; padding-right: 1em; text-align: center; vertical-align: top\">235870</td>\n",
              "        <td style=\"padding-left: 1em; padding-right: 1em; text-align: center; vertical-align: top\">0.22432857751846313</td>\n",
              "        <td style=\"padding-left: 1em; padding-right: 1em; text-align: center; vertical-align: top\">5</td>\n",
              "    </tr>\n",
              "    <tr>\n",
              "        <td style=\"padding-left: 1em; padding-right: 1em; text-align: center; vertical-align: top\">20000</td>\n",
              "        <td style=\"padding-left: 1em; padding-right: 1em; text-align: center; vertical-align: top\">303180</td>\n",
              "        <td style=\"padding-left: 1em; padding-right: 1em; text-align: center; vertical-align: top\">0.21951007843017578</td>\n",
              "        <td style=\"padding-left: 1em; padding-right: 1em; text-align: center; vertical-align: top\">6</td>\n",
              "    </tr>\n",
              "    <tr>\n",
              "        <td style=\"padding-left: 1em; padding-right: 1em; text-align: center; vertical-align: top\">20000</td>\n",
              "        <td style=\"padding-left: 1em; padding-right: 1em; text-align: center; vertical-align: top\">48403</td>\n",
              "        <td style=\"padding-left: 1em; padding-right: 1em; text-align: center; vertical-align: top\">0.21499228477478027</td>\n",
              "        <td style=\"padding-left: 1em; padding-right: 1em; text-align: center; vertical-align: top\">7</td>\n",
              "    </tr>\n",
              "    <tr>\n",
              "        <td style=\"padding-left: 1em; padding-right: 1em; text-align: center; vertical-align: top\">20000</td>\n",
              "        <td style=\"padding-left: 1em; padding-right: 1em; text-align: center; vertical-align: top\">119193</td>\n",
              "        <td style=\"padding-left: 1em; padding-right: 1em; text-align: center; vertical-align: top\">0.21140241622924805</td>\n",
              "        <td style=\"padding-left: 1em; padding-right: 1em; text-align: center; vertical-align: top\">8</td>\n",
              "    </tr>\n",
              "    <tr>\n",
              "        <td style=\"padding-left: 1em; padding-right: 1em; text-align: center; vertical-align: top\">20000</td>\n",
              "        <td style=\"padding-left: 1em; padding-right: 1em; text-align: center; vertical-align: top\">234698</td>\n",
              "        <td style=\"padding-left: 1em; padding-right: 1em; text-align: center; vertical-align: top\">0.20978236198425293</td>\n",
              "        <td style=\"padding-left: 1em; padding-right: 1em; text-align: center; vertical-align: top\">9</td>\n",
              "    </tr>\n",
              "    <tr>\n",
              "        <td style=\"padding-left: 1em; padding-right: 1em; text-align: center; vertical-align: top\">20000</td>\n",
              "        <td style=\"padding-left: 1em; padding-right: 1em; text-align: center; vertical-align: top\">141004</td>\n",
              "        <td style=\"padding-left: 1em; padding-right: 1em; text-align: center; vertical-align: top\">0.2073245644569397</td>\n",
              "        <td style=\"padding-left: 1em; padding-right: 1em; text-align: center; vertical-align: top\">10</td>\n",
              "    </tr>\n",
              "</table>\n",
              "[10 rows x 4 columns]<br/>\n",
              "</div>"
            ],
            "text/plain": [
              "Columns:\n",
              "\tuser_id\tint\n",
              "\tarticle_id\tint\n",
              "\tscore\tfloat\n",
              "\trank\tint\n",
              "\n",
              "Rows: 10\n",
              "\n",
              "Data:\n",
              "+---------+------------+---------------------+------+\n",
              "| user_id | article_id |        score        | rank |\n",
              "+---------+------------+---------------------+------+\n",
              "|  20000  |   336223   | 0.28627830743789673 |  1   |\n",
              "|  20000  |   133160   | 0.28260546922683716 |  2   |\n",
              "|  20000  |   288320   |  0.2773144245147705 |  3   |\n",
              "|  20000  |   270229   | 0.24532932043075562 |  4   |\n",
              "|  20000  |   235870   | 0.22432857751846313 |  5   |\n",
              "|  20000  |   303180   | 0.21951007843017578 |  6   |\n",
              "|  20000  |   48403    | 0.21499228477478027 |  7   |\n",
              "|  20000  |   119193   | 0.21140241622924805 |  8   |\n",
              "|  20000  |   234698   | 0.20978236198425293 |  9   |\n",
              "|  20000  |   141004   |  0.2073245644569397 |  10  |\n",
              "+---------+------------+---------------------+------+\n",
              "[10 rows x 4 columns]"
            ]
          },
          "metadata": {
            "tags": []
          },
          "execution_count": 39
        }
      ]
    },
    {
      "cell_type": "code",
      "metadata": {
        "colab": {
          "base_uri": "https://localhost:8080/",
          "height": 242
        },
        "id": "B_UOeG5ETHAt",
        "outputId": "d80d4a12-4d6b-4577-cbfb-afb7ca64bb5a"
      },
      "source": [
        "new_obs_data = tc.SFrame({'user_id' : [20000, 20000],\n",
        "                                'article_id' : [59057, 272143]})\n",
        "recommendations = item_sim_model.recommend([20000], new_observation_data = new_obs_data)\n",
        "recommendations"
      ],
      "execution_count": null,
      "outputs": [
        {
          "output_type": "execute_result",
          "data": {
            "text/html": [
              "<div style=\"max-height:1000px;max-width:1500px;overflow:auto;\"><table frame=\"box\" rules=\"cols\">\n",
              "    <tr>\n",
              "        <th style=\"padding-left: 1em; padding-right: 1em; text-align: center\">user_id</th>\n",
              "        <th style=\"padding-left: 1em; padding-right: 1em; text-align: center\">article_id</th>\n",
              "        <th style=\"padding-left: 1em; padding-right: 1em; text-align: center\">score</th>\n",
              "        <th style=\"padding-left: 1em; padding-right: 1em; text-align: center\">rank</th>\n",
              "    </tr>\n",
              "    <tr>\n",
              "        <td style=\"padding-left: 1em; padding-right: 1em; text-align: center; vertical-align: top\">20000</td>\n",
              "        <td style=\"padding-left: 1em; padding-right: 1em; text-align: center; vertical-align: top\">199198</td>\n",
              "        <td style=\"padding-left: 1em; padding-right: 1em; text-align: center; vertical-align: top\">0.27361056208610535</td>\n",
              "        <td style=\"padding-left: 1em; padding-right: 1em; text-align: center; vertical-align: top\">1</td>\n",
              "    </tr>\n",
              "    <tr>\n",
              "        <td style=\"padding-left: 1em; padding-right: 1em; text-align: center; vertical-align: top\">20000</td>\n",
              "        <td style=\"padding-left: 1em; padding-right: 1em; text-align: center; vertical-align: top\">336223</td>\n",
              "        <td style=\"padding-left: 1em; padding-right: 1em; text-align: center; vertical-align: top\">0.2566239833831787</td>\n",
              "        <td style=\"padding-left: 1em; padding-right: 1em; text-align: center; vertical-align: top\">2</td>\n",
              "    </tr>\n",
              "    <tr>\n",
              "        <td style=\"padding-left: 1em; padding-right: 1em; text-align: center; vertical-align: top\">20000</td>\n",
              "        <td style=\"padding-left: 1em; padding-right: 1em; text-align: center; vertical-align: top\">198659</td>\n",
              "        <td style=\"padding-left: 1em; padding-right: 1em; text-align: center; vertical-align: top\">0.2478254735469818</td>\n",
              "        <td style=\"padding-left: 1em; padding-right: 1em; text-align: center; vertical-align: top\">3</td>\n",
              "    </tr>\n",
              "    <tr>\n",
              "        <td style=\"padding-left: 1em; padding-right: 1em; text-align: center; vertical-align: top\">20000</td>\n",
              "        <td style=\"padding-left: 1em; padding-right: 1em; text-align: center; vertical-align: top\">64329</td>\n",
              "        <td style=\"padding-left: 1em; padding-right: 1em; text-align: center; vertical-align: top\">0.24696749448776245</td>\n",
              "        <td style=\"padding-left: 1em; padding-right: 1em; text-align: center; vertical-align: top\">4</td>\n",
              "    </tr>\n",
              "    <tr>\n",
              "        <td style=\"padding-left: 1em; padding-right: 1em; text-align: center; vertical-align: top\">20000</td>\n",
              "        <td style=\"padding-left: 1em; padding-right: 1em; text-align: center; vertical-align: top\">133160</td>\n",
              "        <td style=\"padding-left: 1em; padding-right: 1em; text-align: center; vertical-align: top\">0.22180059552192688</td>\n",
              "        <td style=\"padding-left: 1em; padding-right: 1em; text-align: center; vertical-align: top\">5</td>\n",
              "    </tr>\n",
              "    <tr>\n",
              "        <td style=\"padding-left: 1em; padding-right: 1em; text-align: center; vertical-align: top\">20000</td>\n",
              "        <td style=\"padding-left: 1em; padding-right: 1em; text-align: center; vertical-align: top\">336221</td>\n",
              "        <td style=\"padding-left: 1em; padding-right: 1em; text-align: center; vertical-align: top\">0.21919095516204834</td>\n",
              "        <td style=\"padding-left: 1em; padding-right: 1em; text-align: center; vertical-align: top\">6</td>\n",
              "    </tr>\n",
              "    <tr>\n",
              "        <td style=\"padding-left: 1em; padding-right: 1em; text-align: center; vertical-align: top\">20000</td>\n",
              "        <td style=\"padding-left: 1em; padding-right: 1em; text-align: center; vertical-align: top\">272660</td>\n",
              "        <td style=\"padding-left: 1em; padding-right: 1em; text-align: center; vertical-align: top\">0.21032017469406128</td>\n",
              "        <td style=\"padding-left: 1em; padding-right: 1em; text-align: center; vertical-align: top\">7</td>\n",
              "    </tr>\n",
              "    <tr>\n",
              "        <td style=\"padding-left: 1em; padding-right: 1em; text-align: center; vertical-align: top\">20000</td>\n",
              "        <td style=\"padding-left: 1em; padding-right: 1em; text-align: center; vertical-align: top\">288320</td>\n",
              "        <td style=\"padding-left: 1em; padding-right: 1em; text-align: center; vertical-align: top\">0.20658227801322937</td>\n",
              "        <td style=\"padding-left: 1em; padding-right: 1em; text-align: center; vertical-align: top\">8</td>\n",
              "    </tr>\n",
              "    <tr>\n",
              "        <td style=\"padding-left: 1em; padding-right: 1em; text-align: center; vertical-align: top\">20000</td>\n",
              "        <td style=\"padding-left: 1em; padding-right: 1em; text-align: center; vertical-align: top\">234698</td>\n",
              "        <td style=\"padding-left: 1em; padding-right: 1em; text-align: center; vertical-align: top\">0.2051093578338623</td>\n",
              "        <td style=\"padding-left: 1em; padding-right: 1em; text-align: center; vertical-align: top\">9</td>\n",
              "    </tr>\n",
              "    <tr>\n",
              "        <td style=\"padding-left: 1em; padding-right: 1em; text-align: center; vertical-align: top\">20000</td>\n",
              "        <td style=\"padding-left: 1em; padding-right: 1em; text-align: center; vertical-align: top\">235870</td>\n",
              "        <td style=\"padding-left: 1em; padding-right: 1em; text-align: center; vertical-align: top\">0.2033531665802002</td>\n",
              "        <td style=\"padding-left: 1em; padding-right: 1em; text-align: center; vertical-align: top\">10</td>\n",
              "    </tr>\n",
              "</table>\n",
              "[10 rows x 4 columns]<br/>\n",
              "</div>"
            ],
            "text/plain": [
              "Columns:\n",
              "\tuser_id\tint\n",
              "\tarticle_id\tint\n",
              "\tscore\tfloat\n",
              "\trank\tint\n",
              "\n",
              "Rows: 10\n",
              "\n",
              "Data:\n",
              "+---------+------------+---------------------+------+\n",
              "| user_id | article_id |        score        | rank |\n",
              "+---------+------------+---------------------+------+\n",
              "|  20000  |   199198   | 0.27361056208610535 |  1   |\n",
              "|  20000  |   336223   |  0.2566239833831787 |  2   |\n",
              "|  20000  |   198659   |  0.2478254735469818 |  3   |\n",
              "|  20000  |   64329    | 0.24696749448776245 |  4   |\n",
              "|  20000  |   133160   | 0.22180059552192688 |  5   |\n",
              "|  20000  |   336221   | 0.21919095516204834 |  6   |\n",
              "|  20000  |   272660   | 0.21032017469406128 |  7   |\n",
              "|  20000  |   288320   | 0.20658227801322937 |  8   |\n",
              "|  20000  |   234698   |  0.2051093578338623 |  9   |\n",
              "|  20000  |   235870   |  0.2033531665802002 |  10  |\n",
              "+---------+------------+---------------------+------+\n",
              "[10 rows x 4 columns]"
            ]
          },
          "metadata": {
            "tags": []
          },
          "execution_count": 40
        }
      ]
    },
    {
      "cell_type": "code",
      "metadata": {
        "colab": {
          "base_uri": "https://localhost:8080/",
          "height": 242
        },
        "id": "FeWu8J5ierJ_",
        "outputId": "c6fee83e-0366-4965-f396-33fd5a74179e"
      },
      "source": [
        "new_obs_data = tc.SFrame({'user_id' : [20001, 20001],\n",
        "                                'article_id' : [59057, 96210]})\n",
        "recommendations = item_sim_model.recommend([20001], new_observation_data = new_obs_data)\n",
        "recommendations"
      ],
      "execution_count": null,
      "outputs": [
        {
          "output_type": "execute_result",
          "data": {
            "text/html": [
              "<div style=\"max-height:1000px;max-width:1500px;overflow:auto;\"><table frame=\"box\" rules=\"cols\">\n",
              "    <tr>\n",
              "        <th style=\"padding-left: 1em; padding-right: 1em; text-align: center\">user_id</th>\n",
              "        <th style=\"padding-left: 1em; padding-right: 1em; text-align: center\">article_id</th>\n",
              "        <th style=\"padding-left: 1em; padding-right: 1em; text-align: center\">score</th>\n",
              "        <th style=\"padding-left: 1em; padding-right: 1em; text-align: center\">rank</th>\n",
              "    </tr>\n",
              "    <tr>\n",
              "        <td style=\"padding-left: 1em; padding-right: 1em; text-align: center; vertical-align: top\">20001</td>\n",
              "        <td style=\"padding-left: 1em; padding-right: 1em; text-align: center; vertical-align: top\">234698</td>\n",
              "        <td style=\"padding-left: 1em; padding-right: 1em; text-align: center; vertical-align: top\">0.038497173973403055</td>\n",
              "        <td style=\"padding-left: 1em; padding-right: 1em; text-align: center; vertical-align: top\">1</td>\n",
              "    </tr>\n",
              "    <tr>\n",
              "        <td style=\"padding-left: 1em; padding-right: 1em; text-align: center; vertical-align: top\">20001</td>\n",
              "        <td style=\"padding-left: 1em; padding-right: 1em; text-align: center; vertical-align: top\">64329</td>\n",
              "        <td style=\"padding-left: 1em; padding-right: 1em; text-align: center; vertical-align: top\">0.03428200963904096</td>\n",
              "        <td style=\"padding-left: 1em; padding-right: 1em; text-align: center; vertical-align: top\">2</td>\n",
              "    </tr>\n",
              "    <tr>\n",
              "        <td style=\"padding-left: 1em; padding-right: 1em; text-align: center; vertical-align: top\">20001</td>\n",
              "        <td style=\"padding-left: 1em; padding-right: 1em; text-align: center; vertical-align: top\">183176</td>\n",
              "        <td style=\"padding-left: 1em; padding-right: 1em; text-align: center; vertical-align: top\">0.033571429277589805</td>\n",
              "        <td style=\"padding-left: 1em; padding-right: 1em; text-align: center; vertical-align: top\">3</td>\n",
              "    </tr>\n",
              "    <tr>\n",
              "        <td style=\"padding-left: 1em; padding-right: 1em; text-align: center; vertical-align: top\">20001</td>\n",
              "        <td style=\"padding-left: 1em; padding-right: 1em; text-align: center; vertical-align: top\">95716</td>\n",
              "        <td style=\"padding-left: 1em; padding-right: 1em; text-align: center; vertical-align: top\">0.03155771662427493</td>\n",
              "        <td style=\"padding-left: 1em; padding-right: 1em; text-align: center; vertical-align: top\">4</td>\n",
              "    </tr>\n",
              "    <tr>\n",
              "        <td style=\"padding-left: 1em; padding-right: 1em; text-align: center; vertical-align: top\">20001</td>\n",
              "        <td style=\"padding-left: 1em; padding-right: 1em; text-align: center; vertical-align: top\">129434</td>\n",
              "        <td style=\"padding-left: 1em; padding-right: 1em; text-align: center; vertical-align: top\">0.030574961482542348</td>\n",
              "        <td style=\"padding-left: 1em; padding-right: 1em; text-align: center; vertical-align: top\">5</td>\n",
              "    </tr>\n",
              "    <tr>\n",
              "        <td style=\"padding-left: 1em; padding-right: 1em; text-align: center; vertical-align: top\">20001</td>\n",
              "        <td style=\"padding-left: 1em; padding-right: 1em; text-align: center; vertical-align: top\">336220</td>\n",
              "        <td style=\"padding-left: 1em; padding-right: 1em; text-align: center; vertical-align: top\">0.030567807988970692</td>\n",
              "        <td style=\"padding-left: 1em; padding-right: 1em; text-align: center; vertical-align: top\">6</td>\n",
              "    </tr>\n",
              "    <tr>\n",
              "        <td style=\"padding-left: 1em; padding-right: 1em; text-align: center; vertical-align: top\">20001</td>\n",
              "        <td style=\"padding-left: 1em; padding-right: 1em; text-align: center; vertical-align: top\">289090</td>\n",
              "        <td style=\"padding-left: 1em; padding-right: 1em; text-align: center; vertical-align: top\">0.03017680807263439</td>\n",
              "        <td style=\"padding-left: 1em; padding-right: 1em; text-align: center; vertical-align: top\">7</td>\n",
              "    </tr>\n",
              "    <tr>\n",
              "        <td style=\"padding-left: 1em; padding-right: 1em; text-align: center; vertical-align: top\">20001</td>\n",
              "        <td style=\"padding-left: 1em; padding-right: 1em; text-align: center; vertical-align: top\">235616</td>\n",
              "        <td style=\"padding-left: 1em; padding-right: 1em; text-align: center; vertical-align: top\">0.02872895195846158</td>\n",
              "        <td style=\"padding-left: 1em; padding-right: 1em; text-align: center; vertical-align: top\">8</td>\n",
              "    </tr>\n",
              "    <tr>\n",
              "        <td style=\"padding-left: 1em; padding-right: 1em; text-align: center; vertical-align: top\">20001</td>\n",
              "        <td style=\"padding-left: 1em; padding-right: 1em; text-align: center; vertical-align: top\">128260</td>\n",
              "        <td style=\"padding-left: 1em; padding-right: 1em; text-align: center; vertical-align: top\">0.027764933895690277</td>\n",
              "        <td style=\"padding-left: 1em; padding-right: 1em; text-align: center; vertical-align: top\">9</td>\n",
              "    </tr>\n",
              "    <tr>\n",
              "        <td style=\"padding-left: 1em; padding-right: 1em; text-align: center; vertical-align: top\">20001</td>\n",
              "        <td style=\"padding-left: 1em; padding-right: 1em; text-align: center; vertical-align: top\">235870</td>\n",
              "        <td style=\"padding-left: 1em; padding-right: 1em; text-align: center; vertical-align: top\">0.027154989891651413</td>\n",
              "        <td style=\"padding-left: 1em; padding-right: 1em; text-align: center; vertical-align: top\">10</td>\n",
              "    </tr>\n",
              "</table>\n",
              "[10 rows x 4 columns]<br/>\n",
              "</div>"
            ],
            "text/plain": [
              "Columns:\n",
              "\tuser_id\tint\n",
              "\tarticle_id\tint\n",
              "\tscore\tfloat\n",
              "\trank\tint\n",
              "\n",
              "Rows: 10\n",
              "\n",
              "Data:\n",
              "+---------+------------+----------------------+------+\n",
              "| user_id | article_id |        score         | rank |\n",
              "+---------+------------+----------------------+------+\n",
              "|  20001  |   234698   | 0.038497173973403055 |  1   |\n",
              "|  20001  |   64329    | 0.03428200963904096  |  2   |\n",
              "|  20001  |   183176   | 0.033571429277589805 |  3   |\n",
              "|  20001  |   95716    | 0.03155771662427493  |  4   |\n",
              "|  20001  |   129434   | 0.030574961482542348 |  5   |\n",
              "|  20001  |   336220   | 0.030567807988970692 |  6   |\n",
              "|  20001  |   289090   | 0.03017680807263439  |  7   |\n",
              "|  20001  |   235616   | 0.02872895195846158  |  8   |\n",
              "|  20001  |   128260   | 0.027764933895690277 |  9   |\n",
              "|  20001  |   235870   | 0.027154989891651413 |  10  |\n",
              "+---------+------------+----------------------+------+\n",
              "[10 rows x 4 columns]"
            ]
          },
          "metadata": {
            "tags": []
          },
          "execution_count": 41
        }
      ]
    },
    {
      "cell_type": "code",
      "metadata": {
        "colab": {
          "base_uri": "https://localhost:8080/",
          "height": 242
        },
        "id": "aZFIuJNxfB71",
        "outputId": "f49a9b79-9b01-4473-e395-4d9b866b5354"
      },
      "source": [
        "new_obs_data = tc.SFrame({'user_id' : [20001],\n",
        "                                'article_id' : [59057]})\n",
        "recommendations = item_sim_model.recommend([20001], new_observation_data = new_obs_data)\n",
        "recommendations"
      ],
      "execution_count": null,
      "outputs": [
        {
          "output_type": "execute_result",
          "data": {
            "text/html": [
              "<div style=\"max-height:1000px;max-width:1500px;overflow:auto;\"><table frame=\"box\" rules=\"cols\">\n",
              "    <tr>\n",
              "        <th style=\"padding-left: 1em; padding-right: 1em; text-align: center\">user_id</th>\n",
              "        <th style=\"padding-left: 1em; padding-right: 1em; text-align: center\">article_id</th>\n",
              "        <th style=\"padding-left: 1em; padding-right: 1em; text-align: center\">score</th>\n",
              "        <th style=\"padding-left: 1em; padding-right: 1em; text-align: center\">rank</th>\n",
              "    </tr>\n",
              "    <tr>\n",
              "        <td style=\"padding-left: 1em; padding-right: 1em; text-align: center; vertical-align: top\">20001</td>\n",
              "        <td style=\"padding-left: 1em; padding-right: 1em; text-align: center; vertical-align: top\">96210</td>\n",
              "        <td style=\"padding-left: 1em; padding-right: 1em; text-align: center; vertical-align: top\">0.038775370622936046</td>\n",
              "        <td style=\"padding-left: 1em; padding-right: 1em; text-align: center; vertical-align: top\">1</td>\n",
              "    </tr>\n",
              "    <tr>\n",
              "        <td style=\"padding-left: 1em; padding-right: 1em; text-align: center; vertical-align: top\">20001</td>\n",
              "        <td style=\"padding-left: 1em; padding-right: 1em; text-align: center; vertical-align: top\">234698</td>\n",
              "        <td style=\"padding-left: 1em; padding-right: 1em; text-align: center; vertical-align: top\">0.03782414354776081</td>\n",
              "        <td style=\"padding-left: 1em; padding-right: 1em; text-align: center; vertical-align: top\">2</td>\n",
              "    </tr>\n",
              "    <tr>\n",
              "        <td style=\"padding-left: 1em; padding-right: 1em; text-align: center; vertical-align: top\">20001</td>\n",
              "        <td style=\"padding-left: 1em; padding-right: 1em; text-align: center; vertical-align: top\">64329</td>\n",
              "        <td style=\"padding-left: 1em; padding-right: 1em; text-align: center; vertical-align: top\">0.033619478501771626</td>\n",
              "        <td style=\"padding-left: 1em; padding-right: 1em; text-align: center; vertical-align: top\">3</td>\n",
              "    </tr>\n",
              "    <tr>\n",
              "        <td style=\"padding-left: 1em; padding-right: 1em; text-align: center; vertical-align: top\">20001</td>\n",
              "        <td style=\"padding-left: 1em; padding-right: 1em; text-align: center; vertical-align: top\">183176</td>\n",
              "        <td style=\"padding-left: 1em; padding-right: 1em; text-align: center; vertical-align: top\">0.03269593464700799</td>\n",
              "        <td style=\"padding-left: 1em; padding-right: 1em; text-align: center; vertical-align: top\">4</td>\n",
              "    </tr>\n",
              "    <tr>\n",
              "        <td style=\"padding-left: 1em; padding-right: 1em; text-align: center; vertical-align: top\">20001</td>\n",
              "        <td style=\"padding-left: 1em; padding-right: 1em; text-align: center; vertical-align: top\">95716</td>\n",
              "        <td style=\"padding-left: 1em; padding-right: 1em; text-align: center; vertical-align: top\">0.030747218194760773</td>\n",
              "        <td style=\"padding-left: 1em; padding-right: 1em; text-align: center; vertical-align: top\">5</td>\n",
              "    </tr>\n",
              "    <tr>\n",
              "        <td style=\"padding-left: 1em; padding-right: 1em; text-align: center; vertical-align: top\">20001</td>\n",
              "        <td style=\"padding-left: 1em; padding-right: 1em; text-align: center; vertical-align: top\">129434</td>\n",
              "        <td style=\"padding-left: 1em; padding-right: 1em; text-align: center; vertical-align: top\">0.02979397083583631</td>\n",
              "        <td style=\"padding-left: 1em; padding-right: 1em; text-align: center; vertical-align: top\">6</td>\n",
              "    </tr>\n",
              "    <tr>\n",
              "        <td style=\"padding-left: 1em; padding-right: 1em; text-align: center; vertical-align: top\">20001</td>\n",
              "        <td style=\"padding-left: 1em; padding-right: 1em; text-align: center; vertical-align: top\">336220</td>\n",
              "        <td style=\"padding-left: 1em; padding-right: 1em; text-align: center; vertical-align: top\">0.029759943798968666</td>\n",
              "        <td style=\"padding-left: 1em; padding-right: 1em; text-align: center; vertical-align: top\">7</td>\n",
              "    </tr>\n",
              "    <tr>\n",
              "        <td style=\"padding-left: 1em; padding-right: 1em; text-align: center; vertical-align: top\">20001</td>\n",
              "        <td style=\"padding-left: 1em; padding-right: 1em; text-align: center; vertical-align: top\">289090</td>\n",
              "        <td style=\"padding-left: 1em; padding-right: 1em; text-align: center; vertical-align: top\">0.02946980783813878</td>\n",
              "        <td style=\"padding-left: 1em; padding-right: 1em; text-align: center; vertical-align: top\">8</td>\n",
              "    </tr>\n",
              "    <tr>\n",
              "        <td style=\"padding-left: 1em; padding-right: 1em; text-align: center; vertical-align: top\">20001</td>\n",
              "        <td style=\"padding-left: 1em; padding-right: 1em; text-align: center; vertical-align: top\">235616</td>\n",
              "        <td style=\"padding-left: 1em; padding-right: 1em; text-align: center; vertical-align: top\">0.028163839013952956</td>\n",
              "        <td style=\"padding-left: 1em; padding-right: 1em; text-align: center; vertical-align: top\">9</td>\n",
              "    </tr>\n",
              "    <tr>\n",
              "        <td style=\"padding-left: 1em; padding-right: 1em; text-align: center; vertical-align: top\">20001</td>\n",
              "        <td style=\"padding-left: 1em; padding-right: 1em; text-align: center; vertical-align: top\">128260</td>\n",
              "        <td style=\"padding-left: 1em; padding-right: 1em; text-align: center; vertical-align: top\">0.02706392909351148</td>\n",
              "        <td style=\"padding-left: 1em; padding-right: 1em; text-align: center; vertical-align: top\">10</td>\n",
              "    </tr>\n",
              "</table>\n",
              "[10 rows x 4 columns]<br/>\n",
              "</div>"
            ],
            "text/plain": [
              "Columns:\n",
              "\tuser_id\tint\n",
              "\tarticle_id\tint\n",
              "\tscore\tfloat\n",
              "\trank\tint\n",
              "\n",
              "Rows: 10\n",
              "\n",
              "Data:\n",
              "+---------+------------+----------------------+------+\n",
              "| user_id | article_id |        score         | rank |\n",
              "+---------+------------+----------------------+------+\n",
              "|  20001  |   96210    | 0.038775370622936046 |  1   |\n",
              "|  20001  |   234698   | 0.03782414354776081  |  2   |\n",
              "|  20001  |   64329    | 0.033619478501771626 |  3   |\n",
              "|  20001  |   183176   | 0.03269593464700799  |  4   |\n",
              "|  20001  |   95716    | 0.030747218194760773 |  5   |\n",
              "|  20001  |   129434   | 0.02979397083583631  |  6   |\n",
              "|  20001  |   336220   | 0.029759943798968666 |  7   |\n",
              "|  20001  |   289090   | 0.02946980783813878  |  8   |\n",
              "|  20001  |   235616   | 0.028163839013952956 |  9   |\n",
              "|  20001  |   128260   | 0.02706392909351148  |  10  |\n",
              "+---------+------------+----------------------+------+\n",
              "[10 rows x 4 columns]"
            ]
          },
          "metadata": {
            "tags": []
          },
          "execution_count": 42
        }
      ]
    },
    {
      "cell_type": "code",
      "metadata": {
        "id": "08Fg1qclgXCR",
        "colab": {
          "base_uri": "https://localhost:8080/",
          "height": 130
        },
        "outputId": "b1c44d32-0c49-4b50-f41a-11c8530b135a"
      },
      "source": [
        "item_data = tc.SFrame({\"my_item_id\" : ['a','b','c','d'],\n",
        "                           \"data_1\" : [ [1, 0,1], [1, 0,4], [0, 1,6], [0.5, 0.5,0.5] ],\n",
        "                           \"data_2\" : [ [0, 1,2], [1, 0,3], [0, 1,7], [0.5, 0.5,1] ] })\n",
        "item_data"
      ],
      "execution_count": null,
      "outputs": [
        {
          "output_type": "execute_result",
          "data": {
            "text/html": [
              "<div style=\"max-height:1000px;max-width:1500px;overflow:auto;\"><table frame=\"box\" rules=\"cols\">\n",
              "    <tr>\n",
              "        <th style=\"padding-left: 1em; padding-right: 1em; text-align: center\">data_1</th>\n",
              "        <th style=\"padding-left: 1em; padding-right: 1em; text-align: center\">data_2</th>\n",
              "        <th style=\"padding-left: 1em; padding-right: 1em; text-align: center\">my_item_id</th>\n",
              "    </tr>\n",
              "    <tr>\n",
              "        <td style=\"padding-left: 1em; padding-right: 1em; text-align: center; vertical-align: top\">[1.0, 0.0, 1.0]</td>\n",
              "        <td style=\"padding-left: 1em; padding-right: 1em; text-align: center; vertical-align: top\">[0.0, 1.0, 2.0]</td>\n",
              "        <td style=\"padding-left: 1em; padding-right: 1em; text-align: center; vertical-align: top\">a</td>\n",
              "    </tr>\n",
              "    <tr>\n",
              "        <td style=\"padding-left: 1em; padding-right: 1em; text-align: center; vertical-align: top\">[1.0, 0.0, 4.0]</td>\n",
              "        <td style=\"padding-left: 1em; padding-right: 1em; text-align: center; vertical-align: top\">[1.0, 0.0, 3.0]</td>\n",
              "        <td style=\"padding-left: 1em; padding-right: 1em; text-align: center; vertical-align: top\">b</td>\n",
              "    </tr>\n",
              "    <tr>\n",
              "        <td style=\"padding-left: 1em; padding-right: 1em; text-align: center; vertical-align: top\">[0.0, 1.0, 6.0]</td>\n",
              "        <td style=\"padding-left: 1em; padding-right: 1em; text-align: center; vertical-align: top\">[0.0, 1.0, 7.0]</td>\n",
              "        <td style=\"padding-left: 1em; padding-right: 1em; text-align: center; vertical-align: top\">c</td>\n",
              "    </tr>\n",
              "    <tr>\n",
              "        <td style=\"padding-left: 1em; padding-right: 1em; text-align: center; vertical-align: top\">[0.5, 0.5, 0.5]</td>\n",
              "        <td style=\"padding-left: 1em; padding-right: 1em; text-align: center; vertical-align: top\">[0.5, 0.5, 1.0]</td>\n",
              "        <td style=\"padding-left: 1em; padding-right: 1em; text-align: center; vertical-align: top\">d</td>\n",
              "    </tr>\n",
              "</table>\n",
              "[4 rows x 3 columns]<br/>\n",
              "</div>"
            ],
            "text/plain": [
              "Columns:\n",
              "\tdata_1\tarray\n",
              "\tdata_2\tarray\n",
              "\tmy_item_id\tstr\n",
              "\n",
              "Rows: 4\n",
              "\n",
              "Data:\n",
              "+-----------------+-----------------+------------+\n",
              "|      data_1     |      data_2     | my_item_id |\n",
              "+-----------------+-----------------+------------+\n",
              "| [1.0, 0.0, 1.0] | [0.0, 1.0, 2.0] |     a      |\n",
              "| [1.0, 0.0, 4.0] | [1.0, 0.0, 3.0] |     b      |\n",
              "| [0.0, 1.0, 6.0] | [0.0, 1.0, 7.0] |     c      |\n",
              "| [0.5, 0.5, 0.5] | [0.5, 0.5, 1.0] |     d      |\n",
              "+-----------------+-----------------+------------+\n",
              "[4 rows x 3 columns]"
            ]
          },
          "metadata": {
            "tags": []
          },
          "execution_count": 43
        }
      ]
    },
    {
      "cell_type": "code",
      "metadata": {
        "id": "A0uYpWYXSXZz"
      },
      "source": [
        ""
      ],
      "execution_count": null,
      "outputs": []
    }
  ]
}