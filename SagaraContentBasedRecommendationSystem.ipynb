{
  "nbformat": 4,
  "nbformat_minor": 0,
  "metadata": {
    "colab": {
      "name": "SagaraContentBasedRecommendationSystem.ipynb",
      "provenance": [],
      "collapsed_sections": []
    },
    "kernelspec": {
      "name": "python3",
      "display_name": "Python 3"
    },
    "language_info": {
      "name": "python"
    }
  },
  "cells": [
    {
      "cell_type": "markdown",
      "metadata": {
        "id": "_VeFsC2ukxRb"
      },
      "source": [
        "#Content Based Recommendation System"
      ]
    },
    {
      "cell_type": "markdown",
      "metadata": {
        "id": "jjHm6DtbkzKN"
      },
      "source": [
        "##Inisiasi"
      ]
    },
    {
      "cell_type": "code",
      "metadata": {
        "colab": {
          "base_uri": "https://localhost:8080/"
        },
        "id": "yuWMfLKIw0rB",
        "outputId": "59233a81-361f-4978-9187-ce0b249aef4a"
      },
      "source": [
        "pip install html2text"
      ],
      "execution_count": null,
      "outputs": [
        {
          "output_type": "stream",
          "text": [
            "Collecting html2text\n",
            "  Downloading https://files.pythonhosted.org/packages/ae/88/14655f727f66b3e3199f4467bafcc88283e6c31b562686bf606264e09181/html2text-2020.1.16-py3-none-any.whl\n",
            "Installing collected packages: html2text\n",
            "Successfully installed html2text-2020.1.16\n"
          ],
          "name": "stdout"
        }
      ]
    },
    {
      "cell_type": "code",
      "metadata": {
        "colab": {
          "base_uri": "https://localhost:8080/"
        },
        "id": "qespoE4cBW3X",
        "outputId": "87f84309-05be-4095-e217-4cfca95cfbb2"
      },
      "source": [
        "from google.colab import drive\n",
        "drive.mount('/content/drive')"
      ],
      "execution_count": null,
      "outputs": [
        {
          "output_type": "stream",
          "text": [
            "Mounted at /content/drive\n"
          ],
          "name": "stdout"
        }
      ]
    },
    {
      "cell_type": "code",
      "metadata": {
        "id": "kTqnMVzVEZ95"
      },
      "source": [
        "import numpy as np\n",
        "import scipy\n",
        "import pandas as pd\n",
        "import math\n",
        "import re\n",
        "import random\n",
        "import nltk\n",
        "from nltk.stem import PorterStemmer\n",
        "from nltk.tokenize import sent_tokenize, word_tokenize\n",
        "from nltk.stem import WordNetLemmatizer\n",
        "import sklearn\n",
        "import html2text\n",
        "from nltk.corpus import stopwords\n",
        "from scipy.sparse import csr_matrix\n",
        "from sklearn.model_selection import train_test_split\n",
        "from sklearn.feature_extraction.text import TfidfVectorizer\n",
        "from sklearn.metrics.pairwise import cosine_similarity\n",
        "from scipy.sparse.linalg import svds\n",
        "from sklearn.preprocessing import MinMaxScaler\n",
        "import matplotlib.pyplot as plt"
      ],
      "execution_count": null,
      "outputs": []
    },
    {
      "cell_type": "markdown",
      "metadata": {
        "id": "OsjeGt5_k4K-"
      },
      "source": [
        "##Preprocessing"
      ]
    },
    {
      "cell_type": "code",
      "metadata": {
        "colab": {
          "base_uri": "https://localhost:8080/",
          "height": 941
        },
        "id": "GBvrAmJnEClY",
        "outputId": "2225a6a8-3921-452b-de2a-edd8ce0f7049"
      },
      "source": [
        "datasagara =  pd.read_csv('/content/drive/MyDrive/Datasets/Sagara/wpc0_posts.csv')\n",
        "datasagara"
      ],
      "execution_count": null,
      "outputs": [
        {
          "output_type": "execute_result",
          "data": {
            "text/html": [
              "<div>\n",
              "<style scoped>\n",
              "    .dataframe tbody tr th:only-of-type {\n",
              "        vertical-align: middle;\n",
              "    }\n",
              "\n",
              "    .dataframe tbody tr th {\n",
              "        vertical-align: top;\n",
              "    }\n",
              "\n",
              "    .dataframe thead th {\n",
              "        text-align: right;\n",
              "    }\n",
              "</style>\n",
              "<table border=\"1\" class=\"dataframe\">\n",
              "  <thead>\n",
              "    <tr style=\"text-align: right;\">\n",
              "      <th></th>\n",
              "      <th>ID</th>\n",
              "      <th>post_author</th>\n",
              "      <th>post_date</th>\n",
              "      <th>post_date_gmt</th>\n",
              "      <th>post_content</th>\n",
              "      <th>post_title</th>\n",
              "      <th>post_excerpt</th>\n",
              "      <th>post_status</th>\n",
              "      <th>comment_status</th>\n",
              "      <th>ping_status</th>\n",
              "      <th>post_password</th>\n",
              "      <th>post_name</th>\n",
              "      <th>to_ping</th>\n",
              "      <th>pinged</th>\n",
              "      <th>post_modified</th>\n",
              "      <th>post_modified_gmt</th>\n",
              "      <th>post_content_filtered</th>\n",
              "      <th>post_parent</th>\n",
              "      <th>guid</th>\n",
              "      <th>menu_order</th>\n",
              "      <th>post_type</th>\n",
              "      <th>post_mime_type</th>\n",
              "      <th>comment_count</th>\n",
              "    </tr>\n",
              "  </thead>\n",
              "  <tbody>\n",
              "    <tr>\n",
              "      <th>0</th>\n",
              "      <td>2</td>\n",
              "      <td>1</td>\n",
              "      <td>2020-08-25 05:12:33</td>\n",
              "      <td>2020-08-25 05:12:33</td>\n",
              "      <td>&lt;!-- wp:paragraph --&gt;\\n&lt;p&gt;This is an example p...</td>\n",
              "      <td>Sample Page</td>\n",
              "      <td>NaN</td>\n",
              "      <td>publish</td>\n",
              "      <td>closed</td>\n",
              "      <td>open</td>\n",
              "      <td>NaN</td>\n",
              "      <td>sample-page</td>\n",
              "      <td>NaN</td>\n",
              "      <td>NaN</td>\n",
              "      <td>2020-08-25 05:12:33</td>\n",
              "      <td>2020-08-25 05:12:33</td>\n",
              "      <td>NaN</td>\n",
              "      <td>0</td>\n",
              "      <td>https://www.sagaratechnology.com/blog/?page_id=2</td>\n",
              "      <td>0</td>\n",
              "      <td>page</td>\n",
              "      <td>NaN</td>\n",
              "      <td>0</td>\n",
              "    </tr>\n",
              "    <tr>\n",
              "      <th>1</th>\n",
              "      <td>3</td>\n",
              "      <td>1</td>\n",
              "      <td>2020-08-25 05:12:33</td>\n",
              "      <td>2020-08-25 05:12:33</td>\n",
              "      <td>&lt;!-- wp:heading --&gt;&lt;h2&gt;Who we are&lt;/h2&gt;&lt;!-- /wp...</td>\n",
              "      <td>Privacy Policy</td>\n",
              "      <td>NaN</td>\n",
              "      <td>draft</td>\n",
              "      <td>closed</td>\n",
              "      <td>open</td>\n",
              "      <td>NaN</td>\n",
              "      <td>privacy-policy</td>\n",
              "      <td>NaN</td>\n",
              "      <td>NaN</td>\n",
              "      <td>2020-08-25 05:12:33</td>\n",
              "      <td>2020-08-25 05:12:33</td>\n",
              "      <td>NaN</td>\n",
              "      <td>0</td>\n",
              "      <td>https://www.sagaratechnology.com/blog/?page_id=3</td>\n",
              "      <td>0</td>\n",
              "      <td>page</td>\n",
              "      <td>NaN</td>\n",
              "      <td>0</td>\n",
              "    </tr>\n",
              "    <tr>\n",
              "      <th>2</th>\n",
              "      <td>39</td>\n",
              "      <td>1</td>\n",
              "      <td>2020-08-26 11:20:19</td>\n",
              "      <td>2020-08-26 11:20:19</td>\n",
              "      <td>NaN</td>\n",
              "      <td>working</td>\n",
              "      <td>NaN</td>\n",
              "      <td>inherit</td>\n",
              "      <td>open</td>\n",
              "      <td>closed</td>\n",
              "      <td>NaN</td>\n",
              "      <td>working</td>\n",
              "      <td>NaN</td>\n",
              "      <td>NaN</td>\n",
              "      <td>2020-08-26 11:20:19</td>\n",
              "      <td>2020-08-26 11:20:19</td>\n",
              "      <td>NaN</td>\n",
              "      <td>0</td>\n",
              "      <td>https://www.sagaratechnology.com/blog/wp-conte...</td>\n",
              "      <td>0</td>\n",
              "      <td>attachment</td>\n",
              "      <td>image/jpeg</td>\n",
              "      <td>0</td>\n",
              "    </tr>\n",
              "    <tr>\n",
              "      <th>3</th>\n",
              "      <td>40</td>\n",
              "      <td>1</td>\n",
              "      <td>2020-08-26 11:21:23</td>\n",
              "      <td>2020-08-26 11:21:23</td>\n",
              "      <td>NaN</td>\n",
              "      <td>red-lines</td>\n",
              "      <td>NaN</td>\n",
              "      <td>inherit</td>\n",
              "      <td>open</td>\n",
              "      <td>closed</td>\n",
              "      <td>NaN</td>\n",
              "      <td>red-lines</td>\n",
              "      <td>NaN</td>\n",
              "      <td>NaN</td>\n",
              "      <td>2020-08-26 11:21:23</td>\n",
              "      <td>2020-08-26 11:21:23</td>\n",
              "      <td>NaN</td>\n",
              "      <td>0</td>\n",
              "      <td>https://www.sagaratechnology.com/blog/wp-conte...</td>\n",
              "      <td>0</td>\n",
              "      <td>attachment</td>\n",
              "      <td>image/png</td>\n",
              "      <td>0</td>\n",
              "    </tr>\n",
              "    <tr>\n",
              "      <th>4</th>\n",
              "      <td>43</td>\n",
              "      <td>1</td>\n",
              "      <td>2020-08-27 09:30:05</td>\n",
              "      <td>2020-08-27 09:30:05</td>\n",
              "      <td>NaN</td>\n",
              "      <td>The Fundamentals of UX and UI Design</td>\n",
              "      <td>NaN</td>\n",
              "      <td>inherit</td>\n",
              "      <td>open</td>\n",
              "      <td>closed</td>\n",
              "      <td>NaN</td>\n",
              "      <td>featured-image</td>\n",
              "      <td>NaN</td>\n",
              "      <td>NaN</td>\n",
              "      <td>2020-08-27 10:01:04</td>\n",
              "      <td>2020-08-27 10:01:04</td>\n",
              "      <td>NaN</td>\n",
              "      <td>0</td>\n",
              "      <td>https://www.sagaratechnology.com/blog/wp-conte...</td>\n",
              "      <td>0</td>\n",
              "      <td>attachment</td>\n",
              "      <td>image/gif</td>\n",
              "      <td>0</td>\n",
              "    </tr>\n",
              "    <tr>\n",
              "      <th>...</th>\n",
              "      <td>...</td>\n",
              "      <td>...</td>\n",
              "      <td>...</td>\n",
              "      <td>...</td>\n",
              "      <td>...</td>\n",
              "      <td>...</td>\n",
              "      <td>...</td>\n",
              "      <td>...</td>\n",
              "      <td>...</td>\n",
              "      <td>...</td>\n",
              "      <td>...</td>\n",
              "      <td>...</td>\n",
              "      <td>...</td>\n",
              "      <td>...</td>\n",
              "      <td>...</td>\n",
              "      <td>...</td>\n",
              "      <td>...</td>\n",
              "      <td>...</td>\n",
              "      <td>...</td>\n",
              "      <td>...</td>\n",
              "      <td>...</td>\n",
              "      <td>...</td>\n",
              "      <td>...</td>\n",
              "    </tr>\n",
              "    <tr>\n",
              "      <th>803</th>\n",
              "      <td>1068</td>\n",
              "      <td>2</td>\n",
              "      <td>2021-07-09 03:55:10</td>\n",
              "      <td>2021-07-09 03:55:10</td>\n",
              "      <td>&lt;!-- wp:paragraph --&gt;\\n&lt;p&gt;Economists from the ...</td>\n",
              "      <td>Cryptocurrency Controls 8 Percent of the Finte...</td>\n",
              "      <td>NaN</td>\n",
              "      <td>inherit</td>\n",
              "      <td>closed</td>\n",
              "      <td>closed</td>\n",
              "      <td>NaN</td>\n",
              "      <td>1062-revision-v1</td>\n",
              "      <td>NaN</td>\n",
              "      <td>NaN</td>\n",
              "      <td>2021-07-09 03:55:10</td>\n",
              "      <td>2021-07-09 03:55:10</td>\n",
              "      <td>NaN</td>\n",
              "      <td>1062</td>\n",
              "      <td>https://www.sagaratechnology.com/blog/?p=1068</td>\n",
              "      <td>0</td>\n",
              "      <td>revision</td>\n",
              "      <td>NaN</td>\n",
              "      <td>0</td>\n",
              "    </tr>\n",
              "    <tr>\n",
              "      <th>804</th>\n",
              "      <td>1069</td>\n",
              "      <td>2</td>\n",
              "      <td>2021-07-09 07:34:10</td>\n",
              "      <td>2021-07-09 07:34:10</td>\n",
              "      <td>&lt;!-- wp:paragraph --&gt;\\n&lt;p&gt;One of the most deve...</td>\n",
              "      <td>Getting to Know Indonesian Fintech Startups</td>\n",
              "      <td>NaN</td>\n",
              "      <td>draft</td>\n",
              "      <td>open</td>\n",
              "      <td>open</td>\n",
              "      <td>NaN</td>\n",
              "      <td>NaN</td>\n",
              "      <td>NaN</td>\n",
              "      <td>NaN</td>\n",
              "      <td>2021-07-09 07:39:42</td>\n",
              "      <td>2021-07-09 07:39:42</td>\n",
              "      <td>NaN</td>\n",
              "      <td>0</td>\n",
              "      <td>https://www.sagaratechnology.com/blog/?p=1069</td>\n",
              "      <td>0</td>\n",
              "      <td>post</td>\n",
              "      <td>NaN</td>\n",
              "      <td>0</td>\n",
              "    </tr>\n",
              "    <tr>\n",
              "      <th>805</th>\n",
              "      <td>1070</td>\n",
              "      <td>2</td>\n",
              "      <td>2021-07-09 07:34:02</td>\n",
              "      <td>2021-07-09 07:34:02</td>\n",
              "      <td>Getting to Know Indonesian Fintech Startups</td>\n",
              "      <td>Getting to Know Indonesian Fintech Startups</td>\n",
              "      <td>NaN</td>\n",
              "      <td>inherit</td>\n",
              "      <td>open</td>\n",
              "      <td>closed</td>\n",
              "      <td>NaN</td>\n",
              "      <td>getting-to-know-indonesian-fintech-startups</td>\n",
              "      <td>NaN</td>\n",
              "      <td>NaN</td>\n",
              "      <td>2021-07-09 07:34:08</td>\n",
              "      <td>2021-07-09 07:34:08</td>\n",
              "      <td>NaN</td>\n",
              "      <td>1069</td>\n",
              "      <td>https://www.sagaratechnology.com/blog/wp-conte...</td>\n",
              "      <td>0</td>\n",
              "      <td>attachment</td>\n",
              "      <td>image/jpeg</td>\n",
              "      <td>0</td>\n",
              "    </tr>\n",
              "    <tr>\n",
              "      <th>806</th>\n",
              "      <td>1071</td>\n",
              "      <td>2</td>\n",
              "      <td>2021-07-09 07:34:10</td>\n",
              "      <td>2021-07-09 07:34:10</td>\n",
              "      <td>&lt;!-- wp:paragraph --&gt;\\n&lt;p&gt;One of the most deve...</td>\n",
              "      <td>Getting to Know Indonesian Fintech Startups</td>\n",
              "      <td>NaN</td>\n",
              "      <td>inherit</td>\n",
              "      <td>closed</td>\n",
              "      <td>closed</td>\n",
              "      <td>NaN</td>\n",
              "      <td>1069-revision-v1</td>\n",
              "      <td>NaN</td>\n",
              "      <td>NaN</td>\n",
              "      <td>2021-07-09 07:34:10</td>\n",
              "      <td>2021-07-09 07:34:10</td>\n",
              "      <td>NaN</td>\n",
              "      <td>1069</td>\n",
              "      <td>https://www.sagaratechnology.com/blog/?p=1071</td>\n",
              "      <td>0</td>\n",
              "      <td>revision</td>\n",
              "      <td>NaN</td>\n",
              "      <td>0</td>\n",
              "    </tr>\n",
              "    <tr>\n",
              "      <th>807</th>\n",
              "      <td>1072</td>\n",
              "      <td>2</td>\n",
              "      <td>2021-07-09 07:39:42</td>\n",
              "      <td>2021-07-09 07:39:42</td>\n",
              "      <td>&lt;!-- wp:paragraph --&gt;\\n&lt;p&gt;One of the most deve...</td>\n",
              "      <td>Getting to Know Indonesian Fintech Startups</td>\n",
              "      <td>NaN</td>\n",
              "      <td>inherit</td>\n",
              "      <td>closed</td>\n",
              "      <td>closed</td>\n",
              "      <td>NaN</td>\n",
              "      <td>1069-revision-v1</td>\n",
              "      <td>NaN</td>\n",
              "      <td>NaN</td>\n",
              "      <td>2021-07-09 07:39:42</td>\n",
              "      <td>2021-07-09 07:39:42</td>\n",
              "      <td>NaN</td>\n",
              "      <td>1069</td>\n",
              "      <td>https://www.sagaratechnology.com/blog/?p=1072</td>\n",
              "      <td>0</td>\n",
              "      <td>revision</td>\n",
              "      <td>NaN</td>\n",
              "      <td>0</td>\n",
              "    </tr>\n",
              "  </tbody>\n",
              "</table>\n",
              "<p>808 rows × 23 columns</p>\n",
              "</div>"
            ],
            "text/plain": [
              "       ID  post_author  ... post_mime_type comment_count\n",
              "0       2            1  ...            NaN             0\n",
              "1       3            1  ...            NaN             0\n",
              "2      39            1  ...     image/jpeg             0\n",
              "3      40            1  ...      image/png             0\n",
              "4      43            1  ...      image/gif             0\n",
              "..    ...          ...  ...            ...           ...\n",
              "803  1068            2  ...            NaN             0\n",
              "804  1069            2  ...            NaN             0\n",
              "805  1070            2  ...     image/jpeg             0\n",
              "806  1071            2  ...            NaN             0\n",
              "807  1072            2  ...            NaN             0\n",
              "\n",
              "[808 rows x 23 columns]"
            ]
          },
          "metadata": {
            "tags": []
          },
          "execution_count": 4
        }
      ]
    },
    {
      "cell_type": "markdown",
      "metadata": {
        "id": "MJ0JZry5k9rI"
      },
      "source": [
        "**Dari semua data artikel yang ada, hanya pilih artikel yang sudah di publish & bukan inherit dari artikel lain**"
      ]
    },
    {
      "cell_type": "code",
      "metadata": {
        "colab": {
          "base_uri": "https://localhost:8080/",
          "height": 958
        },
        "id": "Cb_cCzcyE9Ug",
        "outputId": "d1951f17-5632-47f6-e3e9-da146ccf177c"
      },
      "source": [
        "datasagara = datasagara[datasagara['post_status']=='publish'].reset_index(drop=True)\n",
        "datasagara"
      ],
      "execution_count": null,
      "outputs": [
        {
          "output_type": "execute_result",
          "data": {
            "text/html": [
              "<div>\n",
              "<style scoped>\n",
              "    .dataframe tbody tr th:only-of-type {\n",
              "        vertical-align: middle;\n",
              "    }\n",
              "\n",
              "    .dataframe tbody tr th {\n",
              "        vertical-align: top;\n",
              "    }\n",
              "\n",
              "    .dataframe thead th {\n",
              "        text-align: right;\n",
              "    }\n",
              "</style>\n",
              "<table border=\"1\" class=\"dataframe\">\n",
              "  <thead>\n",
              "    <tr style=\"text-align: right;\">\n",
              "      <th></th>\n",
              "      <th>ID</th>\n",
              "      <th>post_author</th>\n",
              "      <th>post_date</th>\n",
              "      <th>post_date_gmt</th>\n",
              "      <th>post_content</th>\n",
              "      <th>post_title</th>\n",
              "      <th>post_excerpt</th>\n",
              "      <th>post_status</th>\n",
              "      <th>comment_status</th>\n",
              "      <th>ping_status</th>\n",
              "      <th>post_password</th>\n",
              "      <th>post_name</th>\n",
              "      <th>to_ping</th>\n",
              "      <th>pinged</th>\n",
              "      <th>post_modified</th>\n",
              "      <th>post_modified_gmt</th>\n",
              "      <th>post_content_filtered</th>\n",
              "      <th>post_parent</th>\n",
              "      <th>guid</th>\n",
              "      <th>menu_order</th>\n",
              "      <th>post_type</th>\n",
              "      <th>post_mime_type</th>\n",
              "      <th>comment_count</th>\n",
              "    </tr>\n",
              "  </thead>\n",
              "  <tbody>\n",
              "    <tr>\n",
              "      <th>0</th>\n",
              "      <td>2</td>\n",
              "      <td>1</td>\n",
              "      <td>2020-08-25 05:12:33</td>\n",
              "      <td>2020-08-25 05:12:33</td>\n",
              "      <td>&lt;!-- wp:paragraph --&gt;\\n&lt;p&gt;This is an example p...</td>\n",
              "      <td>Sample Page</td>\n",
              "      <td>NaN</td>\n",
              "      <td>publish</td>\n",
              "      <td>closed</td>\n",
              "      <td>open</td>\n",
              "      <td>NaN</td>\n",
              "      <td>sample-page</td>\n",
              "      <td>NaN</td>\n",
              "      <td>NaN</td>\n",
              "      <td>2020-08-25 05:12:33</td>\n",
              "      <td>2020-08-25 05:12:33</td>\n",
              "      <td>NaN</td>\n",
              "      <td>0</td>\n",
              "      <td>https://www.sagaratechnology.com/blog/?page_id=2</td>\n",
              "      <td>0</td>\n",
              "      <td>page</td>\n",
              "      <td>NaN</td>\n",
              "      <td>0</td>\n",
              "    </tr>\n",
              "    <tr>\n",
              "      <th>1</th>\n",
              "      <td>48</td>\n",
              "      <td>1</td>\n",
              "      <td>2020-08-28 03:11:04</td>\n",
              "      <td>2020-08-28 03:11:04</td>\n",
              "      <td>&lt;!-- wp:paragraph --&gt;\\n&lt;p&gt;Many people have hea...</td>\n",
              "      <td>The Fundamentals of UX and UI Design</td>\n",
              "      <td>NaN</td>\n",
              "      <td>publish</td>\n",
              "      <td>open</td>\n",
              "      <td>open</td>\n",
              "      <td>NaN</td>\n",
              "      <td>the-fundamentals-of-ux-and-ui-design</td>\n",
              "      <td>NaN</td>\n",
              "      <td>NaN</td>\n",
              "      <td>2020-09-02 04:56:56</td>\n",
              "      <td>2020-09-02 04:56:56</td>\n",
              "      <td>NaN</td>\n",
              "      <td>0</td>\n",
              "      <td>https://www.sagaratechnology.com/blog/?p=48</td>\n",
              "      <td>0</td>\n",
              "      <td>post</td>\n",
              "      <td>NaN</td>\n",
              "      <td>0</td>\n",
              "    </tr>\n",
              "    <tr>\n",
              "      <th>2</th>\n",
              "      <td>62</td>\n",
              "      <td>1</td>\n",
              "      <td>2020-08-28 07:13:19</td>\n",
              "      <td>2020-08-28 07:13:19</td>\n",
              "      <td>&lt;!-- wp:paragraph --&gt;\\n&lt;p&gt;A&amp;nbsp;&lt;strong&gt;user ...</td>\n",
              "      <td>How to Create User Persona for Digital Product?</td>\n",
              "      <td>NaN</td>\n",
              "      <td>publish</td>\n",
              "      <td>open</td>\n",
              "      <td>open</td>\n",
              "      <td>NaN</td>\n",
              "      <td>how-to-create-user-persona-for-digital-product</td>\n",
              "      <td>NaN</td>\n",
              "      <td>NaN</td>\n",
              "      <td>2020-09-02 04:55:05</td>\n",
              "      <td>2020-09-02 04:55:05</td>\n",
              "      <td>NaN</td>\n",
              "      <td>0</td>\n",
              "      <td>https://www.sagaratechnology.com/blog/?p=62</td>\n",
              "      <td>0</td>\n",
              "      <td>post</td>\n",
              "      <td>NaN</td>\n",
              "      <td>0</td>\n",
              "    </tr>\n",
              "    <tr>\n",
              "      <th>3</th>\n",
              "      <td>67</td>\n",
              "      <td>1</td>\n",
              "      <td>2020-08-28 08:34:31</td>\n",
              "      <td>2020-08-28 08:34:31</td>\n",
              "      <td>&lt;p id=\"e89a\" class=\"hu hv bo hw b hx hy hz ia ...</td>\n",
              "      <td>Creating User Journey for Apps Development</td>\n",
              "      <td>NaN</td>\n",
              "      <td>publish</td>\n",
              "      <td>open</td>\n",
              "      <td>open</td>\n",
              "      <td>NaN</td>\n",
              "      <td>creating-user-journey-for-apps-development</td>\n",
              "      <td>NaN</td>\n",
              "      <td>NaN</td>\n",
              "      <td>2020-09-02 04:54:07</td>\n",
              "      <td>2020-09-02 04:54:07</td>\n",
              "      <td>NaN</td>\n",
              "      <td>0</td>\n",
              "      <td>https://www.sagaratechnology.com/blog/?p=67</td>\n",
              "      <td>0</td>\n",
              "      <td>post</td>\n",
              "      <td>NaN</td>\n",
              "      <td>0</td>\n",
              "    </tr>\n",
              "    <tr>\n",
              "      <th>4</th>\n",
              "      <td>76</td>\n",
              "      <td>1</td>\n",
              "      <td>2020-08-28 09:57:39</td>\n",
              "      <td>2020-08-28 09:57:39</td>\n",
              "      <td>&lt;!-- wp:paragraph --&gt;\\n&lt;p&gt;Nowadays, people are...</td>\n",
              "      <td>A Use Case for Proper Mobile Apps Development</td>\n",
              "      <td>NaN</td>\n",
              "      <td>publish</td>\n",
              "      <td>open</td>\n",
              "      <td>open</td>\n",
              "      <td>NaN</td>\n",
              "      <td>a-use-case-for-proper-mobile-apps-development</td>\n",
              "      <td>NaN</td>\n",
              "      <td>NaN</td>\n",
              "      <td>2020-09-02 04:57:57</td>\n",
              "      <td>2020-09-02 04:57:57</td>\n",
              "      <td>NaN</td>\n",
              "      <td>0</td>\n",
              "      <td>https://www.sagaratechnology.com/blog/?p=76</td>\n",
              "      <td>0</td>\n",
              "      <td>post</td>\n",
              "      <td>NaN</td>\n",
              "      <td>0</td>\n",
              "    </tr>\n",
              "    <tr>\n",
              "      <th>...</th>\n",
              "      <td>...</td>\n",
              "      <td>...</td>\n",
              "      <td>...</td>\n",
              "      <td>...</td>\n",
              "      <td>...</td>\n",
              "      <td>...</td>\n",
              "      <td>...</td>\n",
              "      <td>...</td>\n",
              "      <td>...</td>\n",
              "      <td>...</td>\n",
              "      <td>...</td>\n",
              "      <td>...</td>\n",
              "      <td>...</td>\n",
              "      <td>...</td>\n",
              "      <td>...</td>\n",
              "      <td>...</td>\n",
              "      <td>...</td>\n",
              "      <td>...</td>\n",
              "      <td>...</td>\n",
              "      <td>...</td>\n",
              "      <td>...</td>\n",
              "      <td>...</td>\n",
              "      <td>...</td>\n",
              "    </tr>\n",
              "    <tr>\n",
              "      <th>94</th>\n",
              "      <td>1007</td>\n",
              "      <td>2</td>\n",
              "      <td>2021-07-06 05:14:07</td>\n",
              "      <td>2021-07-06 05:14:07</td>\n",
              "      <td>&lt;!-- wp:paragraph --&gt;\\n&lt;p&gt;To access informatio...</td>\n",
              "      <td>Difference between Mobile Apps and Mobile Web</td>\n",
              "      <td>NaN</td>\n",
              "      <td>publish</td>\n",
              "      <td>open</td>\n",
              "      <td>open</td>\n",
              "      <td>NaN</td>\n",
              "      <td>difference-between-mobile-apps-and-mobile-web</td>\n",
              "      <td>NaN</td>\n",
              "      <td>NaN</td>\n",
              "      <td>2021-07-06 05:14:07</td>\n",
              "      <td>2021-07-06 05:14:07</td>\n",
              "      <td>NaN</td>\n",
              "      <td>0</td>\n",
              "      <td>https://www.sagaratechnology.com/blog/?p=1007</td>\n",
              "      <td>0</td>\n",
              "      <td>post</td>\n",
              "      <td>NaN</td>\n",
              "      <td>0</td>\n",
              "    </tr>\n",
              "    <tr>\n",
              "      <th>95</th>\n",
              "      <td>1022</td>\n",
              "      <td>2</td>\n",
              "      <td>2021-07-07 07:02:38</td>\n",
              "      <td>2021-07-07 07:02:38</td>\n",
              "      <td>&lt;!-- wp:paragraph --&gt;\\n&lt;p&gt;Currently, the busin...</td>\n",
              "      <td>Software House Services and Structure</td>\n",
              "      <td>NaN</td>\n",
              "      <td>publish</td>\n",
              "      <td>open</td>\n",
              "      <td>open</td>\n",
              "      <td>NaN</td>\n",
              "      <td>software-house-services-and-structure</td>\n",
              "      <td>NaN</td>\n",
              "      <td>NaN</td>\n",
              "      <td>2021-07-07 07:26:17</td>\n",
              "      <td>2021-07-07 07:26:17</td>\n",
              "      <td>NaN</td>\n",
              "      <td>0</td>\n",
              "      <td>https://www.sagaratechnology.com/blog/?p=1022</td>\n",
              "      <td>0</td>\n",
              "      <td>post</td>\n",
              "      <td>NaN</td>\n",
              "      <td>0</td>\n",
              "    </tr>\n",
              "    <tr>\n",
              "      <th>96</th>\n",
              "      <td>1037</td>\n",
              "      <td>2</td>\n",
              "      <td>2021-07-07 11:12:05</td>\n",
              "      <td>2021-07-07 11:12:05</td>\n",
              "      <td>&lt;!-- wp:paragraph --&gt;\\n&lt;p&gt;&lt;a href=\"https://www...</td>\n",
              "      <td>Tips for Choosing a Good Software House</td>\n",
              "      <td>NaN</td>\n",
              "      <td>publish</td>\n",
              "      <td>open</td>\n",
              "      <td>open</td>\n",
              "      <td>NaN</td>\n",
              "      <td>tips-for-choosing-a-good-software-house</td>\n",
              "      <td>NaN</td>\n",
              "      <td>NaN</td>\n",
              "      <td>2021-07-08 02:43:09</td>\n",
              "      <td>2021-07-08 02:43:09</td>\n",
              "      <td>NaN</td>\n",
              "      <td>0</td>\n",
              "      <td>https://www.sagaratechnology.com/blog/?p=1037</td>\n",
              "      <td>0</td>\n",
              "      <td>post</td>\n",
              "      <td>NaN</td>\n",
              "      <td>0</td>\n",
              "    </tr>\n",
              "    <tr>\n",
              "      <th>97</th>\n",
              "      <td>1042</td>\n",
              "      <td>2</td>\n",
              "      <td>2021-07-09 01:55:05</td>\n",
              "      <td>2021-07-09 01:55:05</td>\n",
              "      <td>&lt;!-- wp:paragraph --&gt;\\n&lt;p&gt;&lt;a href=\"https://www...</td>\n",
              "      <td>SAGARA FINTECH ROUNDTABLE: How to Take Advanta...</td>\n",
              "      <td>NaN</td>\n",
              "      <td>publish</td>\n",
              "      <td>open</td>\n",
              "      <td>open</td>\n",
              "      <td>NaN</td>\n",
              "      <td>sagara-fintech-roundtable-how-to-take-advantag...</td>\n",
              "      <td>NaN</td>\n",
              "      <td>NaN</td>\n",
              "      <td>2021-07-09 01:55:05</td>\n",
              "      <td>2021-07-09 01:55:05</td>\n",
              "      <td>NaN</td>\n",
              "      <td>0</td>\n",
              "      <td>https://www.sagaratechnology.com/blog/?p=1042</td>\n",
              "      <td>0</td>\n",
              "      <td>post</td>\n",
              "      <td>NaN</td>\n",
              "      <td>0</td>\n",
              "    </tr>\n",
              "    <tr>\n",
              "      <th>98</th>\n",
              "      <td>1045</td>\n",
              "      <td>2</td>\n",
              "      <td>2021-07-09 01:55:21</td>\n",
              "      <td>2021-07-09 01:55:21</td>\n",
              "      <td>&lt;!-- wp:paragraph --&gt;\\n&lt;p&gt;&lt;a href=\"https://www...</td>\n",
              "      <td>5 Advanced Technology of the Future</td>\n",
              "      <td>NaN</td>\n",
              "      <td>publish</td>\n",
              "      <td>open</td>\n",
              "      <td>open</td>\n",
              "      <td>NaN</td>\n",
              "      <td>5-advanced-technology-of-the-future</td>\n",
              "      <td>NaN</td>\n",
              "      <td>NaN</td>\n",
              "      <td>2021-07-09 01:55:21</td>\n",
              "      <td>2021-07-09 01:55:21</td>\n",
              "      <td>NaN</td>\n",
              "      <td>0</td>\n",
              "      <td>https://www.sagaratechnology.com/blog/?p=1045</td>\n",
              "      <td>0</td>\n",
              "      <td>post</td>\n",
              "      <td>NaN</td>\n",
              "      <td>0</td>\n",
              "    </tr>\n",
              "  </tbody>\n",
              "</table>\n",
              "<p>99 rows × 23 columns</p>\n",
              "</div>"
            ],
            "text/plain": [
              "      ID  post_author  ... post_mime_type comment_count\n",
              "0      2            1  ...            NaN             0\n",
              "1     48            1  ...            NaN             0\n",
              "2     62            1  ...            NaN             0\n",
              "3     67            1  ...            NaN             0\n",
              "4     76            1  ...            NaN             0\n",
              "..   ...          ...  ...            ...           ...\n",
              "94  1007            2  ...            NaN             0\n",
              "95  1022            2  ...            NaN             0\n",
              "96  1037            2  ...            NaN             0\n",
              "97  1042            2  ...            NaN             0\n",
              "98  1045            2  ...            NaN             0\n",
              "\n",
              "[99 rows x 23 columns]"
            ]
          },
          "metadata": {
            "tags": []
          },
          "execution_count": 5
        }
      ]
    },
    {
      "cell_type": "code",
      "metadata": {
        "colab": {
          "base_uri": "https://localhost:8080/",
          "height": 69
        },
        "id": "KCZdMRvmG1yR",
        "outputId": "36aca7dc-2d3b-4175-931f-5f92b4ca12e9"
      },
      "source": [
        "datasagara[datasagara['post_parent']!=0]"
      ],
      "execution_count": null,
      "outputs": [
        {
          "output_type": "execute_result",
          "data": {
            "text/html": [
              "<div>\n",
              "<style scoped>\n",
              "    .dataframe tbody tr th:only-of-type {\n",
              "        vertical-align: middle;\n",
              "    }\n",
              "\n",
              "    .dataframe tbody tr th {\n",
              "        vertical-align: top;\n",
              "    }\n",
              "\n",
              "    .dataframe thead th {\n",
              "        text-align: right;\n",
              "    }\n",
              "</style>\n",
              "<table border=\"1\" class=\"dataframe\">\n",
              "  <thead>\n",
              "    <tr style=\"text-align: right;\">\n",
              "      <th></th>\n",
              "      <th>ID</th>\n",
              "      <th>post_author</th>\n",
              "      <th>post_date</th>\n",
              "      <th>post_date_gmt</th>\n",
              "      <th>post_content</th>\n",
              "      <th>post_title</th>\n",
              "      <th>post_excerpt</th>\n",
              "      <th>post_status</th>\n",
              "      <th>comment_status</th>\n",
              "      <th>ping_status</th>\n",
              "      <th>post_password</th>\n",
              "      <th>post_name</th>\n",
              "      <th>to_ping</th>\n",
              "      <th>pinged</th>\n",
              "      <th>post_modified</th>\n",
              "      <th>post_modified_gmt</th>\n",
              "      <th>post_content_filtered</th>\n",
              "      <th>post_parent</th>\n",
              "      <th>guid</th>\n",
              "      <th>menu_order</th>\n",
              "      <th>post_type</th>\n",
              "      <th>post_mime_type</th>\n",
              "      <th>comment_count</th>\n",
              "    </tr>\n",
              "  </thead>\n",
              "  <tbody>\n",
              "  </tbody>\n",
              "</table>\n",
              "</div>"
            ],
            "text/plain": [
              "Empty DataFrame\n",
              "Columns: [ID, post_author, post_date, post_date_gmt, post_content, post_title, post_excerpt, post_status, comment_status, ping_status, post_password, post_name, to_ping, pinged, post_modified, post_modified_gmt, post_content_filtered, post_parent, guid, menu_order, post_type, post_mime_type, comment_count]\n",
              "Index: []"
            ]
          },
          "metadata": {
            "tags": []
          },
          "execution_count": 6
        }
      ]
    },
    {
      "cell_type": "markdown",
      "metadata": {
        "id": "FurkXUkWlEjz"
      },
      "source": [
        "**Cek ID apakah ada yang duplikat/tidak**"
      ]
    },
    {
      "cell_type": "code",
      "metadata": {
        "colab": {
          "base_uri": "https://localhost:8080/"
        },
        "id": "Tq_dt2ZrzENz",
        "outputId": "0cf800a8-6700-41ee-fa9a-f87b67363818"
      },
      "source": [
        "datasagara['ID'].value_counts()"
      ],
      "execution_count": null,
      "outputs": [
        {
          "output_type": "execute_result",
          "data": {
            "text/plain": [
              "928    1\n",
              "368    1\n",
              "290    1\n",
              "163    1\n",
              "811    1\n",
              "      ..\n",
              "918    1\n",
              "218    1\n",
              "475    1\n",
              "92     1\n",
              "603    1\n",
              "Name: ID, Length: 99, dtype: int64"
            ]
          },
          "metadata": {
            "tags": []
          },
          "execution_count": 7
        }
      ]
    },
    {
      "cell_type": "markdown",
      "metadata": {
        "id": "WRUjr-qTlNOt"
      },
      "source": [
        "**Melihat isi artikel**"
      ]
    },
    {
      "cell_type": "code",
      "metadata": {
        "colab": {
          "base_uri": "https://localhost:8080/"
        },
        "id": "YYL3rsXsItOm",
        "outputId": "4156a1b0-f61a-4f56-bd66-eabd1bafb8e6"
      },
      "source": [
        "datasagara['post_title']"
      ],
      "execution_count": null,
      "outputs": [
        {
          "output_type": "execute_result",
          "data": {
            "text/plain": [
              "0                                           Sample Page\n",
              "1                  The Fundamentals of UX and UI Design\n",
              "2       How to Create User Persona for Digital Product?\n",
              "3            Creating User Journey for Apps Development\n",
              "4         A Use Case for Proper Mobile Apps Development\n",
              "                            ...                        \n",
              "94        Difference between Mobile Apps and Mobile Web\n",
              "95                Software House Services and Structure\n",
              "96              Tips for Choosing a Good Software House\n",
              "97    SAGARA FINTECH ROUNDTABLE: How to Take Advanta...\n",
              "98                  5 Advanced Technology of the Future\n",
              "Name: post_title, Length: 99, dtype: object"
            ]
          },
          "metadata": {
            "tags": []
          },
          "execution_count": 8
        }
      ]
    },
    {
      "cell_type": "code",
      "metadata": {
        "colab": {
          "base_uri": "https://localhost:8080/"
        },
        "id": "Swl5jx01mwod",
        "outputId": "4f1e2e57-b508-476a-a378-b96517992aa3"
      },
      "source": [
        "datasagara['post_content']"
      ],
      "execution_count": null,
      "outputs": [
        {
          "output_type": "execute_result",
          "data": {
            "text/plain": [
              "0     <!-- wp:paragraph -->\\n<p>This is an example p...\n",
              "1     <!-- wp:paragraph -->\\n<p>Many people have hea...\n",
              "2     <!-- wp:paragraph -->\\n<p>A&nbsp;<strong>user ...\n",
              "3     <p id=\"e89a\" class=\"hu hv bo hw b hx hy hz ia ...\n",
              "4     <!-- wp:paragraph -->\\n<p>Nowadays, people are...\n",
              "                            ...                        \n",
              "94    <!-- wp:paragraph -->\\n<p>To access informatio...\n",
              "95    <!-- wp:paragraph -->\\n<p>Currently, the busin...\n",
              "96    <!-- wp:paragraph -->\\n<p><a href=\"https://www...\n",
              "97    <!-- wp:paragraph -->\\n<p><a href=\"https://www...\n",
              "98    <!-- wp:paragraph -->\\n<p><a href=\"https://www...\n",
              "Name: post_content, Length: 99, dtype: object"
            ]
          },
          "metadata": {
            "tags": []
          },
          "execution_count": 9
        }
      ]
    },
    {
      "cell_type": "markdown",
      "metadata": {
        "id": "LJ0q0pitlKDk"
      },
      "source": [
        "**Dari konten artikel yang ada di bawah, terlihat bahwa text masih kotor (tidak rapi)**"
      ]
    },
    {
      "cell_type": "code",
      "metadata": {
        "colab": {
          "base_uri": "https://localhost:8080/",
          "height": 137
        },
        "id": "0y--0L9Am8UU",
        "outputId": "c5fde50e-305e-44ee-897b-15a9b244f8ab"
      },
      "source": [
        "datasagara['post_content'][98]"
      ],
      "execution_count": null,
      "outputs": [
        {
          "output_type": "execute_result",
          "data": {
            "application/vnd.google.colaboratory.intrinsic+json": {
              "type": "string"
            },
            "text/plain": [
              "'<!-- wp:paragraph -->\\n<p><a href=\"https://www.youtube.com/watch?v=MHr61r3-sH4\" target=\"_blank\" rel=\"noreferrer noopener\">Technology</a> will continue to grow and grow rapidly. The main goal of technological development is usually to make human life easier. But in its development, many positions that were originally able to be done by humans have been shifted to using equipment from technological innovations.</p>\\n<!-- /wp:paragraph -->\\n\\n<!-- wp:paragraph -->\\n<p>Technological development will continue to be rapid along with human needs. Planning may be tried years in advance and creatively innovate.</p>\\n<!-- /wp:paragraph -->\\n\\n<!-- wp:paragraph -->\\n<p>Here is some cutting-edge technology that can take over the human position:</p>\\n<!-- /wp:paragraph -->\\n\\n<!-- wp:paragraph -->\\n<p><strong>Advanced Nano Technology</strong><br>Currently, nanotechnology has been widely known and used for various innovations. From the world of medicine, informatics, PC to the world of beauty using nanotechnology. This technology uses an innovation of very small dimensions and almost atomic dimensions.</p>\\n<!-- /wp:paragraph -->\\n\\n<!-- wp:paragraph -->\\n<p><strong>Laundroid</strong><br>This laundroid can help with household chores that will save energy. With this advanced technology equipment, washing and ironing clothes are done instantly and easily. Laundroid is a robot that was created to be able to wash clothes and produce in a folded form.</p>\\n<!-- /wp:paragraph -->\\n\\n<!-- wp:paragraph -->\\n<p><strong>Mind Reading Equipment</strong><br>This equipment is used for PCs that will take over the functions of the hands and fingers. Generally, to carry out the process on a PC, you must press certain keys on the keyboard. But with the latest technology, you don\\'t have to be tired of pressing the keyboard buttons. When operating a PC, you only use your mind.</p>\\n<!-- /wp:paragraph -->\\n\\n<!-- wp:paragraph -->\\n<p><strong>Hologram</strong><br>Generally, hologram technology is the animation that can be seen in films. If you have time to watch Star Wars, you can see hologram technology. This technology is a 3-dimensional communication tool that seems to introduce the caller in front of him. So when calling, it\\'s as if they are face to face and connected.</p>\\n<!-- /wp:paragraph -->\\n\\n<!-- wp:paragraph -->\\n<p><strong>Quantum PC<br></strong>The PC, which is innovated with more advanced technology, uses the phenomena of quantum mechanics in its operation. All operations can be tested faster and information is more securely protected. The world of medicine, banking, business to the weather and natural indications can use this quantum PC.</p>\\n<!-- /wp:paragraph -->\\n\\n<!-- wp:paragraph -->\\n<p>The advanced <a href=\"https://www.sagaratechnology.com/en\" target=\"_blank\" rel=\"noreferrer noopener\">technology</a> that is growing today is being innovated to make human work easier. But there is another consequence of the creation of this new and advanced technology is to shift the role of humans. Even so, technological innovation is always needed for a better human life.</p>\\n<!-- /wp:paragraph -->'"
            ]
          },
          "metadata": {
            "tags": []
          },
          "execution_count": 10
        }
      ]
    },
    {
      "cell_type": "markdown",
      "metadata": {
        "id": "4fOT0RIOlSQD"
      },
      "source": [
        "**Melihat kerapian text apabila menggunakan library html2text**"
      ]
    },
    {
      "cell_type": "code",
      "metadata": {
        "colab": {
          "base_uri": "https://localhost:8080/"
        },
        "id": "ZaLdY_a4w-zl",
        "outputId": "3c838bae-69b7-4385-f230-8760654dd8cb"
      },
      "source": [
        "print(html2text.html2text(datasagara['post_content'][98]))"
      ],
      "execution_count": null,
      "outputs": [
        {
          "output_type": "stream",
          "text": [
            "[Technology](https://www.youtube.com/watch?v=MHr61r3-sH4) will continue to\n",
            "grow and grow rapidly. The main goal of technological development is usually\n",
            "to make human life easier. But in its development, many positions that were\n",
            "originally able to be done by humans have been shifted to using equipment from\n",
            "technological innovations.\n",
            "\n",
            "Technological development will continue to be rapid along with human needs.\n",
            "Planning may be tried years in advance and creatively innovate.\n",
            "\n",
            "Here is some cutting-edge technology that can take over the human position:\n",
            "\n",
            "**Advanced Nano Technology**  \n",
            "Currently, nanotechnology has been widely known and used for various\n",
            "innovations. From the world of medicine, informatics, PC to the world of\n",
            "beauty using nanotechnology. This technology uses an innovation of very small\n",
            "dimensions and almost atomic dimensions.\n",
            "\n",
            "**Laundroid**  \n",
            "This laundroid can help with household chores that will save energy. With this\n",
            "advanced technology equipment, washing and ironing clothes are done instantly\n",
            "and easily. Laundroid is a robot that was created to be able to wash clothes\n",
            "and produce in a folded form.\n",
            "\n",
            "**Mind Reading Equipment**  \n",
            "This equipment is used for PCs that will take over the functions of the hands\n",
            "and fingers. Generally, to carry out the process on a PC, you must press\n",
            "certain keys on the keyboard. But with the latest technology, you don't have\n",
            "to be tired of pressing the keyboard buttons. When operating a PC, you only\n",
            "use your mind.\n",
            "\n",
            "**Hologram**  \n",
            "Generally, hologram technology is the animation that can be seen in films. If\n",
            "you have time to watch Star Wars, you can see hologram technology. This\n",
            "technology is a 3-dimensional communication tool that seems to introduce the\n",
            "caller in front of him. So when calling, it's as if they are face to face and\n",
            "connected.\n",
            "\n",
            "**Quantum PC  \n",
            "** The PC, which is innovated with more advanced technology, uses the\n",
            "phenomena of quantum mechanics in its operation. All operations can be tested\n",
            "faster and information is more securely protected. The world of medicine,\n",
            "banking, business to the weather and natural indications can use this quantum\n",
            "PC.\n",
            "\n",
            "The advanced [technology](https://www.sagaratechnology.com/en) that is growing\n",
            "today is being innovated to make human work easier. But there is another\n",
            "consequence of the creation of this new and advanced technology is to shift\n",
            "the role of humans. Even so, technological innovation is always needed for a\n",
            "better human life.\n",
            "\n",
            "\n"
          ],
          "name": "stdout"
        }
      ]
    },
    {
      "cell_type": "code",
      "metadata": {
        "colab": {
          "base_uri": "https://localhost:8080/"
        },
        "id": "1r8RC2QYxfG0",
        "outputId": "bb00b7dd-1ead-41ba-c348-3de05fed4860"
      },
      "source": [
        "print(html2text.html2text(datasagara['post_content'][97]))"
      ],
      "execution_count": null,
      "outputs": [
        {
          "output_type": "stream",
          "text": [
            "[Sagara Fintech Roundtable Day\n",
            "3](https://www.youtube.com/watch?v=R8Ma5radPjI&t=864s) \\- Tuesday, July 6th,\n",
            "2021- [Sagara Technology ](https://www.sagaratechnology.com/en)held a Talk\n",
            "Show on Fintech by inviting C-levels who are experts in the fields of\n",
            "technology development from various existing fintech companies. The main\n",
            "discussion of the talk show is talking about managing our finances by\n",
            "investing in digital investment platforms for future profits. Starting from\n",
            "why investing in digital investment platforms is important, to differences\n",
            "between investing and saving, ways to start investing, as well as how to\n",
            "manage our finances. Therefore, this discussion aims to educate the public so\n",
            "that people are more sensitive to technological advances, so they can take\n",
            "advantage of the technology fintech development properly and wisely. The\n",
            "following are reviews from the speakers of the Sagara Fintech Roundtable.\n",
            "\n",
            "### Rieka Handayani, Head of Public Relation TokoCrypto\n",
            "\n",
            "![](https://www.sagaratechnology.com/blog/wp-\n",
            "content/uploads/2021/07/Screenshot-39.png)\n",
            "\n",
            "Fintech is a very interesting topic at the moment because fintech in Indonesia\n",
            "is experiencing very significant growth and is recorded at approx as many as\n",
            "140 fintech companies registered with the OJK. As a technology-based financial\n",
            "service, customers need adjustments to get used to it with existing features.\n",
            "However, along with the development of the financial market, Fintech began to\n",
            "be in great demand by developed and developing countries such as Indonesia.\n",
            "\n",
            "Tokocrypto builds a technology that not just for a crypto trading platform but\n",
            "wants to show that blockchain technology is under construction in Indonesia.\n",
            "The background of the investment platform can be accessed anywhere using a\n",
            "cellphone too, anytime 24/7 and with only Rp,50.000, you can start investing.\n",
            "Especially with the pandemic situation where we only at home, doing an online\n",
            "investment can be profitable.\n",
            "\n",
            "\"Investment is very important, especially now that there are many choices of\n",
            "investment types. A lot of millennials often spend money on lifestyle. Why not\n",
            "set aside money for investment and savings, especially at a young age. The\n",
            "investment objective is for the long term. Maybe, it will not be felt if it is\n",
            "still 4-6 months but in the next 2-5 years you will see the results.\" said,\n",
            "Mrs. Rieka.\n",
            "\n",
            "According to Mrs. Rieka, Saving is when we set aside funds. Usually, the funds\n",
            "for children's schools, building houses, and others. While investing is useful\n",
            "for the long term where we set aside our assets and earn profits. At the time\n",
            "of managing finances, set aside everything in advance for every need.\n",
            "\n",
            "When investing, it's better to set aside money specifically for investment, it\n",
            "is best not to use daily needs money. The nominal for investment can be\n",
            "adjusted according to the situation, it won't be a problem regardless of the\n",
            "amount as long as it is always routinely separated for investment and saving.\n",
            "Also, it is better to allocate lifestyle and entertainment costs for\n",
            "investment.\n",
            "\n",
            "For now, in Indonesia crypto assets are still commodities or investment tools\n",
            "not like in El Salvador where the country has inaugurated crypto to become a\n",
            "medium of exchange, namely bitcoin. However, it is necessary to know the\n",
            "decision to make bitcoin the official medium of exchange in that country due\n",
            "to the applicable population where they see that there is an opportunity to\n",
            "make bitcoin as a medium of exchange. Mrs. Rieka concludes that \"In Indonesia,\n",
            "it is also possible for crypto to become a medium of exchange. But first, an\n",
            "infrastructure must be built and regulations are needed because it is not that\n",
            "easy to make crypto as a medium of exchange. Many losses will occur if there\n",
            "is no proper preparation.\"\n",
            "\n",
            "### Indra Sjuriah, CO Founder & CMO IndoGold\n",
            "\n",
            "![](https://www.sagaratechnology.com/blog/wp-\n",
            "content/uploads/2021/07/Screenshot-40.png)\n",
            "\n",
            "Investing can secure your financial condition in the future. However, you\n",
            "still have to consider what type of investment is the most suitable and\n",
            "profitable to run according to current financial conditions. If you want a\n",
            "safe investment with low risk, then the gold investment is the right choice.\n",
            "According to Mr. Indra, there is a world price for gold, in Indonesia, there\n",
            "is an exchange rate of rupiah against the US dollar where the price of a gold\n",
            "dollar per ounce must be converted again to rupiah per gram. Another\n",
            "uniqueness is the price of gold in Indonesia never goes down it always goes\n",
            "up.\n",
            "\n",
            "There are various types of gold, ranging from coins, gold bars, and jewelry.\n",
            "At Indogold, 24 karat pure gold bars are included in the investment category\n",
            "where the production cost is much cheaper than jewelry. For the brand that\n",
            "IndoGold provides there are, Antam which belongs to state-owned enterprises\n",
            "(BUMN), and for private company Untung Bersama Sejahtera (UBS) which is the\n",
            "world's gold exporter today.\n",
            "\n",
            "Mr. Indra said that \"We must ask ourselves how important it is to do\n",
            "investing, we also have to invest according to our financial stability and\n",
            "awareness. Investment is not something that is instant because the results\n",
            "will be visible at least the next 5 years at least 10 years. To invest, we\n",
            "must have a strong goal and determination because investing requires\n",
            "discipline to continue set aside the money for investment.\"\n",
            "\n",
            "Investment is a long-term goal where it is hoped that the investment results\n",
            "can benefit us, in contrast to saving where saving is used for the short term\n",
            "such as for an emergency fund where we can use it when needed. For investment,\n",
            "it is best not to use the necessary funds even though the market goes up or\n",
            "down, the money for investment is better set aside from the start.\n",
            "\n",
            "In investing we must know each of the advantages and disadvantages of the\n",
            "product. For gold, the investment results will feel more profitable in the\n",
            "long term, 5 years and above, for 1 year or 2 the benefits won't be felt\n",
            "significant. Mr, Indra also added that it is best to use the SMART method to\n",
            "make our goals clear and reachable. SMART stands for Specific, Measurable,\n",
            "Achievable, Realistic, and Timely.\n",
            "\n",
            "\n"
          ],
          "name": "stdout"
        }
      ]
    },
    {
      "cell_type": "code",
      "metadata": {
        "colab": {
          "base_uri": "https://localhost:8080/"
        },
        "id": "DunRAAGIxsWn",
        "outputId": "617e7824-8d65-42ce-a951-b51f24f633df"
      },
      "source": [
        "print(html2text.html2text(datasagara['post_content'][96]))"
      ],
      "execution_count": null,
      "outputs": [
        {
          "output_type": "stream",
          "text": [
            "[Software house](https://www.sagaratechnology.com/en) is a company engaged in\n",
            "the field of software development. The software house itself was born due to\n",
            "the demands of increasingly rapid technological developments. This can be a\n",
            "positive thing for software house service enthusiasts because there are more\n",
            "and more choices that can be taken officially. However, choosing an option\n",
            "should not be hasty. In order to make the right choice, consider the\n",
            "following.\n",
            "\n",
            "### Check Portfolio\n",
            "\n",
            "In general, long-lasting businesses are good quality businesses. In addition,\n",
            "pay attention to the clients being handled. The more prestigious the company\n",
            "that has been a client, the better the quality is usually.\n",
            "\n",
            "### Customer Reviews\n",
            "\n",
            "Compare the number of comments that seem satisfied or disappointed. By looking\n",
            "at the largest number, an assessment will be obtained about the level of\n",
            "professionalism of the software house in outline.\n",
            "\n",
            "### Price and Lead Time\n",
            "\n",
            "Before deciding to use the services of a software house, it is necessary to\n",
            "determine the maximum expenditure that the company will set aside for this\n",
            "project. In addition, it is also necessary to consider the estimated\n",
            "processing time offered. A good estimate should not be too long and not too\n",
            "fast either.\n",
            "\n",
            "### Working Hours\n",
            "\n",
            "The same working hours will certainly facilitate communication. If the working\n",
            "hours are different, more additional information will be needed, especially if\n",
            "the destination [software\n",
            "house](https://www.youtube.com/watch?v=225LsCqDz28&pp=ugMICgJpZBABGAE%3D) is\n",
            "in a different country.\n",
            "\n",
            "\n"
          ],
          "name": "stdout"
        }
      ]
    },
    {
      "cell_type": "code",
      "metadata": {
        "colab": {
          "base_uri": "https://localhost:8080/"
        },
        "id": "7ZuI5yLpxu5C",
        "outputId": "0c9947bd-5c02-4ff4-81cd-2613bd914af1"
      },
      "source": [
        "print(html2text.html2text(datasagara['post_content'][95]))"
      ],
      "execution_count": null,
      "outputs": [
        {
          "output_type": "stream",
          "text": [
            "Currently, the business is growing in accordance with the increasingly rapid\n",
            "technological developments, especially now that many have linked it with\n",
            "software development that serves to simplify the business processes of various\n",
            "industries that are run. One of them is the Software House which is very\n",
            "important for business in today's times.  \n",
            "  \n",
            "[Software house](https://www.sagaratechnology.com/en) is a company that\n",
            "focuses on application development (software development). The application can\n",
            "be developed either by individual actors or by a group such as a legal entity\n",
            "company. Even to work in a software house company, of course, you must have\n",
            "special abilities in the IT (Information Technology) field.\n",
            "\n",
            "### Software House Company Services:\n",
            "\n",
            "  1. Web-Based Applications Development  \n",
            "The software house will provide application development services based on the\n",
            "website and its design. That way they must have excellent programming language\n",
            "skills in website creation.\n",
            "\n",
            "  2. Mobile-Based Applications Development  \n",
            "Smartphone users will find it easier to do various things from playing games,\n",
            "shopping online, and so on. One of these applications is made by a software\n",
            "house company.\n",
            "\n",
            "  3. Desktop-Based Applications Development  \n",
            "Desktop-based application creation is the most popular service for software\n",
            "house companies. Making this application usually uses a programming language\n",
            "that is popular in Indonesia. Some of them are VB.Net, Visual Basic, Java, and\n",
            "Delphi.\n",
            "\n",
            "  4. Graphic Design  \n",
            "Usually, the software house will also offer graphic design services. Because\n",
            "at this time there are many industrial companies that need these services such\n",
            "as logos. A logo is something that is very mandatory for an industrial company\n",
            "so that it can be known by many people or branding.\n",
            "\n",
            "  5. Multimedia  \n",
            "In addition to offering design services, the software house will also offer\n",
            "multimedia creation services, one of which is animation making. Multimedia is\n",
            "a very important aspect of an industrial company, one of which is for\n",
            "advertising needs.\n",
            "\n",
            "### Software House Structure:\n",
            "\n",
            "  1. Programmer  \n",
            "Programmers must be owned by every software house company because they are the\n",
            "ones who will make the software. They will build the program according to the\n",
            "instructions given by the System Analyst.\n",
            "\n",
            "  2. Project Manager  \n",
            "A Project Manager has full control over the projects being worked on by the\n",
            "software house. They have responsibility for projects carried out by\n",
            "programmers, System Analysts, Product Owners, to Testers.\n",
            "\n",
            "  3. System Analyst  \n",
            "The task of a System Analyst is to analyze the needs of the application that\n",
            "will be made by the programmer by providing the best solution by making the\n",
            "system more efficient and practical. The analyst will also analyze various\n",
            "lines, either from the development side or from the client-side.\n",
            "\n",
            "  4. Product Owner  \n",
            "Someone who bridges the programmer with the client is the Product Owner. That\n",
            "way, a product owner must have good communication skills, because they will\n",
            "communicate directly with clients as well as programmers who interact with\n",
            "each other to complete the best solution.\n",
            "\n",
            "  5. Tester  \n",
            "The software created by the programmer will be tested by a tester, who in the\n",
            "test will be tested based on the standard operating system of each Software\n",
            "House agency. Software testing is very mandatory, the main goal is to avoid\n",
            "unwanted things such as bugs, crashes, errors, and force closes.\n",
            "\n",
            "### Trusted Software House Recommendation in Indonesia\n",
            "\n",
            "One of the trusted software houses in Jakarta is [Sagara\n",
            "Technology](https://www.youtube.com/watch?v=225LsCqDz28&pp=ugMICgJpZBABGAE%3D).\n",
            "Sagara Technology is a technology and digital product consulting company based\n",
            "in Jakarta and Bandung, Indonesia. Sagara Technology manufactures and provides\n",
            "premium software development, training, and talent products. [Sagara\n",
            "Technology](https://www.youtube.com/watch?v=MHr61r3-sH4) has successfully\n",
            "assisted several technology startup companies, non-technology companies,\n",
            "management consulting companies, and even the BUMN and government sectors that\n",
            "are already familiar in Indonesia.\n",
            "\n",
            "\n"
          ],
          "name": "stdout"
        }
      ]
    },
    {
      "cell_type": "code",
      "metadata": {
        "colab": {
          "base_uri": "https://localhost:8080/"
        },
        "id": "faysx8QAyUhz",
        "outputId": "8933a00d-39c1-4f17-d029-525752c649cc"
      },
      "source": [
        "print(html2text.html2text(datasagara['post_content'][94]))"
      ],
      "execution_count": null,
      "outputs": [
        {
          "output_type": "stream",
          "text": [
            "To access information through mobile devices, of course, you often use a web\n",
            "browser or open an application to find the information you need. Indirectly\n",
            "you have used mobile apps or mobile web on your device. For that, let's find\n",
            "out more fully what mobile apps / mobile applications and mobile web are.\n",
            "\n",
            "### Understanding Mobile Web\n",
            "\n",
            "[Mobile web](https://www.sagaratechnology.com/en) is a browser-based HTML page\n",
            "that is accessed using portable devices (smartphones or tablets) via cellular\n",
            "networks such as 3G, 4G, or Wifi. Mobile Web is designed to display data such\n",
            "as text, images, and videos from a website into a smaller display, namely\n",
            "mobile devices.\n",
            "\n",
            "### Understanding Mobile Apps\n",
            "\n",
            "While [mobile apps](https://www.youtube.com/watch?v=MHr61r3-sH4) are\n",
            "applications made for mobile devices where users have to download or download\n",
            "and install from application stores such as the Google Play Store for Android\n",
            "devices and the Apple App Store for iOS devices and many more application\n",
            "stores that are suitable for smartphone platforms.\n",
            "\n",
            "### Comparison of Mobile Web and Mobile Apps\n",
            "\n",
            "Broadly speaking, the difference between the two lies in how to access\n",
            "information or data. The mobile web requires a browser application to access\n",
            "information from a predefined domain. The mobile web is also very dependent on\n",
            "your internet channel. Obviously, the mobile web will not be able to be used\n",
            "if there is no internet connection. While mobile apps can be both. The content\n",
            "available on mobile apps can be accessed without the internet or based\n",
            "offline. But there are also mobile apps that must be connected to the internet\n",
            "or online.\n",
            "\n",
            "It all depends on the target user. There are some businesses that only rely on\n",
            "websites and mobile web in marketing their products. But there are also\n",
            "business owners who need both to attract their target market.\n",
            "\n",
            "\n"
          ],
          "name": "stdout"
        }
      ]
    },
    {
      "cell_type": "markdown",
      "metadata": {
        "id": "OOZOcpeOlXD9"
      },
      "source": [
        "**Melihat apakah ada data yang NaN/null. Jika ada, isi data yang NaN dengan string kosong**"
      ]
    },
    {
      "cell_type": "code",
      "metadata": {
        "id": "WD8sTy_E00TC",
        "colab": {
          "base_uri": "https://localhost:8080/"
        },
        "outputId": "6b8bb6ed-f777-4dcd-ce05-c6a89a922b82"
      },
      "source": [
        "datasagara['ID'].isnull().values.any()"
      ],
      "execution_count": null,
      "outputs": [
        {
          "output_type": "execute_result",
          "data": {
            "text/plain": [
              "False"
            ]
          },
          "metadata": {
            "tags": []
          },
          "execution_count": 16
        }
      ]
    },
    {
      "cell_type": "code",
      "metadata": {
        "colab": {
          "base_uri": "https://localhost:8080/"
        },
        "id": "QIyTZbVc0Sji",
        "outputId": "3b469757-2b2a-47f9-9dbc-a675e118d3ad"
      },
      "source": [
        "datasagara['post_content'].isnull().values.any()"
      ],
      "execution_count": null,
      "outputs": [
        {
          "output_type": "execute_result",
          "data": {
            "text/plain": [
              "False"
            ]
          },
          "metadata": {
            "tags": []
          },
          "execution_count": 17
        }
      ]
    },
    {
      "cell_type": "code",
      "metadata": {
        "colab": {
          "base_uri": "https://localhost:8080/"
        },
        "id": "0DeJaDWT0vs-",
        "outputId": "cb0b12f3-114e-471a-e015-ddf9cc36e4fd"
      },
      "source": [
        "datasagara['post_title'].isnull().values.any()"
      ],
      "execution_count": null,
      "outputs": [
        {
          "output_type": "execute_result",
          "data": {
            "text/plain": [
              "True"
            ]
          },
          "metadata": {
            "tags": []
          },
          "execution_count": 18
        }
      ]
    },
    {
      "cell_type": "code",
      "metadata": {
        "colab": {
          "base_uri": "https://localhost:8080/"
        },
        "id": "IqL5AIAx08dj",
        "outputId": "120adb7d-5546-4d96-e356-07b672697c69"
      },
      "source": [
        "datasagara['post_title'] = datasagara['post_title'].fillna('')\n",
        "datasagara['post_title'].isnull().values.any()"
      ],
      "execution_count": null,
      "outputs": [
        {
          "output_type": "execute_result",
          "data": {
            "text/plain": [
              "False"
            ]
          },
          "metadata": {
            "tags": []
          },
          "execution_count": 19
        }
      ]
    },
    {
      "cell_type": "markdown",
      "metadata": {
        "id": "Tt7POS_UlcMW"
      },
      "source": [
        "**Terapkan html2text preprocessing ke konten artikel**"
      ]
    },
    {
      "cell_type": "code",
      "metadata": {
        "colab": {
          "base_uri": "https://localhost:8080/"
        },
        "id": "KVK_2VGjqFBw",
        "outputId": "3d96bfb8-be4d-4cd8-a80d-40282cf27e51"
      },
      "source": [
        "for i in range(len(datasagara['post_content'])):\n",
        "  datasagara['post_content'][i] = html2text.html2text(datasagara['post_content'][i])"
      ],
      "execution_count": null,
      "outputs": [
        {
          "output_type": "stream",
          "text": [
            "/usr/local/lib/python3.7/dist-packages/ipykernel_launcher.py:2: SettingWithCopyWarning: \n",
            "A value is trying to be set on a copy of a slice from a DataFrame\n",
            "\n",
            "See the caveats in the documentation: https://pandas.pydata.org/pandas-docs/stable/user_guide/indexing.html#returning-a-view-versus-a-copy\n",
            "  \n"
          ],
          "name": "stderr"
        }
      ]
    },
    {
      "cell_type": "code",
      "metadata": {
        "colab": {
          "base_uri": "https://localhost:8080/"
        },
        "id": "J2R0lMv4yuar",
        "outputId": "afdbeec8-c4fc-4637-a27e-7850104e9871"
      },
      "source": [
        "datasagara['post_content']"
      ],
      "execution_count": null,
      "outputs": [
        {
          "output_type": "execute_result",
          "data": {
            "text/plain": [
              "0     This is an example page. It's different from a...\n",
              "1     Many people have heard the term “ **User Exper...\n",
              "2     A  **user persona**  is a representation of yo...\n",
              "3     A  **user journey**  is a timeline of user act...\n",
              "4     Nowadays, people are spending more time on the...\n",
              "                            ...                        \n",
              "94    To access information through mobile devices, ...\n",
              "95    Currently, the business is growing in accordan...\n",
              "96    [Software house](https://www.sagaratechnology....\n",
              "97    [Sagara Fintech Roundtable Day\\n3](https://www...\n",
              "98    [Technology](https://www.youtube.com/watch?v=M...\n",
              "Name: post_content, Length: 99, dtype: object"
            ]
          },
          "metadata": {
            "tags": []
          },
          "execution_count": 93
        }
      ]
    },
    {
      "cell_type": "code",
      "metadata": {
        "colab": {
          "base_uri": "https://localhost:8080/"
        },
        "id": "1QLbhgNZr0xQ",
        "outputId": "636fe574-fef8-4606-efe6-a2932a97515c"
      },
      "source": [
        "print(datasagara['post_content'][98])"
      ],
      "execution_count": null,
      "outputs": [
        {
          "output_type": "stream",
          "text": [
            "[Technology](https://www.youtube.com/watch?v=MHr61r3-sH4) will continue to\n",
            "grow and grow rapidly. The main goal of technological development is usually\n",
            "to make human life easier. But in its development, many positions that were\n",
            "originally able to be done by humans have been shifted to using equipment from\n",
            "technological innovations.\n",
            "\n",
            "Technological development will continue to be rapid along with human needs.\n",
            "Planning may be tried years in advance and creatively innovate.\n",
            "\n",
            "Here is some cutting-edge technology that can take over the human position:\n",
            "\n",
            "**Advanced Nano Technology**  \n",
            "Currently, nanotechnology has been widely known and used for various\n",
            "innovations. From the world of medicine, informatics, PC to the world of\n",
            "beauty using nanotechnology. This technology uses an innovation of very small\n",
            "dimensions and almost atomic dimensions.\n",
            "\n",
            "**Laundroid**  \n",
            "This laundroid can help with household chores that will save energy. With this\n",
            "advanced technology equipment, washing and ironing clothes are done instantly\n",
            "and easily. Laundroid is a robot that was created to be able to wash clothes\n",
            "and produce in a folded form.\n",
            "\n",
            "**Mind Reading Equipment**  \n",
            "This equipment is used for PCs that will take over the functions of the hands\n",
            "and fingers. Generally, to carry out the process on a PC, you must press\n",
            "certain keys on the keyboard. But with the latest technology, you don't have\n",
            "to be tired of pressing the keyboard buttons. When operating a PC, you only\n",
            "use your mind.\n",
            "\n",
            "**Hologram**  \n",
            "Generally, hologram technology is the animation that can be seen in films. If\n",
            "you have time to watch Star Wars, you can see hologram technology. This\n",
            "technology is a 3-dimensional communication tool that seems to introduce the\n",
            "caller in front of him. So when calling, it's as if they are face to face and\n",
            "connected.\n",
            "\n",
            "**Quantum PC  \n",
            "** The PC, which is innovated with more advanced technology, uses the\n",
            "phenomena of quantum mechanics in its operation. All operations can be tested\n",
            "faster and information is more securely protected. The world of medicine,\n",
            "banking, business to the weather and natural indications can use this quantum\n",
            "PC.\n",
            "\n",
            "The advanced [technology](https://www.sagaratechnology.com/en) that is growing\n",
            "today is being innovated to make human work easier. But there is another\n",
            "consequence of the creation of this new and advanced technology is to shift\n",
            "the role of humans. Even so, technological innovation is always needed for a\n",
            "better human life.\n",
            "\n",
            "\n"
          ],
          "name": "stdout"
        }
      ]
    },
    {
      "cell_type": "markdown",
      "metadata": {
        "id": "hxgoOFTnlgZv"
      },
      "source": [
        "**Merapikan konten artikel dengan:**\n",
        "\n",
        "\n",
        "1.   **Mengubah semua karakter menjadi lowercase**\n",
        "2.   **Mengganti \\n dengan spasi**\n",
        "3.   **Menghilangkan simbol dan angka**\n",
        "4.   **Menghilangkan url link & gambar**\n",
        "5.   **Menghilangkan stopwords (kata yang tidak mempunyai informasi seperti kata sambung) bahasa indonesia & inggris**"
      ]
    },
    {
      "cell_type": "code",
      "metadata": {
        "colab": {
          "base_uri": "https://localhost:8080/"
        },
        "id": "Q-fvpW3A0ZUz",
        "outputId": "b152c869-54a1-4826-fbe5-56e47639ccb6"
      },
      "source": [
        "nltk.download('stopwords')\n",
        "nltk.download('punkt')\n",
        "nltk.download('averaged_perceptron_tagger')\n",
        "nltk.download('wordnet')"
      ],
      "execution_count": null,
      "outputs": [
        {
          "output_type": "stream",
          "text": [
            "[nltk_data] Downloading package stopwords to /root/nltk_data...\n",
            "[nltk_data]   Package stopwords is already up-to-date!\n",
            "[nltk_data] Downloading package punkt to /root/nltk_data...\n",
            "[nltk_data]   Package punkt is already up-to-date!\n",
            "[nltk_data] Downloading package averaged_perceptron_tagger to\n",
            "[nltk_data]     /root/nltk_data...\n",
            "[nltk_data]   Unzipping taggers/averaged_perceptron_tagger.zip.\n",
            "[nltk_data] Downloading package wordnet to /root/nltk_data...\n",
            "[nltk_data]   Unzipping corpora/wordnet.zip.\n"
          ],
          "name": "stdout"
        },
        {
          "output_type": "execute_result",
          "data": {
            "text/plain": [
              "True"
            ]
          },
          "metadata": {
            "tags": []
          },
          "execution_count": 40
        }
      ]
    },
    {
      "cell_type": "code",
      "metadata": {
        "id": "vXk99mLlsb-7"
      },
      "source": [
        "clean_spcl = re.compile('[/(){}\\[\\]\\|@,;]')\n",
        "clean_symbol = re.compile('[^a-z ]')\n",
        "stopworda = set(stopwords.words('indonesian'))\n",
        "stopwordb = set(stopwords.words('english'))\n",
        "\n",
        "def clean_text(text):\n",
        "    text = text.lower()\n",
        "    text = text.replace('\\n',' ')\n",
        "    text = re.sub(r'\\([^)]*\\)', '', text)\n",
        "    text = re.sub(r'[\\S]+\\.(net|id|com|org|info|edu|gov|uk|de|ca|jp|fr|au|us|ru|ch|it|nel|se|no|es|mil)[\\S]*\\s?','',text)\n",
        "    text = re.sub(r\"http\\S+\", \"\", text)\n",
        "    text = re.sub(r\"\\S+.jpeg\", \"\", text)\n",
        "    text = re.sub(r\"\\S+.png\", \"\", text)\n",
        "    text = re.sub(r\"\\S+.jpg\", \"\", text)\n",
        "    text = clean_spcl.sub(' ', text)\n",
        "    text = clean_symbol.sub('', text)\n",
        "    text = ' '.join(word for word in text.split() if word not in stopworda)\n",
        "    text = ' '.join(word for word in text.split() if word not in stopwordb)\n",
        "    return text\n",
        "\n",
        "datasagara['post_contentCleaned'] = datasagara['post_content'].apply(clean_text)"
      ],
      "execution_count": null,
      "outputs": []
    },
    {
      "cell_type": "markdown",
      "metadata": {
        "id": "Y4W6Efb0lmTH"
      },
      "source": [
        "**Melihat hasil text**"
      ]
    },
    {
      "cell_type": "code",
      "metadata": {
        "colab": {
          "base_uri": "https://localhost:8080/",
          "height": 137
        },
        "id": "SyyMjcHnscBc",
        "outputId": "a4e48d8d-b7a4-4c08-d18d-5faf7d58f4da"
      },
      "source": [
        "datasagara['post_contentCleaned'][98]"
      ],
      "execution_count": null,
      "outputs": [
        {
          "output_type": "execute_result",
          "data": {
            "application/vnd.google.colaboratory.intrinsic+json": {
              "type": "string"
            },
            "text/plain": [
              "'technology continue grow grow rapidly main goal technological development usually make human life easier development many positions originally able done humans shifted using equipment technological innovations technological development continue rapid along human needs planning may tried years advance creatively innovate cuttingedge technology take human position advanced nano technology currently nanotechnology widely known used various innovations world medicine informatics pc world beauty using nanotechnology technology uses innovation small dimensions almost atomic dimensions laundroid laundroid help household chores save energy advanced technology equipment washing ironing clothes done instantly easily laundroid robot created able wash clothes produce folded form mind reading equipment equipment used pcs take functions hands fingers generally carry process pc must press certain keys keyboard latest technology dont tired pressing keyboard buttons operating pc use mind hologram generally hologram technology animation seen films time watch star wars see hologram technology technology dimensional communication tool seems introduce caller front calling face face connected quantum pc pc innovated advanced technology uses phenomena quantum mechanics operation operations tested faster information securely protected world medicine banking business weather natural indications use quantum pc advanced technology growing today innovated make human work easier another consequence creation new advanced technology shift role humans even technological innovation always needed better human life'"
            ]
          },
          "metadata": {
            "tags": []
          },
          "execution_count": 50
        }
      ]
    },
    {
      "cell_type": "markdown",
      "metadata": {
        "id": "4jGxIBFTlpae"
      },
      "source": [
        "**Melakukan proses lemmatization (mengganti verb 2 dan verb 3 menjadi verb 1, mengubah verb ganda menjadi verb tunggal, mengubah adverb, noun, adjective dst) dari setiap kata dengan library nltk**"
      ]
    },
    {
      "cell_type": "code",
      "metadata": {
        "id": "gQSisj36scD3"
      },
      "source": [
        "lemmatizer = WordNetLemmatizer()\n",
        "stop_words = set(stopwords.words('english'))\n",
        "VERB_CODES = {'VB', 'VBD', 'VBG', 'VBN', 'VBP', 'VBZ'}\n",
        "ADVERB_CODES = {'RB', 'RBR', 'RBS'}\n",
        "NOUN_CODES = {'NN', 'NNS', 'NNP', 'NNPS'}\n",
        "ADJ_CODES = {'JJ', 'JJS', 'JJR'}"
      ],
      "execution_count": null,
      "outputs": []
    },
    {
      "cell_type": "code",
      "metadata": {
        "id": "e20WCftmscGN"
      },
      "source": [
        "def preprocess_sentences(text):\n",
        "  text = text.lower()\n",
        "  temp_sent =[]\n",
        "  words = nltk.word_tokenize(text)\n",
        "  tags = nltk.pos_tag(words)\n",
        "  for i, word in enumerate(words):\n",
        "      if tags[i][1] in VERB_CODES: \n",
        "          lemmatized = lemmatizer.lemmatize(word, 'v')\n",
        "      elif tags[i][1] in ADVERB_CODES: \n",
        "          lemmatized = lemmatizer.lemmatize(word, 'r')\n",
        "      elif tags[i][1] in NOUN_CODES: \n",
        "          lemmatized = lemmatizer.lemmatize(word, 'n')\n",
        "      elif tags[i][1] in ADJ_CODES: \n",
        "          lemmatized = lemmatizer.lemmatize(word, 'a')\n",
        "      else:\n",
        "          lemmatized = lemmatizer.lemmatize(word)\n",
        "      if lemmatized not in stop_words and lemmatized.isalpha():\n",
        "          temp_sent.append(lemmatized)\n",
        "          \n",
        "  finalsent = ' '.join(temp_sent)\n",
        "  finalsent = finalsent.replace(\"n't\", \" not\")\n",
        "  finalsent = finalsent.replace(\"'m\", \" am\")\n",
        "  finalsent = finalsent.replace(\"'s\", \" is\")\n",
        "  finalsent = finalsent.replace(\"'re\", \" are\")\n",
        "  finalsent = finalsent.replace(\"'ll\", \" will\")\n",
        "  finalsent = finalsent.replace(\"'ve\", \" have\")\n",
        "  finalsent = finalsent.replace(\"'d\", \" would\")\n",
        "  return finalsent\n",
        "  \n",
        "datasagara['post_contentLemma'] = datasagara['post_contentCleaned'].apply(preprocess_sentences)"
      ],
      "execution_count": null,
      "outputs": []
    },
    {
      "cell_type": "markdown",
      "metadata": {
        "id": "KVG9_-hFmNnS"
      },
      "source": [
        "**Melihat hasil lemmatization**"
      ]
    },
    {
      "cell_type": "code",
      "metadata": {
        "colab": {
          "base_uri": "https://localhost:8080/",
          "height": 137
        },
        "id": "vdwNszF2zxCL",
        "outputId": "7797ef68-cfa5-4b44-8639-fda70b2c65f5"
      },
      "source": [
        "datasagara['post_contentLemma'][98]"
      ],
      "execution_count": null,
      "outputs": [
        {
          "output_type": "execute_result",
          "data": {
            "application/vnd.google.colaboratory.intrinsic+json": {
              "type": "string"
            },
            "text/plain": [
              "'technology continue grow grow rapidly main goal technological development usually make human life easier development many position originally able human shift use equipment technological innovation technological development continue rapid along human need planning may try year advance creatively innovate cuttingedge technology take human position advance nano technology currently nanotechnology widely know use various innovation world medicine informatics pc world beauty use nanotechnology technology use innovation small dimension almost atomic dimension laundroid laundroid help household chore save energy advance technology equipment wash iron clothes instantly easily laundroid robot create able wash clothes produce fold form mind reading equipment equipment use pc take function hand finger generally carry process pc must press certain key keyboard late technology dont tire press keyboard button operate pc use mind hologram generally hologram technology animation see films time watch star war see hologram technology technology dimensional communication tool seem introduce caller front call face face connect quantum pc pc innovate advanced technology use phenomena quantum mechanic operation operation test fast information securely protect world medicine banking business weather natural indication use quantum pc advance technology grow today innovate make human work easier another consequence creation new advanced technology shift role human even technological innovation always need well human life'"
            ]
          },
          "metadata": {
            "tags": []
          },
          "execution_count": 61
        }
      ]
    },
    {
      "cell_type": "markdown",
      "metadata": {
        "id": "YG-dAcVfmYQK"
      },
      "source": [
        "**Stemming (menghilangkan imbuhan) dari setiap kata dengan library nltk**"
      ]
    },
    {
      "cell_type": "code",
      "metadata": {
        "id": "1IQh4Vd60Hob"
      },
      "source": [
        "porter = PorterStemmer()\n",
        "def stemSentence(sentence):\n",
        "    token_words=word_tokenize(sentence)\n",
        "    token_words\n",
        "    stem_sentence=[]\n",
        "    for word in token_words:\n",
        "        stem_sentence.append(porter.stem(word))\n",
        "        stem_sentence.append(\" \")\n",
        "    return \"\".join(stem_sentence)"
      ],
      "execution_count": null,
      "outputs": []
    },
    {
      "cell_type": "code",
      "metadata": {
        "id": "oOMxcIDN42NA"
      },
      "source": [
        "datasagara['post_contentStemmed'] = datasagara['post_contentLemma'].apply(stemSentence)"
      ],
      "execution_count": null,
      "outputs": []
    },
    {
      "cell_type": "markdown",
      "metadata": {
        "id": "VzBnItUhmhKS"
      },
      "source": [
        "**Melihat hasil stemming**"
      ]
    },
    {
      "cell_type": "code",
      "metadata": {
        "colab": {
          "base_uri": "https://localhost:8080/",
          "height": 137
        },
        "id": "q6LaLKJQ5G0G",
        "outputId": "f0e37a1c-0f87-42a4-aa9e-4c3e9354d902"
      },
      "source": [
        "datasagara['post_contentStemmed'][98]"
      ],
      "execution_count": null,
      "outputs": [
        {
          "output_type": "execute_result",
          "data": {
            "application/vnd.google.colaboratory.intrinsic+json": {
              "type": "string"
            },
            "text/plain": [
              "'technolog continu grow grow rapidli main goal technolog develop usual make human life easier develop mani posit origin abl human shift use equip technolog innov technolog develop continu rapid along human need plan may tri year advanc creativ innov cuttingedg technolog take human posit advanc nano technolog current nanotechnolog wide know use variou innov world medicin informat pc world beauti use nanotechnolog technolog use innov small dimens almost atom dimens laundroid laundroid help household chore save energi advanc technolog equip wash iron cloth instantli easili laundroid robot creat abl wash cloth produc fold form mind read equip equip use pc take function hand finger gener carri process pc must press certain key keyboard late technolog dont tire press keyboard button oper pc use mind hologram gener hologram technolog anim see film time watch star war see hologram technolog technolog dimension commun tool seem introduc caller front call face face connect quantum pc pc innov advanc technolog use phenomena quantum mechan oper oper test fast inform secur protect world medicin bank busi weather natur indic use quantum pc advanc technolog grow today innov make human work easier anoth consequ creation new advanc technolog shift role human even technolog innov alway need well human life '"
            ]
          },
          "metadata": {
            "tags": []
          },
          "execution_count": 64
        }
      ]
    },
    {
      "cell_type": "markdown",
      "metadata": {
        "id": "Op5p-ZzimrZG"
      },
      "source": [
        "**Set ID sebagai index untuk memudahkan pemrosesan**"
      ]
    },
    {
      "cell_type": "code",
      "metadata": {
        "id": "ksBdYy386vwM"
      },
      "source": [
        "datasagara.set_index('ID', inplace=True)"
      ],
      "execution_count": null,
      "outputs": []
    },
    {
      "cell_type": "code",
      "metadata": {
        "colab": {
          "base_uri": "https://localhost:8080/"
        },
        "id": "Lrwjs7m47ReN",
        "outputId": "d2f1e746-d419-4dc6-c3a6-2de239f56555"
      },
      "source": [
        "indices = pd.Series(datasagara.index)\n",
        "indices[:50]"
      ],
      "execution_count": null,
      "outputs": [
        {
          "output_type": "execute_result",
          "data": {
            "text/plain": [
              "0       2\n",
              "1      48\n",
              "2      62\n",
              "3      67\n",
              "4      76\n",
              "5      92\n",
              "6      95\n",
              "7      98\n",
              "8     104\n",
              "9     107\n",
              "10    108\n",
              "11    109\n",
              "12    112\n",
              "13    141\n",
              "14    146\n",
              "15    151\n",
              "16    154\n",
              "17    160\n",
              "18    163\n",
              "19    166\n",
              "20    181\n",
              "21    185\n",
              "22    188\n",
              "23    197\n",
              "24    201\n",
              "25    204\n",
              "26    209\n",
              "27    213\n",
              "28    218\n",
              "29    269\n",
              "30    290\n",
              "31    296\n",
              "32    298\n",
              "33    368\n",
              "34    371\n",
              "35    376\n",
              "36    390\n",
              "37    412\n",
              "38    419\n",
              "39    446\n",
              "40    451\n",
              "41    461\n",
              "42    462\n",
              "43    467\n",
              "44    471\n",
              "45    475\n",
              "46    489\n",
              "47    542\n",
              "48    551\n",
              "49    561\n",
              "Name: ID, dtype: int64"
            ]
          },
          "metadata": {
            "tags": []
          },
          "execution_count": 66
        }
      ]
    },
    {
      "cell_type": "markdown",
      "metadata": {
        "id": "pSXRRWQimyLx"
      },
      "source": [
        "##Pembuatan model Recommendation System"
      ]
    },
    {
      "cell_type": "markdown",
      "metadata": {
        "id": "5wwCU8_wm0Ar"
      },
      "source": [
        "**Menghitung TF-IDF dari tiap artikel. TF-IDF menghitung bobot nilai setiap kata yang ada di artikel, semakin sering kata tersebut muncul di artikel semakin tinggi bobot nilainya.**"
      ]
    },
    {
      "cell_type": "code",
      "metadata": {
        "colab": {
          "base_uri": "https://localhost:8080/"
        },
        "id": "XLdS00O8z8Gf",
        "outputId": "764529f0-dfbb-4609-b339-b888135c2365"
      },
      "source": [
        "stopwords_list = stopwords.words('english')\n",
        "\n",
        "vectorizer = TfidfVectorizer(analyzer='word',\n",
        "                     ngram_range=(1, 2),\n",
        "                     min_df=0.003,\n",
        "                     max_df=0.5,\n",
        "                     max_features=5000,\n",
        "                     stop_words=stopwords_list)\n",
        "\n",
        "tfidf_matrix = vectorizer.fit_transform(datasagara['post_title'] + \"\" + datasagara['post_contentStemmed'])\n",
        "tfidf_feature_names = vectorizer.get_feature_names()\n",
        "tfidf_matrix"
      ],
      "execution_count": null,
      "outputs": [
        {
          "output_type": "execute_result",
          "data": {
            "text/plain": [
              "<99x5000 sparse matrix of type '<class 'numpy.float64'>'\n",
              "\twith 23659 stored elements in Compressed Sparse Row format>"
            ]
          },
          "metadata": {
            "tags": []
          },
          "execution_count": 67
        }
      ]
    },
    {
      "cell_type": "markdown",
      "metadata": {
        "id": "Rs7DeGI2m47-"
      },
      "source": [
        "**Membuat matriks TF-IDF lalu menghitung cosine similarity. Cosine similarity menghitung kesamaan TF-IDF antara dua artikel. Semakin mirip isi konten artikel, semakin tinggi nilai cosine similaritynya (skala 0-1)**"
      ]
    },
    {
      "cell_type": "code",
      "metadata": {
        "colab": {
          "base_uri": "https://localhost:8080/"
        },
        "id": "GpPbmpOP1sBC",
        "outputId": "4654c31d-afdc-4fbc-9bf2-c55891b86e9a"
      },
      "source": [
        "cos_sim = cosine_similarity(tfidf_matrix, tfidf_matrix)\n",
        "cos_sim"
      ],
      "execution_count": null,
      "outputs": [
        {
          "output_type": "execute_result",
          "data": {
            "text/plain": [
              "array([[1.        , 0.08307488, 0.02480366, ..., 0.01855651, 0.0212821 ,\n",
              "        0.00892693],\n",
              "       [0.08307488, 1.        , 0.12926002, ..., 0.04073382, 0.05092041,\n",
              "        0.03680044],\n",
              "       [0.02480366, 0.12926002, 1.        , ..., 0.02007934, 0.03064819,\n",
              "        0.01333269],\n",
              "       ...,\n",
              "       [0.01855651, 0.04073382, 0.02007934, ..., 1.        , 0.0875417 ,\n",
              "        0.03821381],\n",
              "       [0.0212821 , 0.05092041, 0.03064819, ..., 0.0875417 , 1.        ,\n",
              "        0.05039803],\n",
              "       [0.00892693, 0.03680044, 0.01333269, ..., 0.03821381, 0.05039803,\n",
              "        1.        ]])"
            ]
          },
          "metadata": {
            "tags": []
          },
          "execution_count": 68
        }
      ]
    },
    {
      "cell_type": "markdown",
      "metadata": {
        "id": "Ojs98XgQm7v3"
      },
      "source": [
        "**Membuat sistem rekomendasi dari nilai cosine similarity yang sudah dibuat.**"
      ]
    },
    {
      "cell_type": "code",
      "metadata": {
        "id": "RR8uDg5-6dDN"
      },
      "source": [
        "def recommendations(id, cos_sim = cos_sim):\n",
        "    recommended = []\n",
        "    idx = indices[indices == id].index[0]\n",
        "    score_series = pd.Series(cos_sim[idx]).sort_values(ascending = False)\n",
        "    top_10_indexes = list(score_series.iloc[1:11].index)\n",
        "    for i in top_10_indexes:\n",
        "        recommended.append(list(datasagara.index)[i])\n",
        "        \n",
        "    return list(zip(recommended,score_series.iloc[1:11]))"
      ],
      "execution_count": null,
      "outputs": []
    },
    {
      "cell_type": "markdown",
      "metadata": {
        "id": "QgpWE6S6m-WB"
      },
      "source": [
        "**Contoh rekomendasi apabila pembaca membaca artikel dengan ID 791**"
      ]
    },
    {
      "cell_type": "code",
      "metadata": {
        "colab": {
          "base_uri": "https://localhost:8080/"
        },
        "id": "a-VebapU7A6J",
        "outputId": "2e4ea480-e85f-416e-cf87-4f753b382053"
      },
      "source": [
        "recommendations(791)"
      ],
      "execution_count": null,
      "outputs": [
        {
          "output_type": "execute_result",
          "data": {
            "text/plain": [
              "[(664, 0.4303892602086362),\n",
              " (814, 0.2916988208810198),\n",
              " (869, 0.20779369236658776),\n",
              " (781, 0.19235903209805608),\n",
              " (1042, 0.18299029988872859),\n",
              " (839, 0.17515276914736755),\n",
              " (889, 0.17265180309497788),\n",
              " (854, 0.13752057780439678),\n",
              " (795, 0.13688889311953278),\n",
              " (412, 0.1367559407349779)]"
            ]
          },
          "metadata": {
            "tags": []
          },
          "execution_count": 77
        }
      ]
    },
    {
      "cell_type": "markdown",
      "metadata": {
        "id": "6e86-6JJnCWR"
      },
      "source": [
        "**Dari hasil rekomendasi diatas, tiga artikel yang paling direkomendasikan adalah artikel dengan ID 664, 814, dan 869. Untuk mengecek apakah rekomendasi sudah sesuai, cek isi konten dengan ID 791, 664, 814, dan 869 apakah isinya mirip/tidak.**"
      ]
    },
    {
      "cell_type": "code",
      "metadata": {
        "colab": {
          "base_uri": "https://localhost:8080/",
          "height": 35
        },
        "id": "B440CkOC5l1Y",
        "outputId": "ed439c8e-5e98-4081-a96c-aced35bf7049"
      },
      "source": [
        "datasagara['post_title'][791]"
      ],
      "execution_count": null,
      "outputs": [
        {
          "output_type": "execute_result",
          "data": {
            "application/vnd.google.colaboratory.intrinsic+json": {
              "type": "string"
            },
            "text/plain": [
              "'Getting to know Cryptocurrency Investments'"
            ]
          },
          "metadata": {
            "tags": []
          },
          "execution_count": 80
        }
      ]
    },
    {
      "cell_type": "code",
      "metadata": {
        "colab": {
          "base_uri": "https://localhost:8080/"
        },
        "id": "z9TQfxLF5l3m",
        "outputId": "ee02f2ef-57e1-424e-deab-65fd9a375954"
      },
      "source": [
        "print(datasagara['post_content'][791])"
      ],
      "execution_count": null,
      "outputs": [
        {
          "output_type": "stream",
          "text": [
            "While blockchain as a digital platform continues to be explored,\n",
            "[cryptocu](http://en.wikipedia.org/wiki/Cryptocurrency#:~:text=A%20cryptocurrency%2C%20crypto-\n",
            "currency%2C,the%20creation%20of%20additional%20coins%2C)[rrency](https://www.sagaratechnology.com/en)\n",
            "blockchain continues to flourish among consumers. In addition to dealing with\n",
            "transactions, ICOs (Initial Coin Offerings) is also a process that is starting\n",
            "to be found among business people. ICO is a fundraising process to build\n",
            "blockchain-based applications, in various forms ranging from new\n",
            "cryptocurrencies, smart contracts, to smart ledgers _._   _ _  \n",
            "\n",
            "In Indonesia alone, there are at least three businesses that have tried to\n",
            "conduct ICOs, including Tokenomy, Pundi X, and Vexanium. Each offers different\n",
            "characteristics, with different business processes.\n",
            "\n",
            "## **Invest in cryptocurrencies**\n",
            "\n",
            "In Indonesia, there are already several platforms that serve the process of\n",
            "making crypto wallets. This includes making it easier for users to connect the\n",
            "wallet with a bank account such as PayPal for payment processing or\n",
            "redemption.\n",
            "\n",
            "The above process can be regarded as an initial registration mechanism before\n",
            "users can make transactions in popular cryptocurrencies such as Bitcoin. By\n",
            "providing a detailed identity, the process usually only takes a few minutes.\n",
            "Furthermore, users can freely make transactions to purchase these digital\n",
            "assets.\n",
            "\n",
            "## **A few things to note**\n",
            "\n",
            "If you follow the trends of Bitcoin or other popular cryptocurrencies, it's\n",
            "clear how wild, unpredictable value can be. At one time the price may fall, at\n",
            "other times the price may increase drastically. Cryptocurrency investors try\n",
            "to take advantage of this value in the hope of making a profit when making\n",
            "purchases with a smaller nominal value. Unfortunately for popular\n",
            "cryptocurrencies, the value is already very high, so investing requires a lot\n",
            "of foresight.\n",
            "\n",
            "## **About ICOs and investing in them**\n",
            "\n",
            "In the fundraising process, ICO bearers usually offer a number of tokens that\n",
            "are priced in cryptocurrency units. To investors, business people assure this\n",
            "token will be of high value along with the success of the project being worked\n",
            "on. According to regulations in Indonesia, there are no definite rules\n",
            "regarding ICOs, generally, investors who are interested only have speculation\n",
            "and belief in future blockchain projects. Ethereum is one example of a\n",
            "successful ICO-based project, offering blockchain implementations for smart\n",
            "contract features.  \n",
            "\n",
            "## **Still  at risk **\n",
            "\n",
            "One of the most relevant ways to increase the scalability of cryptocurrencies\n",
            "is regulatory support, in this case, Bank Indonesia. Until this stage, the\n",
            "regulators are still exploring the various possibilities that can be generated\n",
            "by blockchain. The potential is great, the proof of which is still a challenge\n",
            "for the perpetrators. Believing in an investment is not wrong, because every\n",
            "investment always contains risk. For now, the risk of investing in\n",
            "cryptocurrency is quite large with a wide range of possibilities in the market\n",
            "share.\n",
            "\n",
            "[See more](https://www.sagaratechnology.com/blog/get-to-know-a-\n",
            "cryptocurrency/)\n",
            "\n",
            "\n"
          ],
          "name": "stdout"
        }
      ]
    },
    {
      "cell_type": "code",
      "metadata": {
        "colab": {
          "base_uri": "https://localhost:8080/",
          "height": 35
        },
        "id": "1w93aLgI5d_h",
        "outputId": "573edc8e-325f-47fb-80cf-e4618dea2c60"
      },
      "source": [
        "datasagara['post_title'][664]"
      ],
      "execution_count": null,
      "outputs": [
        {
          "output_type": "execute_result",
          "data": {
            "application/vnd.google.colaboratory.intrinsic+json": {
              "type": "string"
            },
            "text/plain": [
              "'Get to Know a Cryptocurrency'"
            ]
          },
          "metadata": {
            "tags": []
          },
          "execution_count": 78
        }
      ]
    },
    {
      "cell_type": "code",
      "metadata": {
        "colab": {
          "base_uri": "https://localhost:8080/"
        },
        "id": "Uhqfw_Vc5eBw",
        "outputId": "2cd77c2a-b2e3-48f1-f3bd-14745507e78c"
      },
      "source": [
        "print(datasagara['post_content'][664])"
      ],
      "execution_count": null,
      "outputs": [
        {
          "output_type": "stream",
          "text": [
            "For those who are new to investing, discussing\n",
            "[Cryptocurrency](https://en.wikipedia.org/wiki/Cryptocurrency) is a bit of a\n",
            "headache. Not finished learning about stocks or mutual funds, the world is now\n",
            "planning to adopt Cryptocurrency for payment instruments. However, you don't\n",
            "need to worry. As long as you have the desire to learn and are always careful\n",
            "when making decisions, so your Crypto money investment will be successful.\n",
            "Well, before starting investing, it helps us know what Cryptocurrency is. The\n",
            "following is an understanding of Cryptocurrency and its brief history.\n",
            "\n",
            "**What is Cryptocurrency?**\n",
            "\n",
            "Reporting from various sources, Cryptocurrency is a digital currency that is\n",
            "used to transact virtually via the internet network. In addition, it is\n",
            "explained that Cryptocurrency is decentralized, which means neither party will\n",
            "be an intermediary in a transaction. Payments are also made directly between\n",
            "the recipient and the sender (peer to peer). To make transactions easier,\n",
            "Cryptocurrency also uses a blockchain platform. This needs to be done. A\n",
            "decentralized Cryptocurrency that requires a computer with high and\n",
            "sophisticated specifications.  \n",
            "\n",
            "**The Beginning of Cryptocurrency**\n",
            "\n",
            "Over time, Cryptocurrency appeared back in the 1990s and has only begun to\n",
            "become international prominence in recent years. There are several types of\n",
            "Cryptocurrency that are widely circulating, including Bitcoin, Ethereum,\n",
            "Litecoin, and Monero. Of all the cryptocurrencies, of course, the most popular\n",
            "is Bitcoin.\n",
            "\n",
            "**Cryptocurrency Advantages**\n",
            "\n",
            "Is Cryptocurrency really going to overturn paper currency? Of course, the\n",
            "answer is not certain. However, we can see what are the advantages of\n",
            "Cryptocurrency for the community. Here are some of the advantages of\n",
            "Cryptocurrency, including :\n",
            "\n",
            "![](https://www.sagaratechnology.com/blog/wp-content/uploads/2021/05/Get-to-\n",
            "Know-a-Cryptocurrency.jpeg)\n",
            "\n",
            "**1\\. Transparent**\n",
            "\n",
            "Digital currency is designed as a transparent currency. Here, users can\n",
            "monitor transaction activity that has been carried out without worrying about\n",
            "losing money or the difference in amount. In addition, no other party can see\n",
            "the transactions you have made and vice versa. You can make financial\n",
            "transactions without the need to display your real identity which is a\n",
            "personal data security solution.\n",
            "\n",
            "**2\\. Is Universal**\n",
            "\n",
            "Cryptocurrency can be used by everyone without any binding regulations and\n",
            "conditions.\n",
            "\n",
            "**3\\. Fast and Accurate**\n",
            "\n",
            "With blockchain technology, the digital currency payment process can be done\n",
            "quickly, safely, and easily.\n",
            "\n",
            "**4\\. Avoiding Counterfeiting**\n",
            "\n",
            "Blockchain uses a system that does not allow two different transactions with\n",
            "the same currency. Therefore, this system can avoid counterfeiting.\n",
            "\n",
            "Until now, Cryptocurrency is still used only in terms of online buying and\n",
            "selling transactions, mining, and as a means for investment. Then, is it\n",
            "possible to replace paper money as a convenient means of payment in the\n",
            "future? The only time that can answer.\n",
            "\n",
            "[See More](https://www.sagaratechnology.com/en/works)\n",
            "\n",
            "\n"
          ],
          "name": "stdout"
        }
      ]
    },
    {
      "cell_type": "code",
      "metadata": {
        "colab": {
          "base_uri": "https://localhost:8080/",
          "height": 35
        },
        "id": "An8tOdMF7W5B",
        "outputId": "a88a79e1-2d2a-47cd-b551-2178d48b3d10"
      },
      "source": [
        "datasagara['post_title'][814]"
      ],
      "execution_count": null,
      "outputs": [
        {
          "output_type": "execute_result",
          "data": {
            "application/vnd.google.colaboratory.intrinsic+json": {
              "type": "string"
            },
            "text/plain": [
              "'Advantages and Disadvantages of Cryptocurrency'"
            ]
          },
          "metadata": {
            "tags": []
          },
          "execution_count": 82
        }
      ]
    },
    {
      "cell_type": "code",
      "metadata": {
        "colab": {
          "base_uri": "https://localhost:8080/"
        },
        "id": "loade1JGGK5y",
        "outputId": "6ce2af15-dc97-40f3-8be0-42cc366ae4be"
      },
      "source": [
        "print(datasagara['post_content'][814])"
      ],
      "execution_count": null,
      "outputs": [
        {
          "output_type": "stream",
          "text": [
            "[Cryptocurrency](https://www.sagaratechnology.com/blog/getting-to-know-\n",
            "cryptocurrency-investment/), a virtual currency as part of blockchain\n",
            "technology, is becoming a hot topic for everyone in all parts of the world,\n",
            "including Indonesia.\n",
            "\n",
            "Cryptocurrency can be used for investment purposes, trading, mining, to\n",
            "transaction tools. Even so, cryptocurrency has its advantages and\n",
            "disadvantages.\n",
            "\n",
            "**The first** advantage of this currency is that it is universal. We can use\n",
            "this currency without any conditions, including when they want to buy it.\n",
            "\n",
            "**The second** advantage, this currency allows fast transactions.\n",
            "Cryptocurrency do not require a third party such as a bank to act as an\n",
            "intermediary in conventional financial transactions.\n",
            "\n",
            "**The next** advantage, cryptocurrency is transparent. Users can see all\n",
            "transactions made. However, only the transaction value can be known.\n",
            "\n",
            "**Lastly** , cryptocurrency have the advantage that they can be traded 7 days\n",
            "24 hours. This means that cryptocurrency transactions can be done at any time.\n",
            "This is certainly different from conventional financial transactions that can\n",
            "only be done on weekdays.\n",
            "\n",
            "On the other hand, cryptocurrency also have disadvantages. One of them is the\n",
            "existence of loopholes for crime. [Illegal\n",
            "transactions](https://www.bbc.com/news/business-57169726) can also be carried\n",
            "out.\n",
            "\n",
            "The next disadvantages, when you lose your password. When the user forgets the\n",
            "password, all the money they have can be lost. This can happen because until\n",
            "now, cryptocurrencies still do not have a third party, such as banks in\n",
            "conventional financial transactions, who can cover this issue.\n",
            "\n",
            "Then, the last disadvantages is that in Indonesia, crypto currency is still\n",
            "considered a commodity, not a transaction tool. In other words, crypto\n",
            "currency transactions in Indonesia are still not available. So, that's the\n",
            "advantages and disadvantages of cryptocurrency.\n",
            "\n",
            "\n"
          ],
          "name": "stdout"
        }
      ]
    },
    {
      "cell_type": "code",
      "metadata": {
        "colab": {
          "base_uri": "https://localhost:8080/",
          "height": 35
        },
        "id": "WS8N81oO5085",
        "outputId": "2bf309b7-bfd9-4d86-b696-ce65d8e106d5"
      },
      "source": [
        "datasagara['post_title'][869]"
      ],
      "execution_count": null,
      "outputs": [
        {
          "output_type": "execute_result",
          "data": {
            "application/vnd.google.colaboratory.intrinsic+json": {
              "type": "string"
            },
            "text/plain": [
              "'Dogecoin, a Popular Cryptocurrency other than Bitcoin'"
            ]
          },
          "metadata": {
            "tags": []
          },
          "execution_count": 84
        }
      ]
    },
    {
      "cell_type": "code",
      "metadata": {
        "colab": {
          "base_uri": "https://localhost:8080/"
        },
        "id": "l2YiJwVB5086",
        "outputId": "6ff7b118-48d5-4321-d1cf-472f907c5c43"
      },
      "source": [
        "print(datasagara['post_content'][869])"
      ],
      "execution_count": null,
      "outputs": [
        {
          "output_type": "stream",
          "text": [
            "When it comes to cryptocurrencies or digital currencies, most people\n",
            "immediately think of Bitcoin. But besides Bitcoin, there is also another\n",
            "cryptocurrency that is no less popular, namely Dogecoin.\n",
            "\n",
            "According to [CNN](https://edition.cnn.com/), this digital currency has been\n",
            "circulating quite a lot with a value of almost 50 billion United States (US)\n",
            "dollars or around Rp. 700 trillion. According to CoinMarketCap, it is the 5th\n",
            "most valuable cryptocurrency on the market, and its value has increased by\n",
            "more than 6 thousand percent this year.\n",
            "\n",
            "The price of Dogecoin doubled again after\n",
            "[Tesla](https://www.sagaratechnology.com/blog/tesla-buys-bitcoin-\n",
            "worth-21-trillion/) CEO Elon Musk tweeted about the coin. Demand for Dogecoin\n",
            "has also surged so much this week that it has caused disruptions to the\n",
            "Robinhood cryptocurrency trading system.\n",
            "\n",
            "Here are some things you should to know about Dogecoin.\n",
            "\n",
            "#### 1\\. Dogecoin and other cryptocurrencies\n",
            "\n",
            "Like all cryptocurrencies, Dogecoin is a digital currency that can be bought\n",
            "and sold, made into an investment tool and spent like money.\n",
            "\n",
            "Although each crypto is unique, Dogecoin has some similarities to other\n",
            "cryptocurrencies. One of those similarities is that the code is based on\n",
            "script like Litecoin. But there are also some key differences between this\n",
            "coin and the others, for example in terms of quantity, which is much more than\n",
            "Bitcoin.\n",
            "\n",
            "Bitcoin is the most popular cryptocurrency, it has set its maximum number of\n",
            "coins at 21 million. Dogecoin has 129 billion coins in circulation and will\n",
            "continue to make new coin blocks available for mining every year.\n",
            "\n",
            "This factor of the number of coins has been one of the causes of the\n",
            "difference in the price of the two coins.\n",
            "\n",
            "#### 2\\. Function of Dogecoin\n",
            "\n",
            "Although cryptocurrencies are increasingly accepted as a currency for buying\n",
            "goods, Dogecoin is not widely used in the real world. The coin has several\n",
            "niche markets, including using Dogecoin to tip online artists.\n",
            "\n",
            "The coin is also widely used in an active online community, which makes this\n",
            "unique currency so popular. The community active on Reddit has raised money in\n",
            "Dogecoin, for charitable causes. In 2014, succeed to raise funds from sponsors\n",
            "to get Nascar driver, Josh Wise, to advertise Dogecoin on his car.\n",
            "\n",
            "#### 3\\. The beginning of the discovery\n",
            "\n",
            "Dogecoin was created by a pair of software engineers on December 6, 2013 as a\n",
            "joke. Initially, IBM programmer from Portland, Oregon, Billy Markus wanted to\n",
            "create a different cryptocurrency from Bitcoin which was created by a\n",
            "mysterious person. Markus wants his coin to be open to the public.\n",
            "\n",
            "Markus then seeks help to realize his strange dream and meets Jackson Palmer,\n",
            "who works for Adobe. Palmer then bought the domain Dogecoin.com which was\n",
            "inspired by the “doge” meme of the shiba dog. Who is also now the coin's\n",
            "mascot.\n",
            "\n",
            "#### 4\\. Why is Dogecoin suddenly so popular?\n",
            "\n",
            "Dogecoin's popularity has soared in part because it was fueled by the\n",
            "popularity of other cryptocurrencies. But this currency skyrocketed after Elon\n",
            "Musk often mentions it in his Twitter posts. Dogecoin is also popular due to\n",
            "its supportive community on the messaging app Reddit.\n",
            "\n",
            "However, it is not known for certain whether Dogecoin is a smart investment\n",
            "instrument or not. On the other hand, Dogecoin is just as volatile as Bitcoin.\n",
            "\n",
            "\n"
          ],
          "name": "stdout"
        }
      ]
    },
    {
      "cell_type": "markdown",
      "metadata": {
        "id": "-ht_FuVVnTLW"
      },
      "source": [
        "**Dari rekomendasi diatas, terlihat bahwa sistem rekomendasi berhasil merekomendasikan artikel yang mirip. Semua artikel membahas cryptocurrency**"
      ]
    }
  ]
}