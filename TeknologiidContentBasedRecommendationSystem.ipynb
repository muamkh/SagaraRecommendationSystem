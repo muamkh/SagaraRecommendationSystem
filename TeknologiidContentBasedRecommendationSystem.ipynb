{
  "nbformat": 4,
  "nbformat_minor": 0,
  "metadata": {
    "colab": {
      "name": "TeknologiidContentBasedRecommendationSystem.ipynb",
      "provenance": [],
      "collapsed_sections": []
    },
    "kernelspec": {
      "name": "python3",
      "display_name": "Python 3"
    },
    "language_info": {
      "name": "python"
    }
  },
  "cells": [
    {
      "cell_type": "markdown",
      "metadata": {
        "id": "oTmZC38DYSE8"
      },
      "source": [
        "#Content Based Recommendation System"
      ]
    },
    {
      "cell_type": "markdown",
      "metadata": {
        "id": "YXeTGNJZYZHd"
      },
      "source": [
        "##Inisiasi"
      ]
    },
    {
      "cell_type": "code",
      "metadata": {
        "colab": {
          "base_uri": "https://localhost:8080/"
        },
        "id": "yuWMfLKIw0rB",
        "outputId": "ba53fadc-beb0-42f7-83fc-4b63c1325b2b"
      },
      "source": [
        "pip install html2text"
      ],
      "execution_count": null,
      "outputs": [
        {
          "output_type": "stream",
          "text": [
            "Requirement already satisfied: html2text in /usr/local/lib/python3.7/dist-packages (2020.1.16)\n"
          ],
          "name": "stdout"
        }
      ]
    },
    {
      "cell_type": "code",
      "metadata": {
        "colab": {
          "base_uri": "https://localhost:8080/"
        },
        "id": "z962i5gjU8KF",
        "outputId": "56fc0200-80b4-4bba-8698-ece7d9069e97"
      },
      "source": [
        "pip install Sastrawi"
      ],
      "execution_count": null,
      "outputs": [
        {
          "output_type": "stream",
          "text": [
            "Collecting Sastrawi\n",
            "\u001b[?25l  Downloading https://files.pythonhosted.org/packages/6f/4b/bab676953da3103003730b8fcdfadbdd20f333d4add10af949dd5c51e6ed/Sastrawi-1.0.1-py2.py3-none-any.whl (209kB)\n",
            "\r\u001b[K     |█▋                              | 10kB 17.9MB/s eta 0:00:01\r\u001b[K     |███▏                            | 20kB 26.6MB/s eta 0:00:01\r\u001b[K     |████▊                           | 30kB 20.1MB/s eta 0:00:01\r\u001b[K     |██████▎                         | 40kB 16.9MB/s eta 0:00:01\r\u001b[K     |███████▉                        | 51kB 14.6MB/s eta 0:00:01\r\u001b[K     |█████████▍                      | 61kB 12.3MB/s eta 0:00:01\r\u001b[K     |███████████                     | 71kB 12.0MB/s eta 0:00:01\r\u001b[K     |████████████▌                   | 81kB 13.1MB/s eta 0:00:01\r\u001b[K     |██████████████                  | 92kB 14.1MB/s eta 0:00:01\r\u001b[K     |███████████████▋                | 102kB 13.3MB/s eta 0:00:01\r\u001b[K     |█████████████████▏              | 112kB 13.3MB/s eta 0:00:01\r\u001b[K     |██████████████████▊             | 122kB 13.3MB/s eta 0:00:01\r\u001b[K     |████████████████████▎           | 133kB 13.3MB/s eta 0:00:01\r\u001b[K     |█████████████████████▉          | 143kB 13.3MB/s eta 0:00:01\r\u001b[K     |███████████████████████▍        | 153kB 13.3MB/s eta 0:00:01\r\u001b[K     |█████████████████████████       | 163kB 13.3MB/s eta 0:00:01\r\u001b[K     |██████████████████████████▋     | 174kB 13.3MB/s eta 0:00:01\r\u001b[K     |████████████████████████████▏   | 184kB 13.3MB/s eta 0:00:01\r\u001b[K     |█████████████████████████████▊  | 194kB 13.3MB/s eta 0:00:01\r\u001b[K     |███████████████████████████████▎| 204kB 13.3MB/s eta 0:00:01\r\u001b[K     |████████████████████████████████| 215kB 13.3MB/s \n",
            "\u001b[?25hInstalling collected packages: Sastrawi\n",
            "Successfully installed Sastrawi-1.0.1\n"
          ],
          "name": "stdout"
        }
      ]
    },
    {
      "cell_type": "code",
      "metadata": {
        "colab": {
          "base_uri": "https://localhost:8080/"
        },
        "id": "qespoE4cBW3X",
        "outputId": "ab86245c-55c6-4512-a5e8-d203a905ddad"
      },
      "source": [
        "from google.colab import drive\n",
        "drive.mount('/content/drive')"
      ],
      "execution_count": null,
      "outputs": [
        {
          "output_type": "stream",
          "text": [
            "Drive already mounted at /content/drive; to attempt to forcibly remount, call drive.mount(\"/content/drive\", force_remount=True).\n"
          ],
          "name": "stdout"
        }
      ]
    },
    {
      "cell_type": "code",
      "metadata": {
        "id": "kTqnMVzVEZ95"
      },
      "source": [
        "import numpy as np\n",
        "import scipy\n",
        "import pandas as pd\n",
        "import math\n",
        "import re\n",
        "import random\n",
        "import nltk\n",
        "import sklearn\n",
        "import html2text\n",
        "from Sastrawi.Stemmer.StemmerFactory import StemmerFactory\n",
        "from nltk.corpus import stopwords\n",
        "from scipy.sparse import csr_matrix\n",
        "from sklearn.model_selection import train_test_split\n",
        "from sklearn.feature_extraction.text import TfidfVectorizer\n",
        "from sklearn.metrics.pairwise import cosine_similarity\n",
        "from scipy.sparse.linalg import svds\n",
        "from sklearn.preprocessing import MinMaxScaler\n",
        "import matplotlib.pyplot as plt"
      ],
      "execution_count": null,
      "outputs": []
    },
    {
      "cell_type": "markdown",
      "metadata": {
        "id": "ftJYughZYjLE"
      },
      "source": [
        "##Preprocessing"
      ]
    },
    {
      "cell_type": "code",
      "metadata": {
        "colab": {
          "base_uri": "https://localhost:8080/",
          "height": 907
        },
        "id": "GBvrAmJnEClY",
        "outputId": "78253aab-7984-40b2-92c1-709537dde3c3"
      },
      "source": [
        "datateknologi =  pd.read_csv('/content/drive/MyDrive/Datasets/Sagara/wp_posts.csv')\n",
        "datateknologi"
      ],
      "execution_count": null,
      "outputs": [
        {
          "output_type": "execute_result",
          "data": {
            "text/html": [
              "<div>\n",
              "<style scoped>\n",
              "    .dataframe tbody tr th:only-of-type {\n",
              "        vertical-align: middle;\n",
              "    }\n",
              "\n",
              "    .dataframe tbody tr th {\n",
              "        vertical-align: top;\n",
              "    }\n",
              "\n",
              "    .dataframe thead th {\n",
              "        text-align: right;\n",
              "    }\n",
              "</style>\n",
              "<table border=\"1\" class=\"dataframe\">\n",
              "  <thead>\n",
              "    <tr style=\"text-align: right;\">\n",
              "      <th></th>\n",
              "      <th>ID</th>\n",
              "      <th>post_author</th>\n",
              "      <th>post_date</th>\n",
              "      <th>post_date_gmt</th>\n",
              "      <th>post_content</th>\n",
              "      <th>post_title</th>\n",
              "      <th>post_excerpt</th>\n",
              "      <th>post_status</th>\n",
              "      <th>comment_status</th>\n",
              "      <th>ping_status</th>\n",
              "      <th>post_password</th>\n",
              "      <th>post_name</th>\n",
              "      <th>to_ping</th>\n",
              "      <th>pinged</th>\n",
              "      <th>post_modified</th>\n",
              "      <th>post_modified_gmt</th>\n",
              "      <th>post_content_filtered</th>\n",
              "      <th>post_parent</th>\n",
              "      <th>guid</th>\n",
              "      <th>menu_order</th>\n",
              "      <th>post_type</th>\n",
              "      <th>post_mime_type</th>\n",
              "      <th>comment_count</th>\n",
              "    </tr>\n",
              "  </thead>\n",
              "  <tbody>\n",
              "    <tr>\n",
              "      <th>0</th>\n",
              "      <td>2</td>\n",
              "      <td>1</td>\n",
              "      <td>2017-12-20 10:13:01</td>\n",
              "      <td>2017-12-20 10:13:01</td>\n",
              "      <td>This is an example page. It's different from a...</td>\n",
              "      <td>Sample Page</td>\n",
              "      <td>NaN</td>\n",
              "      <td>publish</td>\n",
              "      <td>closed</td>\n",
              "      <td>open</td>\n",
              "      <td>NaN</td>\n",
              "      <td>sample-page</td>\n",
              "      <td>NaN</td>\n",
              "      <td>NaN</td>\n",
              "      <td>2017-12-20 10:13:01</td>\n",
              "      <td>2017-12-20 10:13:01</td>\n",
              "      <td>NaN</td>\n",
              "      <td>0</td>\n",
              "      <td>http://dev.sagara.asia/teknologiid/?page_id=2</td>\n",
              "      <td>0</td>\n",
              "      <td>page</td>\n",
              "      <td>NaN</td>\n",
              "      <td>0</td>\n",
              "    </tr>\n",
              "    <tr>\n",
              "      <th>1</th>\n",
              "      <td>4</td>\n",
              "      <td>1</td>\n",
              "      <td>2017-12-19 10:06:55</td>\n",
              "      <td>2017-12-19 10:06:55</td>\n",
              "      <td>This is an example of a page. Unlike posts, pa...</td>\n",
              "      <td>Page</td>\n",
              "      <td>NaN</td>\n",
              "      <td>publish</td>\n",
              "      <td>closed</td>\n",
              "      <td>closed</td>\n",
              "      <td>NaN</td>\n",
              "      <td>page</td>\n",
              "      <td>NaN</td>\n",
              "      <td>NaN</td>\n",
              "      <td>2017-12-29 02:51:46</td>\n",
              "      <td>2017-12-29 02:51:46</td>\n",
              "      <td>NaN</td>\n",
              "      <td>238</td>\n",
              "      <td>https://teknologi369969046.wordpress.com/?page...</td>\n",
              "      <td>2</td>\n",
              "      <td>page</td>\n",
              "      <td>NaN</td>\n",
              "      <td>0</td>\n",
              "    </tr>\n",
              "    <tr>\n",
              "      <th>2</th>\n",
              "      <td>5</td>\n",
              "      <td>1</td>\n",
              "      <td>2017-12-20 10:15:10</td>\n",
              "      <td>2017-12-20 10:15:10</td>\n",
              "      <td>&lt;label&gt; Your Name (required)\\n    [text* your-...</td>\n",
              "      <td>Contact form 1</td>\n",
              "      <td>NaN</td>\n",
              "      <td>publish</td>\n",
              "      <td>closed</td>\n",
              "      <td>closed</td>\n",
              "      <td>NaN</td>\n",
              "      <td>contact-form-1</td>\n",
              "      <td>NaN</td>\n",
              "      <td>NaN</td>\n",
              "      <td>2017-12-20 10:15:10</td>\n",
              "      <td>2017-12-20 10:15:10</td>\n",
              "      <td>NaN</td>\n",
              "      <td>0</td>\n",
              "      <td>http://dev.sagara.asia/teknologiid/?post_type=...</td>\n",
              "      <td>0</td>\n",
              "      <td>wpcf7_contact_form</td>\n",
              "      <td>NaN</td>\n",
              "      <td>0</td>\n",
              "    </tr>\n",
              "    <tr>\n",
              "      <th>3</th>\n",
              "      <td>7</td>\n",
              "      <td>1</td>\n",
              "      <td>2017-12-19 10:06:52</td>\n",
              "      <td>2017-12-19 10:06:52</td>\n",
              "      <td>This is the page where users will find your si...</td>\n",
              "      <td>Blog</td>\n",
              "      <td>NaN</td>\n",
              "      <td>publish</td>\n",
              "      <td>closed</td>\n",
              "      <td>closed</td>\n",
              "      <td>NaN</td>\n",
              "      <td>blog</td>\n",
              "      <td>NaN</td>\n",
              "      <td>NaN</td>\n",
              "      <td>2017-12-19 10:06:52</td>\n",
              "      <td>2017-12-19 10:06:52</td>\n",
              "      <td>NaN</td>\n",
              "      <td>0</td>\n",
              "      <td>https://teknologi369969046.wordpress.com/?page...</td>\n",
              "      <td>4</td>\n",
              "      <td>page</td>\n",
              "      <td>NaN</td>\n",
              "      <td>0</td>\n",
              "    </tr>\n",
              "    <tr>\n",
              "      <th>4</th>\n",
              "      <td>10</td>\n",
              "      <td>1</td>\n",
              "      <td>2017-09-22 09:28:22</td>\n",
              "      <td>2017-09-22 09:28:22</td>\n",
              "      <td>NaN</td>\n",
              "      <td>alex-blajan-227152</td>\n",
              "      <td>NaN</td>\n",
              "      <td>inherit</td>\n",
              "      <td>open</td>\n",
              "      <td>closed</td>\n",
              "      <td>NaN</td>\n",
              "      <td>alex-blajan-227152</td>\n",
              "      <td>NaN</td>\n",
              "      <td>NaN</td>\n",
              "      <td>2017-09-22 09:28:22</td>\n",
              "      <td>2017-09-22 09:28:22</td>\n",
              "      <td>NaN</td>\n",
              "      <td>0</td>\n",
              "      <td>https://manohara.incredibbble.com/wp-content/u...</td>\n",
              "      <td>0</td>\n",
              "      <td>attachment</td>\n",
              "      <td>image/jpeg</td>\n",
              "      <td>0</td>\n",
              "    </tr>\n",
              "    <tr>\n",
              "      <th>...</th>\n",
              "      <td>...</td>\n",
              "      <td>...</td>\n",
              "      <td>...</td>\n",
              "      <td>...</td>\n",
              "      <td>...</td>\n",
              "      <td>...</td>\n",
              "      <td>...</td>\n",
              "      <td>...</td>\n",
              "      <td>...</td>\n",
              "      <td>...</td>\n",
              "      <td>...</td>\n",
              "      <td>...</td>\n",
              "      <td>...</td>\n",
              "      <td>...</td>\n",
              "      <td>...</td>\n",
              "      <td>...</td>\n",
              "      <td>...</td>\n",
              "      <td>...</td>\n",
              "      <td>...</td>\n",
              "      <td>...</td>\n",
              "      <td>...</td>\n",
              "      <td>...</td>\n",
              "      <td>...</td>\n",
              "    </tr>\n",
              "    <tr>\n",
              "      <th>4938</th>\n",
              "      <td>6456</td>\n",
              "      <td>1</td>\n",
              "      <td>2019-02-10 16:02:10</td>\n",
              "      <td>2019-02-10 09:02:10</td>\n",
              "      <td>NaN</td>\n",
              "      <td>wkwkwkwk</td>\n",
              "      <td>NaN</td>\n",
              "      <td>inherit</td>\n",
              "      <td>closed</td>\n",
              "      <td>closed</td>\n",
              "      <td>NaN</td>\n",
              "      <td>6452-revision-v1</td>\n",
              "      <td>NaN</td>\n",
              "      <td>NaN</td>\n",
              "      <td>2019-02-10 16:02:10</td>\n",
              "      <td>2019-02-10 09:02:10</td>\n",
              "      <td>NaN</td>\n",
              "      <td>6452</td>\n",
              "      <td>http://teknologiidberita.sagara.asia/publik/64...</td>\n",
              "      <td>0</td>\n",
              "      <td>revision</td>\n",
              "      <td>NaN</td>\n",
              "      <td>0</td>\n",
              "    </tr>\n",
              "    <tr>\n",
              "      <th>4939</th>\n",
              "      <td>6457</td>\n",
              "      <td>1</td>\n",
              "      <td>2019-02-10 16:02:16</td>\n",
              "      <td>2019-02-10 09:02:16</td>\n",
              "      <td>nnnn</td>\n",
              "      <td>wkwkwkwk</td>\n",
              "      <td>NaN</td>\n",
              "      <td>inherit</td>\n",
              "      <td>closed</td>\n",
              "      <td>closed</td>\n",
              "      <td>NaN</td>\n",
              "      <td>6452-revision-v1</td>\n",
              "      <td>NaN</td>\n",
              "      <td>NaN</td>\n",
              "      <td>2019-02-10 16:02:16</td>\n",
              "      <td>2019-02-10 09:02:16</td>\n",
              "      <td>NaN</td>\n",
              "      <td>6452</td>\n",
              "      <td>http://teknologiidberita.sagara.asia/publik/64...</td>\n",
              "      <td>0</td>\n",
              "      <td>revision</td>\n",
              "      <td>NaN</td>\n",
              "      <td>0</td>\n",
              "    </tr>\n",
              "    <tr>\n",
              "      <th>4940</th>\n",
              "      <td>6459</td>\n",
              "      <td>1</td>\n",
              "      <td>2019-04-02 10:35:47</td>\n",
              "      <td>0000-00-00 00:00:00</td>\n",
              "      <td>NaN</td>\n",
              "      <td>ini judul</td>\n",
              "      <td>NaN</td>\n",
              "      <td>draft</td>\n",
              "      <td>open</td>\n",
              "      <td>open</td>\n",
              "      <td>NaN</td>\n",
              "      <td>NaN</td>\n",
              "      <td>NaN</td>\n",
              "      <td>NaN</td>\n",
              "      <td>2019-04-02 10:35:47</td>\n",
              "      <td>2019-04-02 03:35:47</td>\n",
              "      <td>NaN</td>\n",
              "      <td>0</td>\n",
              "      <td>http://teknologiidberita.sagara.asia/?p=6459</td>\n",
              "      <td>0</td>\n",
              "      <td>post</td>\n",
              "      <td>NaN</td>\n",
              "      <td>0</td>\n",
              "    </tr>\n",
              "    <tr>\n",
              "      <th>4941</th>\n",
              "      <td>6461</td>\n",
              "      <td>1</td>\n",
              "      <td>2019-04-02 11:11:11</td>\n",
              "      <td>2019-04-02 04:11:11</td>\n",
              "      <td>Jangan lupa membaca berita teknologi indonesia...</td>\n",
              "      <td>Teknologi.id</td>\n",
              "      <td>NaN</td>\n",
              "      <td>publish</td>\n",
              "      <td>open</td>\n",
              "      <td>open</td>\n",
              "      <td>NaN</td>\n",
              "      <td>teknologi-id</td>\n",
              "      <td>NaN</td>\n",
              "      <td>NaN</td>\n",
              "      <td>2019-04-02 11:11:11</td>\n",
              "      <td>2019-04-02 04:11:11</td>\n",
              "      <td>NaN</td>\n",
              "      <td>0</td>\n",
              "      <td>http://teknologiidberita.sagara.asia/?p=6461</td>\n",
              "      <td>0</td>\n",
              "      <td>post</td>\n",
              "      <td>NaN</td>\n",
              "      <td>0</td>\n",
              "    </tr>\n",
              "    <tr>\n",
              "      <th>4942</th>\n",
              "      <td>6462</td>\n",
              "      <td>1</td>\n",
              "      <td>2019-04-02 11:11:11</td>\n",
              "      <td>2019-04-02 04:11:11</td>\n",
              "      <td>Jangan lupa membaca berita teknologi indonesia...</td>\n",
              "      <td>Teknologi.id</td>\n",
              "      <td>NaN</td>\n",
              "      <td>inherit</td>\n",
              "      <td>closed</td>\n",
              "      <td>closed</td>\n",
              "      <td>NaN</td>\n",
              "      <td>6461-revision-v1</td>\n",
              "      <td>NaN</td>\n",
              "      <td>NaN</td>\n",
              "      <td>2019-04-02 11:11:11</td>\n",
              "      <td>2019-04-02 04:11:11</td>\n",
              "      <td>NaN</td>\n",
              "      <td>6461</td>\n",
              "      <td>http://teknologiidberita.sagara.asia/publik/64...</td>\n",
              "      <td>0</td>\n",
              "      <td>revision</td>\n",
              "      <td>NaN</td>\n",
              "      <td>0</td>\n",
              "    </tr>\n",
              "  </tbody>\n",
              "</table>\n",
              "<p>4943 rows × 23 columns</p>\n",
              "</div>"
            ],
            "text/plain": [
              "        ID  post_author  ... post_mime_type comment_count\n",
              "0        2            1  ...            NaN             0\n",
              "1        4            1  ...            NaN             0\n",
              "2        5            1  ...            NaN             0\n",
              "3        7            1  ...            NaN             0\n",
              "4       10            1  ...     image/jpeg             0\n",
              "...    ...          ...  ...            ...           ...\n",
              "4938  6456            1  ...            NaN             0\n",
              "4939  6457            1  ...            NaN             0\n",
              "4940  6459            1  ...            NaN             0\n",
              "4941  6461            1  ...            NaN             0\n",
              "4942  6462            1  ...            NaN             0\n",
              "\n",
              "[4943 rows x 23 columns]"
            ]
          },
          "metadata": {
            "tags": []
          },
          "execution_count": 130
        }
      ]
    },
    {
      "cell_type": "markdown",
      "metadata": {
        "id": "Aj8ueQgUYrzF"
      },
      "source": [
        "**Dari semua data artikel yang ada, hanya pilih artikel yang sudah di publish & bukan inherit dari artikel lain**"
      ]
    },
    {
      "cell_type": "code",
      "metadata": {
        "colab": {
          "base_uri": "https://localhost:8080/",
          "height": 823
        },
        "id": "Cb_cCzcyE9Ug",
        "outputId": "7799ba8c-ccd3-4633-c838-06303e9d6604"
      },
      "source": [
        "datateknologi = datateknologi[datateknologi['post_status']=='publish'].reset_index(drop=True)\n",
        "datateknologi"
      ],
      "execution_count": null,
      "outputs": [
        {
          "output_type": "execute_result",
          "data": {
            "text/html": [
              "<div>\n",
              "<style scoped>\n",
              "    .dataframe tbody tr th:only-of-type {\n",
              "        vertical-align: middle;\n",
              "    }\n",
              "\n",
              "    .dataframe tbody tr th {\n",
              "        vertical-align: top;\n",
              "    }\n",
              "\n",
              "    .dataframe thead th {\n",
              "        text-align: right;\n",
              "    }\n",
              "</style>\n",
              "<table border=\"1\" class=\"dataframe\">\n",
              "  <thead>\n",
              "    <tr style=\"text-align: right;\">\n",
              "      <th></th>\n",
              "      <th>ID</th>\n",
              "      <th>post_author</th>\n",
              "      <th>post_date</th>\n",
              "      <th>post_date_gmt</th>\n",
              "      <th>post_content</th>\n",
              "      <th>post_title</th>\n",
              "      <th>post_excerpt</th>\n",
              "      <th>post_status</th>\n",
              "      <th>comment_status</th>\n",
              "      <th>ping_status</th>\n",
              "      <th>post_password</th>\n",
              "      <th>post_name</th>\n",
              "      <th>to_ping</th>\n",
              "      <th>pinged</th>\n",
              "      <th>post_modified</th>\n",
              "      <th>post_modified_gmt</th>\n",
              "      <th>post_content_filtered</th>\n",
              "      <th>post_parent</th>\n",
              "      <th>guid</th>\n",
              "      <th>menu_order</th>\n",
              "      <th>post_type</th>\n",
              "      <th>post_mime_type</th>\n",
              "      <th>comment_count</th>\n",
              "    </tr>\n",
              "  </thead>\n",
              "  <tbody>\n",
              "    <tr>\n",
              "      <th>0</th>\n",
              "      <td>2</td>\n",
              "      <td>1</td>\n",
              "      <td>2017-12-20 10:13:01</td>\n",
              "      <td>2017-12-20 10:13:01</td>\n",
              "      <td>This is an example page. It's different from a...</td>\n",
              "      <td>Sample Page</td>\n",
              "      <td>NaN</td>\n",
              "      <td>publish</td>\n",
              "      <td>closed</td>\n",
              "      <td>open</td>\n",
              "      <td>NaN</td>\n",
              "      <td>sample-page</td>\n",
              "      <td>NaN</td>\n",
              "      <td>NaN</td>\n",
              "      <td>2017-12-20 10:13:01</td>\n",
              "      <td>2017-12-20 10:13:01</td>\n",
              "      <td>NaN</td>\n",
              "      <td>0</td>\n",
              "      <td>http://dev.sagara.asia/teknologiid/?page_id=2</td>\n",
              "      <td>0</td>\n",
              "      <td>page</td>\n",
              "      <td>NaN</td>\n",
              "      <td>0</td>\n",
              "    </tr>\n",
              "    <tr>\n",
              "      <th>1</th>\n",
              "      <td>4</td>\n",
              "      <td>1</td>\n",
              "      <td>2017-12-19 10:06:55</td>\n",
              "      <td>2017-12-19 10:06:55</td>\n",
              "      <td>This is an example of a page. Unlike posts, pa...</td>\n",
              "      <td>Page</td>\n",
              "      <td>NaN</td>\n",
              "      <td>publish</td>\n",
              "      <td>closed</td>\n",
              "      <td>closed</td>\n",
              "      <td>NaN</td>\n",
              "      <td>page</td>\n",
              "      <td>NaN</td>\n",
              "      <td>NaN</td>\n",
              "      <td>2017-12-29 02:51:46</td>\n",
              "      <td>2017-12-29 02:51:46</td>\n",
              "      <td>NaN</td>\n",
              "      <td>238</td>\n",
              "      <td>https://teknologi369969046.wordpress.com/?page...</td>\n",
              "      <td>2</td>\n",
              "      <td>page</td>\n",
              "      <td>NaN</td>\n",
              "      <td>0</td>\n",
              "    </tr>\n",
              "    <tr>\n",
              "      <th>2</th>\n",
              "      <td>5</td>\n",
              "      <td>1</td>\n",
              "      <td>2017-12-20 10:15:10</td>\n",
              "      <td>2017-12-20 10:15:10</td>\n",
              "      <td>&lt;label&gt; Your Name (required)\\n    [text* your-...</td>\n",
              "      <td>Contact form 1</td>\n",
              "      <td>NaN</td>\n",
              "      <td>publish</td>\n",
              "      <td>closed</td>\n",
              "      <td>closed</td>\n",
              "      <td>NaN</td>\n",
              "      <td>contact-form-1</td>\n",
              "      <td>NaN</td>\n",
              "      <td>NaN</td>\n",
              "      <td>2017-12-20 10:15:10</td>\n",
              "      <td>2017-12-20 10:15:10</td>\n",
              "      <td>NaN</td>\n",
              "      <td>0</td>\n",
              "      <td>http://dev.sagara.asia/teknologiid/?post_type=...</td>\n",
              "      <td>0</td>\n",
              "      <td>wpcf7_contact_form</td>\n",
              "      <td>NaN</td>\n",
              "      <td>0</td>\n",
              "    </tr>\n",
              "    <tr>\n",
              "      <th>3</th>\n",
              "      <td>7</td>\n",
              "      <td>1</td>\n",
              "      <td>2017-12-19 10:06:52</td>\n",
              "      <td>2017-12-19 10:06:52</td>\n",
              "      <td>This is the page where users will find your si...</td>\n",
              "      <td>Blog</td>\n",
              "      <td>NaN</td>\n",
              "      <td>publish</td>\n",
              "      <td>closed</td>\n",
              "      <td>closed</td>\n",
              "      <td>NaN</td>\n",
              "      <td>blog</td>\n",
              "      <td>NaN</td>\n",
              "      <td>NaN</td>\n",
              "      <td>2017-12-19 10:06:52</td>\n",
              "      <td>2017-12-19 10:06:52</td>\n",
              "      <td>NaN</td>\n",
              "      <td>0</td>\n",
              "      <td>https://teknologi369969046.wordpress.com/?page...</td>\n",
              "      <td>4</td>\n",
              "      <td>page</td>\n",
              "      <td>NaN</td>\n",
              "      <td>0</td>\n",
              "    </tr>\n",
              "    <tr>\n",
              "      <th>4</th>\n",
              "      <td>41</td>\n",
              "      <td>1</td>\n",
              "      <td>2017-07-16 05:03:16</td>\n",
              "      <td>2017-07-16 05:03:16</td>\n",
              "      <td>&lt;figure class=\"wp-caption\"&gt;&lt;img src=\"http://de...</td>\n",
              "      <td>Gigih Septianto, Founder WeCare.id: Founder St...</td>\n",
              "      <td>NaN</td>\n",
              "      <td>publish</td>\n",
              "      <td>open</td>\n",
              "      <td>open</td>\n",
              "      <td>NaN</td>\n",
              "      <td>gigih-septianto-founder-wecare-id-founder-star...</td>\n",
              "      <td>NaN</td>\n",
              "      <td>NaN</td>\n",
              "      <td>2017-12-29 08:17:19</td>\n",
              "      <td>2017-12-29 08:17:19</td>\n",
              "      <td>NaN</td>\n",
              "      <td>0</td>\n",
              "      <td>https://teknologi369969046.wordpress.com/2017/...</td>\n",
              "      <td>0</td>\n",
              "      <td>post</td>\n",
              "      <td>NaN</td>\n",
              "      <td>0</td>\n",
              "    </tr>\n",
              "    <tr>\n",
              "      <th>...</th>\n",
              "      <td>...</td>\n",
              "      <td>...</td>\n",
              "      <td>...</td>\n",
              "      <td>...</td>\n",
              "      <td>...</td>\n",
              "      <td>...</td>\n",
              "      <td>...</td>\n",
              "      <td>...</td>\n",
              "      <td>...</td>\n",
              "      <td>...</td>\n",
              "      <td>...</td>\n",
              "      <td>...</td>\n",
              "      <td>...</td>\n",
              "      <td>...</td>\n",
              "      <td>...</td>\n",
              "      <td>...</td>\n",
              "      <td>...</td>\n",
              "      <td>...</td>\n",
              "      <td>...</td>\n",
              "      <td>...</td>\n",
              "      <td>...</td>\n",
              "      <td>...</td>\n",
              "      <td>...</td>\n",
              "    </tr>\n",
              "    <tr>\n",
              "      <th>805</th>\n",
              "      <td>6396</td>\n",
              "      <td>1</td>\n",
              "      <td>2018-10-17 13:37:37</td>\n",
              "      <td>2018-10-17 06:37:37</td>\n",
              "      <td>[newsletters_management]</td>\n",
              "      <td>Manage Subscriptions</td>\n",
              "      <td>NaN</td>\n",
              "      <td>publish</td>\n",
              "      <td>closed</td>\n",
              "      <td>closed</td>\n",
              "      <td>NaN</td>\n",
              "      <td>manage-subscriptions</td>\n",
              "      <td>NaN</td>\n",
              "      <td>NaN</td>\n",
              "      <td>2018-10-17 13:37:37</td>\n",
              "      <td>2018-10-17 06:37:37</td>\n",
              "      <td>NaN</td>\n",
              "      <td>0</td>\n",
              "      <td>http://teknologiidberita.sagara.asia/manage-su...</td>\n",
              "      <td>0</td>\n",
              "      <td>page</td>\n",
              "      <td>NaN</td>\n",
              "      <td>0</td>\n",
              "    </tr>\n",
              "    <tr>\n",
              "      <th>806</th>\n",
              "      <td>6440</td>\n",
              "      <td>1</td>\n",
              "      <td>2019-02-10 15:18:20</td>\n",
              "      <td>2019-02-10 08:18:20</td>\n",
              "      <td>tes fcmtes fcmtes fcmtes fcmtes fcmtes fcmtes ...</td>\n",
              "      <td>tes fcm</td>\n",
              "      <td>NaN</td>\n",
              "      <td>publish</td>\n",
              "      <td>open</td>\n",
              "      <td>open</td>\n",
              "      <td>NaN</td>\n",
              "      <td>tes-fcm</td>\n",
              "      <td>NaN</td>\n",
              "      <td>NaN</td>\n",
              "      <td>2019-02-10 16:01:34</td>\n",
              "      <td>2019-02-10 09:01:34</td>\n",
              "      <td>NaN</td>\n",
              "      <td>0</td>\n",
              "      <td>http://teknologiidberita.sagara.asia/?p=6440</td>\n",
              "      <td>0</td>\n",
              "      <td>post</td>\n",
              "      <td>NaN</td>\n",
              "      <td>0</td>\n",
              "    </tr>\n",
              "    <tr>\n",
              "      <th>807</th>\n",
              "      <td>6452</td>\n",
              "      <td>1</td>\n",
              "      <td>2019-02-10 16:02:10</td>\n",
              "      <td>2019-02-10 09:02:10</td>\n",
              "      <td>nnnn</td>\n",
              "      <td>wkwkwkwk</td>\n",
              "      <td>NaN</td>\n",
              "      <td>publish</td>\n",
              "      <td>open</td>\n",
              "      <td>open</td>\n",
              "      <td>NaN</td>\n",
              "      <td>wkwkwkwk</td>\n",
              "      <td>NaN</td>\n",
              "      <td>NaN</td>\n",
              "      <td>2019-02-10 16:02:16</td>\n",
              "      <td>2019-02-10 09:02:16</td>\n",
              "      <td>NaN</td>\n",
              "      <td>0</td>\n",
              "      <td>http://teknologiidberita.sagara.asia/?p=6452</td>\n",
              "      <td>0</td>\n",
              "      <td>post</td>\n",
              "      <td>NaN</td>\n",
              "      <td>0</td>\n",
              "    </tr>\n",
              "    <tr>\n",
              "      <th>808</th>\n",
              "      <td>6454</td>\n",
              "      <td>1</td>\n",
              "      <td>2019-02-10 16:02:00</td>\n",
              "      <td>2019-02-10 09:02:00</td>\n",
              "      <td>coba coba</td>\n",
              "      <td>cobaa</td>\n",
              "      <td>NaN</td>\n",
              "      <td>publish</td>\n",
              "      <td>open</td>\n",
              "      <td>open</td>\n",
              "      <td>NaN</td>\n",
              "      <td>cobaa</td>\n",
              "      <td>NaN</td>\n",
              "      <td>NaN</td>\n",
              "      <td>2019-02-10 16:02:00</td>\n",
              "      <td>2019-02-10 09:02:00</td>\n",
              "      <td>NaN</td>\n",
              "      <td>0</td>\n",
              "      <td>http://teknologiidberita.sagara.asia/?p=6454</td>\n",
              "      <td>0</td>\n",
              "      <td>post</td>\n",
              "      <td>NaN</td>\n",
              "      <td>0</td>\n",
              "    </tr>\n",
              "    <tr>\n",
              "      <th>809</th>\n",
              "      <td>6461</td>\n",
              "      <td>1</td>\n",
              "      <td>2019-04-02 11:11:11</td>\n",
              "      <td>2019-04-02 04:11:11</td>\n",
              "      <td>Jangan lupa membaca berita teknologi indonesia...</td>\n",
              "      <td>Teknologi.id</td>\n",
              "      <td>NaN</td>\n",
              "      <td>publish</td>\n",
              "      <td>open</td>\n",
              "      <td>open</td>\n",
              "      <td>NaN</td>\n",
              "      <td>teknologi-id</td>\n",
              "      <td>NaN</td>\n",
              "      <td>NaN</td>\n",
              "      <td>2019-04-02 11:11:11</td>\n",
              "      <td>2019-04-02 04:11:11</td>\n",
              "      <td>NaN</td>\n",
              "      <td>0</td>\n",
              "      <td>http://teknologiidberita.sagara.asia/?p=6461</td>\n",
              "      <td>0</td>\n",
              "      <td>post</td>\n",
              "      <td>NaN</td>\n",
              "      <td>0</td>\n",
              "    </tr>\n",
              "  </tbody>\n",
              "</table>\n",
              "<p>810 rows × 23 columns</p>\n",
              "</div>"
            ],
            "text/plain": [
              "       ID  post_author  ... post_mime_type comment_count\n",
              "0       2            1  ...            NaN             0\n",
              "1       4            1  ...            NaN             0\n",
              "2       5            1  ...            NaN             0\n",
              "3       7            1  ...            NaN             0\n",
              "4      41            1  ...            NaN             0\n",
              "..    ...          ...  ...            ...           ...\n",
              "805  6396            1  ...            NaN             0\n",
              "806  6440            1  ...            NaN             0\n",
              "807  6452            1  ...            NaN             0\n",
              "808  6454            1  ...            NaN             0\n",
              "809  6461            1  ...            NaN             0\n",
              "\n",
              "[810 rows x 23 columns]"
            ]
          },
          "metadata": {
            "tags": []
          },
          "execution_count": 131
        }
      ]
    },
    {
      "cell_type": "code",
      "metadata": {
        "colab": {
          "base_uri": "https://localhost:8080/",
          "height": 455
        },
        "id": "KCZdMRvmG1yR",
        "outputId": "095843ff-f759-4716-f584-02baa0725469"
      },
      "source": [
        "datateknologi[datateknologi['post_parent']!=0]"
      ],
      "execution_count": null,
      "outputs": [
        {
          "output_type": "execute_result",
          "data": {
            "text/html": [
              "<div>\n",
              "<style scoped>\n",
              "    .dataframe tbody tr th:only-of-type {\n",
              "        vertical-align: middle;\n",
              "    }\n",
              "\n",
              "    .dataframe tbody tr th {\n",
              "        vertical-align: top;\n",
              "    }\n",
              "\n",
              "    .dataframe thead th {\n",
              "        text-align: right;\n",
              "    }\n",
              "</style>\n",
              "<table border=\"1\" class=\"dataframe\">\n",
              "  <thead>\n",
              "    <tr style=\"text-align: right;\">\n",
              "      <th></th>\n",
              "      <th>ID</th>\n",
              "      <th>post_author</th>\n",
              "      <th>post_date</th>\n",
              "      <th>post_date_gmt</th>\n",
              "      <th>post_content</th>\n",
              "      <th>post_title</th>\n",
              "      <th>post_excerpt</th>\n",
              "      <th>post_status</th>\n",
              "      <th>comment_status</th>\n",
              "      <th>ping_status</th>\n",
              "      <th>post_password</th>\n",
              "      <th>post_name</th>\n",
              "      <th>to_ping</th>\n",
              "      <th>pinged</th>\n",
              "      <th>post_modified</th>\n",
              "      <th>post_modified_gmt</th>\n",
              "      <th>post_content_filtered</th>\n",
              "      <th>post_parent</th>\n",
              "      <th>guid</th>\n",
              "      <th>menu_order</th>\n",
              "      <th>post_type</th>\n",
              "      <th>post_mime_type</th>\n",
              "      <th>comment_count</th>\n",
              "    </tr>\n",
              "  </thead>\n",
              "  <tbody>\n",
              "    <tr>\n",
              "      <th>1</th>\n",
              "      <td>4</td>\n",
              "      <td>1</td>\n",
              "      <td>2017-12-19 10:06:55</td>\n",
              "      <td>2017-12-19 10:06:55</td>\n",
              "      <td>This is an example of a page. Unlike posts, pa...</td>\n",
              "      <td>Page</td>\n",
              "      <td>NaN</td>\n",
              "      <td>publish</td>\n",
              "      <td>closed</td>\n",
              "      <td>closed</td>\n",
              "      <td>NaN</td>\n",
              "      <td>page</td>\n",
              "      <td>NaN</td>\n",
              "      <td>NaN</td>\n",
              "      <td>2017-12-29 02:51:46</td>\n",
              "      <td>2017-12-29 02:51:46</td>\n",
              "      <td>NaN</td>\n",
              "      <td>238</td>\n",
              "      <td>https://teknologi369969046.wordpress.com/?page...</td>\n",
              "      <td>2</td>\n",
              "      <td>page</td>\n",
              "      <td>NaN</td>\n",
              "      <td>0</td>\n",
              "    </tr>\n",
              "    <tr>\n",
              "      <th>102</th>\n",
              "      <td>238</td>\n",
              "      <td>1</td>\n",
              "      <td>2017-09-23 09:50:14</td>\n",
              "      <td>2017-09-23 09:50:14</td>\n",
              "      <td>&lt;p class=\"p1\"&gt;[tailor_section padding=\"60px,,6...</td>\n",
              "      <td>Home</td>\n",
              "      <td>NaN</td>\n",
              "      <td>publish</td>\n",
              "      <td>closed</td>\n",
              "      <td>closed</td>\n",
              "      <td>NaN</td>\n",
              "      <td>home</td>\n",
              "      <td>NaN</td>\n",
              "      <td>NaN</td>\n",
              "      <td>2018-07-16 04:53:55</td>\n",
              "      <td>2018-07-16 04:53:55</td>\n",
              "      <td>NaN</td>\n",
              "      <td>765</td>\n",
              "      <td>https://manohara.incredibbble.com/?page_id=238</td>\n",
              "      <td>2</td>\n",
              "      <td>page</td>\n",
              "      <td>NaN</td>\n",
              "      <td>0</td>\n",
              "    </tr>\n",
              "    <tr>\n",
              "      <th>289</th>\n",
              "      <td>1287</td>\n",
              "      <td>1</td>\n",
              "      <td>2017-10-13 00:07:37</td>\n",
              "      <td>2017-10-13 00:07:37</td>\n",
              "      <td>&lt;!-- tailor:tailor_section:59f05ca2b2574 --&gt;[t...</td>\n",
              "      <td>Home 4</td>\n",
              "      <td>NaN</td>\n",
              "      <td>publish</td>\n",
              "      <td>closed</td>\n",
              "      <td>closed</td>\n",
              "      <td>NaN</td>\n",
              "      <td>home-4</td>\n",
              "      <td>NaN</td>\n",
              "      <td>NaN</td>\n",
              "      <td>2017-10-13 00:07:37</td>\n",
              "      <td>2017-10-13 00:07:37</td>\n",
              "      <td>NaN</td>\n",
              "      <td>238</td>\n",
              "      <td>https://manohara.incredibbble.com/?page_id=1287</td>\n",
              "      <td>0</td>\n",
              "      <td>page</td>\n",
              "      <td>NaN</td>\n",
              "      <td>0</td>\n",
              "    </tr>\n",
              "    <tr>\n",
              "      <th>290</th>\n",
              "      <td>1319</td>\n",
              "      <td>1</td>\n",
              "      <td>2017-10-13 00:44:23</td>\n",
              "      <td>2017-10-13 00:44:23</td>\n",
              "      <td>&lt;!-- tailor:tailor_section:59f05d9b5c978 --&gt;[t...</td>\n",
              "      <td>Home 5</td>\n",
              "      <td>NaN</td>\n",
              "      <td>publish</td>\n",
              "      <td>closed</td>\n",
              "      <td>closed</td>\n",
              "      <td>NaN</td>\n",
              "      <td>home-5</td>\n",
              "      <td>NaN</td>\n",
              "      <td>NaN</td>\n",
              "      <td>2017-10-13 00:44:23</td>\n",
              "      <td>2017-10-13 00:44:23</td>\n",
              "      <td>NaN</td>\n",
              "      <td>238</td>\n",
              "      <td>https://manohara.incredibbble.com/?page_id=1319</td>\n",
              "      <td>0</td>\n",
              "      <td>page</td>\n",
              "      <td>NaN</td>\n",
              "      <td>0</td>\n",
              "    </tr>\n",
              "    <tr>\n",
              "      <th>301</th>\n",
              "      <td>1529</td>\n",
              "      <td>1</td>\n",
              "      <td>2017-09-27 03:46:43</td>\n",
              "      <td>2017-09-27 03:46:43</td>\n",
              "      <td>&lt;!-- tailor:tailor_section:59f059d967d8e --&gt;[t...</td>\n",
              "      <td>Home 2</td>\n",
              "      <td>NaN</td>\n",
              "      <td>publish</td>\n",
              "      <td>closed</td>\n",
              "      <td>closed</td>\n",
              "      <td>NaN</td>\n",
              "      <td>home-2</td>\n",
              "      <td>NaN</td>\n",
              "      <td>NaN</td>\n",
              "      <td>2017-09-27 03:46:43</td>\n",
              "      <td>2017-09-27 03:46:43</td>\n",
              "      <td>NaN</td>\n",
              "      <td>238</td>\n",
              "      <td>https://manohara.incredibbble.com/?page_id=505</td>\n",
              "      <td>0</td>\n",
              "      <td>page</td>\n",
              "      <td>NaN</td>\n",
              "      <td>0</td>\n",
              "    </tr>\n",
              "    <tr>\n",
              "      <th>304</th>\n",
              "      <td>1544</td>\n",
              "      <td>1</td>\n",
              "      <td>2017-09-29 13:37:29</td>\n",
              "      <td>2017-09-29 13:37:29</td>\n",
              "      <td>&lt;!-- tailor:tailor_section:59f05b032fc0i --&gt;[t...</td>\n",
              "      <td>Home 3</td>\n",
              "      <td>NaN</td>\n",
              "      <td>publish</td>\n",
              "      <td>closed</td>\n",
              "      <td>closed</td>\n",
              "      <td>NaN</td>\n",
              "      <td>home-3</td>\n",
              "      <td>NaN</td>\n",
              "      <td>NaN</td>\n",
              "      <td>2017-09-29 13:37:29</td>\n",
              "      <td>2017-09-29 13:37:29</td>\n",
              "      <td>NaN</td>\n",
              "      <td>238</td>\n",
              "      <td>https://manohara.incredibbble.com/?page_id=962</td>\n",
              "      <td>0</td>\n",
              "      <td>page</td>\n",
              "      <td>NaN</td>\n",
              "      <td>0</td>\n",
              "    </tr>\n",
              "  </tbody>\n",
              "</table>\n",
              "</div>"
            ],
            "text/plain": [
              "       ID  post_author  ... post_mime_type comment_count\n",
              "1       4            1  ...            NaN             0\n",
              "102   238            1  ...            NaN             0\n",
              "289  1287            1  ...            NaN             0\n",
              "290  1319            1  ...            NaN             0\n",
              "301  1529            1  ...            NaN             0\n",
              "304  1544            1  ...            NaN             0\n",
              "\n",
              "[6 rows x 23 columns]"
            ]
          },
          "metadata": {
            "tags": []
          },
          "execution_count": 132
        }
      ]
    },
    {
      "cell_type": "code",
      "metadata": {
        "colab": {
          "base_uri": "https://localhost:8080/",
          "height": 857
        },
        "id": "CfOoMeYbNbqJ",
        "outputId": "c53ad47e-14b8-4469-c16d-8cd5f267f112"
      },
      "source": [
        "datateknologi = datateknologi[datateknologi['post_parent']==0].reset_index(drop=True)\n",
        "datateknologi"
      ],
      "execution_count": null,
      "outputs": [
        {
          "output_type": "execute_result",
          "data": {
            "text/html": [
              "<div>\n",
              "<style scoped>\n",
              "    .dataframe tbody tr th:only-of-type {\n",
              "        vertical-align: middle;\n",
              "    }\n",
              "\n",
              "    .dataframe tbody tr th {\n",
              "        vertical-align: top;\n",
              "    }\n",
              "\n",
              "    .dataframe thead th {\n",
              "        text-align: right;\n",
              "    }\n",
              "</style>\n",
              "<table border=\"1\" class=\"dataframe\">\n",
              "  <thead>\n",
              "    <tr style=\"text-align: right;\">\n",
              "      <th></th>\n",
              "      <th>ID</th>\n",
              "      <th>post_author</th>\n",
              "      <th>post_date</th>\n",
              "      <th>post_date_gmt</th>\n",
              "      <th>post_content</th>\n",
              "      <th>post_title</th>\n",
              "      <th>post_excerpt</th>\n",
              "      <th>post_status</th>\n",
              "      <th>comment_status</th>\n",
              "      <th>ping_status</th>\n",
              "      <th>post_password</th>\n",
              "      <th>post_name</th>\n",
              "      <th>to_ping</th>\n",
              "      <th>pinged</th>\n",
              "      <th>post_modified</th>\n",
              "      <th>post_modified_gmt</th>\n",
              "      <th>post_content_filtered</th>\n",
              "      <th>post_parent</th>\n",
              "      <th>guid</th>\n",
              "      <th>menu_order</th>\n",
              "      <th>post_type</th>\n",
              "      <th>post_mime_type</th>\n",
              "      <th>comment_count</th>\n",
              "    </tr>\n",
              "  </thead>\n",
              "  <tbody>\n",
              "    <tr>\n",
              "      <th>0</th>\n",
              "      <td>2</td>\n",
              "      <td>1</td>\n",
              "      <td>2017-12-20 10:13:01</td>\n",
              "      <td>2017-12-20 10:13:01</td>\n",
              "      <td>This is an example page. It's different from a...</td>\n",
              "      <td>Sample Page</td>\n",
              "      <td>NaN</td>\n",
              "      <td>publish</td>\n",
              "      <td>closed</td>\n",
              "      <td>open</td>\n",
              "      <td>NaN</td>\n",
              "      <td>sample-page</td>\n",
              "      <td>NaN</td>\n",
              "      <td>NaN</td>\n",
              "      <td>2017-12-20 10:13:01</td>\n",
              "      <td>2017-12-20 10:13:01</td>\n",
              "      <td>NaN</td>\n",
              "      <td>0</td>\n",
              "      <td>http://dev.sagara.asia/teknologiid/?page_id=2</td>\n",
              "      <td>0</td>\n",
              "      <td>page</td>\n",
              "      <td>NaN</td>\n",
              "      <td>0</td>\n",
              "    </tr>\n",
              "    <tr>\n",
              "      <th>1</th>\n",
              "      <td>5</td>\n",
              "      <td>1</td>\n",
              "      <td>2017-12-20 10:15:10</td>\n",
              "      <td>2017-12-20 10:15:10</td>\n",
              "      <td>&lt;label&gt; Your Name (required)\\n    [text* your-...</td>\n",
              "      <td>Contact form 1</td>\n",
              "      <td>NaN</td>\n",
              "      <td>publish</td>\n",
              "      <td>closed</td>\n",
              "      <td>closed</td>\n",
              "      <td>NaN</td>\n",
              "      <td>contact-form-1</td>\n",
              "      <td>NaN</td>\n",
              "      <td>NaN</td>\n",
              "      <td>2017-12-20 10:15:10</td>\n",
              "      <td>2017-12-20 10:15:10</td>\n",
              "      <td>NaN</td>\n",
              "      <td>0</td>\n",
              "      <td>http://dev.sagara.asia/teknologiid/?post_type=...</td>\n",
              "      <td>0</td>\n",
              "      <td>wpcf7_contact_form</td>\n",
              "      <td>NaN</td>\n",
              "      <td>0</td>\n",
              "    </tr>\n",
              "    <tr>\n",
              "      <th>2</th>\n",
              "      <td>7</td>\n",
              "      <td>1</td>\n",
              "      <td>2017-12-19 10:06:52</td>\n",
              "      <td>2017-12-19 10:06:52</td>\n",
              "      <td>This is the page where users will find your si...</td>\n",
              "      <td>Blog</td>\n",
              "      <td>NaN</td>\n",
              "      <td>publish</td>\n",
              "      <td>closed</td>\n",
              "      <td>closed</td>\n",
              "      <td>NaN</td>\n",
              "      <td>blog</td>\n",
              "      <td>NaN</td>\n",
              "      <td>NaN</td>\n",
              "      <td>2017-12-19 10:06:52</td>\n",
              "      <td>2017-12-19 10:06:52</td>\n",
              "      <td>NaN</td>\n",
              "      <td>0</td>\n",
              "      <td>https://teknologi369969046.wordpress.com/?page...</td>\n",
              "      <td>4</td>\n",
              "      <td>page</td>\n",
              "      <td>NaN</td>\n",
              "      <td>0</td>\n",
              "    </tr>\n",
              "    <tr>\n",
              "      <th>3</th>\n",
              "      <td>41</td>\n",
              "      <td>1</td>\n",
              "      <td>2017-07-16 05:03:16</td>\n",
              "      <td>2017-07-16 05:03:16</td>\n",
              "      <td>&lt;figure class=\"wp-caption\"&gt;&lt;img src=\"http://de...</td>\n",
              "      <td>Gigih Septianto, Founder WeCare.id: Founder St...</td>\n",
              "      <td>NaN</td>\n",
              "      <td>publish</td>\n",
              "      <td>open</td>\n",
              "      <td>open</td>\n",
              "      <td>NaN</td>\n",
              "      <td>gigih-septianto-founder-wecare-id-founder-star...</td>\n",
              "      <td>NaN</td>\n",
              "      <td>NaN</td>\n",
              "      <td>2017-12-29 08:17:19</td>\n",
              "      <td>2017-12-29 08:17:19</td>\n",
              "      <td>NaN</td>\n",
              "      <td>0</td>\n",
              "      <td>https://teknologi369969046.wordpress.com/2017/...</td>\n",
              "      <td>0</td>\n",
              "      <td>post</td>\n",
              "      <td>NaN</td>\n",
              "      <td>0</td>\n",
              "    </tr>\n",
              "    <tr>\n",
              "      <th>4</th>\n",
              "      <td>42</td>\n",
              "      <td>1</td>\n",
              "      <td>2017-07-17 09:10:56</td>\n",
              "      <td>2017-07-17 09:10:56</td>\n",
              "      <td>&lt;figure&gt;&lt;img src=\"http://dev.sagara.asia/tekno...</td>\n",
              "      <td>Habibi Garden, Startup Asal Indonesia di Bidan...</td>\n",
              "      <td>NaN</td>\n",
              "      <td>publish</td>\n",
              "      <td>open</td>\n",
              "      <td>open</td>\n",
              "      <td>NaN</td>\n",
              "      <td>habibi-garden-startup-asal-indonesia-di-bidang...</td>\n",
              "      <td>NaN</td>\n",
              "      <td>NaN</td>\n",
              "      <td>2018-02-28 09:43:05</td>\n",
              "      <td>2018-02-28 09:43:05</td>\n",
              "      <td>NaN</td>\n",
              "      <td>0</td>\n",
              "      <td>http://dev.sagara.asia/teknologiid/2017/07/17/...</td>\n",
              "      <td>0</td>\n",
              "      <td>post</td>\n",
              "      <td>NaN</td>\n",
              "      <td>0</td>\n",
              "    </tr>\n",
              "    <tr>\n",
              "      <th>...</th>\n",
              "      <td>...</td>\n",
              "      <td>...</td>\n",
              "      <td>...</td>\n",
              "      <td>...</td>\n",
              "      <td>...</td>\n",
              "      <td>...</td>\n",
              "      <td>...</td>\n",
              "      <td>...</td>\n",
              "      <td>...</td>\n",
              "      <td>...</td>\n",
              "      <td>...</td>\n",
              "      <td>...</td>\n",
              "      <td>...</td>\n",
              "      <td>...</td>\n",
              "      <td>...</td>\n",
              "      <td>...</td>\n",
              "      <td>...</td>\n",
              "      <td>...</td>\n",
              "      <td>...</td>\n",
              "      <td>...</td>\n",
              "      <td>...</td>\n",
              "      <td>...</td>\n",
              "      <td>...</td>\n",
              "    </tr>\n",
              "    <tr>\n",
              "      <th>799</th>\n",
              "      <td>6396</td>\n",
              "      <td>1</td>\n",
              "      <td>2018-10-17 13:37:37</td>\n",
              "      <td>2018-10-17 06:37:37</td>\n",
              "      <td>[newsletters_management]</td>\n",
              "      <td>Manage Subscriptions</td>\n",
              "      <td>NaN</td>\n",
              "      <td>publish</td>\n",
              "      <td>closed</td>\n",
              "      <td>closed</td>\n",
              "      <td>NaN</td>\n",
              "      <td>manage-subscriptions</td>\n",
              "      <td>NaN</td>\n",
              "      <td>NaN</td>\n",
              "      <td>2018-10-17 13:37:37</td>\n",
              "      <td>2018-10-17 06:37:37</td>\n",
              "      <td>NaN</td>\n",
              "      <td>0</td>\n",
              "      <td>http://teknologiidberita.sagara.asia/manage-su...</td>\n",
              "      <td>0</td>\n",
              "      <td>page</td>\n",
              "      <td>NaN</td>\n",
              "      <td>0</td>\n",
              "    </tr>\n",
              "    <tr>\n",
              "      <th>800</th>\n",
              "      <td>6440</td>\n",
              "      <td>1</td>\n",
              "      <td>2019-02-10 15:18:20</td>\n",
              "      <td>2019-02-10 08:18:20</td>\n",
              "      <td>tes fcmtes fcmtes fcmtes fcmtes fcmtes fcmtes ...</td>\n",
              "      <td>tes fcm</td>\n",
              "      <td>NaN</td>\n",
              "      <td>publish</td>\n",
              "      <td>open</td>\n",
              "      <td>open</td>\n",
              "      <td>NaN</td>\n",
              "      <td>tes-fcm</td>\n",
              "      <td>NaN</td>\n",
              "      <td>NaN</td>\n",
              "      <td>2019-02-10 16:01:34</td>\n",
              "      <td>2019-02-10 09:01:34</td>\n",
              "      <td>NaN</td>\n",
              "      <td>0</td>\n",
              "      <td>http://teknologiidberita.sagara.asia/?p=6440</td>\n",
              "      <td>0</td>\n",
              "      <td>post</td>\n",
              "      <td>NaN</td>\n",
              "      <td>0</td>\n",
              "    </tr>\n",
              "    <tr>\n",
              "      <th>801</th>\n",
              "      <td>6452</td>\n",
              "      <td>1</td>\n",
              "      <td>2019-02-10 16:02:10</td>\n",
              "      <td>2019-02-10 09:02:10</td>\n",
              "      <td>nnnn</td>\n",
              "      <td>wkwkwkwk</td>\n",
              "      <td>NaN</td>\n",
              "      <td>publish</td>\n",
              "      <td>open</td>\n",
              "      <td>open</td>\n",
              "      <td>NaN</td>\n",
              "      <td>wkwkwkwk</td>\n",
              "      <td>NaN</td>\n",
              "      <td>NaN</td>\n",
              "      <td>2019-02-10 16:02:16</td>\n",
              "      <td>2019-02-10 09:02:16</td>\n",
              "      <td>NaN</td>\n",
              "      <td>0</td>\n",
              "      <td>http://teknologiidberita.sagara.asia/?p=6452</td>\n",
              "      <td>0</td>\n",
              "      <td>post</td>\n",
              "      <td>NaN</td>\n",
              "      <td>0</td>\n",
              "    </tr>\n",
              "    <tr>\n",
              "      <th>802</th>\n",
              "      <td>6454</td>\n",
              "      <td>1</td>\n",
              "      <td>2019-02-10 16:02:00</td>\n",
              "      <td>2019-02-10 09:02:00</td>\n",
              "      <td>coba coba</td>\n",
              "      <td>cobaa</td>\n",
              "      <td>NaN</td>\n",
              "      <td>publish</td>\n",
              "      <td>open</td>\n",
              "      <td>open</td>\n",
              "      <td>NaN</td>\n",
              "      <td>cobaa</td>\n",
              "      <td>NaN</td>\n",
              "      <td>NaN</td>\n",
              "      <td>2019-02-10 16:02:00</td>\n",
              "      <td>2019-02-10 09:02:00</td>\n",
              "      <td>NaN</td>\n",
              "      <td>0</td>\n",
              "      <td>http://teknologiidberita.sagara.asia/?p=6454</td>\n",
              "      <td>0</td>\n",
              "      <td>post</td>\n",
              "      <td>NaN</td>\n",
              "      <td>0</td>\n",
              "    </tr>\n",
              "    <tr>\n",
              "      <th>803</th>\n",
              "      <td>6461</td>\n",
              "      <td>1</td>\n",
              "      <td>2019-04-02 11:11:11</td>\n",
              "      <td>2019-04-02 04:11:11</td>\n",
              "      <td>Jangan lupa membaca berita teknologi indonesia...</td>\n",
              "      <td>Teknologi.id</td>\n",
              "      <td>NaN</td>\n",
              "      <td>publish</td>\n",
              "      <td>open</td>\n",
              "      <td>open</td>\n",
              "      <td>NaN</td>\n",
              "      <td>teknologi-id</td>\n",
              "      <td>NaN</td>\n",
              "      <td>NaN</td>\n",
              "      <td>2019-04-02 11:11:11</td>\n",
              "      <td>2019-04-02 04:11:11</td>\n",
              "      <td>NaN</td>\n",
              "      <td>0</td>\n",
              "      <td>http://teknologiidberita.sagara.asia/?p=6461</td>\n",
              "      <td>0</td>\n",
              "      <td>post</td>\n",
              "      <td>NaN</td>\n",
              "      <td>0</td>\n",
              "    </tr>\n",
              "  </tbody>\n",
              "</table>\n",
              "<p>804 rows × 23 columns</p>\n",
              "</div>"
            ],
            "text/plain": [
              "       ID  post_author  ... post_mime_type comment_count\n",
              "0       2            1  ...            NaN             0\n",
              "1       5            1  ...            NaN             0\n",
              "2       7            1  ...            NaN             0\n",
              "3      41            1  ...            NaN             0\n",
              "4      42            1  ...            NaN             0\n",
              "..    ...          ...  ...            ...           ...\n",
              "799  6396            1  ...            NaN             0\n",
              "800  6440            1  ...            NaN             0\n",
              "801  6452            1  ...            NaN             0\n",
              "802  6454            1  ...            NaN             0\n",
              "803  6461            1  ...            NaN             0\n",
              "\n",
              "[804 rows x 23 columns]"
            ]
          },
          "metadata": {
            "tags": []
          },
          "execution_count": 133
        }
      ]
    },
    {
      "cell_type": "markdown",
      "metadata": {
        "id": "5kzDp213ZVe-"
      },
      "source": [
        "**Cek ID apakah ada yang duplikat/tidak**"
      ]
    },
    {
      "cell_type": "code",
      "metadata": {
        "colab": {
          "base_uri": "https://localhost:8080/"
        },
        "id": "Tq_dt2ZrzENz",
        "outputId": "6ca86410-1ddd-40e7-a85b-0c9930ce09c6"
      },
      "source": [
        "datateknologi['ID'].value_counts()"
      ],
      "execution_count": null,
      "outputs": [
        {
          "output_type": "execute_result",
          "data": {
            "text/plain": [
              "4094    1\n",
              "4554    1\n",
              "473     1\n",
              "4568    1\n",
              "471     1\n",
              "       ..\n",
              "5222    1\n",
              "3170    1\n",
              "3169    1\n",
              "3168    1\n",
              "6145    1\n",
              "Name: ID, Length: 804, dtype: int64"
            ]
          },
          "metadata": {
            "tags": []
          },
          "execution_count": 134
        }
      ]
    },
    {
      "cell_type": "markdown",
      "metadata": {
        "id": "c0G6aLDgZe0g"
      },
      "source": [
        "**Melihat isi artikel**"
      ]
    },
    {
      "cell_type": "code",
      "metadata": {
        "colab": {
          "base_uri": "https://localhost:8080/"
        },
        "id": "YYL3rsXsItOm",
        "outputId": "81d598ce-3fdf-4755-c302-8e77f7a80ed8"
      },
      "source": [
        "datateknologi['post_title']"
      ],
      "execution_count": null,
      "outputs": [
        {
          "output_type": "execute_result",
          "data": {
            "text/plain": [
              "0                                            Sample Page\n",
              "1                                         Contact form 1\n",
              "2                                                   Blog\n",
              "3      Gigih Septianto, Founder WeCare.id: Founder St...\n",
              "4      Habibi Garden, Startup Asal Indonesia di Bidan...\n",
              "                             ...                        \n",
              "799                                 Manage Subscriptions\n",
              "800                                              tes fcm\n",
              "801                                             wkwkwkwk\n",
              "802                                                cobaa\n",
              "803                                         Teknologi.id\n",
              "Name: post_title, Length: 804, dtype: object"
            ]
          },
          "metadata": {
            "tags": []
          },
          "execution_count": 135
        }
      ]
    },
    {
      "cell_type": "code",
      "metadata": {
        "colab": {
          "base_uri": "https://localhost:8080/"
        },
        "id": "Swl5jx01mwod",
        "outputId": "e35f26ad-d47a-43f5-f66a-fbd075d2e8e9"
      },
      "source": [
        "datateknologi['post_content']"
      ],
      "execution_count": null,
      "outputs": [
        {
          "output_type": "execute_result",
          "data": {
            "text/plain": [
              "0      This is an example page. It's different from a...\n",
              "1      <label> Your Name (required)\\n    [text* your-...\n",
              "2      This is the page where users will find your si...\n",
              "3      <figure class=\"wp-caption\"><img src=\"http://de...\n",
              "4      <figure><img src=\"http://dev.sagara.asia/tekno...\n",
              "                             ...                        \n",
              "799                             [newsletters_management]\n",
              "800    tes fcmtes fcmtes fcmtes fcmtes fcmtes fcmtes ...\n",
              "801                                                 nnnn\n",
              "802                                            coba coba\n",
              "803    Jangan lupa membaca berita teknologi indonesia...\n",
              "Name: post_content, Length: 804, dtype: object"
            ]
          },
          "metadata": {
            "tags": []
          },
          "execution_count": 136
        }
      ]
    },
    {
      "cell_type": "markdown",
      "metadata": {
        "id": "J12fFSG_ZrcU"
      },
      "source": [
        "**Dari konten artikel yang ada di bawah, terlihat bahwa text masih kotor (tidak rapi)**"
      ]
    },
    {
      "cell_type": "code",
      "metadata": {
        "colab": {
          "base_uri": "https://localhost:8080/",
          "height": 137
        },
        "id": "0y--0L9Am8UU",
        "outputId": "5e4532d0-09db-4c5b-b566-56d30e23edef"
      },
      "source": [
        "datateknologi['post_content'][100]"
      ],
      "execution_count": null,
      "outputs": [
        {
          "output_type": "execute_result",
          "data": {
            "application/vnd.google.colaboratory.intrinsic+json": {
              "type": "string"
            },
            "text/plain": [
              "'![](http://dev.sagara.asia/teknologiid/wp-\\ncontent/uploads/2017/12/b327f-0vwpj13jfwndqezt9.png)Foto: Rollingstone.com\\nBagi para penikmat film horor supranatural hit, Paranormal Activity, pasti\\nsebelumnya sudah mendengar kabar bahwa film ini sedang dikembangkan menjadi\\n_game_ berbasis _Virtual Reality_ (VR). Dalam beberapa tahun terakhir, projek\\n_game_ ini sedang dikembangkan oleh studio VRWERX dan akan diberi judul\\nParanormal Activity: The Lost Soul. Menurut rencanya, _game_ ini akan di rilis\\ndi Playstation VR namun setelah sekian lama belum ada konfirmasi lebih lanjut\\nmengenai kabar pastinya. Dan akhirnya, setelah di tunggu-tunggu sekian lama,\\nbeberapa hari yang lalu situs IGN resmi melaporkan bahwa game ini akan dirilis\\npada 15 Agustus 2017 mendatang di Playstation VR. Dalam g _ame_ ini nantinya\\npemain akan ada berada di dalam rumah tua yang sudah lama ditinggalkan dan\\nselanjutnya pemain harus memecahkan misteri-misteri supranatural yang ada\\ndalam rumah tersebut. Sejauh ini sudah ada beberapa _gamer_ yang telah mencoba\\n_Early Access_ dari _game_ ini. Beberapa _review_ yang mereka berikan cukup\\nberagam, ada positif dan ada negatif. Untuk positifnya, mereka memberikan\\npujian atas suasana horor yang begitu terasa dan mengejutkan. Sedangkan untuk\\nnegatifnya mereka berpendapat bahwa _game_ ini memiliki _gameplay_ yang kaku\\ndan seringkali terjadi kesalahan. Sumber : Dirangkum dari Winnetnews.com\\n\\n'"
            ]
          },
          "metadata": {
            "tags": []
          },
          "execution_count": 217
        }
      ]
    },
    {
      "cell_type": "markdown",
      "metadata": {
        "id": "-fz1FIFXZ-08"
      },
      "source": [
        "**Melihat kerapian text apabila menggunakan library html2text**"
      ]
    },
    {
      "cell_type": "code",
      "metadata": {
        "colab": {
          "base_uri": "https://localhost:8080/"
        },
        "id": "ZaLdY_a4w-zl",
        "outputId": "fbe7edcf-8335-4671-e7e6-62b69edcc88e"
      },
      "source": [
        "print(html2text.html2text(datateknologi['post_content'][100]))"
      ],
      "execution_count": null,
      "outputs": [
        {
          "output_type": "stream",
          "text": [
            "![](http://dev.sagara.asia/teknologiid/wp-\n",
            "content/uploads/2017/12/b327f-0vwpj13jfwndqezt9.png)Foto: Rollingstone.com\n",
            "Bagi para penikmat film horor supranatural hit, Paranormal Activity, pasti\n",
            "sebelumnya sudah mendengar kabar bahwa film ini sedang dikembangkan menjadi\n",
            "_game_ berbasis _Virtual Reality_ (VR). Dalam beberapa tahun terakhir, projek\n",
            "_game_ ini sedang dikembangkan oleh studio VRWERX dan akan diberi judul\n",
            "Paranormal Activity: The Lost Soul. Menurut rencanya, _game_ ini akan di rilis\n",
            "di Playstation VR namun setelah sekian lama belum ada konfirmasi lebih lanjut\n",
            "mengenai kabar pastinya. Dan akhirnya, setelah di tunggu-tunggu sekian lama,\n",
            "beberapa hari yang lalu situs IGN resmi melaporkan bahwa game ini akan dirilis\n",
            "pada 15 Agustus 2017 mendatang di Playstation VR. Dalam g _ame_ ini nantinya\n",
            "pemain akan ada berada di dalam rumah tua yang sudah lama ditinggalkan dan\n",
            "selanjutnya pemain harus memecahkan misteri-misteri supranatural yang ada\n",
            "dalam rumah tersebut. Sejauh ini sudah ada beberapa _gamer_ yang telah mencoba\n",
            "_Early Access_ dari _game_ ini. Beberapa _review_ yang mereka berikan cukup\n",
            "beragam, ada positif dan ada negatif. Untuk positifnya, mereka memberikan\n",
            "pujian atas suasana horor yang begitu terasa dan mengejutkan. Sedangkan untuk\n",
            "negatifnya mereka berpendapat bahwa _game_ ini memiliki _gameplay_ yang kaku\n",
            "dan seringkali terjadi kesalahan. Sumber : Dirangkum dari Winnetnews.com\n",
            "\n",
            "\n"
          ],
          "name": "stdout"
        }
      ]
    },
    {
      "cell_type": "code",
      "metadata": {
        "colab": {
          "base_uri": "https://localhost:8080/"
        },
        "id": "1r8RC2QYxfG0",
        "outputId": "06ce9bf3-30d1-4984-a552-ac3ff45705c8"
      },
      "source": [
        "print(html2text.html2text(datateknologi['post_content'][97]))"
      ],
      "execution_count": null,
      "outputs": [
        {
          "output_type": "stream",
          "text": [
            "[caption id=\"attachment_2352\" align=\"alignnone\"\n",
            "width=\"770\"]![](http://dev.sagara.asia/teknologiid/wp-\n",
            "content/uploads/2017/09/Google-Maps-Gets-More-Social-With-Shared-\n",
            "Lists-1024x634.jpg) Foto: GeoMarketing[/caption] Badan Informasi Geospasial\n",
            "(BIG) berencana untuk merancang aplikasi peta digital. Aplikasi ini nantinya\n",
            "dapat berfungsi untuk memantau kondisi jalanan, rambu lalu lintas, area\n",
            "konstruksi, tata ruang, hingga pengembangan ekonomi mikro. Menurut Hasanudin\n",
            "Zaenal Abidin, selaku Kepala BIG, aplikasi ini dapat digunakan untuk mengecek\n",
            "situasi macet dan juga lokasi tujuan. Menurutnya, sudah ada perusahaan dalam\n",
            "negeri yang mengaku berminat menjadi mitra untuk menjalankan proyek tersebut.\n",
            "Saat ini, kedua belah pihak tengah menyusun nota kesepahaman (MoU). Namun,\n",
            "Hasanuddin belum bisa menyebutkan nama perusahaan yang berminat menjadi\n",
            "mitranya itu. Ia memastikan, perusahaan dalam negeri ini sudah berpengalaman.\n",
            "Munculnya ide merancang aplikasi ini berawal dari banyaknya masyarakat\n",
            "Indonesia yang menggunakan peta digital dari Google Maps untuk bermacam\n",
            "keperluan. “Banyak anak muda kita yang jago di bidang IT. Kita juga punya\n",
            "teknologinya. Kenapa kita tidak bikin sendiri? Jadi nanti tidak perlu gunakan\n",
            "Google Maps lagi,” katanya. Namun, masih belum ada informasi tentang kapan\n",
            "aplikasi ini akan rampung. Sumber: Dirangkum dari liputan6.com\n",
            "\n",
            "\n"
          ],
          "name": "stdout"
        }
      ]
    },
    {
      "cell_type": "code",
      "metadata": {
        "colab": {
          "base_uri": "https://localhost:8080/"
        },
        "id": "DunRAAGIxsWn",
        "outputId": "bc79e08b-f8dd-4a90-e514-13c9b35535c7"
      },
      "source": [
        "print(html2text.html2text(datateknologi['post_content'][96]))"
      ],
      "execution_count": null,
      "outputs": [
        {
          "output_type": "stream",
          "text": [
            "![](http://dev.sagara.asia/teknologiid/wp-\n",
            "content/uploads/2017/12/a1e73-1qkksxrygblwf__pxoxpgda.jpeg)Foto: mylph.com\n",
            "Hanya dalam waktu kurang dari seperempat abad yang akan datang, chip memori\n",
            "akan mengalahkan kemampuan pengolahan otak pada manusia. Hal tersebut di\n",
            "utarakan oleh salah satu produsen chip dan semikonduktor terbesar di dunia,\n",
            "yaitu Samsung Electronics. Dr Kim Ki-Nam selaku Presiden Bisnis Semikonduktor\n",
            "di Divisi _Device Solutions_ (DS) Samsung Electronics menuturkan bahwa “Pada\n",
            "20 tahun yang akan datang, _Solid State Drive_ akan mampu menampung semua\n",
            "informasi yang ada pada otak manusia.” _Solid State Drive_ (SSD) dengan\n",
            "pergerakannya yang begitu cepat telah menggantikan _Hard-Disk Drive_ (HDD)\n",
            "bagi penyimpanan di PC ataupun Note Book pada berbagai pusat big data\n",
            "terkemuka. Dr. Kim juga mencoba mendefinisikan revolusi industri keempat\n",
            "sebagai penggabungan digital dari dunia fisik dan cyber. “Industri chip akan\n",
            "membawa perubahan yang belum pernah ada sebelumnya. Baik itu dalam ekonomi,\n",
            "maupun masyarakat melalui proses revolusi industri keempat”, ujarnya.\n",
            "Pasalnya, perangkat yang terhubung dengan internet sudah mengalahkan jumlah\n",
            "populasi manusia di tahun 2008. Ketika era _Internet of Things_ (IoT) di tahun\n",
            "2020 dimulai, maka jumlahnya akan mencapai 50 miliar. Nanti, seluruhnya akan\n",
            "terhubung dengan perangkat dan infrastruktur yang pintar. Sumber: Dirangkum\n",
            "dari tizenindonesia.blogspot.co.id\n",
            "\n",
            "\n"
          ],
          "name": "stdout"
        }
      ]
    },
    {
      "cell_type": "code",
      "metadata": {
        "colab": {
          "base_uri": "https://localhost:8080/"
        },
        "id": "7ZuI5yLpxu5C",
        "outputId": "15867941-8aab-4aa4-ac50-ac99a187910b"
      },
      "source": [
        "print(html2text.html2text(datateknologi['post_content'][95]))"
      ],
      "execution_count": null,
      "outputs": [
        {
          "output_type": "stream",
          "text": [
            "![](http://dev.sagara.asia/teknologiid/wp-\n",
            "content/uploads/2017/12/4ff4f-1athpeh8lvhynjjetzqxlvq.jpeg)Foto:\n",
            "trendhunter.com Aplikasi desain interior bernama Planner5D adalah sebuah\n",
            "aplikasi yang memberikan solusi dalam mendesain sebuah ruangan dan telah\n",
            "dilengkapi dengan kecerdasan buatan/ _artificial intelligence_ (AI) di\n",
            "dalamnya. Keberadaan aplikasi Planner5D ini pun akan memberikan solusi yang\n",
            "ringkas saat desain ruangan, semua aktivitas tersebut bisa dilakukan via layar\n",
            "dan cukup dengan beberapa tombol klik. “Aplikasi ini berguna agar seseorang\n",
            "tidak bergantung pada tenaga desainer interior” ucap _Co-founder_ Planner5D,\n",
            "Alexey Sheremetyev. Aplikasi Planner5D ini memang masih belum bisa dijumpai,\n",
            "karena masih dalam tahap pengembangan. Pihak _developer_ mengatakan kalau\n",
            "algoritma pintar yang mereka kembangkan saat ini masih mempelajari sekitar 40\n",
            "juta proyek dari para _real user_. AI tersebut pun akan dapat memberikan saran\n",
            "mengenai penggunaan perabotan seperti lampu, kursi, serta penempatannya.\n",
            "Software ini dapat mengerti berbagai aturan terkait penempatan barang dalam\n",
            "sebuah ruangan. Misalnya, TV tidak bisa diletakkan di depan jendela. Atau\n",
            "sebuah tempat tidur sebaiknya berada bersebelahan dengan sumber cahaya. Tidak\n",
            "lupa, Planner5D ini juga memiliki kemampuan untuk mempelajari standar lebar\n",
            "dari sebuah pintu, serta rata-rata ketinggian langit-langit. Pengembang\n",
            "berharap kalau hasil kreasi AI miliknya itu bisa melampaui kinerja seorang\n",
            "desainer interior. Sumber: Dirangkum dari beritateknologi.com\n",
            "\n",
            "\n"
          ],
          "name": "stdout"
        }
      ]
    },
    {
      "cell_type": "code",
      "metadata": {
        "colab": {
          "base_uri": "https://localhost:8080/"
        },
        "id": "faysx8QAyUhz",
        "outputId": "58835355-e458-4eb1-c8f5-3cef47b03a4c"
      },
      "source": [
        "print(html2text.html2text(datateknologi['post_content'][94]))"
      ],
      "execution_count": null,
      "outputs": [
        {
          "output_type": "stream",
          "text": [
            "![](http://dev.sagara.asia/teknologiid/wp-\n",
            "content/uploads/2017/12/a7154-1vw9gf9tttoemfdqwu9eazg.jpeg)Foto:\n",
            "dailysocial.id Salah satu fitur terbaru pada iPhone X adalah Face ID, yaitu\n",
            "sistem keamanan yang menggunakan wajah untuk membuka kunci pada iPhone X\n",
            "tersebut. Dan ternyata Face ID tersebut berasal dari pengembang Kinect. Face\n",
            "ID bekerja dengan menganalisa lebih dari 30.000 titik inframerah yang\n",
            "diproyeksikan pada wajah pengguna guna membuat pemetaan wajah yang sangat\n",
            "presisi. Chip A11 Bionic kemudian bertugas mengolah datanya secara aman dan\n",
            "tanpa mengandalkan bantuan jaringan _cloud_ sama sekali. Sepintas, cara kerja\n",
            "teknologi tersebut mirip dengan Kinect. Kinect adalah aksesoris untuk\n",
            "_console_ Xbox yang bertugas membaca gerakan dan menerjemahkannya menjadi\n",
            "_input_ kontrol. Kinect diumumkan pertama kali pada bulan Juni 2009, yang pada\n",
            "awalnya menggunakan teknologi racikan sebuah perusahaan asal Israel bernama\n",
            "PrimeSense. Teknologi itu melibatkan sebuah proyektor dan kamera inframerah,\n",
            "serta _chip_ khusus untuk mengolah datanya. Pertama-tama, proyektor akan\n",
            "memproyeksikan titik-titik inframerah (tidak kelihatan oleh mata telanjang) ke\n",
            "sebuah objek untuk dideteksi oleh kamera, sebelum akhirnya informasi yang\n",
            "ditangkap diproses oleh _chip_ khusus itu tadi. Pada kenyataannya, PrimeSense\n",
            "telah di akuisisi oleh Apple pada tahun 2013, dan dari situ Apple tampaknya\n",
            "sudah berhasil menciptakan miniatur Kinect dan menanamkannya ke satu-satunya\n",
            "porsi _bezel_ yang tersisa pada iPhone X. Sumber: Dirangkum dari\n",
            "dailysocial.id\n",
            "\n",
            "\n"
          ],
          "name": "stdout"
        }
      ]
    },
    {
      "cell_type": "markdown",
      "metadata": {
        "id": "LtnFgJNEaVZr"
      },
      "source": [
        "**Melihat apakah ada data yang NaN/null. Jika ada, isi data yang NaN dengan string kosong**"
      ]
    },
    {
      "cell_type": "code",
      "metadata": {
        "id": "WD8sTy_E00TC",
        "colab": {
          "base_uri": "https://localhost:8080/"
        },
        "outputId": "e60323d7-d050-4c33-fecf-2ed6adbb3870"
      },
      "source": [
        "datateknologi['ID'].isnull().values.any()"
      ],
      "execution_count": null,
      "outputs": [
        {
          "output_type": "execute_result",
          "data": {
            "text/plain": [
              "False"
            ]
          },
          "metadata": {
            "tags": []
          },
          "execution_count": 143
        }
      ]
    },
    {
      "cell_type": "code",
      "metadata": {
        "colab": {
          "base_uri": "https://localhost:8080/"
        },
        "id": "QIyTZbVc0Sji",
        "outputId": "76bb8816-2985-46b1-be49-e485334b6fa8"
      },
      "source": [
        "datateknologi['post_content'].isnull().values.any()"
      ],
      "execution_count": null,
      "outputs": [
        {
          "output_type": "execute_result",
          "data": {
            "text/plain": [
              "True"
            ]
          },
          "metadata": {
            "tags": []
          },
          "execution_count": 144
        }
      ]
    },
    {
      "cell_type": "code",
      "metadata": {
        "colab": {
          "base_uri": "https://localhost:8080/"
        },
        "id": "0DeJaDWT0vs-",
        "outputId": "b13efed9-0986-44d7-c16f-05f727611c13"
      },
      "source": [
        "datateknologi['post_title'].isnull().values.any()"
      ],
      "execution_count": null,
      "outputs": [
        {
          "output_type": "execute_result",
          "data": {
            "text/plain": [
              "True"
            ]
          },
          "metadata": {
            "tags": []
          },
          "execution_count": 145
        }
      ]
    },
    {
      "cell_type": "code",
      "metadata": {
        "colab": {
          "base_uri": "https://localhost:8080/"
        },
        "id": "LQ0MWm4xOS_K",
        "outputId": "832a44af-2c0d-4339-f9ac-0c3192caa3e6"
      },
      "source": [
        "datateknologi['post_content'] = datateknologi['post_content'].fillna('')\n",
        "datateknologi['post_content'].isnull().values.any()"
      ],
      "execution_count": null,
      "outputs": [
        {
          "output_type": "execute_result",
          "data": {
            "text/plain": [
              "False"
            ]
          },
          "metadata": {
            "tags": []
          },
          "execution_count": 146
        }
      ]
    },
    {
      "cell_type": "code",
      "metadata": {
        "colab": {
          "base_uri": "https://localhost:8080/"
        },
        "id": "IqL5AIAx08dj",
        "outputId": "f52e4697-5e45-4256-cd45-0775dc52da18"
      },
      "source": [
        "datateknologi['post_title'] = datateknologi['post_title'].fillna('')\n",
        "datateknologi['post_title'].isnull().values.any()"
      ],
      "execution_count": null,
      "outputs": [
        {
          "output_type": "execute_result",
          "data": {
            "text/plain": [
              "False"
            ]
          },
          "metadata": {
            "tags": []
          },
          "execution_count": 147
        }
      ]
    },
    {
      "cell_type": "markdown",
      "metadata": {
        "id": "2MBlXqK3auLd"
      },
      "source": [
        "**Terapkan html2text preprocessing ke konten artikel**"
      ]
    },
    {
      "cell_type": "code",
      "metadata": {
        "colab": {
          "base_uri": "https://localhost:8080/"
        },
        "id": "KVK_2VGjqFBw",
        "outputId": "0ddb190c-f2d4-46e0-9283-1ebd64b2892a"
      },
      "source": [
        "for i in range(len(datateknologi['post_content'])):\n",
        "  datateknologi['post_content'][i] = html2text.html2text(datateknologi['post_content'][i])"
      ],
      "execution_count": null,
      "outputs": [
        {
          "output_type": "stream",
          "text": [
            "/usr/local/lib/python3.7/dist-packages/ipykernel_launcher.py:2: SettingWithCopyWarning: \n",
            "A value is trying to be set on a copy of a slice from a DataFrame\n",
            "\n",
            "See the caveats in the documentation: https://pandas.pydata.org/pandas-docs/stable/user_guide/indexing.html#returning-a-view-versus-a-copy\n",
            "  \n"
          ],
          "name": "stderr"
        }
      ]
    },
    {
      "cell_type": "code",
      "metadata": {
        "colab": {
          "base_uri": "https://localhost:8080/"
        },
        "id": "UEWwaNl1S5KD",
        "outputId": "a4370c68-505e-4495-c933-47cd9eb9f297"
      },
      "source": [
        "print(datateknologi['post_content'][100])"
      ],
      "execution_count": null,
      "outputs": [
        {
          "output_type": "stream",
          "text": [
            "![](http://dev.sagara.asia/teknologiid/wp-\n",
            "content/uploads/2017/12/50b0b-19is_hzcoxcydn2o1rkhutw.jpeg)Foto: kuow.org\n",
            "Kanker pankreas telah menelan lebih dari 50.000 korban meninggal pada 2016 di\n",
            "Amerika Serikat. Gejala penyakit ini baru bisa diketahui setelah sel kanker\n",
            "tumbuh subur di dalam organ. Sulitnya mendeteksi kanker pankreas membuat tim\n",
            "ilmuwan dari University of Washington merancang aplikasi _smartphone_ yang\n",
            "bisa mendeteksi zat bilirubin lewat foto. Bilirubin sendiri adalah zat yang\n",
            "menyebabkan mata menjadi berwarna kuning sebagai efek dari kanker pankreas.\n",
            "Tim menjuluki aplikasi ini sebagai BiliScreen. Algoritma di dalamnya dapat\n",
            "mengetahui kadar bilirubin sedari dini sehingga dapat segera dilakukan\n",
            "penanganan sebelum terlambat. Shwetak Patel salah satu tim peneliti mengatakan\n",
            "cara ini dapat memprediksi berapa banyak kadar bilirubin di dalam darah.\n",
            "![](http://dev.sagara.asia/teknologiid/wp-\n",
            "content/uploads/2017/12/07ffa-1wl9jm408qtbdyym5gyyxbg.png)Foto: tandaseru.id\n",
            "Sebanyak 70 partisipan BiliScreen menggunakan kacamata dengan frame khusus\n",
            "untuk kalibrasi warna. Kemudian mereka diminta untuk melakukan selfie dengan\n",
            "syarat mata harus tetap terbuka. Hasil penelitian ini menunjukkan pengukuran\n",
            "BiliScreen mencapai level akurasi 89,7 persen dibanding metode pengetesan\n",
            "darah. Tim berharap dengan aplikasi ini lebih banyak orang bisa mendeteksi\n",
            "kanker pankreas sebelum terlalu parah sehingga dapat dilakukan operasi dan\n",
            "meningkatkan usia harapan hidup penderita. Sumber: Dirangkum dari sefsed.com\n",
            "\n",
            "\n"
          ],
          "name": "stdout"
        }
      ]
    },
    {
      "cell_type": "markdown",
      "metadata": {
        "id": "SeC8Fdlba_QL"
      },
      "source": [
        "**Merapikan konten artikel dengan:**\n",
        "\n",
        "\n",
        "1.   **Mengubah semua karakter menjadi lowercase**\n",
        "2.   **Mengganti \\n dengan spasi**\n",
        "3.   **Menghilangkan simbol dan angka**\n",
        "4.   **Menghilangkan url link & gambar**\n",
        "5.   **Menghilangkan stopwords (kata yang tidak mempunyai informasi seperti kata sambung) bahasa indonesia & inggris**"
      ]
    },
    {
      "cell_type": "code",
      "metadata": {
        "colab": {
          "base_uri": "https://localhost:8080/"
        },
        "id": "Q-fvpW3A0ZUz",
        "outputId": "c2632fe1-9694-44f6-940c-ab9c71ca5a38"
      },
      "source": [
        "nltk.download('stopwords')"
      ],
      "execution_count": null,
      "outputs": [
        {
          "output_type": "stream",
          "text": [
            "[nltk_data] Downloading package stopwords to /root/nltk_data...\n",
            "[nltk_data]   Unzipping corpora/stopwords.zip.\n"
          ],
          "name": "stdout"
        },
        {
          "output_type": "execute_result",
          "data": {
            "text/plain": [
              "True"
            ]
          },
          "metadata": {
            "tags": []
          },
          "execution_count": 27
        }
      ]
    },
    {
      "cell_type": "code",
      "metadata": {
        "id": "x9Ux1PzETXUs"
      },
      "source": [
        "clean_spcl = re.compile('[/(){}\\[\\]\\|@,;]')\n",
        "clean_symbol = re.compile('[^a-z ]')\n",
        "stopworda = set(stopwords.words('indonesian'))\n",
        "stopwordb = set(stopwords.words('english'))\n",
        "\n",
        "def clean_text(text):\n",
        "    text = text.lower()\n",
        "    text = text.replace('\\n',' ')\n",
        "    text = re.sub(r'\\([^)]*\\)', '', text)\n",
        "    text = re.sub(r'[\\S]+\\.(net|id|com|org|info|edu|gov|uk|de|ca|jp|fr|au|us|ru|ch|it|nel|se|no|es|mil)[\\S]*\\s?','',text)\n",
        "    text = re.sub(r\"http\\S+\", \"\", text)\n",
        "    text = re.sub(r\"\\S+.jpeg\", \"\", text)\n",
        "    text = re.sub(r\"\\S+.png\", \"\", text)\n",
        "    text = re.sub(r\"\\S+.jpg\", \"\", text)\n",
        "    text = clean_spcl.sub(' ', text)\n",
        "    text = clean_symbol.sub('', text)\n",
        "    text = ' '.join(word for word in text.split() if word not in stopworda)\n",
        "    text = ' '.join(word for word in text.split() if word not in stopwordb)\n",
        "    return text\n",
        "\n",
        "datateknologi['post_contentCleaned'] = datateknologi['post_content'].apply(clean_text)"
      ],
      "execution_count": null,
      "outputs": []
    },
    {
      "cell_type": "markdown",
      "metadata": {
        "id": "627_tmGJc51T"
      },
      "source": [
        "**Melihat hasil text**"
      ]
    },
    {
      "cell_type": "code",
      "metadata": {
        "colab": {
          "base_uri": "https://localhost:8080/",
          "height": 119
        },
        "id": "Er-XMDNLTk1Q",
        "outputId": "705af6f7-b6e3-480e-feae-8c43f206043a"
      },
      "source": [
        "datateknologi['post_contentCleaned'][100]"
      ],
      "execution_count": null,
      "outputs": [
        {
          "output_type": "execute_result",
          "data": {
            "application/vnd.google.colaboratory.intrinsic+json": {
              "type": "string"
            },
            "text/plain": [
              "'foto kanker pankreas menelan korban meninggal amerika serikat gejala penyakit sel kanker tumbuh subur organ sulitnya mendeteksi kanker pankreas tim ilmuwan university washington merancang aplikasi smartphone mendeteksi zat bilirubin foto bilirubin zat menyebabkan mata berwarna kuning efek kanker pankreas tim menjuluki aplikasi biliscreen algoritma dalamnya kadar bilirubin sedari penanganan terlambat shwetak patel salah tim peneliti memprediksi kadar bilirubin darah foto partisipan biliscreen kacamata frame khusus kalibrasi warna selfie syarat mata terbuka hasil penelitian pengukuran biliscreen mencapai level akurasi persen dibanding metode pengetesan darah tim berharap aplikasi orang mendeteksi kanker pankreas parah operasi meningkatkan usia harapan hidup penderita sumber dirangkum'"
            ]
          },
          "metadata": {
            "tags": []
          },
          "execution_count": 190
        }
      ]
    },
    {
      "cell_type": "markdown",
      "metadata": {
        "id": "vddMoWjcdCsA"
      },
      "source": [
        "**Stemming (menghilangkan imbuhan) dari setiap kata dengan library Sastrawi. Proses ini memakan waktu lama (22 menit)**"
      ]
    },
    {
      "cell_type": "code",
      "metadata": {
        "id": "rF5R6ugjaUKq"
      },
      "source": [
        "factory = StemmerFactory()\n",
        "stemmer = factory.create_stemmer()\n",
        "def stemming_preprocessing(text):\n",
        "    return stemmer.stem(text)"
      ],
      "execution_count": null,
      "outputs": []
    },
    {
      "cell_type": "code",
      "metadata": {
        "colab": {
          "base_uri": "https://localhost:8080/"
        },
        "id": "CTSitBj1VNnR",
        "outputId": "e457ebdb-0fb8-4850-b7c2-de4438dccd6d"
      },
      "source": [
        "%%time\n",
        "datateknologi['post_contentStemmed'] = datateknologi['post_contentCleaned'].apply(stemming_preprocessing)"
      ],
      "execution_count": null,
      "outputs": [
        {
          "output_type": "stream",
          "text": [
            "CPU times: user 21min 24s, sys: 3.18 s, total: 21min 27s\n",
            "Wall time: 21min 28s\n"
          ],
          "name": "stdout"
        }
      ]
    },
    {
      "cell_type": "markdown",
      "metadata": {
        "id": "-gP7mf7wdqmX"
      },
      "source": [
        "**Melihat hasil stemming**"
      ]
    },
    {
      "cell_type": "code",
      "metadata": {
        "colab": {
          "base_uri": "https://localhost:8080/",
          "height": 102
        },
        "id": "XyFScaAMYB8p",
        "outputId": "bfd1ae03-51ed-4583-c5f7-718ee9ffeef8"
      },
      "source": [
        "datateknologi['post_contentStemmed'][100]"
      ],
      "execution_count": null,
      "outputs": [
        {
          "output_type": "execute_result",
          "data": {
            "application/vnd.google.colaboratory.intrinsic+json": {
              "type": "string"
            },
            "text/plain": [
              "'foto kanker pankreas tel korban tinggal amerika serikat gejala sakit sel kanker tumbuh subur organ sulit deteksi kanker pankreas tim ilmuwan university washington rancang aplikasi smartphone deteksi zat bilirubin foto bilirubin zat sebab mata warna kuning efek kanker pankreas tim juluk aplikasi biliscreen algoritma dalam kadar bilirubin dar tangan lambat shwetak patel salah tim teliti prediksi kadar bilirubin darah foto partisipan biliscreen kacamata frame khusus kalibrasi warna selfie syarat mata buka hasil teliti ukur biliscreen capai level akurasi persen banding metode ketes darah tim harap aplikasi orang deteksi kanker pankreas parah operasi tingkat usia harap hidup derita sumber rangkum'"
            ]
          },
          "metadata": {
            "tags": []
          },
          "execution_count": 196
        }
      ]
    },
    {
      "cell_type": "markdown",
      "metadata": {
        "id": "IPluAq3udxcb"
      },
      "source": [
        "**Set ID sebagai index untuk memudahkan pemrosesan**"
      ]
    },
    {
      "cell_type": "code",
      "metadata": {
        "id": "ksBdYy386vwM"
      },
      "source": [
        "datateknologi.set_index('ID', inplace=True)"
      ],
      "execution_count": null,
      "outputs": []
    },
    {
      "cell_type": "code",
      "metadata": {
        "colab": {
          "base_uri": "https://localhost:8080/"
        },
        "id": "Lrwjs7m47ReN",
        "outputId": "c2d7f944-4c1f-43f1-8405-79b6bb56bdec"
      },
      "source": [
        "indices = pd.Series(datateknologi.index)\n",
        "indices[:50]"
      ],
      "execution_count": null,
      "outputs": [
        {
          "output_type": "execute_result",
          "data": {
            "text/plain": [
              "0       2\n",
              "1       5\n",
              "2       7\n",
              "3      41\n",
              "4      42\n",
              "5      43\n",
              "6      44\n",
              "7      45\n",
              "8      46\n",
              "9      47\n",
              "10     48\n",
              "11     49\n",
              "12     50\n",
              "13     51\n",
              "14     52\n",
              "15     53\n",
              "16     54\n",
              "17     55\n",
              "18     56\n",
              "19     57\n",
              "20     58\n",
              "21     59\n",
              "22     60\n",
              "23     61\n",
              "24     62\n",
              "25     63\n",
              "26     64\n",
              "27     65\n",
              "28     66\n",
              "29     67\n",
              "30     68\n",
              "31     70\n",
              "32     72\n",
              "33     75\n",
              "34     77\n",
              "35     79\n",
              "36     81\n",
              "37     83\n",
              "38     85\n",
              "39     91\n",
              "40     96\n",
              "41    100\n",
              "42    102\n",
              "43    105\n",
              "44    106\n",
              "45    109\n",
              "46    110\n",
              "47    112\n",
              "48    114\n",
              "49    116\n",
              "Name: ID, dtype: int64"
            ]
          },
          "metadata": {
            "tags": []
          },
          "execution_count": 198
        }
      ]
    },
    {
      "cell_type": "markdown",
      "metadata": {
        "id": "AIeNTU_od8-w"
      },
      "source": [
        "##Pembuatan model Recommendation System"
      ]
    },
    {
      "cell_type": "markdown",
      "metadata": {
        "id": "-NgGLsbveRo6"
      },
      "source": [
        "**Menghitung TF-IDF dari tiap artikel. TF-IDF menghitung bobot nilai setiap kata yang ada di artikel, semakin sering kata tersebut muncul di artikel semakin tinggi bobot nilainya.**"
      ]
    },
    {
      "cell_type": "code",
      "metadata": {
        "colab": {
          "base_uri": "https://localhost:8080/"
        },
        "id": "XLdS00O8z8Gf",
        "outputId": "172d453b-691d-434b-daa1-814b472cb603"
      },
      "source": [
        "stopwords_list = stopwords.words('indonesian')\n",
        "\n",
        "vectorizer = TfidfVectorizer(analyzer='word',\n",
        "                     ngram_range=(1, 2),\n",
        "                     min_df=0.003,\n",
        "                     max_df=0.5,\n",
        "                     max_features=5000,\n",
        "                     stop_words=stopwords_list)\n",
        "\n",
        "tfidf_matrix = vectorizer.fit_transform(datateknologi['post_title'] + \" \" + datateknologi['post_contentStemmed'])\n",
        "tfidf_feature_names = vectorizer.get_feature_names()\n",
        "tfidf_matrix"
      ],
      "execution_count": null,
      "outputs": [
        {
          "output_type": "stream",
          "text": [
            "/usr/local/lib/python3.7/dist-packages/sklearn/feature_extraction/text.py:385: UserWarning: Your stop_words may be inconsistent with your preprocessing. Tokenizing the stop words generated tokens ['baiknya', 'berkali', 'kali', 'kurangnya', 'mata', 'olah', 'sekurang', 'setidak', 'tama', 'tidaknya'] not in stop_words.\n",
            "  'stop_words.' % sorted(inconsistent))\n"
          ],
          "name": "stderr"
        },
        {
          "output_type": "execute_result",
          "data": {
            "text/plain": [
              "<804x5000 sparse matrix of type '<class 'numpy.float64'>'\n",
              "\twith 73278 stored elements in Compressed Sparse Row format>"
            ]
          },
          "metadata": {
            "tags": []
          },
          "execution_count": 219
        }
      ]
    },
    {
      "cell_type": "markdown",
      "metadata": {
        "id": "Q88j-vB1eyxm"
      },
      "source": [
        "**Membuat matriks TF-IDF lalu menghitung cosine similarity. Cosine similarity menghitung kesamaan TF-IDF antara dua artikel. Semakin mirip isi konten artikel, semakin tinggi nilai cosine similaritynya (skala 0-1)**"
      ]
    },
    {
      "cell_type": "code",
      "metadata": {
        "colab": {
          "base_uri": "https://localhost:8080/"
        },
        "id": "GpPbmpOP1sBC",
        "outputId": "abaa2836-4ca1-4a3c-fbab-24045b8f0ec3"
      },
      "source": [
        "cos_sim = cosine_similarity(tfidf_matrix, tfidf_matrix)\n",
        "cos_sim"
      ],
      "execution_count": null,
      "outputs": [
        {
          "output_type": "execute_result",
          "data": {
            "text/plain": [
              "array([[1.        , 0.00420204, 0.25659344, ..., 0.        , 0.        ,\n",
              "        0.        ],\n",
              "       [0.00420204, 1.        , 0.        , ..., 0.        , 0.        ,\n",
              "        0.        ],\n",
              "       [0.25659344, 0.        , 1.        , ..., 0.        , 0.        ,\n",
              "        0.        ],\n",
              "       ...,\n",
              "       [0.        , 0.        , 0.        , ..., 0.        , 0.        ,\n",
              "        0.        ],\n",
              "       [0.        , 0.        , 0.        , ..., 0.        , 1.        ,\n",
              "        0.        ],\n",
              "       [0.        , 0.        , 0.        , ..., 0.        , 0.        ,\n",
              "        1.        ]])"
            ]
          },
          "metadata": {
            "tags": []
          },
          "execution_count": 220
        }
      ]
    },
    {
      "cell_type": "markdown",
      "metadata": {
        "id": "7q5BX9IegLoO"
      },
      "source": [
        "**Membuat sistem rekomendasi dari nilai cosine similarity yang sudah dibuat.**"
      ]
    },
    {
      "cell_type": "code",
      "metadata": {
        "id": "RR8uDg5-6dDN"
      },
      "source": [
        "def recommendations(id, cos_sim = cos_sim):\n",
        "    recommended = []\n",
        "    idx = indices[indices == id].index[0]\n",
        "    score_series = pd.Series(cos_sim[idx]).sort_values(ascending = False)\n",
        "    top_10_indexes = list(score_series.iloc[1:11].index)\n",
        "    for i in top_10_indexes:\n",
        "        recommended.append(list(datateknologi.index)[i])\n",
        "        \n",
        "    return list(zip(recommended,score_series.iloc[1:11]))"
      ],
      "execution_count": null,
      "outputs": []
    },
    {
      "cell_type": "markdown",
      "metadata": {
        "id": "v_1n6SYegWGF"
      },
      "source": [
        "**Contoh rekomendasi apabila pembaca membaca artikel dengan ID 100**"
      ]
    },
    {
      "cell_type": "code",
      "metadata": {
        "colab": {
          "base_uri": "https://localhost:8080/"
        },
        "id": "a-VebapU7A6J",
        "outputId": "c742f0bf-fb6f-478e-8e8d-fb611601f1a3"
      },
      "source": [
        "recommendations(100)"
      ],
      "execution_count": null,
      "outputs": [
        {
          "output_type": "execute_result",
          "data": {
            "text/plain": [
              "[(3672, 0.4368507791065899),\n",
              " (712, 0.3966403113607972),\n",
              " (3666, 0.39359471552463293),\n",
              " (306, 0.3556067568851411),\n",
              " (5832, 0.3475693963181011),\n",
              " (5400, 0.33330582184940793),\n",
              " (120, 0.32466831944850216),\n",
              " (5675, 0.3173099461244564),\n",
              " (2560, 0.3064619372843206),\n",
              " (176, 0.28914886161008946)]"
            ]
          },
          "metadata": {
            "tags": []
          },
          "execution_count": 222
        }
      ]
    },
    {
      "cell_type": "markdown",
      "metadata": {
        "id": "vrQ9LTeNggm2"
      },
      "source": [
        "**Dari hasil rekomendasi diatas, tiga artikel yang paling direkomendasikan adalah artikel dengan ID 3672, 712, dan 3666. Untuk mengecek apakah rekomendasi sudah sesuai, cek isi konten dengan ID 100, 3672, 712, dan 3666 apakah isinya mirip/tidak.**"
      ]
    },
    {
      "cell_type": "code",
      "metadata": {
        "colab": {
          "base_uri": "https://localhost:8080/",
          "height": 35
        },
        "id": "An8tOdMF7W5B",
        "outputId": "89fc9df2-b07b-458f-e11a-9cb1a289561e"
      },
      "source": [
        "datateknologi['post_title'][100]"
      ],
      "execution_count": null,
      "outputs": [
        {
          "output_type": "execute_result",
          "data": {
            "application/vnd.google.colaboratory.intrinsic+json": {
              "type": "string"
            },
            "text/plain": [
              "'Game VR “Paranormal Activity: The Lost Soul” Akan di Rilis Oleh Playstation VR'"
            ]
          },
          "metadata": {
            "tags": []
          },
          "execution_count": 223
        }
      ]
    },
    {
      "cell_type": "code",
      "metadata": {
        "colab": {
          "base_uri": "https://localhost:8080/"
        },
        "id": "loade1JGGK5y",
        "outputId": "55aee0fc-59a4-4878-b38f-a4ce5d85a387"
      },
      "source": [
        "print(datateknologi['post_content'][100])"
      ],
      "execution_count": null,
      "outputs": [
        {
          "output_type": "stream",
          "text": [
            "![](http://dev.sagara.asia/teknologiid/wp-\n",
            "content/uploads/2017/12/b327f-0vwpj13jfwndqezt9.png)Foto: Rollingstone.com\n",
            "Bagi para penikmat film horor supranatural hit, Paranormal Activity, pasti\n",
            "sebelumnya sudah mendengar kabar bahwa film ini sedang dikembangkan menjadi\n",
            "_game_ berbasis _Virtual Reality_ (VR). Dalam beberapa tahun terakhir, projek\n",
            "_game_ ini sedang dikembangkan oleh studio VRWERX dan akan diberi judul\n",
            "Paranormal Activity: The Lost Soul. Menurut rencanya, _game_ ini akan di rilis\n",
            "di Playstation VR namun setelah sekian lama belum ada konfirmasi lebih lanjut\n",
            "mengenai kabar pastinya. Dan akhirnya, setelah di tunggu-tunggu sekian lama,\n",
            "beberapa hari yang lalu situs IGN resmi melaporkan bahwa game ini akan dirilis\n",
            "pada 15 Agustus 2017 mendatang di Playstation VR. Dalam g _ame_ ini nantinya\n",
            "pemain akan ada berada di dalam rumah tua yang sudah lama ditinggalkan dan\n",
            "selanjutnya pemain harus memecahkan misteri-misteri supranatural yang ada\n",
            "dalam rumah tersebut. Sejauh ini sudah ada beberapa _gamer_ yang telah mencoba\n",
            "_Early Access_ dari _game_ ini. Beberapa _review_ yang mereka berikan cukup\n",
            "beragam, ada positif dan ada negatif. Untuk positifnya, mereka memberikan\n",
            "pujian atas suasana horor yang begitu terasa dan mengejutkan. Sedangkan untuk\n",
            "negatifnya mereka berpendapat bahwa _game_ ini memiliki _gameplay_ yang kaku\n",
            "dan seringkali terjadi kesalahan. Sumber : Dirangkum dari Winnetnews.com\n",
            "\n",
            "\n"
          ],
          "name": "stdout"
        }
      ]
    },
    {
      "cell_type": "code",
      "metadata": {
        "colab": {
          "base_uri": "https://localhost:8080/",
          "height": 35
        },
        "id": "a01cruzo96MU",
        "outputId": "08679a43-25fb-40e1-ed3d-4597ec35e17e"
      },
      "source": [
        "datateknologi['post_title'][3672]"
      ],
      "execution_count": null,
      "outputs": [
        {
          "output_type": "execute_result",
          "data": {
            "application/vnd.google.colaboratory.intrinsic+json": {
              "type": "string"
            },
            "text/plain": [
              "'Inilah 5 Game Terbaik yang Akan Datang di Tahun Ini'"
            ]
          },
          "metadata": {
            "tags": []
          },
          "execution_count": 225
        }
      ]
    },
    {
      "cell_type": "code",
      "metadata": {
        "colab": {
          "base_uri": "https://localhost:8080/"
        },
        "id": "BR8obYXtGK8F",
        "outputId": "d991576b-0bbc-4c91-b9f3-6320750efa1b"
      },
      "source": [
        "print(datateknologi['post_content'][3672])"
      ],
      "execution_count": null,
      "outputs": [
        {
          "output_type": "stream",
          "text": [
            "[caption id=\"attachment_3673\" align=\"alignnone\"\n",
            "width=\"770\"]![](http://dev.sagara.asia/teknologiid/wp-\n",
            "content/uploads/2018/03/red-1024x576.jpg) Foto: egmnow.com[/caption]\n",
            "[Venturebeat](https://venturebeat.com/) membuat daftar _game _yang kamu\n",
            "butuhkan untuk ditunggu selama sisa tahun ini. Berikut 5 _game _terbaik yang\n",
            "akan datang di sepanjang tahun 2018!\n",
            "\n",
            "### **God of War**\n",
            "\n",
            "  [caption id=\"attachment_3674\" align=\"alignnone\"\n",
            "width=\"770\"]![](http://dev.sagara.asia/teknologiid/wp-\n",
            "content/uploads/2018/03/gow2-1024x576.jpg) Foto: wccftech.com[/caption]\n",
            "\n",
            "Platform: PlayStation 4.\n",
            "\n",
            "Tanggal rilis: 20 April 2018.\n",
            "\n",
            "Terakhir kali Sony meluncurkan God of War: Ascension untuk PlayStation 3.\n",
            "Namun versi tersebut tidak mendapatkan respon yang baik. Dan sekarang, serial\n",
            "ini mendapatkan “requel” — salah satu sekuel reboot yang populer di film\n",
            "sekarang — dan ini terlihat fantastis. Kratos telah pensiun dan membesarkan\n",
            "anak-anak, dan kamu bisa menghabiskan sepanjang waktu membimbing anak tersebut\n",
            "melalui dunia dewa-dewa Nordik yang mengerikan.\n",
            "\n",
            "### **Kingdom Hearts 3**\n",
            "\n",
            "[caption id=\"\" align=\"aligncenter\" width=\"640\"]![](https://cdn-\n",
            "images-1.medium.com/max/640/1*v20oczO077AjPzWDU1mQyw.jpeg) Foto:\n",
            "gamerant.com[/caption]\n",
            "\n",
            "Platform: Xbox One, PlayStation 4.\n",
            "\n",
            "Tanggal rilis: 2018.\n",
            "\n",
            "Kingdom Hearts diduga merupakan serial game yang bagus. Jeff — penulis\n",
            "[Venturebeat](http://www.venturebeat.com/) pernah memainkan versi aslinya\n",
            "sekitar satu setengah tahun yang lalu, dan menurutnya itu aneh, membosankan,\n",
            "dan tak ada gunanya. Tapi Mike yang juga penulis di\n",
            "[Venturebeat](http://www.venturebeat.com/) mengklaim bahwa game ini sebenarnya\n",
            "tidak buruk dan dia sangat menyukai Kingdom Hearts 3.\n",
            "\n",
            "### Red Dead Redemption 2\n",
            "\n",
            "[caption id=\"\" align=\"aligncenter\" width=\"640\"]![](https://cdn-\n",
            "images-1.medium.com/max/640/1*KmMDwKl_37dxA-aE8ptM4Q.jpeg) Foto:\n",
            "egmnow.com[/caption]\n",
            "\n",
            "Platform: Xbox One, PlayStation 4.\n",
            "\n",
            "Tanggal rilis: Musim semi.\n",
            "\n",
            "Rockstar belum merilis game baru sejak Grand Theft Auto V. Dan kini Rockstart\n",
            "kembali merilis sebuah game yaitu Red Dead Redemption II. Game ini bercerita\n",
            "tentang penjahat Arthur Morgan dan geng Van der Linde dan petualangan mereka\n",
            "di Wild West.\n",
            "\n",
            "### The Last of Us: Part II\n",
            "\n",
            "[caption id=\"\" align=\"aligncenter\" width=\"640\"]![](https://cdn-\n",
            "images-1.medium.com/max/640/1*mdbFka54gKcwJTHegv6tig.jpeg) Foto:\n",
            "wccftech.com[/caption]\n",
            "\n",
            "Platform: PlayStation 4.\n",
            "\n",
            "Tanggal rilis: Akhir 2018.\n",
            "\n",
            "Naughty Dog adalah salah satu pengembang terbaik yang menghasilkan pengalaman\n",
            "sinematik satu pemain, dan ini menindaklanjuti game PlayStation 3 yang populer\n",
            "The Last of Us dengan sekuelnya di PlayStation 4. Kami belum tahu banyak\n",
            "tentang game ini, namun terlihat sangat kejam dan menyiksa.\n",
            "\n",
            "### Sea of Thieves\n",
            "\n",
            "[caption id=\"\" align=\"aligncenter\" width=\"640\"]![](https://cdn-\n",
            "images-1.medium.com/max/640/1*ZDyQ3m6_vqVZaalYdvUQdg.jpeg) foto:\n",
            "digitaltrends.com[/caption]\n",
            "\n",
            "Platform: PC, Xbox One.\n",
            "\n",
            "Tanggal rilis: 20 Maret 2018.\n",
            "\n",
            "Salah satu game terbaru Microsoft adalah Sea of Thieves dari pengembang Rare.\n",
            "Ini adalah simulator bajak laut yang membuat pemain bekerja secara online\n",
            "dengan orang lain untuk melakukan pencarian dan berjuang mengendalikan air\n",
            "yang berbahaya. Kami sudah mencobanya beberapa kali dan game ini adalah game\n",
            "yang sangat menarik.\n",
            "\n",
            "Mana game yang paling kamu tunggu?\n",
            "\n",
            "\n"
          ],
          "name": "stdout"
        }
      ]
    },
    {
      "cell_type": "code",
      "metadata": {
        "colab": {
          "base_uri": "https://localhost:8080/",
          "height": 35
        },
        "id": "3uMgW3-qGW5x",
        "outputId": "a3cd3b54-5383-4cec-f3c2-ec5689ba48c6"
      },
      "source": [
        "datateknologi['post_title'][712]"
      ],
      "execution_count": null,
      "outputs": [
        {
          "output_type": "execute_result",
          "data": {
            "application/vnd.google.colaboratory.intrinsic+json": {
              "type": "string"
            },
            "text/plain": [
              "'Game Ini Mengajak Pemain Menjadi SuperHero Sungguhan Menggunakan VR!'"
            ]
          },
          "metadata": {
            "tags": []
          },
          "execution_count": 229
        }
      ]
    },
    {
      "cell_type": "code",
      "metadata": {
        "colab": {
          "base_uri": "https://localhost:8080/"
        },
        "id": "5UPtUrO1GX7_",
        "outputId": "3a3f684f-618f-4ecb-d300-8f2391481e99"
      },
      "source": [
        "print(datateknologi['post_content'][712])"
      ],
      "execution_count": null,
      "outputs": [
        {
          "output_type": "stream",
          "text": [
            "![](https://cdn-\n",
            "images-1.medium.com/max/800/1*moCUiHn6rtTT2a4oFNc9Ow.jpeg)Venturebeat.com\n",
            "Tidak seperti game pada umumnya, game ini mengajak anda menjadi salah satu\n",
            "karakter SuperHero marve seperti Hulk, Mrs Marvel ataupun Rockie. Game ini\n",
            "berjudl _Marvel Power United VR_ , game ini sedang dibuat oleh Vendor VR yaitu\n",
            "Oculus dan Sanzaru Games. Pengumuman tersebut muncul saat panel game “Level\n",
            "Up” juga yang menyertakan update tentang Spiderman, StarWars: Battlefront II\n",
            "dan Insomniac Game. Mungkin tidak mengherankan, Game Ini akan eksklusif untuk\n",
            "headset _Oculus Rift_ dan _Touch Controllers._ Salah satu nilai jualnya yang\n",
            "besar adalah Pemain akan berpengalan bekerja sama dengan peran yang berbeda-\n",
            "beda untuk misi yang sama. Game ini ditargetkan rilis pada tahun 2018.\n",
            "![](https://cdn-\n",
            "images-1.medium.com/max/800/1*VjGKTeUVnnKvEjEtFCQX1g.jpeg)digitalagencynetwork.com\n",
            "Dengan Ini Marvel dan Oculus telah menemukan kemitraan yang memungkinkanya\n",
            "menjadikan nama besar lain yang eksekutif untuk memamerkan perangkat keras\n",
            "pengendali Rift dan Touch tertinggi. Selain karakter diatas Disney juga akan\n",
            "mengumumkan karakter tambahan untuk permainan ini di San Diego Comic-Con.\n",
            "Tentu anda tidak bersabar untuk menuggu dan memainkan game ini bukan, anda\n",
            "juga harus segera mempersiapkan Oculus Rift untuk memainkan game ini pada\n",
            "nantinya Sumber : Dirangkum dari The Verge  \n",
            "\n",
            "\n"
          ],
          "name": "stdout"
        }
      ]
    },
    {
      "cell_type": "code",
      "metadata": {
        "colab": {
          "base_uri": "https://localhost:8080/",
          "height": 35
        },
        "id": "pv0_TMGLHtOf",
        "outputId": "d8493866-38a9-44a8-f2c5-374132e1d80c"
      },
      "source": [
        "datateknologi['post_title'][3666]"
      ],
      "execution_count": null,
      "outputs": [
        {
          "output_type": "execute_result",
          "data": {
            "application/vnd.google.colaboratory.intrinsic+json": {
              "type": "string"
            },
            "text/plain": [
              "'Monster Hunter: World, Kandidat Kuat Game of The Year 2018'"
            ]
          },
          "metadata": {
            "tags": []
          },
          "execution_count": 227
        }
      ]
    },
    {
      "cell_type": "code",
      "metadata": {
        "colab": {
          "base_uri": "https://localhost:8080/"
        },
        "id": "xLzfx5xBHvHI",
        "outputId": "6142c993-2f9d-400a-b873-a163b4b58cb8"
      },
      "source": [
        "print(datateknologi['post_content'][3666])"
      ],
      "execution_count": null,
      "outputs": [
        {
          "output_type": "stream",
          "text": [
            "[caption id=\"attachment_3667\" align=\"alignnone\"\n",
            "width=\"770\"]![](http://dev.sagara.asia/teknologiid/wp-\n",
            "content/uploads/2018/03/mh-1024x640.jpg) Game Monster Hunter: World (foto:\n",
            "telegaph.co.uk).[/caption]\n",
            "\n",
            "Monster Hunter: World telah dirilis. Peluncuran _game action role-playing _ini\n",
            "menuai respon yang positif dari para gamer dan juga media. Diberitakan Capcom\n",
            "mendapatkan banyak keuntungan berkat peluncuran ini, dan juga Monster Hunter:\n",
            "World berpeluang besar merebut gelar _Game of the Year_. Simak ulasan Monster\n",
            "Hunter: World dibawah ini.\n",
            "\n",
            "Polygon memberi skor 9, dan menjelaskan bahwa game ini merupakan game yang\n",
            "kompleks dengan skenario yang tak bisa diprediksi. Namun, game ini dinilai\n",
            "mampu memuaskan berbagai macam jenis gamer.\n",
            "\n",
            "IGN dan Game Informer juga menyodorkan skor yang tinggi, yakni 9,5. IGN\n",
            "menyebut bahwa game ini merupakan game Monster Hunter yang paling berani\n",
            "dengan pertempuran yang adiktif dan monster-monster yang sangat\n",
            "mengintimidasi. Sementara Game Informer menyebut game ini adalah permainan\n",
            "terbaik di seri ini dan gerbang masuk paling ideal untuk pemain baru.\n",
            "\n",
            "[Destructoid](https://www.destructoid.com/review-monster-hunter-\n",
            "world-482217.phtml) mengatakan bahwa jika kita melewatkan __ Monster Hunter\n",
            "sebelumnya, maka World adalah permainan sempurna untuk memulai kembali\n",
            "petualangan ini. World juga disebut sebagai ‘dunia baru’. Sementara menurut\n",
            "[Hardcore Gamer](https://www.hardcoregamer.com/2018/01/25/review-monster-\n",
            "hunter-world/287544/), game ini adalah sebuah penanda munculnya hal-hal hebat\n",
            "di seri ini di masa depan. Selain itu terdapat pula beragam cara bagi pemburu\n",
            "untuk melancarkan aksinya, baik dengan metode strategis maupun brutal.\n",
            "\n",
            "Namun, hingga saat ini game ini baru diluncurkan versi Xbox One dan PS4 saja,\n",
            "sementara untuk versi PC belum diluncurkan. Saat ini kita masih belum tahu\n",
            "kapan Capcom akan merilis versi PC, namun yang pasti versi PC akan dirilis\n",
            "pada musim gugur nanti. Siap untuk menantikan versi PC dari game ini?\n",
            "\n",
            "Sumber: **** Dirangkum dari [DailySocial.id](http://www.dailysocial.id/) dan\n",
            "[Slashgear.com](http://www.slasgear.com/)\n",
            "\n",
            "\n"
          ],
          "name": "stdout"
        }
      ]
    },
    {
      "cell_type": "markdown",
      "metadata": {
        "id": "E4jVXTBUhgLz"
      },
      "source": [
        "**Dari rekomendasi diatas, terlihat bahwa sistem rekomendasi berhasil merekomendasikan artikel yang mirip. Semua artikel membahas game yang dirilis di Playstation**"
      ]
    }
  ]
}